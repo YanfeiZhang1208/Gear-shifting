{
 "cells": [
  {
   "cell_type": "markdown",
   "metadata": {},
   "source": [
    "# Set the environment"
   ]
  },
  {
   "cell_type": "code",
   "execution_count": 1,
   "metadata": {
    "scrolled": true
   },
   "outputs": [],
   "source": [
    "# set the envoiroment\n",
    "import cobra\n",
    "from cobra import Model, Reaction, Metabolite\n",
    "from cobra.flux_analysis import flux_variability_analysis\n",
    "import pandas as pd\n",
    "import numpy as np \n",
    "import matplotlib.pyplot as plt\n",
    "import glob\n",
    "import escher\n",
    "from escher import Builder\n",
    "from utils import show_map\n",
    "from utils.check_precursor_problem import check_precursor_problem"
   ]
  },
  {
   "cell_type": "code",
   "execution_count": 2,
   "metadata": {},
   "outputs": [],
   "source": [
    "model = cobra.io.read_sbml_model('../models/Sulfolobus-solfataricus_D-glucose.xml')# Import the model.\n",
    "model.solver = \"glpk\"\n",
    "model.reactions.get_by_id(\"T_flux_beta__D__glucose\").bounds = (-1,1000) # Set the bounds to the glucose exchange reaction"
   ]
  },
  {
   "cell_type": "markdown",
   "metadata": {},
   "source": [
    "# The following code is used to change the reactions that are not right."
   ]
  },
  {
   "cell_type": "code",
   "execution_count": 3,
   "metadata": {
    "code_folding": []
   },
   "outputs": [],
   "source": [
    "# The Stoichiometry of the proton of the following two reactions are not right, as I cannot change it directly so I first remove from the model and then add the reaction to the model again with the change of the Stoichiometry.\n",
    "# First remove the reations that are not right. \n",
    "model.reactions.get_by_id('carb_degra_1.2.1.26_R01752').remove_from_model()\n",
    "model.reactions.get_by_id('carb_entner_1.2.1.89_GLYCERALDEHYDE__DEHYDRO__RXN').remove_from_model()\n",
    "model.reactions.get_by_id('oxp_redox_1.10.3.13_soxABCD_TRANS__RXN__240').remove_from_model()\n",
    "model.reactions.get_by_id('oxp_redox_1.10.3.13_soxM_TRANS__RXN__240').remove_from_model()\n",
    "model.reactions.get_by_id('oxp_redox_1.10.3.13_doxABCDE_TRANS__RXN__240').remove_from_model()\n",
    "model.reactions.get_by_id('oxp_3.6.3.14_ATP__synthase').remove_from_model()\n",
    "# Add the metabolite psi in the model.\n",
    "Psi = Metabolite(\n",
    "    'Psi',\n",
    "    formula='',\n",
    "    name='PSI is a unit of pressure expressed in pounds of force per square inch of area',\n",
    "    compartment='cytosol')\n",
    "# Add the reactions again. \n",
    "\n",
    "reaction = Reaction('carb_degra_1.2.1.26_R01752')\n",
    "reaction.name = 'carb_degra_1.2.1.26_R01752'\n",
    "reaction.lower_bound = -1000. # This is the default\n",
    "reaction.upper_bound = 1000. # This is the default\n",
    "model.add_reactions([reaction])\n",
    "reaction.add_metabolites({\"D__glyceraldehyde\": -1.0,\n",
    "                         \"H2O\": -1.0,\n",
    "                         \"|Oxidized__ferredoxins|\": -2.0,\n",
    "                         \"D__glycerate\": 1.0,\n",
    "                         \"|Reduced__ferredoxins|\": 2.0})\n",
    "\n",
    "\n",
    "reaction = Reaction('oxp_redox_1.10.3.13_soxABCD_TRANS__RXN__240')\n",
    "reaction.name = 'oxp_redox_1.10.3.13_soxABCD_TRANS__RXN__240'\n",
    "reaction.lower_bound = 0.  # This is the default\n",
    "reaction.upper_bound = 1000.  # This is the default\n",
    "model.add_reactions([reaction])\n",
    "reaction.add_metabolites({\"oxygen\": -0.5,\n",
    "                         \"representative_quinol\": -1.0,\n",
    "                         \"H+\": -4.0,\n",
    "                         Psi: 4.0,\n",
    "                         \"H2O\": 1.0,\n",
    "                         \"representative_quinone\": 1.0,\n",
    "                         \"H+_ex\": 4.0})\n",
    "\n",
    "reaction = Reaction('oxp_redox_1.10.3.13_soxM_TRANS__RXN__240')\n",
    "reaction.name = 'oxp_redox_1.10.3.13_soxM_TRANS__RXN__240'\n",
    "reaction.lower_bound = 0.  # This is the default\n",
    "reaction.upper_bound = 1000.  # This is the default\n",
    "model.add_reactions([reaction])\n",
    "reaction.add_metabolites({\"oxygen\": -0.5,\n",
    "                         \"representative_quinol\": -1.0,\n",
    "                         \"H+\": -2.0,\n",
    "                         Psi: 2.0,\n",
    "                         \"H2O\": 1.0,\n",
    "                         \"representative_quinone\": 1.0,\n",
    "                         \"H+_ex\": 2.0})\n",
    "\n",
    "reaction = Reaction('oxp_redox_1.10.3.13_doxABCDE_TRANS__RXN__240')\n",
    "reaction.name = 'oxp_redox_1.10.3.13_doxABCDE_TRANS__RXN__240'\n",
    "reaction.lower_bound = 0.  # This is the default\n",
    "reaction.upper_bound = 1000.  # This is the default\n",
    "model.add_reactions([reaction])\n",
    "reaction.add_metabolites({\"oxygen\": -0.5,\n",
    "                         \"representative_quinol\": -1.0,\n",
    "                         \"H+\": -2.0,\n",
    "                         Psi: 2.0,\n",
    "                         \"H2O\": 1.0,\n",
    "                         \"representative_quinone\": 1.0,\n",
    "                         \"H+_ex\": 2.0})\n",
    "\n",
    "reaction = Reaction('oxp_3.6.3.14_ATP__synthase')\n",
    "reaction.name = 'oxp_3.6.3.14_ATP__synthase'\n",
    "reaction.lower_bound = 0.  # This is the default\n",
    "reaction.upper_bound = 1000.  # This is the default\n",
    "model.add_reactions([reaction])\n",
    "reaction.add_metabolites({Psi: -4.0,\n",
    "                         \"H+_ex\": -4.0,\n",
    "                         \"ADP\": -1.0,\n",
    "                         \"phosphate\": -1.0,\n",
    "                          \"ATP\": 1.0,\n",
    "                         \"H2O\": 1.0,\n",
    "                         \"H+\": 3.0})\n",
    "\n",
    "\n",
    "model.reactions.get_by_id('T_symporter_(S)__lactic_acid').remove_from_model()\n",
    "reaction = Reaction('T_symporter_(S)__lactic_acid')\n",
    "reaction.name = 'T_symporter_(S)__lactic_acid'\n",
    "reaction.lower_bound = -1000.  # This is the default\n",
    "reaction.upper_bound = 1000.  # This is the default\n",
    "model.add_reactions([reaction])\n",
    "reaction.add_metabolites({\"(S)__lactic_acid\":-1.0,\n",
    "                         \"H+\":-2.0,\n",
    "                         \"(S)__lactic_acid_ex\":1.0,\n",
    "                           Psi: 2.0,\n",
    "                          \"H+_ex\":2.0})\n",
    "# reaction = Reaction('aa_ser_gly_thr_4.3.1.19_L_SERINE_AMMONIA_LYASE_RXN')\n",
    "# reaction.name = 'aa_ser_gly_thr_4.3.1.19_L_SERINE_AMMONIA_LYASE_RXN'\n",
    "# reaction.lower_bound = 0.  # This is the default\n",
    "# reaction.upper_bound = 1000.  # This is the default\n",
    "# model.add_reactions([reaction])\n",
    "# reaction.add_metabolites({\"L__serine\":-1.0,\n",
    "#                          \"pyruvate\":1.0,\n",
    "#                          \"ammonia\": 1.0})\n",
    "\n",
    "model.reactions.get_by_id(\"carb_glucneo_1.2.1.13_GAPDHSYNEC__RXN_NADP\").bounds = (-1000,1000)\n",
    "model.reactions.get_by_id(\"carb_glucneo_1.2.1.13_GAPDHSYNEC__RXN_NAD\").bounds = (-1000,1000)\n"
   ]
  },
  {
   "cell_type": "code",
   "execution_count": 4,
   "metadata": {},
   "outputs": [
    {
     "data": {
      "text/html": [
       "<div>\n",
       "<style scoped>\n",
       "    .dataframe tbody tr th:only-of-type {\n",
       "        vertical-align: middle;\n",
       "    }\n",
       "\n",
       "    .dataframe tbody tr th {\n",
       "        vertical-align: top;\n",
       "    }\n",
       "\n",
       "    .dataframe thead th {\n",
       "        text-align: right;\n",
       "    }\n",
       "</style>\n",
       "<table border=\"1\" class=\"dataframe\">\n",
       "  <thead>\n",
       "    <tr style=\"text-align: right;\">\n",
       "      <th></th>\n",
       "      <th>Reactions</th>\n",
       "      <th>Metabolites</th>\n",
       "      <th>Compartment</th>\n",
       "    </tr>\n",
       "  </thead>\n",
       "  <tbody>\n",
       "    <tr>\n",
       "      <td>overview</td>\n",
       "      <td>991</td>\n",
       "      <td>866</td>\n",
       "      <td>2</td>\n",
       "    </tr>\n",
       "  </tbody>\n",
       "</table>\n",
       "</div>"
      ],
      "text/plain": [
       "         Reactions Metabolites Compartment\n",
       "overview  991       866         2         "
      ]
     },
     "execution_count": 4,
     "metadata": {},
     "output_type": "execute_result"
    }
   ],
   "source": [
    "# Overview of sulfolobus solfataricus map\n",
    "df_overview_of_map = pd.DataFrame(columns=[\"Reactions\",\"Metabolites\",\"Compartment\"])\n",
    "df_overview_of_map.loc[\"overview\"] = [len(model.reactions),len(model.metabolites),len(model.compartments)]\n",
    "df_overview_of_map"
   ]
  },
  {
   "cell_type": "code",
   "execution_count": 5,
   "metadata": {},
   "outputs": [],
   "source": [
    "cobra.io.save_json_model(model, \"../models/updated_model.json\")"
   ]
  },
  {
   "cell_type": "code",
   "execution_count": 6,
   "metadata": {
    "scrolled": true
   },
   "outputs": [
    {
     "data": {
      "text/html": [
       "\n",
       "        <table>\n",
       "            <tr>\n",
       "                <td><strong>Reaction identifier</strong></td><td>prot_prot__lactate</td>\n",
       "            </tr><tr>\n",
       "                <td><strong>Name</strong></td><td>prot_prot-lactate</td>\n",
       "            </tr><tr>\n",
       "                <td><strong>Memory address</strong></td>\n",
       "                <td>0x022238985860</td>\n",
       "            </tr><tr>\n",
       "                <td><strong>Stoichiometry</strong></td>\n",
       "                <td>\n",
       "                    <p style='text-align:right'>(S)__lactic_acid --> (S)__lactate + H+</p>\n",
       "                    <p style='text-align:right'>(S)-lactic_acid --> (S)-lactate + H+</p>\n",
       "                </td>\n",
       "            </tr><tr>\n",
       "                <td><strong>GPR</strong></td><td></td>\n",
       "            </tr><tr>\n",
       "                <td><strong>Lower bound</strong></td><td>0.0</td>\n",
       "            </tr><tr>\n",
       "                <td><strong>Upper bound</strong></td><td>1000</td>\n",
       "            </tr>\n",
       "        </table>\n",
       "        "
      ],
      "text/plain": [
       "<Reaction prot_prot__lactate at 0x22238985860>"
      ]
     },
     "execution_count": 6,
     "metadata": {},
     "output_type": "execute_result"
    }
   ],
   "source": [
    "model.reactions.get_by_id('prot_prot__lactate')"
   ]
  },
  {
   "cell_type": "code",
   "execution_count": 7,
   "metadata": {},
   "outputs": [],
   "source": [
    "cobra.io.save_json_model(model, \"../models/updated_model8.199.json\")"
   ]
  },
  {
   "cell_type": "code",
   "execution_count": 8,
   "metadata": {},
   "outputs": [
    {
     "data": {
      "text/html": [
       "<div>\n",
       "<style scoped>\n",
       "    .dataframe tbody tr th:only-of-type {\n",
       "        vertical-align: middle;\n",
       "    }\n",
       "\n",
       "    .dataframe tbody tr th {\n",
       "        vertical-align: top;\n",
       "    }\n",
       "\n",
       "    .dataframe thead th {\n",
       "        text-align: right;\n",
       "    }\n",
       "</style>\n",
       "<table border=\"1\" class=\"dataframe\">\n",
       "  <thead>\n",
       "    <tr style=\"text-align: right;\">\n",
       "      <th></th>\n",
       "      <th>Reactions</th>\n",
       "      <th>lower_bound</th>\n",
       "    </tr>\n",
       "  </thead>\n",
       "  <tbody>\n",
       "    <tr>\n",
       "      <td>0</td>\n",
       "      <td>T_flux_Ca2+</td>\n",
       "      <td>-1000</td>\n",
       "    </tr>\n",
       "    <tr>\n",
       "      <td>1</td>\n",
       "      <td>T_flux_Na+</td>\n",
       "      <td>-1000</td>\n",
       "    </tr>\n",
       "    <tr>\n",
       "      <td>2</td>\n",
       "      <td>T_flux_dextrin</td>\n",
       "      <td>-1000</td>\n",
       "    </tr>\n",
       "    <tr>\n",
       "      <td>3</td>\n",
       "      <td>T_flux_Co2+</td>\n",
       "      <td>-1000</td>\n",
       "    </tr>\n",
       "    <tr>\n",
       "      <td>4</td>\n",
       "      <td>T_flux_Cu2+</td>\n",
       "      <td>-1000</td>\n",
       "    </tr>\n",
       "    <tr>\n",
       "      <td>5</td>\n",
       "      <td>T_flux_Fe3+</td>\n",
       "      <td>-1000</td>\n",
       "    </tr>\n",
       "    <tr>\n",
       "      <td>6</td>\n",
       "      <td>T_flux_nitrate</td>\n",
       "      <td>-1000</td>\n",
       "    </tr>\n",
       "    <tr>\n",
       "      <td>7</td>\n",
       "      <td>T_flux_CO2</td>\n",
       "      <td>-1000</td>\n",
       "    </tr>\n",
       "    <tr>\n",
       "      <td>8</td>\n",
       "      <td>T_flux_H+</td>\n",
       "      <td>-1000</td>\n",
       "    </tr>\n",
       "    <tr>\n",
       "      <td>9</td>\n",
       "      <td>T_flux_H2O</td>\n",
       "      <td>-1000</td>\n",
       "    </tr>\n",
       "    <tr>\n",
       "      <td>10</td>\n",
       "      <td>T_flux_carbon_monoxide</td>\n",
       "      <td>-1000</td>\n",
       "    </tr>\n",
       "    <tr>\n",
       "      <td>11</td>\n",
       "      <td>T_flux_chloride</td>\n",
       "      <td>-1000</td>\n",
       "    </tr>\n",
       "    <tr>\n",
       "      <td>12</td>\n",
       "      <td>T_flux_oxygen</td>\n",
       "      <td>-1000</td>\n",
       "    </tr>\n",
       "    <tr>\n",
       "      <td>13</td>\n",
       "      <td>T_flux_beta__D__glucose</td>\n",
       "      <td>-1</td>\n",
       "    </tr>\n",
       "    <tr>\n",
       "      <td>14</td>\n",
       "      <td>T_flux_ammonium</td>\n",
       "      <td>-1000</td>\n",
       "    </tr>\n",
       "    <tr>\n",
       "      <td>15</td>\n",
       "      <td>T_flux_sulfate</td>\n",
       "      <td>-1000</td>\n",
       "    </tr>\n",
       "    <tr>\n",
       "      <td>16</td>\n",
       "      <td>T_flux_phosphate</td>\n",
       "      <td>-1000</td>\n",
       "    </tr>\n",
       "  </tbody>\n",
       "</table>\n",
       "</div>"
      ],
      "text/plain": [
       "                  Reactions  lower_bound\n",
       "0   T_flux_Ca2+             -1000       \n",
       "1   T_flux_Na+              -1000       \n",
       "2   T_flux_dextrin          -1000       \n",
       "3   T_flux_Co2+             -1000       \n",
       "4   T_flux_Cu2+             -1000       \n",
       "5   T_flux_Fe3+             -1000       \n",
       "6   T_flux_nitrate          -1000       \n",
       "7   T_flux_CO2              -1000       \n",
       "8   T_flux_H+               -1000       \n",
       "9   T_flux_H2O              -1000       \n",
       "10  T_flux_carbon_monoxide  -1000       \n",
       "11  T_flux_chloride         -1000       \n",
       "12  T_flux_oxygen           -1000       \n",
       "13  T_flux_beta__D__glucose -1          \n",
       "14  T_flux_ammonium         -1000       \n",
       "15  T_flux_sulfate          -1000       \n",
       "16  T_flux_phosphate        -1000       "
      ]
     },
     "execution_count": 8,
     "metadata": {},
     "output_type": "execute_result"
    }
   ],
   "source": [
    "df_overview_of_the_medium = pd.DataFrame(columns=[\"Reactions\",\"lower_bound\"])\n",
    "df_overview_of_the_medium[\"Reactions\"] = [rxn for rxn in model.medium]\n",
    "df_overview_of_the_medium[\"lower_bound\"] = [-model.medium[rxn] for rxn in model.medium]\n",
    "df_overview_of_the_medium"
   ]
  }
 ],
 "metadata": {
  "kernelspec": {
   "display_name": "Python 3",
   "language": "python",
   "name": "python3"
  },
  "language_info": {
   "codemirror_mode": {
    "name": "ipython",
    "version": 3
   },
   "file_extension": ".py",
   "mimetype": "text/x-python",
   "name": "python",
   "nbconvert_exporter": "python",
   "pygments_lexer": "ipython3",
   "version": "3.6.9"
  },
  "toc": {
   "base_numbering": 1,
   "nav_menu": {},
   "number_sections": true,
   "sideBar": true,
   "skip_h1_title": false,
   "title_cell": "Table of Contents",
   "title_sidebar": "Contents",
   "toc_cell": false,
   "toc_position": {
    "height": "484px",
    "left": "61px",
    "top": "110px",
    "width": "165px"
   },
   "toc_section_display": true,
   "toc_window_display": true
  },
  "varInspector": {
   "cols": {
    "lenName": 16,
    "lenType": 16,
    "lenVar": 40
   },
   "kernels_config": {
    "python": {
     "delete_cmd_postfix": "",
     "delete_cmd_prefix": "del ",
     "library": "var_list.py",
     "varRefreshCmd": "print(var_dic_list())"
    },
    "r": {
     "delete_cmd_postfix": ") ",
     "delete_cmd_prefix": "rm(",
     "library": "var_list.r",
     "varRefreshCmd": "cat(var_dic_list()) "
    }
   },
   "types_to_exclude": [
    "module",
    "function",
    "builtin_function_or_method",
    "instance",
    "_Feature"
   ],
   "window_display": false
  }
 },
 "nbformat": 4,
 "nbformat_minor": 2
}
