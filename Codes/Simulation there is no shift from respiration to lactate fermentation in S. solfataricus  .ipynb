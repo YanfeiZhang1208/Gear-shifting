{
 "cells": [
  {
   "cell_type": "markdown",
   "metadata": {},
   "source": [
    "# Set the environment"
   ]
  },
  {
   "cell_type": "code",
   "execution_count": 1,
   "metadata": {},
   "outputs": [],
   "source": [
    "# set the envoiroment\n",
    "import cobra\n",
    "from cobra import Model, Reaction, Metabolite\n",
    "from cobra.flux_analysis import flux_variability_analysis\n",
    "import pandas as pd\n",
    "import numpy as np\n",
    "import matplotlib.pyplot as plt\n",
    "import glob\n",
    "import escher\n",
    "from escher import Builder \n",
    "from utils import show_map\n",
    "from utils.check_precursor_problem import check_precursor_problem"
   ]
  },
  {
   "cell_type": "markdown",
   "metadata": {},
   "source": [
    "## load the model"
   ]
  },
  {
   "cell_type": "code",
   "execution_count": 2,
   "metadata": {},
   "outputs": [],
   "source": [
    "model = cobra.io.load_json_model(\"../models/updated_model.json\")# Import the model.\n",
    "model.solver = 'glpk'\n",
    "map_loc = \"../data/fermentation.json\" #Import the map that has been drawn using escher.\n",
    "map_loc1 = \"../data/adding all the metabolites exchange reaction.json\""
   ]
  },
  {
   "cell_type": "markdown",
   "metadata": {},
   "source": [
    "## positive control \n",
    "   - Simulation of Table S1. number 1. \n",
    "   - The strain can grow. "
   ]
  },
  {
   "cell_type": "code",
   "execution_count": 3,
   "metadata": {},
   "outputs": [
    {
     "name": "stdout",
     "output_type": "stream",
     "text": [
      "When making the biomass production reaction as the objective reaction, the modelled biomass of this organism is 0.06334222910440382.\n"
     ]
    }
   ],
   "source": [
    "M = model.copy()\n",
    "M.objective = M.reactions.Biomass\n",
    "sol = M.optimize()\n",
    "print (\"When making the biomass production reaction as the objective reaction, the modelled biomass of this organism is \"+ str(sol.fluxes.loc['Biomass']) +\".\")"
   ]
  },
  {
   "cell_type": "code",
   "execution_count": 4,
   "metadata": {},
   "outputs": [],
   "source": [
    "model.reactions.get_by_id(\"NGAM\").bounds = (0,1000)"
   ]
  },
  {
   "cell_type": "markdown",
   "metadata": {},
   "source": [
    "## Blocking the reaction for respiration and do FBA"
   ]
  },
  {
   "cell_type": "markdown",
   "metadata": {},
   "source": [
    "### Blocking the reaction for oxygen importing. \n",
    "   - Simulation of Table S1. number 2.\n",
    "   - The strain cannot grow. "
   ]
  },
  {
   "cell_type": "code",
   "execution_count": 5,
   "metadata": {
    "scrolled": true
   },
   "outputs": [
    {
     "name": "stdout",
     "output_type": "stream",
     "text": [
      "When we block the reaction for respiration, the modelled biomass of this organism is 0.0.\n"
     ]
    }
   ],
   "source": [
    "M = model.copy()\n",
    "M.reactions.get_by_id(\"T_flux_oxygen\").bounds = (0,0) # Block this reaction.\n",
    "M.objective = M.reactions.Biomass  \n",
    "sol = M.optimize()\n",
    "print (\"When we block the reaction for respiration, the modelled biomass of this organism is \"+ str(sol.fluxes.loc['Biomass']) +\".\")"
   ]
  },
  {
   "cell_type": "markdown",
   "metadata": {},
   "source": [
    "### Use the lactic acid export reaction as objective reaction\n",
    "- Simulation of Table S1. number 3. "
   ]
  },
  {
   "cell_type": "code",
   "execution_count": 6,
   "metadata": {
    "scrolled": true
   },
   "outputs": [
    {
     "name": "stdout",
     "output_type": "stream",
     "text": [
      "The flux for lactic acid production is 0.0 .\n"
     ]
    }
   ],
   "source": [
    "M= model.copy()\n",
    "M.reactions.get_by_id(\"T_flux_oxygen\").bounds = (0,1000)\n",
    "M.objective = M.reactions.get_by_id('T_flux_(S)__lactic_acid')\n",
    "sol = M.optimize()\n",
    "l = sol.fluxes[abs(sol.fluxes)>1e-6].index\n",
    "# for rxn in l:\n",
    "#     print (rxn,M.reactions.get_by_id(rxn).reaction,sol.fluxes.loc[rxn])\n",
    "print (\"The flux for lactic acid production is\", sol.fluxes.loc['T_flux_(S)__lactic_acid'],\".\")"
   ]
  },
  {
   "cell_type": "markdown",
   "metadata": {},
   "source": [
    "### Use the ethanol export reaction as objective reaction\n",
    "- Simulation of Table S1 number 4."
   ]
  },
  {
   "cell_type": "code",
   "execution_count": 7,
   "metadata": {},
   "outputs": [
    {
     "name": "stdout",
     "output_type": "stream",
     "text": [
      "The flux for ethnol production is 0.0 .\n"
     ]
    }
   ],
   "source": [
    "M= model.copy()\n",
    "M.reactions.get_by_id('T_flux_ethanol').bounds = (-1000,1000)\n",
    "M.reactions.get_by_id(\"T_flux_oxygen\").bounds = (0,1000)\n",
    "M.objective = M.reactions.get_by_id('T_flux_ethanol')\n",
    "sol = M.optimize()\n",
    "print (\"The flux for ethnol production is\" ,sol.fluxes.loc['T_flux_ethanol'],\".\")"
   ]
  },
  {
   "cell_type": "markdown",
   "metadata": {},
   "source": [
    "### And pyruvate decarboxylase reaction and then use the pyruvate decarboxylase reaction as objective reaction\n",
    "- Simulation of Table S1 number 5."
   ]
  },
  {
   "cell_type": "code",
   "execution_count": 8,
   "metadata": {},
   "outputs": [
    {
     "name": "stdout",
     "output_type": "stream",
     "text": [
      "The flux through ethanol is 0.0 .\n"
     ]
    }
   ],
   "source": [
    "# And pyruvate decarboxylase reaction and then use the pyruvate decarboxylase reaction as objective reaction\n",
    "M= model.copy()\n",
    "reaction = Reaction('pyruvate_decarboxylase_to_acetaldehyde')\n",
    "reaction.name = 'pyruvate decarboxylase _to_acetaldehyde reaction'\n",
    "reaction.lower_bound = 0.  # This is the default  \n",
    "reaction.upper_bound = 1000.  # This is the default\n",
    "M.add_reactions([reaction])\n",
    "reaction.add_metabolites({\"H+\": -1.0,\n",
    "                         \"pyruvate\": -1.0,\n",
    "                         \"acetaldehyde\": 1.0,\n",
    "                         \"CO2\": 1.0})\n",
    "\n",
    "M.reactions.get_by_id(\"T_flux_oxygen\").bounds = (0,1000)\n",
    "M.objective = M.reactions.get_by_id('T_flux_ethanol')\n",
    "sol = M.optimize()\n",
    "\n",
    "print (\"The flux through ethanol is\", sol.fluxes.loc['T_flux_ethanol'],\".\")"
   ]
  },
  {
   "cell_type": "markdown",
   "metadata": {},
   "source": [
    "###  Making protonation reaction of lactate to lactic acid as reversible reaction.\n",
    "- Simulation of Table S1 number 6 and figure s8."
   ]
  },
  {
   "cell_type": "code",
   "execution_count": 9,
   "metadata": {
    "scrolled": true
   },
   "outputs": [
    {
     "name": "stdout",
     "output_type": "stream",
     "text": [
      "The flux for lactic acid production is 2.000000000000001 .\n"
     ]
    },
    {
     "data": {
      "application/vnd.jupyter.widget-view+json": {
       "model_id": "51c3c78deac5494b972933e1c58e36ca",
       "version_major": 2,
       "version_minor": 0
      },
      "text/plain": [
       "Builder(hide_secondary_metabolites=False, highlight_missing=True, reaction_data={'Biomass': 0.0, 'Biomass__fuc…"
      ]
     },
     "metadata": {},
     "output_type": "display_data"
    }
   ],
   "source": [
    "M= model.copy()\n",
    "M.reactions.get_by_id(\"prot_prot__lactate\").bounds = (-1000,1000)\n",
    "M.objective = M.reactions.get_by_id('T_flux_(S)__lactic_acid')\n",
    "sol = M.optimize()\n",
    "l = sol.fluxes[abs(sol.fluxes)>1e-6].index\n",
    "\n",
    "print (\"The flux for lactic acid production is\", sol.fluxes.loc['T_flux_(S)__lactic_acid'],\".\")\n",
    "b = show_map(sol,map_loc)\n",
    "b"
   ]
  },
  {
   "cell_type": "markdown",
   "metadata": {},
   "source": [
    "### Making all the protonation reactions in the genome wide map reversible and checking the production of ethanol"
   ]
  },
  {
   "cell_type": "code",
   "execution_count": 10,
   "metadata": {},
   "outputs": [
    {
     "name": "stdout",
     "output_type": "stream",
     "text": [
      "The flux for ethnol production is 0.0\n"
     ]
    }
   ],
   "source": [
    "M= model.copy()\n",
    "for rxn in M.reactions:\n",
    "    if \"prot_prot__\" in rxn.id:\n",
    "        rxn.bounds = (0,0)\n",
    "M.reactions.get_by_id(\"T_flux_oxygen\").bounds = (0,1000)\n",
    "M.objective = M.reactions.get_by_id ('T_flux_ethanol')\n",
    "sol = M.optimize()\n",
    "l = sol.fluxes[abs(sol.fluxes)>1e-6].index\n",
    "\n",
    "print (\"The flux for ethnol production is\", sol.fluxes.loc[\"T_flux_ethanol\"])"
   ]
  },
  {
   "cell_type": "markdown",
   "metadata": {},
   "source": [
    "###  Use the ethanol export reaction as reversible and check the production of ethanol.\n",
    "- Simulation of Table S1 number 7. \n",
    "- After running FBA the flux is 0. The reason for this is NADH inbalance. From glucose to pyruvate, it will produce two molecules of NADH, or NADPH, however, in order to produce ethnol 4 molecules of NADH or NADPH are requred. A possible solution is to add the pyruvate exchange reaction. "
   ]
  },
  {
   "cell_type": "code",
   "execution_count": 11,
   "metadata": {},
   "outputs": [
    {
     "name": "stdout",
     "output_type": "stream",
     "text": [
      "The flux for ethnol production is 0.0\n"
     ]
    }
   ],
   "source": [
    "M= model.copy()\n",
    "M.reactions.get_by_id(\"T_ABC__transporter_ethanol\").bounds = (-1000,1000)\n",
    "\n",
    "for rxn in M.reactions:\n",
    "    if \"prot_prot__\" in rxn.id:\n",
    "        rxn.bounds = (0,0)\n",
    "M.reactions.get_by_id(\"T_flux_oxygen\").bounds = (0,1000)\n",
    "M.objective = M.reactions.get_by_id ('T_flux_ethanol')\n",
    "sol = M.optimize()\n",
    "l = sol.fluxes[abs(sol.fluxes)>1e-6].index\n",
    "# for rxn in l:\n",
    "#     print (rxn,M.reactions.get_by_id(rxn).reaction,sol.fluxes.loc[rxn])\n",
    "print (\"The flux for ethnol production is\", sol.fluxes.loc[\"T_flux_ethanol\"])"
   ]
  },
  {
   "cell_type": "markdown",
   "metadata": {},
   "source": [
    "### And pyruvate decarboxylase reaction and then use the pyruvate decarboxylase reaction as objective reaction\n",
    "- Simulation of Table S1 number 8."
   ]
  },
  {
   "cell_type": "code",
   "execution_count": 12,
   "metadata": {
    "scrolled": false
   },
   "outputs": [
    {
     "name": "stdout",
     "output_type": "stream",
     "text": [
      "The flux through ethanol is 2.0000000000000013 .\n"
     ]
    }
   ],
   "source": [
    "# And pyruvate decarboxylase reaction and then use the pyruvate decarboxylase reaction as objective reaction\n",
    "M= model.copy()\n",
    "M.reactions.get_by_id(\"T_ABC__transporter_ethanol\").bounds = (-1000,1000)\n",
    "reaction = Reaction('pyruvate_decarboxylase')\n",
    "reaction.name = 'pyruvate decarboxylase reaction'\n",
    "reaction.lower_bound = 0.  # This is the default  \n",
    "reaction.upper_bound = 1000.  # This is the default\n",
    "M.add_reactions([reaction])\n",
    "reaction.add_metabolites({\"H+\": -1.0,\n",
    "                         \"pyruvate\": -1.0,\n",
    "                         \"acetaldehyde\": 1.0,\n",
    "                         \"CO2\": 1.0})\n",
    "M.reactions.get_by_id(\"T_flux_oxygen\").bounds = (0,1000)\n",
    "M.objective = M.reactions.get_by_id('T_flux_ethanol')\n",
    "sol = M.optimize()\n",
    "l = sol.fluxes[abs(sol.fluxes)>1e-6].index\n",
    "print (\"The flux through ethanol is\", sol.fluxes.loc['T_flux_ethanol'],\".\")"
   ]
  },
  {
   "cell_type": "markdown",
   "metadata": {},
   "source": [
    "### And a _ethanol diffusion reaction and  pyruvate decarboxylase reaction and then use the ethanol export reaction as objective reaction\n",
    "- Simulation of Table S1 number 9."
   ]
  },
  {
   "cell_type": "code",
   "execution_count": 13,
   "metadata": {},
   "outputs": [
    {
     "name": "stdout",
     "output_type": "stream",
     "text": [
      "The flux through pyruvate_decarboxylase is, 1.9999999999999993\n"
     ]
    }
   ],
   "source": [
    "M= model.copy()\n",
    "\n",
    "reaction = Reaction('pyruvate_decarboxylase') \n",
    "reaction.name = 'pyruvate decarboxylase reaction'\n",
    "reaction.lower_bound = 0.  # This is the default  \n",
    "reaction.upper_bound = 1000.  # This is the default\n",
    "M.add_reactions([reaction])\n",
    "reaction.add_metabolites({\"H+\": -1.0,\n",
    "                         \"pyruvate\": -1.0,\n",
    "                         \"acetaldehyde\": 1.0,\n",
    "                         \"CO2\": 1.0})\n",
    "\n",
    "reaction = Reaction('passive_ethanol_transport')\n",
    "reaction.name = 'passive ethanol transport'\n",
    "reaction.lower_bound = -1000.  # This is the default  \n",
    "reaction.upper_bound = 1000.  # This is the default\n",
    "M.add_reactions([reaction])\n",
    "reaction.add_metabolites({\"ethanol_ex\": -1.0,\n",
    "                         \"ethanol\": 1.0})\n",
    "\n",
    "M.reactions.get_by_id(\"T_flux_oxygen\").bounds = (0,1000)\n",
    "M.objective = M.reactions.get_by_id('T_flux_ethanol')\n",
    "sol = M.optimize()\n",
    "\n",
    "print (\"The flux through pyruvate_decarboxylase is,\", sol.fluxes.loc[\"T_flux_ethanol\"])"
   ]
  },
  {
   "cell_type": "markdown",
   "metadata": {},
   "source": [
    "### Use lactate dehydrogenase, grow anaerobically?\n",
    "- Simulation of Table S1 number 10."
   ]
  },
  {
   "cell_type": "code",
   "execution_count": 14,
   "metadata": {},
   "outputs": [
    {
     "name": "stdout",
     "output_type": "stream",
     "text": [
      "The flux through biomass reaction is 0.0 .\n"
     ]
    }
   ],
   "source": [
    "M= model.copy()\n",
    "M.reactions.get_by_id(\"prot_prot__lactate\").bounds = (-1000,1000)\n",
    "M.reactions.get_by_id(\"T_flux_oxygen\").bounds = (0,1000)\n",
    "\n",
    "M.objective = M.reactions.get_by_id('Biomass')\n",
    "sol = M.optimize()\n",
    "print (\"The flux through biomass reaction is\", sol.fluxes.loc['Biomass'],\".\")\n"
   ]
  },
  {
   "cell_type": "markdown",
   "metadata": {},
   "source": [
    "### Use fermentation to ethanol, grow anaerobically?\n",
    "- Simulation of Table S1 number 11."
   ]
  },
  {
   "cell_type": "code",
   "execution_count": 15,
   "metadata": {},
   "outputs": [
    {
     "name": "stdout",
     "output_type": "stream",
     "text": [
      "The flux through biomass reaction is 0.0\n"
     ]
    }
   ],
   "source": [
    "M= model.copy()\n",
    "reaction = Reaction('pyruvate_decarboxylase') \n",
    "reaction.name = 'pyruvate decarboxylase reaction'\n",
    "reaction.lower_bound = 0.  # This is the default  \n",
    "reaction.upper_bound = 1000.  # This is the default\n",
    "M.add_reactions([reaction])\n",
    "reaction.add_metabolites({\"H+\": -1.0,\n",
    "                         \"pyruvate\": -1.0,\n",
    "                         \"acetaldehyde\": 1.0,\n",
    "                         \"CO2\": 1.0})\n",
    "\n",
    "reaction = Reaction('passive_ethanol_transport')\n",
    "reaction.name = 'passive ethanol transport'\n",
    "reaction.lower_bound = -1000.  # This is the default  \n",
    "reaction.upper_bound = 1000.  # This is the default\n",
    "M.add_reactions([reaction])\n",
    "reaction.add_metabolites({\"ethanol_ex\": -1.0,\n",
    "                         \"ethanol\": 1.0})\n",
    "\n",
    "M.reactions.get_by_id(\"T_flux_oxygen\").bounds = (0,1000)\n",
    "M.objective = M.reactions.get_by_id('Biomass')\n",
    "sol = M.optimize()\n",
    "\n",
    "print (\"The flux through biomass reaction is\", sol.fluxes.loc[\"Biomass\"])"
   ]
  },
  {
   "cell_type": "markdown",
   "metadata": {},
   "source": [
    "## Check ATP production from the proposed fermentation pathway\n",
    "- Simulation of Table S1 number 12."
   ]
  },
  {
   "cell_type": "code",
   "execution_count": 16,
   "metadata": {
    "scrolled": true
   },
   "outputs": [
    {
     "ename": "NameError",
     "evalue": "name 'stop' is not defined",
     "output_type": "error",
     "traceback": [
      "\u001b[1;31m---------------------------------------------------------------------------\u001b[0m",
      "\u001b[1;31mNameError\u001b[0m                                 Traceback (most recent call last)",
      "\u001b[1;32m<ipython-input-16-3dd9cae63c82>\u001b[0m in \u001b[0;36m<module>\u001b[1;34m\u001b[0m\n\u001b[1;32m----> 1\u001b[1;33m \u001b[0mstop\u001b[0m\u001b[1;33m\u001b[0m\u001b[1;33m\u001b[0m\u001b[0m\n\u001b[0m",
      "\u001b[1;31mNameError\u001b[0m: name 'stop' is not defined"
     ]
    }
   ],
   "source": [
    "stop "
   ]
  },
  {
   "cell_type": "code",
   "execution_count": null,
   "metadata": {},
   "outputs": [],
   "source": []
  },
  {
   "cell_type": "code",
   "execution_count": null,
   "metadata": {},
   "outputs": [],
   "source": []
  },
  {
   "cell_type": "markdown",
   "metadata": {},
   "source": [
    "### 2 protons can be pumped out, 1ATP will be produced."
   ]
  },
  {
   "cell_type": "code",
   "execution_count": null,
   "metadata": {},
   "outputs": [],
   "source": [
    "M= model.copy()\n",
    "M.reactions.get_by_id(\"prot_prot__lactate\").bounds = (-1000,1000)\n",
    "\n",
    "M.reactions.get_by_id(\"T_flux_oxygen\").bounds = (0,0)\n",
    "M.reactions.NGAM.bounds = (0,1000)\n",
    "\n",
    "M.objective = M.reactions.get_by_id('NGAM')\n",
    "sol = M.optimize()\n",
    "print (\"The proposed fermentation pathways yield\",sol.fluxes.loc['NGAM'],\"ATP.\")\n"
   ]
  },
  {
   "cell_type": "markdown",
   "metadata": {},
   "source": [
    "### 4 protons can be pumped out, 2 ATP will be produced."
   ]
  },
  {
   "cell_type": "code",
   "execution_count": null,
   "metadata": {},
   "outputs": [],
   "source": [
    "M= model.copy()\n",
    "Psi = Metabolite(\n",
    "    'Psi',\n",
    "    formula='',\n",
    "    name='PSI is a unit of pressure expressed in pounds of force per square inch of area',\n",
    "    compartment='cytosol')\n",
    "M.reactions.get_by_id('T_symporter_(S)__lactic_acid').remove_from_model()\n",
    "reaction = Reaction('T_symporter_(S)__lactic_acid')\n",
    "reaction.name = 'T_symporter_(S)__lactic_acid'\n",
    "reaction.lower_bound = -1000.  # This is the default\n",
    "reaction.upper_bound = 1000.  # This is the default\n",
    "M.add_reactions([reaction])\n",
    "reaction.add_metabolites({\"(S)__lactic_acid\":-1.0,\n",
    "                         \"H+\":-4.0,\n",
    "                         \"(S)__lactic_acid_ex\":1.0,\n",
    "                           Psi: 4.0,\n",
    "                          \"H+_ex\":4.0})\n",
    "\n",
    "M.reactions.get_by_id(\"prot_prot__lactate\").bounds = (-1000,1000)\n",
    "\n",
    "M.reactions.get_by_id(\"T_flux_oxygen\").bounds = (0,0)\n",
    "M.reactions.NGAM.bounds = (0,1000)\n",
    "\n",
    "M.objective = M.reactions.get_by_id('NGAM')\n",
    "sol = M.optimize()\n",
    "print (\"The proposed fermentation pathways yield\",sol.fluxes.loc['NGAM'],\"ATP.\")"
   ]
  },
  {
   "cell_type": "markdown",
   "metadata": {},
   "source": [
    "### 6 protons can be pumped out, 3 ATP will be produced."
   ]
  },
  {
   "cell_type": "code",
   "execution_count": null,
   "metadata": {},
   "outputs": [],
   "source": [
    "M= model.copy()\n",
    "Psi = Metabolite(\n",
    "    'Psi',\n",
    "    formula='',\n",
    "    name='PSI is a unit of pressure expressed in pounds of force per square inch of area',\n",
    "    compartment='cytosol')\n",
    "M.reactions.get_by_id('T_symporter_(S)__lactic_acid').remove_from_model()\n",
    "reaction = Reaction('T_symporter_(S)__lactic_acid')\n",
    "reaction.name = 'T_symporter_(S)__lactic_acid'\n",
    "reaction.lower_bound = -1000.  # This is the default\n",
    "reaction.upper_bound = 1000.  # This is the default\n",
    "M.add_reactions([reaction])\n",
    "reaction.add_metabolites({\"(S)__lactic_acid\":-1.0,\n",
    "                         \"H+\":-6.0,\n",
    "                         \"(S)__lactic_acid_ex\":1.0,\n",
    "                           Psi: 6.0,\n",
    "                          \"H+_ex\":6.0})\n",
    "\n",
    "M.reactions.get_by_id(\"prot_prot__lactate\").bounds = (-1000,1000)\n",
    "\n",
    "M.reactions.get_by_id(\"T_flux_oxygen\").bounds = (0,0)\n",
    "M.reactions.NGAM.bounds = (0,1000)\n",
    "\n",
    "M.objective = M.reactions.get_by_id('NGAM')\n",
    "sol = M.optimize()\n",
    "print (\"The proposed fermentation pathways yield\",sol.fluxes.loc['NGAM'],\"ATP.\")"
   ]
  },
  {
   "cell_type": "markdown",
   "metadata": {},
   "source": [
    "### 0 protons can be pumped out, 0 ATP will be produced."
   ]
  },
  {
   "cell_type": "code",
   "execution_count": null,
   "metadata": {},
   "outputs": [],
   "source": [
    "M= model.copy()\n",
    "Psi = Metabolite(\n",
    "    'Psi',\n",
    "    formula='',\n",
    "    name='PSI is a unit of pressure expressed in pounds of force per square inch of area',\n",
    "    compartment='cytosol')\n",
    "M.reactions.get_by_id('T_symporter_(S)__lactic_acid').remove_from_model()\n",
    "reaction = Reaction('T_symporter_(S)__lactic_acid')\n",
    "reaction.name = 'T_symporter_(S)__lactic_acid'\n",
    "reaction.lower_bound = -1000.  # This is the default\n",
    "reaction.upper_bound = 1000.  # This is the default\n",
    "M.add_reactions([reaction])\n",
    "reaction.add_metabolites({\"(S)__lactic_acid\":-1.0,\n",
    "                         \"H+\":-0.0,\n",
    "                         \"(S)__lactic_acid_ex\":1.0,\n",
    "                           Psi: 0.0,\n",
    "                          \"H+_ex\":0.0})\n",
    "\n",
    "M.reactions.get_by_id(\"prot_prot__lactate\").bounds = (-1000,1000)\n",
    "\n",
    "M.reactions.get_by_id(\"T_flux_oxygen\").bounds = (0,0)\n",
    "M.reactions.NGAM.bounds = (0,1000)\n",
    "\n",
    "M.objective = M.reactions.get_by_id('NGAM')\n",
    "sol = M.optimize()\n",
    "print (\"The proposed fermentation pathways yield\",sol.fluxes.loc['NGAM'],\"ATP.\")"
   ]
  },
  {
   "cell_type": "code",
   "execution_count": null,
   "metadata": {},
   "outputs": [],
   "source": [
    "M.objective = M.reactions.Biomass\n",
    "sol = M.optimize()\n",
    "print (sol)"
   ]
  },
  {
   "cell_type": "markdown",
   "metadata": {},
   "source": [
    "## Adding the exist for all the metabolites and check the production of ATP, fig. S9\n",
    "--biomass production as the objective reaction \n",
    "-- ask for the production of atp"
   ]
  },
  {
   "cell_type": "code",
   "execution_count": null,
   "metadata": {
    "scrolled": true
   },
   "outputs": [],
   "source": [
    "M = model.copy()\n",
    "Psi = Metabolite(\n",
    "    'Psi',\n",
    "    formula='',\n",
    "    name='PSI is a unit of pressure expressed in pounds of force per square inch of area',\n",
    "    compartment='cytosol')\n",
    "M.reactions.get_by_id('T_symporter_(S)__lactic_acid').remove_from_model()\n",
    "reaction = Reaction('T_symporter_(S)__lactic_acid')\n",
    "reaction.name = 'T_symporter_(S)__lactic_acid'\n",
    "reaction.lower_bound = -1000.  # This is the default\n",
    "reaction.upper_bound = 1000.  # This is the default\n",
    "M.add_reactions([reaction])\n",
    "reaction.add_metabolites({\"(S)__lactic_acid\":-1.0,\n",
    "                         \"H+\":-0.0,\n",
    "                         \"(S)__lactic_acid_ex\":1.0,\n",
    "                           Psi: 0.0,\n",
    "                          \"H+_ex\":0.0})\n",
    "\n",
    "M.reactions.get_by_id(\"T_flux_oxygen\").bounds = (0,0)\n",
    "met= [m for m in model.metabolites]\n",
    "for m in met:\n",
    "    reaction_id = str(m) + \"_flux\"\n",
    "    reaction = Reaction(reaction_id)\n",
    "    reaction.name = reaction_id\n",
    "    reaction.lower_bound = 0.  # This is the default\n",
    "    reaction.upper_bound = 1000.  # This is the default\n",
    "    M.add_reactions([reaction])\n",
    "    reaction.add_metabolites({ m: -1.0\n",
    "                              })\n",
    "# M.reactions.get_by_id(\"T_flux_oxygen\").bounds = (0,0)\n",
    "M.objective = M.reactions.NGAM\n",
    "sol = M.optimize()\n",
    "# l = sol.fluxes[abs(sol.fluxes)>1e-6].index\n",
    "# for rxn in l:\n",
    "#     print (rxn,M.reactions.get_by_id(rxn).reaction,sol.fluxes.loc[rxn])\n",
    "\n",
    "print (\"The fluxes through NGAM reactions is\", sol.fluxes.loc[\"NGAM\"])\n",
    "b = show_map(sol,map_loc1)\n",
    "b    "
   ]
  },
  {
   "cell_type": "markdown",
   "metadata": {},
   "source": [
    "## With adding the acetic_acid export reaction and, fermentation can produce atp"
   ]
  },
  {
   "cell_type": "code",
   "execution_count": null,
   "metadata": {},
   "outputs": [],
   "source": [
    "M = model.copy()\n",
    "M.reactions.get_by_id('prot_prot__acetate').bounds = (-1000,1000)\n",
    "reaction = Reaction('acetic_acid_flux')\n",
    "reaction.name = 'acetic_acid_flux'\n",
    "reaction.lower_bound = -1000.  # This is the default  \n",
    "reaction.upper_bound = 1000.  # This is the default\n",
    "M.add_reactions([reaction])\n",
    "reaction.add_metabolites({\"acetic_acid\": -1.0,\n",
    "                         })\n",
    "reaction = Reaction('n__propanol_flux')\n",
    "reaction.name = 'n__propanol_flux'\n",
    "reaction.lower_bound = -1000.  # This is the default  \n",
    "reaction.upper_bound = 1000.  # This is the default\n",
    "M.add_reactions([reaction])\n",
    "reaction.add_metabolites({\"n__propanol\": -1.0\n",
    "                         })\n",
    "M.reactions.get_by_id(\"T_flux_oxygen\").bounds = (0,0)\n",
    "M.objective = M.reactions.NGAM\n",
    "sol = M.optimize()\n",
    "l = sol.fluxes[abs(sol.fluxes)>1e-6].index\n",
    "\n",
    "print (\"The fluxes through NGAM reactions is\", sol.fluxes.loc[\"NGAM\"])\n",
    "b = show_map(sol,map_loc1)\n",
    "b"
   ]
  },
  {
   "cell_type": "markdown",
   "metadata": {},
   "source": [
    "## Check the biomass production"
   ]
  },
  {
   "cell_type": "code",
   "execution_count": null,
   "metadata": {
    "scrolled": true
   },
   "outputs": [],
   "source": [
    "M.objective = M.reactions.Biomass\n",
    "sol = M.optimize()\n",
    "print (sol )"
   ]
  },
  {
   "cell_type": "markdown",
   "metadata": {},
   "source": [
    "### Check the precusor which cannot be produced"
   ]
  },
  {
   "cell_type": "code",
   "execution_count": null,
   "metadata": {},
   "outputs": [],
   "source": [
    "check_precursor_problem(M, [\"Biomass\"])"
   ]
  },
  {
   "cell_type": "markdown",
   "metadata": {},
   "source": [
    "### Add the precursors and check the biomass production"
   ]
  },
  {
   "cell_type": "code",
   "execution_count": null,
   "metadata": {},
   "outputs": [],
   "source": [
    "reaction = Reaction('coenzyme_B12_flux')\n",
    "reaction.name = 'coenzyme_B12_flux'\n",
    "reaction.lower_bound = -1000.  # This is the default  \n",
    "reaction.upper_bound = 1000.  # This is the default\n",
    "M.add_reactions([reaction])\n",
    "reaction.add_metabolites({\"coenzyme_B12\": -1.0,\n",
    "                          \"ADP\": -1.0,\n",
    "                          \"ATP\": 1.0,\n",
    "                          \"phosphate\": -1.0\n",
    "                         })\n",
    "reaction = Reaction('norspermidine_flux')\n",
    "reaction.name = 'norspermidine_flux'\n",
    "reaction.lower_bound = -1000.  # This is the default  \n",
    "reaction.upper_bound = 1000.  # This is the default\n",
    "M.add_reactions([reaction])\n",
    "reaction.add_metabolites({\"norspermidine\": -1.0,\n",
    "                          \"ADP\": -1.0,\n",
    "                          \"ATP\": 1.0,\n",
    "                          \"phosphate\": -1.0\n",
    "                         })\n",
    "reaction = Reaction('spermidine_flux')\n",
    "reaction.name = 'spermidine_flux'\n",
    "reaction.lower_bound = -1000.  # This is the default  \n",
    "reaction.upper_bound = 1000.  # This is the default\n",
    "M.add_reactions([reaction])\n",
    "reaction.add_metabolites({\"spermidine\": -1.0,\n",
    "                          \"ADP\": -1.0,\n",
    "                          \"ATP\": 1.0,\n",
    "                          \"phosphate\": -1.0\n",
    "                         })\n",
    "reaction = Reaction('thiamin_diphosphate_flux')\n",
    "reaction.name = 'thiamin_diphosphate_flux'\n",
    "reaction.lower_bound = -1000.  # This is the default  \n",
    "reaction.upper_bound = 1000.  # This is the default\n",
    "M.add_reactions([reaction])\n",
    "reaction.add_metabolites({\"thiamin_diphosphate\": -1.0,\n",
    "                          \"ADP\": -1.0,\n",
    "                          \"ATP\": 1.0,\n",
    "                          \"phosphate\": -1.0\n",
    "                         })\n",
    "reaction = Reaction('representative_quinone_flux')\n",
    "reaction.name = 'representative_quinone_flux'\n",
    "reaction.lower_bound = -1000.  # This is the default  \n",
    "reaction.upper_bound = 1000.  # This is the default\n",
    "M.add_reactions([reaction])\n",
    "reaction.add_metabolites({\"representative_quinone\": -1.0,\n",
    "                          \"ADP\": -1.0,\n",
    "                          \"ATP\": 1.0,\n",
    "                          \"phosphate\": -1.0\n",
    "                         })\n",
    "reaction = Reaction('norspermine_flux')\n",
    "reaction.name = 'norspermine_flux'\n",
    "reaction.lower_bound = -1000.  # This is the default  \n",
    "reaction.upper_bound = 1000.  # This is the default\n",
    "M.add_reactions([reaction])\n",
    "reaction.add_metabolites({\"norspermine\": -1.0,\n",
    "                          \"ADP\": -1.0,\n",
    "                          \"ATP\": 1.0,\n",
    "                          \"phosphate\": -1.0\n",
    "                         })\n",
    "M.objective = M.reactions.Biomass\n",
    "M.optimize()"
   ]
  },
  {
   "cell_type": "markdown",
   "metadata": {},
   "source": [
    "## Check biomass from the proposed fermentation pathway with adding the procusors"
   ]
  },
  {
   "cell_type": "markdown",
   "metadata": {},
   "source": [
    "### 0 protons can be pumped out, biomas will not be produced."
   ]
  },
  {
   "cell_type": "code",
   "execution_count": null,
   "metadata": {},
   "outputs": [],
   "source": [
    "M= model.copy()\n",
    "Psi = Metabolite(\n",
    "    'Psi',\n",
    "    formula='',\n",
    "    name='PSI is a unit of pressure expressed in pounds of force per square inch of area',\n",
    "    compartment='cytosol')\n",
    "M.reactions.get_by_id('T_symporter_(S)__lactic_acid').remove_from_model()\n",
    "reaction = Reaction('T_symporter_(S)__lactic_acid')\n",
    "reaction.name = 'T_symporter_(S)__lactic_acid'\n",
    "reaction.lower_bound = -1000.  # This is the default\n",
    "reaction.upper_bound = 1000.  # This is the default\n",
    "M.add_reactions([reaction])\n",
    "reaction.add_metabolites({\"(S)__lactic_acid\":-1.0,\n",
    "                         \"H+\":-0.0,\n",
    "                         \"(S)__lactic_acid_ex\":1.0,\n",
    "                           Psi: 0.0,\n",
    "                          \"H+_ex\":0.0})\n",
    "\n",
    "M.reactions.get_by_id(\"prot_prot__lactate\").bounds = (-1000,1000)\n",
    "\n",
    "# addubg the precusors \n",
    "M.reactions.get_by_id(\"T_flux_oxygen\").bounds = (0,0)\n",
    "M.reactions.NGAM.bounds = (0,1000)\n",
    "reaction = Reaction('coenzyme_B12_flux')\n",
    "reaction.name = 'coenzyme_B12_flux'\n",
    "reaction.lower_bound = -1000.  # This is the default  \n",
    "reaction.upper_bound = 1000.  # This is the default\n",
    "M.add_reactions([reaction])\n",
    "reaction.add_metabolites({\"coenzyme_B12\": -1.0,\n",
    "                          \"ADP\": -1.0,\n",
    "                          \"ATP\": 1.0,\n",
    "                          \"phosphate\": -1.0\n",
    "                         })\n",
    "reaction = Reaction('norspermidine_flux')\n",
    "reaction.name = 'norspermidine_flux'\n",
    "reaction.lower_bound = -1000.  # This is the default  \n",
    "reaction.upper_bound = 1000.  # This is the default\n",
    "M.add_reactions([reaction])\n",
    "reaction.add_metabolites({\"norspermidine\": -1.0,\n",
    "                          \"ADP\": -1.0,\n",
    "                          \"ATP\": 1.0,\n",
    "                          \"phosphate\": -1.0\n",
    "                         })\n",
    "reaction = Reaction('spermidine_flux')\n",
    "reaction.name = 'spermidine_flux'\n",
    "reaction.lower_bound = -1000.  # This is the default  \n",
    "reaction.upper_bound = 1000.  # This is the default\n",
    "M.add_reactions([reaction])\n",
    "reaction.add_metabolites({\"spermidine\": -1.0,\n",
    "                          \"ADP\": -1.0,\n",
    "                          \"ATP\": 1.0,\n",
    "                          \"phosphate\": -1.0\n",
    "                         })\n",
    "reaction = Reaction('thiamin_diphosphate_flux')\n",
    "reaction.name = 'thiamin_diphosphate_flux'\n",
    "reaction.lower_bound = -1000.  # This is the default  \n",
    "reaction.upper_bound = 1000.  # This is the default\n",
    "M.add_reactions([reaction])\n",
    "reaction.add_metabolites({\"thiamin_diphosphate\": -1.0,\n",
    "                          \"ADP\": -1.0,\n",
    "                          \"ATP\": 1.0,\n",
    "                          \"phosphate\": -1.0\n",
    "                         })\n",
    "reaction = Reaction('representative_quinone_flux')\n",
    "reaction.name = 'representative_quinone_flux'\n",
    "reaction.lower_bound = -1000.  # This is the default  \n",
    "reaction.upper_bound = 1000.  # This is the default\n",
    "M.add_reactions([reaction])\n",
    "reaction.add_metabolites({\"representative_quinone\": -1.0,\n",
    "                          \"ADP\": -1.0,\n",
    "                          \"ATP\": 1.0,\n",
    "                          \"phosphate\": -1.0\n",
    "                         })\n",
    "reaction = Reaction('norspermine_flux')\n",
    "reaction.name = 'norspermine_flux'\n",
    "reaction.lower_bound = -1000.  # This is the default  \n",
    "reaction.upper_bound = 1000.  # This is the default\n",
    "M.add_reactions([reaction])\n",
    "reaction.add_metabolites({\"norspermine\": -1.0,\n",
    "                          \"ADP\": -1.0,\n",
    "                          \"ATP\": 1.0,\n",
    "                          \"phosphate\": -1.0\n",
    "                         })\n",
    "M.objective = M.reactions.Biomass\n",
    "M.optimize()\n"
   ]
  },
  {
   "cell_type": "markdown",
   "metadata": {},
   "source": [
    "### 2 protons can be pumped out, 0.016 biomas will be produced."
   ]
  },
  {
   "cell_type": "code",
   "execution_count": null,
   "metadata": {},
   "outputs": [],
   "source": [
    "M= model.copy()\n",
    "Psi = Metabolite(\n",
    "    'Psi',\n",
    "    formula='',\n",
    "    name='PSI is a unit of pressure expressed in pounds of force per square inch of area',\n",
    "    compartment='cytosol')\n",
    "M.reactions.get_by_id('T_symporter_(S)__lactic_acid').remove_from_model()\n",
    "reaction = Reaction('T_symporter_(S)__lactic_acid')\n",
    "reaction.name = 'T_symporter_(S)__lactic_acid'\n",
    "reaction.lower_bound = -1000.  # This is the default\n",
    "reaction.upper_bound = 1000.  # This is the default\n",
    "M.add_reactions([reaction])\n",
    "reaction.add_metabolites({\"(S)__lactic_acid\":-1.0,\n",
    "                         \"H+\":-2.0,\n",
    "                         \"(S)__lactic_acid_ex\":1.0,\n",
    "                           Psi: 2.0,\n",
    "                          \"H+_ex\":2.0})\n",
    "\n",
    "M.reactions.get_by_id(\"prot_prot__lactate\").bounds = (-1000,1000)\n",
    "\n",
    "# addubg the precusors \n",
    "M.reactions.get_by_id(\"T_flux_oxygen\").bounds = (0,0)\n",
    "M.reactions.NGAM.bounds = (0,1000)\n",
    "reaction = Reaction('coenzyme_B12_flux')\n",
    "reaction.name = 'coenzyme_B12_flux'\n",
    "reaction.lower_bound = -1000.  # This is the default  \n",
    "reaction.upper_bound = 1000.  # This is the default\n",
    "M.add_reactions([reaction])\n",
    "reaction.add_metabolites({\"coenzyme_B12\": -1.0,\n",
    "                          \"ADP\": -1.0,\n",
    "                          \"ATP\": 1.0,\n",
    "                          \"phosphate\": -1.0\n",
    "                         })\n",
    "reaction = Reaction('norspermidine_flux')\n",
    "reaction.name = 'norspermidine_flux'\n",
    "reaction.lower_bound = -1000.  # This is the default  \n",
    "reaction.upper_bound = 1000.  # This is the default\n",
    "M.add_reactions([reaction])\n",
    "reaction.add_metabolites({\"norspermidine\": -1.0,\n",
    "                          \"ADP\": -1.0,\n",
    "                          \"ATP\": 1.0,\n",
    "                          \"phosphate\": -1.0\n",
    "                         })\n",
    "reaction = Reaction('spermidine_flux')\n",
    "reaction.name = 'spermidine_flux'\n",
    "reaction.lower_bound = -1000.  # This is the default  \n",
    "reaction.upper_bound = 1000.  # This is the default\n",
    "M.add_reactions([reaction])\n",
    "reaction.add_metabolites({\"spermidine\": -1.0,\n",
    "                          \"ADP\": -1.0,\n",
    "                          \"ATP\": 1.0,\n",
    "                          \"phosphate\": -1.0\n",
    "                         })\n",
    "reaction = Reaction('thiamin_diphosphate_flux')\n",
    "reaction.name = 'thiamin_diphosphate_flux'\n",
    "reaction.lower_bound = -1000.  # This is the default  \n",
    "reaction.upper_bound = 1000.  # This is the default\n",
    "M.add_reactions([reaction])\n",
    "reaction.add_metabolites({\"thiamin_diphosphate\": -1.0,\n",
    "                          \"ADP\": -1.0,\n",
    "                          \"ATP\": 1.0,\n",
    "                          \"phosphate\": -1.0\n",
    "                         })\n",
    "reaction = Reaction('representative_quinone_flux')\n",
    "reaction.name = 'representative_quinone_flux'\n",
    "reaction.lower_bound = -1000.  # This is the default  \n",
    "reaction.upper_bound = 1000.  # This is the default\n",
    "M.add_reactions([reaction])\n",
    "reaction.add_metabolites({\"representative_quinone\": -1.0,\n",
    "                          \"ADP\": -1.0,\n",
    "                          \"ATP\": 1.0,\n",
    "                          \"phosphate\": -1.0\n",
    "                         })\n",
    "reaction = Reaction('norspermine_flux')\n",
    "reaction.name = 'norspermine_flux'\n",
    "reaction.lower_bound = -1000.  # This is the default  \n",
    "reaction.upper_bound = 1000.  # This is the default\n",
    "M.add_reactions([reaction])\n",
    "reaction.add_metabolites({\"norspermine\": -1.0,\n",
    "                          \"ADP\": -1.0,\n",
    "                          \"ATP\": 1.0,\n",
    "                          \"phosphate\": -1.0\n",
    "                         })\n",
    "M.objective = M.reactions.Biomass\n",
    "M.optimize()\n"
   ]
  },
  {
   "cell_type": "markdown",
   "metadata": {},
   "source": [
    "### 4 protons can be pumped out, 0.029 biomas will be produced."
   ]
  },
  {
   "cell_type": "code",
   "execution_count": null,
   "metadata": {},
   "outputs": [],
   "source": [
    "M= model.copy()\n",
    "Psi = Metabolite(\n",
    "    'Psi',\n",
    "    formula='',\n",
    "    name='PSI is a unit of pressure expressed in pounds of force per square inch of area',\n",
    "    compartment='cytosol')\n",
    "M.reactions.get_by_id('T_symporter_(S)__lactic_acid').remove_from_model()\n",
    "reaction = Reaction('T_symporter_(S)__lactic_acid')\n",
    "reaction.name = 'T_symporter_(S)__lactic_acid'\n",
    "reaction.lower_bound = -1000.  # This is the default\n",
    "reaction.upper_bound = 1000.  # This is the default\n",
    "M.add_reactions([reaction])\n",
    "reaction.add_metabolites({\"(S)__lactic_acid\":-1.0,\n",
    "                         \"H+\":-4.0,\n",
    "                         \"(S)__lactic_acid_ex\":1.0,\n",
    "                           Psi: 4.0,\n",
    "                          \"H+_ex\":4.0})\n",
    "\n",
    "M.reactions.get_by_id(\"prot_prot__lactate\").bounds = (-1000,1000)\n",
    "\n",
    "# addubg the precusors \n",
    "M.reactions.get_by_id(\"T_flux_oxygen\").bounds = (0,0)\n",
    "M.reactions.NGAM.bounds = (0,1000)\n",
    "reaction = Reaction('coenzyme_B12_flux')\n",
    "reaction.name = 'coenzyme_B12_flux'\n",
    "reaction.lower_bound = -1000.  # This is the default  \n",
    "reaction.upper_bound = 1000.  # This is the default\n",
    "M.add_reactions([reaction])\n",
    "reaction.add_metabolites({\"coenzyme_B12\": -1.0,\n",
    "                          \"ADP\": -1.0,\n",
    "                          \"ATP\": 1.0,\n",
    "                          \"phosphate\": -1.0\n",
    "                         })\n",
    "reaction = Reaction('norspermidine_flux')\n",
    "reaction.name = 'norspermidine_flux'\n",
    "reaction.lower_bound = -1000.  # This is the default  \n",
    "reaction.upper_bound = 1000.  # This is the default\n",
    "M.add_reactions([reaction])\n",
    "reaction.add_metabolites({\"norspermidine\": -1.0,\n",
    "                          \"ADP\": -1.0,\n",
    "                          \"ATP\": 1.0,\n",
    "                          \"phosphate\": -1.0\n",
    "                         })\n",
    "reaction = Reaction('spermidine_flux')\n",
    "reaction.name = 'spermidine_flux'\n",
    "reaction.lower_bound = -1000.  # This is the default  \n",
    "reaction.upper_bound = 1000.  # This is the default\n",
    "M.add_reactions([reaction])\n",
    "reaction.add_metabolites({\"spermidine\": -1.0,\n",
    "                          \"ADP\": -1.0,\n",
    "                          \"ATP\": 1.0,\n",
    "                          \"phosphate\": -1.0\n",
    "                         })\n",
    "reaction = Reaction('thiamin_diphosphate_flux')\n",
    "reaction.name = 'thiamin_diphosphate_flux'\n",
    "reaction.lower_bound = -1000.  # This is the default  \n",
    "reaction.upper_bound = 1000.  # This is the default\n",
    "M.add_reactions([reaction])\n",
    "reaction.add_metabolites({\"thiamin_diphosphate\": -1.0,\n",
    "                          \"ADP\": -1.0,\n",
    "                          \"ATP\": 1.0,\n",
    "                          \"phosphate\": -1.0\n",
    "                         })\n",
    "reaction = Reaction('representative_quinone_flux')\n",
    "reaction.name = 'representative_quinone_flux'\n",
    "reaction.lower_bound = -1000.  # This is the default  \n",
    "reaction.upper_bound = 1000.  # This is the default\n",
    "M.add_reactions([reaction])\n",
    "reaction.add_metabolites({\"representative_quinone\": -1.0,\n",
    "                          \"ADP\": -1.0,\n",
    "                          \"ATP\": 1.0,\n",
    "                          \"phosphate\": -1.0\n",
    "                         })\n",
    "reaction = Reaction('norspermine_flux')\n",
    "reaction.name = 'norspermine_flux'\n",
    "reaction.lower_bound = -1000.  # This is the default  \n",
    "reaction.upper_bound = 1000.  # This is the default\n",
    "M.add_reactions([reaction])\n",
    "reaction.add_metabolites({\"norspermine\": -1.0,\n",
    "                          \"ADP\": -1.0,\n",
    "                          \"ATP\": 1.0,\n",
    "                          \"phosphate\": -1.0\n",
    "                         })\n",
    "M.objective = M.reactions.Biomass\n",
    "M.optimize()\n"
   ]
  },
  {
   "cell_type": "markdown",
   "metadata": {},
   "source": [
    "### 6 protons can be pumped out, 0.039 biomas will be produced."
   ]
  },
  {
   "cell_type": "code",
   "execution_count": null,
   "metadata": {},
   "outputs": [],
   "source": [
    "M= model.copy()\n",
    "Psi = Metabolite(\n",
    "    'Psi',\n",
    "    formula='',\n",
    "    name='PSI is a unit of pressure expressed in pounds of force per square inch of area',\n",
    "    compartment='cytosol')\n",
    "M.reactions.get_by_id('T_symporter_(S)__lactic_acid').remove_from_model()\n",
    "reaction = Reaction('T_symporter_(S)__lactic_acid')\n",
    "reaction.name = 'T_symporter_(S)__lactic_acid'\n",
    "reaction.lower_bound = -1000.  # This is the default\n",
    "reaction.upper_bound = 1000.  # This is the default\n",
    "M.add_reactions([reaction])\n",
    "reaction.add_metabolites({\"(S)__lactic_acid\":-1.0,\n",
    "                         \"H+\":-6.0,\n",
    "                         \"(S)__lactic_acid_ex\":1.0,\n",
    "                           Psi: 6.0,\n",
    "                          \"H+_ex\":6.0})\n",
    "\n",
    "M.reactions.get_by_id(\"prot_prot__lactate\").bounds = (-1000,1000)\n",
    "\n",
    "# addubg the precusors \n",
    "M.reactions.get_by_id(\"T_flux_oxygen\").bounds = (0,0)\n",
    "M.reactions.NGAM.bounds = (0,1000)\n",
    "reaction = Reaction('coenzyme_B12_flux')\n",
    "reaction.name = 'coenzyme_B12_flux'\n",
    "reaction.lower_bound = -1000.  # This is the default  \n",
    "reaction.upper_bound = 1000.  # This is the default\n",
    "M.add_reactions([reaction])\n",
    "reaction.add_metabolites({\"coenzyme_B12\": -1.0,\n",
    "                          \"ADP\": -1.0,\n",
    "                          \"ATP\": 1.0,\n",
    "                          \"phosphate\": -1.0\n",
    "                         })\n",
    "reaction = Reaction('norspermidine_flux')\n",
    "reaction.name = 'norspermidine_flux'\n",
    "reaction.lower_bound = -1000.  # This is the default  \n",
    "reaction.upper_bound = 1000.  # This is the default\n",
    "M.add_reactions([reaction])\n",
    "reaction.add_metabolites({\"norspermidine\": -1.0,\n",
    "                          \"ADP\": -1.0,\n",
    "                          \"ATP\": 1.0,\n",
    "                          \"phosphate\": -1.0\n",
    "                         })\n",
    "reaction = Reaction('spermidine_flux')\n",
    "reaction.name = 'spermidine_flux'\n",
    "reaction.lower_bound = -1000.  # This is the default  \n",
    "reaction.upper_bound = 1000.  # This is the default\n",
    "M.add_reactions([reaction])\n",
    "reaction.add_metabolites({\"spermidine\": -1.0,\n",
    "                          \"ADP\": -1.0,\n",
    "                          \"ATP\": 1.0,\n",
    "                          \"phosphate\": -1.0\n",
    "                         })\n",
    "reaction = Reaction('thiamin_diphosphate_flux')\n",
    "reaction.name = 'thiamin_diphosphate_flux'\n",
    "reaction.lower_bound = -1000.  # This is the default  \n",
    "reaction.upper_bound = 1000.  # This is the default\n",
    "M.add_reactions([reaction])\n",
    "reaction.add_metabolites({\"thiamin_diphosphate\": -1.0,\n",
    "                          \"ADP\": -1.0,\n",
    "                          \"ATP\": 1.0,\n",
    "                          \"phosphate\": -1.0\n",
    "                         })\n",
    "reaction = Reaction('representative_quinone_flux')\n",
    "reaction.name = 'representative_quinone_flux'\n",
    "reaction.lower_bound = -1000.  # This is the default  \n",
    "reaction.upper_bound = 1000.  # This is the default\n",
    "M.add_reactions([reaction])\n",
    "reaction.add_metabolites({\"representative_quinone\": -1.0,\n",
    "                          \"ADP\": -1.0,\n",
    "                          \"ATP\": 1.0,\n",
    "                          \"phosphate\": -1.0\n",
    "                         })\n",
    "reaction = Reaction('norspermine_flux')\n",
    "reaction.name = 'norspermine_flux'\n",
    "reaction.lower_bound = -1000.  # This is the default  \n",
    "reaction.upper_bound = 1000.  # This is the default\n",
    "M.add_reactions([reaction])\n",
    "reaction.add_metabolites({\"norspermine\": -1.0,\n",
    "                          \"ADP\": -1.0,\n",
    "                          \"ATP\": 1.0,\n",
    "                          \"phosphate\": -1.0\n",
    "                         })\n",
    "M.objective = M.reactions.Biomass\n",
    "M.optimize()\n"
   ]
  },
  {
   "cell_type": "markdown",
   "metadata": {},
   "source": [
    "in the presence of sulfate"
   ]
  },
  {
   "cell_type": "markdown",
   "metadata": {},
   "source": [
    "## Checking whether there are electron acceptors alternative to molecular oxygen "
   ]
  },
  {
   "cell_type": "markdown",
   "metadata": {},
   "source": [
    "### Check whether nitrite is being used in the model"
   ]
  },
  {
   "cell_type": "code",
   "execution_count": null,
   "metadata": {},
   "outputs": [],
   "source": [
    "for rxn in model.metabolites:\n",
    "    if \"nitrite\" in rxn.id:\n",
    "        print (\"rxn.id\")    "
   ]
  },
  {
   "cell_type": "markdown",
   "metadata": {},
   "source": [
    "### Check whether NO is being used in the model"
   ]
  },
  {
   "cell_type": "code",
   "execution_count": null,
   "metadata": {},
   "outputs": [],
   "source": [
    "for rxn in model.metabolites:\n",
    "    if \"NO\"  in rxn.id:\n",
    "        print (rxn.id)    "
   ]
  },
  {
   "cell_type": "markdown",
   "metadata": {},
   "source": [
    "### Check whether N2O is being used in the model"
   ]
  },
  {
   "cell_type": "code",
   "execution_count": null,
   "metadata": {},
   "outputs": [],
   "source": [
    "for rxn in model.metabolites:\n",
    "    if 'N2O'  in rxn.id:\n",
    "        print (rxn.id)    "
   ]
  },
  {
   "cell_type": "markdown",
   "metadata": {},
   "source": [
    "### Check whether sulfate is being used as electron acceptor in the model to produce ATP"
   ]
  },
  {
   "cell_type": "code",
   "execution_count": null,
   "metadata": {},
   "outputs": [],
   "source": [
    "M= model.copy()\n",
    "Psi = Metabolite(\n",
    "    'Psi',\n",
    "    formula='',\n",
    "    name='PSI is a unit of pressure expressed in pounds of force per square inch of area',\n",
    "    compartment='cytosol')\n",
    "M.reactions.get_by_id('T_symporter_(S)__lactic_acid').remove_from_model()\n",
    "reaction = Reaction('T_symporter_(S)__lactic_acid')\n",
    "reaction.name = 'T_symporter_(S)__lactic_acid'\n",
    "reaction.lower_bound = -1000.  # This is the default\n",
    "reaction.upper_bound = 1000.  # This is the default\n",
    "M.add_reactions([reaction])\n",
    "reaction.add_metabolites({\"(S)__lactic_acid\":-1.0,\n",
    "                         \"H+\":-0.0,\n",
    "                         \"(S)__lactic_acid_ex\":1.0,\n",
    "                           Psi: 0.0,\n",
    "                          \"H+_ex\":0.0})\n",
    "\n",
    "M.reactions.get_by_id(\"prot_prot__lactate\").bounds = (-1000,1000)\n",
    "\n",
    "M.reactions.get_by_id(\"T_flux_hydrogen_sulfide\").bounds = (-1000,1000)\n",
    "M.reactions.get_by_id(\"T_flux_oxygen\").bounds = (0,0)\n",
    "\n",
    "M.reactions.NGAM.bounds = (0,1000)\n",
    "\n",
    "M.objective = M.reactions.get_by_id('NGAM')\n",
    "sol = M.optimize()\n",
    "print (\"The pathways yield\",sol.fluxes.loc['NGAM'],\"ATP.\")"
   ]
  },
  {
   "cell_type": "code",
   "execution_count": null,
   "metadata": {},
   "outputs": [],
   "source": [
    "M= model.copy()\n",
    "Psi = Metabolite(\n",
    "    'Psi',\n",
    "    formula='',\n",
    "    name='PSI is a unit of pressure expressed in pounds of force per square inch of area',\n",
    "    compartment='cytosol')\n",
    "M.reactions.get_by_id('T_symporter_(S)__lactic_acid').remove_from_model()\n",
    "reaction = Reaction('T_symporter_(S)__lactic_acid')\n",
    "reaction.name = 'T_symporter_(S)__lactic_acid'\n",
    "reaction.lower_bound = -1000.  # This is the default\n",
    "reaction.upper_bound = 1000.  # This is the default\n",
    "M.add_reactions([reaction])\n",
    "reaction.add_metabolites({\"(S)__lactic_acid\":-1.0,\n",
    "                         \"H+\":-0.0,\n",
    "                         \"(S)__lactic_acid_ex\":1.0,\n",
    "                           Psi: 0.0,\n",
    "                          \"H+_ex\":0.0})\n",
    "\n",
    "M.reactions.get_by_id(\"prot_prot__lactate\").bounds = (-1000,1000)\n",
    "\n",
    "\n",
    "M.reactions.get_by_id(\"T_flux_hydrogen_sulfide\").bounds = (-1000,1000)\n",
    "M.reactions.get_by_id(\"T_flux_oxygen\").bounds = (0,0)\n",
    "\n",
    "M.reactions.NGAM.bounds = (0,1000)\n",
    "M.objective = M.reactions.get_by_id(\"NGAM\")\n",
    "sol = M.optimize()\n",
    "print (\"The pathways yield\", sol.fluxes.loc['NGAM'],\"ATP.\")"
   ]
  },
  {
   "cell_type": "markdown",
   "metadata": {},
   "source": [
    "### making the reaction 2.7.7.4 use ADP as co-substrate (rather than ATP) and phosphate as product, rather than PP. "
   ]
  },
  {
   "cell_type": "code",
   "execution_count": null,
   "metadata": {},
   "outputs": [],
   "source": [
    "M= model.copy()\n",
    "Psi = Metabolite(\n",
    "    'Psi',\n",
    "    formula='',\n",
    "    name='PSI is a unit of pressure expressed in pounds of force per square inch of area',\n",
    "    compartment='cytosol')\n",
    "M.reactions.get_by_id('T_symporter_(S)__lactic_acid').remove_from_model()\n",
    "reaction = Reaction('T_symporter_(S)__lactic_acid')\n",
    "reaction.name = 'T_symporter_(S)__lactic_acid'\n",
    "reaction.lower_bound = -1000.  # This is the default\n",
    "reaction.upper_bound = 1000.  # This is the default\n",
    "M.add_reactions([reaction])\n",
    "reaction.add_metabolites({\"(S)__lactic_acid\":-1.0,\n",
    "                         \"H+\":-0.0,\n",
    "                         \"(S)__lactic_acid_ex\":1.0,\n",
    "                           Psi: 0.0,\n",
    "                          \"H+_ex\":0.0})\n",
    "\n",
    "M.reactions.get_by_id(\"prot_prot__lactate\").bounds = (-1000,1000)\n",
    "\n",
    "M.reactions.get_by_id(\"sulf_2.7.7.4_SULFATE__ADENYLYLTRANS__RXN\").remove_from_model()\n",
    "reaction = Reaction('sulf_2.7.7.4_SULFATE__ADENYLYLTRANS__RXN')\n",
    "reaction.name = 'sulf_2.7.7.4_SULFATE__ADENYLYLTRANS__RXN'\n",
    "reaction.lower_bound = -1000.  # This is the default\n",
    "reaction.upper_bound = 1000.  # This is the default\n",
    "M.add_reactions([reaction])\n",
    "reaction.add_metabolites({\"ADP\":-1.0,\n",
    "                         \"sulfate\":-1.0,\n",
    "                         \"adenosine_5'__phosphosulfate\":1.0,\n",
    "                          \"phosphate\":1.0})\n",
    "M.reactions.get_by_id(\"T_flux_hydrogen_sulfide\").bounds = (-1000,1000)\n",
    "M.reactions.get_by_id(\"T_flux_oxygen\").bounds = (0,0)\n",
    "\n",
    "M.reactions.NGAM.bounds = (0,1000)\n",
    "M.objective = M.reactions.get_by_id(\"NGAM\")\n",
    "sol = M.optimize()\n",
    "print (\"The pathways yield\", sol.fluxes.loc['NGAM'],\"ATP.\")"
   ]
  }
 ],
 "metadata": {
  "kernelspec": {
   "display_name": "Python 3",
   "language": "python",
   "name": "python3"
  },
  "language_info": {
   "codemirror_mode": {
    "name": "ipython",
    "version": 3
   },
   "file_extension": ".py",
   "mimetype": "text/x-python",
   "name": "python",
   "nbconvert_exporter": "python",
   "pygments_lexer": "ipython3",
   "version": "3.6.9"
  },
  "toc": {
   "base_numbering": 1,
   "nav_menu": {},
   "number_sections": true,
   "sideBar": true,
   "skip_h1_title": false,
   "title_cell": "Table of Contents",
   "title_sidebar": "Contents",
   "toc_cell": false,
   "toc_position": {
    "height": "calc(100% - 180px)",
    "left": "10px",
    "top": "150px",
    "width": "398.141px"
   },
   "toc_section_display": true,
   "toc_window_display": true
  },
  "varInspector": {
   "cols": {
    "lenName": 16,
    "lenType": 16,
    "lenVar": 40
   },
   "kernels_config": {
    "python": {
     "delete_cmd_postfix": "",
     "delete_cmd_prefix": "del ",
     "library": "var_list.py",
     "varRefreshCmd": "print(var_dic_list())"
    },
    "r": {
     "delete_cmd_postfix": ") ",
     "delete_cmd_prefix": "rm(",
     "library": "var_list.r",
     "varRefreshCmd": "cat(var_dic_list()) "
    }
   },
   "types_to_exclude": [
    "module",
    "function",
    "builtin_function_or_method",
    "instance",
    "_Feature"
   ],
   "window_display": false
  }
 },
 "nbformat": 4,
 "nbformat_minor": 2
}
