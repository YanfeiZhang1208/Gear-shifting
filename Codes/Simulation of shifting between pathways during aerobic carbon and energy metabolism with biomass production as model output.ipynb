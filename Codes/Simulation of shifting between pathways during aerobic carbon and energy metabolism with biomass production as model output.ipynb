{
 "cells": [
  {
   "cell_type": "markdown",
   "metadata": {},
   "source": [
    "# Set the environment"
   ]
  },
  {
   "cell_type": "code",
   "execution_count": 1,
   "metadata": {},
   "outputs": [],
   "source": [
    "# set the envoiroment\n",
    "import cobra\n",
    "from cobra import Model, Reaction, Metabolite\n",
    "from cobra.flux_analysis import flux_variability_analysis\n",
    "import pandas as pd\n",
    "import numpy as np\n",
    "import matplotlib.pyplot as plt\n",
    "import glob\n",
    "import escher\n",
    "from escher import Builder\n",
    "from utils import show_map\n",
    "from utils.check_precursor_problem import check_precursor_problem\n"
   ]
  },
  {
   "cell_type": "markdown",
   "metadata": {},
   "source": [
    "## load the model"
   ]
  },
  {
   "cell_type": "code",
   "execution_count": 2,
   "metadata": {},
   "outputs": [],
   "source": [
    "model = cobra.io.load_json_model(\"../models/updated_model.json\")# Import the model.\n",
    "model.solver = 'glpk'\n",
    "model.reactions.NGAM.bounds = (1.9,1000)\n",
    "model.objective = model.reactions.Biomass\n",
    "map_loc = \"../data/overallmap.json\"\n",
    "map_loc1 = \"../data/7.21 overallmap.json\" #Import the map that has been drawn using escher."
   ]
  },
  {
   "cell_type": "markdown",
   "metadata": {},
   "source": [
    "## PK"
   ]
  },
  {
   "cell_type": "markdown",
   "metadata": {},
   "source": [
    "### PGK and GAPDH pathway + PK + SoxABCD"
   ]
  },
  {
   "cell_type": "code",
   "execution_count": 3,
   "metadata": {
    "scrolled": true
   },
   "outputs": [
    {
     "data": {
      "application/vnd.jupyter.widget-view+json": {
       "model_id": "7a0849a6832444a48f64db2a236a94a3",
       "version_major": 2,
       "version_minor": 0
      },
      "text/plain": [
       "Builder(hide_secondary_metabolites=False, highlight_missing=True, reaction_data={'Biomass': 0.071506, 'Biomass…"
      ]
     },
     "metadata": {},
     "output_type": "display_data"
    },
    {
     "name": "stdout",
     "output_type": "stream",
     "text": [
      "Biomass flux: 0.07150569777426968\n"
     ]
    }
   ],
   "source": [
    "M= model.copy()\n",
    "sol = M.optimize()\n",
    "l = sol.fluxes[abs(sol.fluxes)>1e-6].index\n",
    "print (\"Biomass flux:\", sol.fluxes.loc[\"Biomass\"])\n",
    "b = show_map(sol,map_loc)\n",
    "b"
   ]
  },
  {
   "cell_type": "markdown",
   "metadata": {},
   "source": [
    "### PGK and GAPDH pathway + PK + SoxM: Figure S9"
   ]
  },
  {
   "cell_type": "code",
   "execution_count": 4,
   "metadata": {},
   "outputs": [
    {
     "name": "stdout",
     "output_type": "stream",
     "text": [
      "Biomass flux: 0.05094562981098347\n"
     ]
    },
    {
     "data": {
      "application/vnd.jupyter.widget-view+json": {
       "model_id": "dc3b50258c6a4359b1557b2db42d2434",
       "version_major": 2,
       "version_minor": 0
      },
      "text/plain": [
       "Builder(hide_secondary_metabolites=False, highlight_missing=True, reaction_data={'Biomass': 0.050946, 'Biomass…"
      ]
     },
     "metadata": {},
     "output_type": "display_data"
    }
   ],
   "source": [
    "M= model.copy()\n",
    "M.reactions.get_by_id(\"oxp_redox_1.10.3.13_soxABCD_TRANS__RXN__240\").bounds = (0,0)\n",
    "sol = M.optimize()\n",
    "l = sol.fluxes[abs(sol.fluxes)>1e-6].index\n",
    "print (\"Biomass flux:\", sol.fluxes.loc[\"Biomass\"])\n",
    "b = show_map(sol,map_loc1)\n",
    "b"
   ]
  },
  {
   "cell_type": "code",
   "execution_count": 5,
   "metadata": {},
   "outputs": [],
   "source": [
    "model.reactions.get_by_id('cof_sulfopterin_6.3.4.3_FORMATETHFLIG__RXN').bounds = (0,0)"
   ]
  },
  {
   "cell_type": "markdown",
   "metadata": {},
   "source": [
    "### PGK and GAPDH pathway + PK + SoxM"
   ]
  },
  {
   "cell_type": "code",
   "execution_count": 6,
   "metadata": {
    "scrolled": true
   },
   "outputs": [
    {
     "name": "stdout",
     "output_type": "stream",
     "text": [
      "Biomass flux: 0.050872208992367114\n"
     ]
    },
    {
     "data": {
      "application/vnd.jupyter.widget-view+json": {
       "model_id": "8748b68947d94e01a3229fffaca214eb",
       "version_major": 2,
       "version_minor": 0
      },
      "text/plain": [
       "Builder(hide_secondary_metabolites=False, highlight_missing=True, reaction_data={'Biomass': 0.050872, 'Biomass…"
      ]
     },
     "metadata": {},
     "output_type": "display_data"
    }
   ],
   "source": [
    "M= model.copy()\n",
    "M.reactions.get_by_id(\"oxp_redox_1.10.3.13_soxABCD_TRANS__RXN__240\").bounds = (0,0)\n",
    "sol = M.optimize()\n",
    "l = sol.fluxes[abs(sol.fluxes)>1e-6].index\n",
    "print (\"Biomass flux:\", sol.fluxes.loc[\"Biomass\"])\n",
    "b = show_map(sol,map_loc)\n",
    "b"
   ]
  },
  {
   "cell_type": "markdown",
   "metadata": {},
   "source": [
    "### Sox ABCD + Non-phosphorylation pathway after blocking the reactions for KDGK\n",
    "    - There are two reactions for KDGK enzyme, after making the bounds to 0, the \n",
    "    non-phosphorylation pathway will be used. \n",
    "    \n",
    "    - In the figure we can see that GAPDH reactions will also be used, the reason for this is the NADPH produced in the GK reaction need to be changed to NADH, and these reactions are used for recycling of NADPH. "
   ]
  },
  {
   "cell_type": "code",
   "execution_count": 7,
   "metadata": {},
   "outputs": [
    {
     "name": "stdout",
     "output_type": "stream",
     "text": [
      "Biomass flux: 0.06566775263247296\n"
     ]
    },
    {
     "data": {
      "application/vnd.jupyter.widget-view+json": {
       "model_id": "cc399cc310d84fb79a979f620f467ca0",
       "version_major": 2,
       "version_minor": 0
      },
      "text/plain": [
       "Builder(hide_secondary_metabolites=False, highlight_missing=True, reaction_data={'Biomass': 0.065668, 'Biomass…"
      ]
     },
     "metadata": {},
     "output_type": "display_data"
    }
   ],
   "source": [
    "M= model.copy()\n",
    "# The following two reactions are the ones for KDGK reactions\n",
    "M.reactions.get_by_id('carb_entner_2.7.1.178_DEHYDDEOXGALACTKIN__RXN').bounds = (0,0)\n",
    "M.reactions.get_by_id('carb_entner_2.7.1.178_DEOXYGLUCONOKIN__RXN').bounds = (0,0)\n",
    "M.reactions.get_by_id('carb_enter_glucneo_2.7.2.3_PHOSGLYPHOS__RXN').bounds = (0,0)\n",
    "\n",
    "sol = M.optimize()\n",
    "print (\"Biomass flux:\", sol.fluxes.loc[\"Biomass\"])\n",
    "b = show_map(sol,map_loc)\n",
    "b"
   ]
  },
  {
   "cell_type": "markdown",
   "metadata": {},
   "source": [
    "### Sox M + Non-phosphorylation pathway after blocking the reactions for KDGK\n",
    "    - There are two reactions for KDGK enzyme, after making the bounds to 0, the \n",
    "    non-phosphorylation pathway will be used. \n",
    "    \n",
    "    - In the figure we can see that GAPDH reactions will also be used, the reason for this is the NADPH produced in the GK reaction need to be changed to NADH, and these reactions are used for recycling of NADPH. "
   ]
  },
  {
   "cell_type": "code",
   "execution_count": 8,
   "metadata": {},
   "outputs": [
    {
     "name": "stdout",
     "output_type": "stream",
     "text": [
      "Biomass flux: 0.042867313273416106\n"
     ]
    },
    {
     "data": {
      "application/vnd.jupyter.widget-view+json": {
       "model_id": "29e93134458f49cba56ae9e34e0a6aa0",
       "version_major": 2,
       "version_minor": 0
      },
      "text/plain": [
       "Builder(hide_secondary_metabolites=False, highlight_missing=True, reaction_data={'Biomass': 0.042867, 'Biomass…"
      ]
     },
     "metadata": {},
     "output_type": "display_data"
    }
   ],
   "source": [
    "M= model.copy()\n",
    "# The following two reactions are the ones for KDGK reactions\n",
    "M.reactions.get_by_id('carb_entner_2.7.1.178_DEHYDDEOXGALACTKIN__RXN').bounds = (0,0)\n",
    "M.reactions.get_by_id('carb_entner_2.7.1.178_DEOXYGLUCONOKIN__RXN').bounds = (0,0)\n",
    "M.reactions.get_by_id('carb_enter_glucneo_2.7.2.3_PHOSGLYPHOS__RXN').bounds = (0,0)\n",
    "M.reactions.get_by_id(\"oxp_redox_1.10.3.13_soxABCD_TRANS__RXN__240\").bounds = (0,0)\n",
    "\n",
    "sol = M.optimize()\n",
    "print (\"Biomass flux:\", sol.fluxes.loc[\"Biomass\"])\n",
    "b = show_map(sol,map_loc)\n",
    "b"
   ]
  },
  {
   "cell_type": "markdown",
   "metadata": {},
   "source": [
    "### SoxABCD + spontaneous degradation pathway after blocking the reaction for GK"
   ]
  },
  {
   "cell_type": "code",
   "execution_count": 9,
   "metadata": {},
   "outputs": [
    {
     "name": "stdout",
     "output_type": "stream",
     "text": [
      "Biomass flux: 0.06662926183436012\n"
     ]
    },
    {
     "data": {
      "application/vnd.jupyter.widget-view+json": {
       "model_id": "2ec95ce7551142faa5c53a14a06c664e",
       "version_major": 2,
       "version_minor": 0
      },
      "text/plain": [
       "Builder(hide_secondary_metabolites=False, highlight_missing=True, reaction_data={'Biomass': 0.066629, 'Biomass…"
      ]
     },
     "metadata": {},
     "output_type": "display_data"
    }
   ],
   "source": [
    "M= model.copy()\n",
    "M.reactions.get_by_id('carb_enter_glucneo_2.7.2.3_PHOSGLYPHOS__RXN').bounds = (0,0)\n",
    "M.reactions.get_by_id('carb_entner_2.7.1.165_GKI__RXN').bounds = (0,0)\n",
    "\n",
    "sol = M.optimize()\n",
    "print (\"Biomass flux:\", sol.fluxes.loc[\"Biomass\"])\n",
    "b = show_map(sol,map_loc)\n",
    "b"
   ]
  },
  {
   "cell_type": "markdown",
   "metadata": {},
   "source": [
    "### SoxM + spontaneous degradation pathway after blocking the reaction for GK"
   ]
  },
  {
   "cell_type": "code",
   "execution_count": 10,
   "metadata": {},
   "outputs": [
    {
     "name": "stdout",
     "output_type": "stream",
     "text": [
      "Biomass flux: 0.04354817645740722\n"
     ]
    },
    {
     "data": {
      "application/vnd.jupyter.widget-view+json": {
       "model_id": "3826273024dc4dd9a3eed5a1ae73553c",
       "version_major": 2,
       "version_minor": 0
      },
      "text/plain": [
       "Builder(hide_secondary_metabolites=False, highlight_missing=True, reaction_data={'Biomass': 0.043548, 'Biomass…"
      ]
     },
     "metadata": {},
     "output_type": "display_data"
    }
   ],
   "source": [
    "M= model.copy()\n",
    "M.reactions.get_by_id('carb_enter_glucneo_2.7.2.3_PHOSGLYPHOS__RXN').bounds = (0,0)\n",
    "M.reactions.get_by_id('carb_entner_2.7.1.165_GKI__RXN').bounds = (0,0)\n",
    "M.reactions.get_by_id(\"oxp_redox_1.10.3.13_soxABCD_TRANS__RXN__240\").bounds = (0,0)\n",
    "sol = M.optimize()\n",
    "l = sol.fluxes[abs(sol.fluxes)>1e-6].index\n",
    "print (\"Biomass flux:\", sol.fluxes.loc[\"Biomass\"])\n",
    "b = show_map(sol,map_loc)\n",
    "b"
   ]
  },
  {
   "cell_type": "markdown",
   "metadata": {},
   "source": [
    "### SoxABCD + GAPN pathway after blocking GKI, spondegradation for BPG.\n",
    "      - In the figure we can see that GAPDH reactions will also be used, the reason for this is the NADPH produced in the GAPN reaction need to be changed to NADH, and these reactions are used for recycling of NADPH. "
   ]
  },
  {
   "cell_type": "code",
   "execution_count": 11,
   "metadata": {},
   "outputs": [
    {
     "name": "stdout",
     "output_type": "stream",
     "text": [
      "Biomass flux: 0.0666292618343594\n"
     ]
    },
    {
     "data": {
      "application/vnd.jupyter.widget-view+json": {
       "model_id": "e73ff72984334252a96eb9172c7e9840",
       "version_major": 2,
       "version_minor": 0
      },
      "text/plain": [
       "Builder(hide_secondary_metabolites=False, highlight_missing=True, reaction_data={'Biomass': 0.066629, 'Biomass…"
      ]
     },
     "metadata": {},
     "output_type": "display_data"
    }
   ],
   "source": [
    "M= model.copy()\n",
    "M.reactions.get_by_id('carb_entner_2.7.1.165_GKI__RXN').bounds = (0,0)\n",
    "M.reactions.get_by_id('other_no__pathway_3.6.1.7_BS165362').bounds = (0,0)\n",
    "M.reactions.get_by_id('carb_enter_glucneo_2.7.2.3_PHOSGLYPHOS__RXN').bounds = (0,0)\n",
    "\n",
    "sol = M.optimize()\n",
    "print (\"Biomass flux:\", sol.fluxes.loc[\"Biomass\"])\n",
    "b = show_map(sol,map_loc)\n",
    "b"
   ]
  },
  {
   "cell_type": "markdown",
   "metadata": {},
   "source": [
    "### SoxM + GAPN pathway after blocking GKI, spondegradation for BPG.\n",
    "      - In the figure we can see that GAPDH reactions will also be used, the reason for this is the NADPH produced in the GAPN reaction need to be changed to NADH, and these reactions are used for recycling of NADPH. "
   ]
  },
  {
   "cell_type": "code",
   "execution_count": 12,
   "metadata": {},
   "outputs": [
    {
     "name": "stdout",
     "output_type": "stream",
     "text": [
      "Biomass flux: 0.043548176457406974\n"
     ]
    },
    {
     "data": {
      "application/vnd.jupyter.widget-view+json": {
       "model_id": "6be56d23dbb74b658108b6b5f68dee00",
       "version_major": 2,
       "version_minor": 0
      },
      "text/plain": [
       "Builder(hide_secondary_metabolites=False, highlight_missing=True, reaction_data={'Biomass': 0.043548, 'Biomass…"
      ]
     },
     "metadata": {},
     "output_type": "display_data"
    }
   ],
   "source": [
    "M= model.copy()\n",
    "M.reactions.get_by_id('carb_entner_2.7.1.165_GKI__RXN').bounds = (0,0)\n",
    "M.reactions.get_by_id('other_no__pathway_3.6.1.7_BS165362').bounds = (0,0)\n",
    "M.reactions.get_by_id('carb_enter_glucneo_2.7.2.3_PHOSGLYPHOS__RXN').bounds = (0,0)\n",
    "M.reactions.get_by_id(\"oxp_redox_1.10.3.13_soxABCD_TRANS__RXN__240\").bounds = (0,0)\n",
    "sol = M.optimize()\n",
    "print (\"Biomass flux:\", sol.fluxes.loc[\"Biomass\"])\n",
    "b = show_map(sol,map_loc)\n",
    "b"
   ]
  },
  {
   "cell_type": "markdown",
   "metadata": {},
   "source": [
    "### SoxABCD+ methyxol"
   ]
  },
  {
   "cell_type": "code",
   "execution_count": 13,
   "metadata": {},
   "outputs": [
    {
     "name": "stdout",
     "output_type": "stream",
     "text": [
      "Biomass flux: 0.05190734176769568\n"
     ]
    },
    {
     "data": {
      "application/vnd.jupyter.widget-view+json": {
       "model_id": "6b08c024238b4962b56f46e12ae23649",
       "version_major": 2,
       "version_minor": 0
      },
      "text/plain": [
       "Builder(hide_secondary_metabolites=False, highlight_missing=True, reaction_data={'Biomass': 0.051907, 'Biomass…"
      ]
     },
     "metadata": {},
     "output_type": "display_data"
    }
   ],
   "source": [
    "M= model.copy()\n",
    "M.reactions.get_by_id('carb_entner_2.7.1.165_GKI__RXN').bounds = (0,0)\n",
    "M.reactions.get_by_id('other_no__pathway_3.6.1.7_BS165362').bounds = (0,0)\n",
    "M.reactions.get_by_id('carb_enter_glucneo_2.7.2.3_PHOSGLYPHOS__RXN').bounds = (0,0)\n",
    "M.reactions.get_by_id('carb_enter_glucneo_1.2.1.9_1.2.1.9__RXN').bounds = (0,0)\n",
    "sol = M.optimize()\n",
    "print (\"Biomass flux:\", sol.fluxes.loc[\"Biomass\"])\n",
    "b = show_map(sol,map_loc)\n",
    "b"
   ]
  },
  {
   "cell_type": "markdown",
   "metadata": {},
   "source": [
    "### SoxM + methyxol"
   ]
  },
  {
   "cell_type": "code",
   "execution_count": 14,
   "metadata": {},
   "outputs": [
    {
     "name": "stdout",
     "output_type": "stream",
     "text": [
      "Biomass flux: 0.02779722293481216\n"
     ]
    },
    {
     "data": {
      "application/vnd.jupyter.widget-view+json": {
       "model_id": "9331aee905aa4ac8b3ad651f4dfb867a",
       "version_major": 2,
       "version_minor": 0
      },
      "text/plain": [
       "Builder(hide_secondary_metabolites=False, highlight_missing=True, reaction_data={'Biomass': 0.027797, 'Biomass…"
      ]
     },
     "metadata": {},
     "output_type": "display_data"
    }
   ],
   "source": [
    "M= model.copy()\n",
    "M.reactions.get_by_id('carb_entner_2.7.1.165_GKI__RXN').bounds = (0,0)\n",
    "M.reactions.get_by_id('other_no__pathway_3.6.1.7_BS165362').bounds = (0,0)\n",
    "M.reactions.get_by_id('carb_enter_glucneo_2.7.2.3_PHOSGLYPHOS__RXN').bounds = (0,0)\n",
    "M.reactions.get_by_id('carb_enter_glucneo_1.2.1.9_1.2.1.9__RXN').bounds = (0,0)\n",
    "M.reactions.get_by_id(\"oxp_redox_1.10.3.13_soxABCD_TRANS__RXN__240\").bounds = (0,0)\n",
    "sol = M.optimize()\n",
    "print (\"Biomass flux:\", sol.fluxes.loc[\"Biomass\"])\n",
    "b = show_map(sol,map_loc)\n",
    "b"
   ]
  },
  {
   "cell_type": "markdown",
   "metadata": {},
   "source": [
    "## PEP carboxlyse + PEP synthesis:  pathway 2"
   ]
  },
  {
   "cell_type": "markdown",
   "metadata": {},
   "source": [
    "### SoxABCD PGK and GAPDH pathway + SoxABCD"
   ]
  },
  {
   "cell_type": "code",
   "execution_count": 15,
   "metadata": {},
   "outputs": [],
   "source": [
    "model.reactions.get_by_id (\"aa_ser_gly_cys_sec_trp_1.1.1.95_PGLYCDEHYDROG__RXN\").bounds = (0,0)"
   ]
  },
  {
   "cell_type": "code",
   "execution_count": 16,
   "metadata": {
    "scrolled": true
   },
   "outputs": [
    {
     "name": "stdout",
     "output_type": "stream",
     "text": [
      "Biomass flux: 0.0\n"
     ]
    },
    {
     "data": {
      "application/vnd.jupyter.widget-view+json": {
       "model_id": "f1bd47ee72034cf2983868880ea0c5c7",
       "version_major": 2,
       "version_minor": 0
      },
      "text/plain": [
       "Builder(hide_secondary_metabolites=False, highlight_missing=True, reaction_data={'Biomass': 0.0, 'Biomass__fuc…"
      ]
     },
     "metadata": {},
     "output_type": "display_data"
    }
   ],
   "source": [
    "M= model.copy()\n",
    "M.reactions.get_by_id(\"carb_enter_2.7.1.40_PEPDEPHOS__RXN\").bounds = (0,0)\n",
    "sol = M.optimize()\n",
    "print (\"Biomass flux:\", sol.fluxes.loc[\"Biomass\"])\n",
    "b = show_map(sol,map_loc)\n",
    "b"
   ]
  },
  {
   "cell_type": "markdown",
   "metadata": {},
   "source": [
    "### SoxM PGK and GAPDH pathway + PK + SoxM"
   ]
  },
  {
   "cell_type": "code",
   "execution_count": 17,
   "metadata": {
    "scrolled": true
   },
   "outputs": [
    {
     "name": "stdout",
     "output_type": "stream",
     "text": [
      "Biomass flux: 7.164214123370604e-32\n"
     ]
    },
    {
     "data": {
      "application/vnd.jupyter.widget-view+json": {
       "model_id": "0a7a2d7302e4436a82a3a9ce7458283b",
       "version_major": 2,
       "version_minor": 0
      },
      "text/plain": [
       "Builder(hide_secondary_metabolites=False, highlight_missing=True, reaction_data={'Biomass': 0.0, 'Biomass__fuc…"
      ]
     },
     "metadata": {},
     "output_type": "display_data"
    }
   ],
   "source": [
    "M= model.copy()\n",
    "M.reactions.get_by_id(\"oxp_redox_1.10.3.13_soxABCD_TRANS__RXN__240\").bounds = (0,0)\n",
    "M.reactions.get_by_id(\"carb_enter_2.7.1.40_PEPDEPHOS__RXN\").bounds = (0,0)\n",
    "sol = M.optimize()\n",
    "print (\"Biomass flux:\", sol.fluxes.loc[\"Biomass\"])\n",
    "b = show_map(sol,map_loc)\n",
    "b"
   ]
  },
  {
   "cell_type": "markdown",
   "metadata": {},
   "source": [
    "### Sox ABCD + Non-phosphorylation pathway after blocking the reactions for KDGK\n",
    "    - There are two reactions for KDGK enzyme, after making the bounds to 0, the \n",
    "    non-phosphorylation pathway will be used. \n",
    "    \n",
    "    - In the figure we can see that GAPDH reactions will also be used, the reason for this is the NADPH produced in the GK reaction need to be changed to NADH, and these reactions are used for recycling of NADPH. "
   ]
  },
  {
   "cell_type": "code",
   "execution_count": 18,
   "metadata": {},
   "outputs": [
    {
     "name": "stdout",
     "output_type": "stream",
     "text": [
      "Biomass flux: 0.0\n"
     ]
    },
    {
     "data": {
      "application/vnd.jupyter.widget-view+json": {
       "model_id": "670cc9922a5a4cce8fd2858f2639cf5c",
       "version_major": 2,
       "version_minor": 0
      },
      "text/plain": [
       "Builder(hide_secondary_metabolites=False, highlight_missing=True, reaction_data={'Biomass': 0.0, 'Biomass__fuc…"
      ]
     },
     "metadata": {},
     "output_type": "display_data"
    }
   ],
   "source": [
    "M= model.copy()\n",
    "# The following two reactions are the ones for KDGK reactions\n",
    "M.reactions.get_by_id('carb_entner_2.7.1.178_DEHYDDEOXGALACTKIN__RXN').bounds = (0,0)\n",
    "M.reactions.get_by_id('carb_entner_2.7.1.178_DEOXYGLUCONOKIN__RXN').bounds = (0,0)\n",
    "M.reactions.get_by_id('carb_enter_glucneo_2.7.2.3_PHOSGLYPHOS__RXN').bounds = (0,0)\n",
    "M.reactions.get_by_id(\"carb_enter_2.7.1.40_PEPDEPHOS__RXN\").bounds = (0,0)\n",
    "\n",
    "sol = M.optimize()\n",
    "print (\"Biomass flux:\", sol.fluxes.loc[\"Biomass\"])\n",
    "b = show_map(sol,map_loc)\n",
    "b"
   ]
  },
  {
   "cell_type": "markdown",
   "metadata": {},
   "source": [
    "### Sox M + Non-phosphorylation pathway after blocking the reactions for KDGK\n",
    "    - There are two reactions for KDGK enzyme, after making the bounds to 0, the \n",
    "    non-phosphorylation pathway will be used. \n",
    "    \n",
    "    - In the figure we can see that GAPDH reactions will also be used, the reason for this is the NADPH produced in the GK reaction need to be changed to NADH, and these reactions are used for recycling of NADPH. "
   ]
  },
  {
   "cell_type": "code",
   "execution_count": 19,
   "metadata": {},
   "outputs": [
    {
     "name": "stdout",
     "output_type": "stream",
     "text": [
      "Biomass flux: -4.34543890729033e-18\n"
     ]
    },
    {
     "data": {
      "application/vnd.jupyter.widget-view+json": {
       "model_id": "f0c618b09cc746289a3f3063432ddc10",
       "version_major": 2,
       "version_minor": 0
      },
      "text/plain": [
       "Builder(hide_secondary_metabolites=False, highlight_missing=True, reaction_data={'Biomass': -0.0, 'Biomass__fu…"
      ]
     },
     "metadata": {},
     "output_type": "display_data"
    }
   ],
   "source": [
    "M= model.copy()\n",
    "# The following two reactions are the ones for KDGK reactions\n",
    "M.reactions.get_by_id('carb_entner_2.7.1.178_DEHYDDEOXGALACTKIN__RXN').bounds = (0,0)\n",
    "M.reactions.get_by_id('carb_entner_2.7.1.178_DEOXYGLUCONOKIN__RXN').bounds = (0,0)\n",
    "M.reactions.get_by_id('carb_enter_glucneo_2.7.2.3_PHOSGLYPHOS__RXN').bounds = (0,0)\n",
    "M.reactions.get_by_id(\"carb_enter_2.7.1.40_PEPDEPHOS__RXN\").bounds = (0,0)\n",
    "M.reactions.get_by_id(\"oxp_redox_1.10.3.13_soxABCD_TRANS__RXN__240\").bounds = (0,0)\n",
    "\n",
    "sol = M.optimize()\n",
    "print (\"Biomass flux:\", sol.fluxes.loc[\"Biomass\"])\n",
    "b = show_map(sol,map_loc)\n",
    "b"
   ]
  },
  {
   "cell_type": "markdown",
   "metadata": {},
   "source": [
    "### SoxABCD + spontaneous degradation pathway after blocking the reaction for GK"
   ]
  },
  {
   "cell_type": "code",
   "execution_count": 20,
   "metadata": {},
   "outputs": [
    {
     "name": "stdout",
     "output_type": "stream",
     "text": [
      "Biomass flux: 3.675684133306823e-17\n"
     ]
    },
    {
     "data": {
      "application/vnd.jupyter.widget-view+json": {
       "model_id": "c1b35aad520b44f2b0346e434b1e3399",
       "version_major": 2,
       "version_minor": 0
      },
      "text/plain": [
       "Builder(hide_secondary_metabolites=False, highlight_missing=True, reaction_data={'Biomass': 0.0, 'Biomass__fuc…"
      ]
     },
     "metadata": {},
     "output_type": "display_data"
    }
   ],
   "source": [
    "M= model.copy()\n",
    "M.reactions.get_by_id('carb_enter_glucneo_2.7.2.3_PHOSGLYPHOS__RXN').bounds = (0,0)\n",
    "M.reactions.get_by_id('carb_entner_2.7.1.165_GKI__RXN').bounds = (0,0)\n",
    "M.reactions.get_by_id(\"carb_enter_2.7.1.40_PEPDEPHOS__RXN\").bounds = (0,0)\n",
    "sol = M.optimize()\n",
    "l = sol.fluxes[abs(sol.fluxes)>1e-6].index\n",
    "print (\"Biomass flux:\", sol.fluxes.loc[\"Biomass\"])\n",
    "b = show_map(sol,map_loc)\n",
    "b"
   ]
  },
  {
   "cell_type": "markdown",
   "metadata": {},
   "source": [
    "### SoxM + spontaneous degradation pathway after blocking the reaction for GK"
   ]
  },
  {
   "cell_type": "code",
   "execution_count": 21,
   "metadata": {},
   "outputs": [
    {
     "name": "stdout",
     "output_type": "stream",
     "text": [
      "Biomass flux: 0.0\n"
     ]
    },
    {
     "data": {
      "application/vnd.jupyter.widget-view+json": {
       "model_id": "9f6ce66c1a3144aeb8e516bc500dbf67",
       "version_major": 2,
       "version_minor": 0
      },
      "text/plain": [
       "Builder(hide_secondary_metabolites=False, highlight_missing=True, reaction_data={'Biomass': 0.0, 'Biomass__fuc…"
      ]
     },
     "metadata": {},
     "output_type": "display_data"
    }
   ],
   "source": [
    "M= model.copy()\n",
    "M.reactions.get_by_id('carb_enter_glucneo_2.7.2.3_PHOSGLYPHOS__RXN').bounds = (0,0)\n",
    "M.reactions.get_by_id('carb_entner_2.7.1.165_GKI__RXN').bounds = (0,0)\n",
    "M.reactions.get_by_id(\"carb_enter_2.7.1.40_PEPDEPHOS__RXN\").bounds = (0,0)\n",
    "M.reactions.get_by_id(\"oxp_redox_1.10.3.13_soxABCD_TRANS__RXN__240\").bounds = (0,0)\n",
    "sol = M.optimize()\n",
    "\n",
    "print (\"Biomass flux:\", sol.fluxes.loc[\"Biomass\"])\n",
    "b = show_map(sol,map_loc)\n",
    "b"
   ]
  },
  {
   "cell_type": "markdown",
   "metadata": {},
   "source": [
    "### SoxABCD + GAPN pathway after blocking GKI, spondegradation for BPG.\n",
    "      - In the figure we can see that GAPDH reactions will also be used, the reason for this is the NADPH produced in the GAPN reaction need to be changed to NADH, and these reactions are used for recycling of NADPH. "
   ]
  },
  {
   "cell_type": "code",
   "execution_count": 22,
   "metadata": {},
   "outputs": [
    {
     "name": "stdout",
     "output_type": "stream",
     "text": [
      "Biomass flux: -6.810881666829718e-18\n"
     ]
    },
    {
     "data": {
      "application/vnd.jupyter.widget-view+json": {
       "model_id": "24fa02f95753497fb1c00223eeb1a692",
       "version_major": 2,
       "version_minor": 0
      },
      "text/plain": [
       "Builder(hide_secondary_metabolites=False, highlight_missing=True, reaction_data={'Biomass': -0.0, 'Biomass__fu…"
      ]
     },
     "metadata": {},
     "output_type": "display_data"
    }
   ],
   "source": [
    "M= model.copy()\n",
    "M.reactions.get_by_id('carb_entner_2.7.1.165_GKI__RXN').bounds = (0,0)\n",
    "M.reactions.get_by_id('other_no__pathway_3.6.1.7_BS165362').bounds = (0,0)\n",
    "M.reactions.get_by_id('carb_enter_glucneo_2.7.2.3_PHOSGLYPHOS__RXN').bounds = (0,0)\n",
    "M.reactions.get_by_id(\"carb_enter_2.7.1.40_PEPDEPHOS__RXN\").bounds = (0,0)\n",
    "sol = M.optimize()\n",
    "print (\"Biomass flux:\", sol.fluxes.loc[\"Biomass\"])\n",
    "b = show_map(sol,map_loc)\n",
    "b"
   ]
  },
  {
   "cell_type": "markdown",
   "metadata": {},
   "source": [
    "### SoxM + GAPN pathway after blocking GKI, spondegradation for BPG.\n",
    "      - In the figure we can see that GAPDH reactions will also be used, the reason for this is the NADPH produced in the GAPN reaction need to be changed to NADH, and these reactions are used for recycling of NADPH. "
   ]
  },
  {
   "cell_type": "code",
   "execution_count": 23,
   "metadata": {},
   "outputs": [
    {
     "name": "stdout",
     "output_type": "stream",
     "text": [
      "Biomass flux: -1.6545925916188108e-17\n"
     ]
    },
    {
     "data": {
      "application/vnd.jupyter.widget-view+json": {
       "model_id": "4627fc0ee34d48819bbe77e22d1b1578",
       "version_major": 2,
       "version_minor": 0
      },
      "text/plain": [
       "Builder(hide_secondary_metabolites=False, highlight_missing=True, reaction_data={'Biomass': -0.0, 'Biomass__fu…"
      ]
     },
     "metadata": {},
     "output_type": "display_data"
    }
   ],
   "source": [
    "M= model.copy()\n",
    "M.reactions.get_by_id('carb_entner_2.7.1.165_GKI__RXN').bounds = (0,0)\n",
    "M.reactions.get_by_id('other_no__pathway_3.6.1.7_BS165362').bounds = (0,0)\n",
    "M.reactions.get_by_id('carb_enter_glucneo_2.7.2.3_PHOSGLYPHOS__RXN').bounds = (0,0)\n",
    "M.reactions.get_by_id(\"carb_enter_2.7.1.40_PEPDEPHOS__RXN\").bounds = (0,0)\n",
    "M.reactions.get_by_id(\"oxp_redox_1.10.3.13_soxABCD_TRANS__RXN__240\").bounds = (0,0)\n",
    "sol = M.optimize()\n",
    "print (\"Biomass flux:\", sol.fluxes.loc[\"Biomass\"])\n",
    "b = show_map(sol,map_loc)\n",
    "b"
   ]
  },
  {
   "cell_type": "markdown",
   "metadata": {},
   "source": [
    "## blocking PEP carboxlyse + PEP synthesis:  pathway 3"
   ]
  },
  {
   "cell_type": "markdown",
   "metadata": {},
   "source": [
    "### SoxABCD PGK and GAPDH pathway + SoxABCD"
   ]
  },
  {
   "cell_type": "code",
   "execution_count": 24,
   "metadata": {},
   "outputs": [],
   "source": [
    "reaction = Reaction('aa_ser_gly_thr_4.3.1.19_L_SERINE_AMMONIA_LYASE_RXN')\n",
    "reaction.name = 'aa_ser_gly_thr_4.3.1.19_L_SERINE_AMMONIA_LYASE_RXN'\n",
    "reaction.lower_bound = 0.  # This is the default\n",
    "reaction.upper_bound = 1000.  # This is the default\n",
    "model.add_reactions([reaction])\n",
    "reaction.add_metabolites({\"L__serine\":-1.0,\n",
    "                         \"pyruvate\":1.0,\n",
    "                         \"ammonia\": 1.0})\n",
    "model.reactions.get_by_id('aa_met_salvage_4.2.1.22_CYSTATHIONINE__BETA__SYNTHASE__RXN').bounds = (0,0)# these two reactions do not exist in this organism"
   ]
  },
  {
   "cell_type": "code",
   "execution_count": 25,
   "metadata": {},
   "outputs": [],
   "source": [
    "model.reactions.get_by_id(\"carb_anap_4.1.1.31_PEPCARBOX__RXN\").bounds = (0,0)\n",
    "model.reactions.get_by_id(\"aa_ser_gly_cys_sec_trp_1.1.1.95_PGLYCDEHYDROG__RXN\").bounds = (0,10)"
   ]
  },
  {
   "cell_type": "code",
   "execution_count": 26,
   "metadata": {
    "scrolled": true
   },
   "outputs": [
    {
     "name": "stdout",
     "output_type": "stream",
     "text": [
      "Biomass flux: 0.06750586356686311\n"
     ]
    },
    {
     "data": {
      "application/vnd.jupyter.widget-view+json": {
       "model_id": "098b1b0a4eb24db9abd5dc9850fc99e4",
       "version_major": 2,
       "version_minor": 0
      },
      "text/plain": [
       "Builder(hide_secondary_metabolites=False, highlight_missing=True, reaction_data={'Biomass': 0.067506, 'Biomass…"
      ]
     },
     "metadata": {},
     "output_type": "display_data"
    }
   ],
   "source": [
    "M= model.copy()\n",
    "M.reactions.get_by_id(\"carb_enter_2.7.1.40_PEPDEPHOS__RXN\").bounds = (0,0)\n",
    "sol = M.optimize()\n",
    "print (\"Biomass flux:\", sol.fluxes.loc[\"Biomass\"])\n",
    "b = show_map(sol,map_loc)\n",
    "b"
   ]
  },
  {
   "cell_type": "markdown",
   "metadata": {},
   "source": [
    "### SoxM PGK and GAPDH pathway + PK + SoxM"
   ]
  },
  {
   "cell_type": "code",
   "execution_count": 27,
   "metadata": {
    "scrolled": false
   },
   "outputs": [
    {
     "name": "stdout",
     "output_type": "stream",
     "text": [
      "Biomass flux: 0.044367746303049814\n"
     ]
    },
    {
     "data": {
      "application/vnd.jupyter.widget-view+json": {
       "model_id": "72427c66fd1443a09114353ce65aad3d",
       "version_major": 2,
       "version_minor": 0
      },
      "text/plain": [
       "Builder(hide_secondary_metabolites=False, highlight_missing=True, reaction_data={'Biomass': 0.044368, 'Biomass…"
      ]
     },
     "metadata": {},
     "output_type": "display_data"
    }
   ],
   "source": [
    "M= model.copy()\n",
    "M.reactions.get_by_id(\"oxp_redox_1.10.3.13_soxABCD_TRANS__RXN__240\").bounds = (0,0)\n",
    "M.reactions.get_by_id(\"carb_enter_2.7.1.40_PEPDEPHOS__RXN\").bounds = (0,0)\n",
    "sol = M.optimize()\n",
    "print (\"Biomass flux:\", sol.fluxes.loc[\"Biomass\"])\n",
    "b = show_map(sol,map_loc)\n",
    "b"
   ]
  },
  {
   "cell_type": "markdown",
   "metadata": {},
   "source": [
    "### Sox ABCD + Non-phosphorylation pathway after blocking the reactions for KDGK\n",
    "    - There are two reactions for KDGK enzyme, after making the bounds to 0, the \n",
    "    non-phosphorylation pathway will be used. \n",
    "    \n",
    "    - In the figure we can see that GAPDH reactions will also be used, the reason for this is the NADPH produced in the GK reaction need to be changed to NADH, and these reactions are used for recycling of NADPH. "
   ]
  },
  {
   "cell_type": "code",
   "execution_count": 28,
   "metadata": {},
   "outputs": [
    {
     "name": "stdout",
     "output_type": "stream",
     "text": [
      "Biomass flux: 0.06155803751483595\n"
     ]
    },
    {
     "data": {
      "application/vnd.jupyter.widget-view+json": {
       "model_id": "b47cdc47f29c443d8ec7c603fdea19e4",
       "version_major": 2,
       "version_minor": 0
      },
      "text/plain": [
       "Builder(hide_secondary_metabolites=False, highlight_missing=True, reaction_data={'Biomass': 0.061558, 'Biomass…"
      ]
     },
     "metadata": {},
     "output_type": "display_data"
    }
   ],
   "source": [
    "M= model.copy()\n",
    "# The following two reactions are the ones for KDGK reactions\n",
    "M.reactions.get_by_id('carb_entner_2.7.1.178_DEHYDDEOXGALACTKIN__RXN').bounds = (0,0)\n",
    "M.reactions.get_by_id('carb_entner_2.7.1.178_DEOXYGLUCONOKIN__RXN').bounds = (0,0)\n",
    "M.reactions.get_by_id('carb_enter_glucneo_2.7.2.3_PHOSGLYPHOS__RXN').bounds = (0,0)\n",
    "M.reactions.get_by_id(\"carb_enter_2.7.1.40_PEPDEPHOS__RXN\").bounds = (0,0)\n",
    "\n",
    "sol = M.optimize()\n",
    "print (\"Biomass flux:\", sol.fluxes.loc[\"Biomass\"])\n",
    "b = show_map(sol,map_loc)\n",
    "b"
   ]
  },
  {
   "cell_type": "markdown",
   "metadata": {},
   "source": [
    "### Sox M + Non-phosphorylation pathway after blocking the reactions for KDGK\n",
    "    - There are two reactions for KDGK enzyme, after making the bounds to 0, the \n",
    "    non-phosphorylation pathway will be used. \n",
    "    \n",
    "    - In the figure we can see that GAPDH reactions will also be used, the reason for this is the NADPH produced in the GK reaction need to be changed to NADH, and these reactions are used for recycling of NADPH. "
   ]
  },
  {
   "cell_type": "code",
   "execution_count": 29,
   "metadata": {},
   "outputs": [
    {
     "name": "stdout",
     "output_type": "stream",
     "text": [
      "Biomass flux: 0.03596117859586143\n"
     ]
    },
    {
     "data": {
      "application/vnd.jupyter.widget-view+json": {
       "model_id": "dffcaca8b198484ba6119d657c3e917f",
       "version_major": 2,
       "version_minor": 0
      },
      "text/plain": [
       "Builder(hide_secondary_metabolites=False, highlight_missing=True, reaction_data={'Biomass': 0.035961, 'Biomass…"
      ]
     },
     "metadata": {},
     "output_type": "display_data"
    }
   ],
   "source": [
    "M= model.copy()\n",
    "# The following two reactions are the ones for KDGK reactions\n",
    "M.reactions.get_by_id('carb_entner_2.7.1.178_DEHYDDEOXGALACTKIN__RXN').bounds = (0,0)\n",
    "M.reactions.get_by_id('carb_entner_2.7.1.178_DEOXYGLUCONOKIN__RXN').bounds = (0,0)\n",
    "M.reactions.get_by_id('carb_enter_glucneo_2.7.2.3_PHOSGLYPHOS__RXN').bounds = (0,0)\n",
    "M.reactions.get_by_id(\"oxp_redox_1.10.3.13_soxABCD_TRANS__RXN__240\").bounds = (0,0)\n",
    "M.reactions.get_by_id(\"carb_enter_2.7.1.40_PEPDEPHOS__RXN\").bounds = (0,0)\n",
    "\n",
    "sol = M.optimize()\n",
    "print (\"Biomass flux:\", sol.fluxes.loc[\"Biomass\"])\n",
    "b = show_map(sol,map_loc)\n",
    "b"
   ]
  },
  {
   "cell_type": "markdown",
   "metadata": {},
   "source": [
    "### SoxABCD + GAPN pathway after blocking the reaction for GK"
   ]
  },
  {
   "cell_type": "code",
   "execution_count": 30,
   "metadata": {},
   "outputs": [
    {
     "name": "stdout",
     "output_type": "stream",
     "text": [
      "Biomass flux: 0.062487030744228726\n"
     ]
    },
    {
     "data": {
      "application/vnd.jupyter.widget-view+json": {
       "model_id": "fbb5efd167dd4095b4981cd186003942",
       "version_major": 2,
       "version_minor": 0
      },
      "text/plain": [
       "Builder(hide_secondary_metabolites=False, highlight_missing=True, reaction_data={'Biomass': 0.062487, 'Biomass…"
      ]
     },
     "metadata": {},
     "output_type": "display_data"
    }
   ],
   "source": [
    "M= model.copy()\n",
    "M.reactions.get_by_id('carb_enter_glucneo_2.7.2.3_PHOSGLYPHOS__RXN').bounds = (0,0)\n",
    "M.reactions.get_by_id('carb_entner_2.7.1.165_GKI__RXN').bounds = (0,0)\n",
    "M.reactions.get_by_id(\"carb_enter_2.7.1.40_PEPDEPHOS__RXN\").bounds = (0,0)\n",
    "sol = M.optimize()\n",
    "print (\"Biomass flux:\", sol.fluxes.loc[\"Biomass\"])\n",
    "b = show_map(sol,map_loc)\n",
    "b"
   ]
  },
  {
   "cell_type": "markdown",
   "metadata": {},
   "source": [
    "### SoxM + GAPN pathway after blocking the reaction for GK"
   ]
  },
  {
   "cell_type": "code",
   "execution_count": 31,
   "metadata": {},
   "outputs": [
    {
     "name": "stdout",
     "output_type": "stream",
     "text": [
      "Biomass flux: 0.03655761159419125\n"
     ]
    },
    {
     "data": {
      "application/vnd.jupyter.widget-view+json": {
       "model_id": "9bfc37c899174f7184cd955e2b863adc",
       "version_major": 2,
       "version_minor": 0
      },
      "text/plain": [
       "Builder(hide_secondary_metabolites=False, highlight_missing=True, reaction_data={'Biomass': 0.036558, 'Biomass…"
      ]
     },
     "metadata": {},
     "output_type": "display_data"
    }
   ],
   "source": [
    "M= model.copy()\n",
    "M.reactions.get_by_id('carb_enter_glucneo_2.7.2.3_PHOSGLYPHOS__RXN').bounds = (0,0)\n",
    "M.reactions.get_by_id('carb_entner_2.7.1.165_GKI__RXN').bounds = (0,0)\n",
    "M.reactions.get_by_id(\"oxp_redox_1.10.3.13_soxABCD_TRANS__RXN__240\").bounds = (0,0)\n",
    "M.reactions.get_by_id(\"carb_enter_2.7.1.40_PEPDEPHOS__RXN\").bounds = (0,0)\n",
    "\n",
    "sol = M.optimize()\n",
    "l = sol.fluxes[abs(sol.fluxes)>1e-6].index\n",
    "print (\"Biomass flux:\", sol.fluxes.loc[\"Biomass\"])\n",
    "b = show_map(sol,map_loc)\n",
    "b"
   ]
  },
  {
   "cell_type": "markdown",
   "metadata": {},
   "source": [
    "### SoxABCD + spontaneous degradation pathway after blocking GKI, spondegradation for BPG.\n",
    "      - In the figure we can see that GAPDH reactions will also be used, the reason for this is the NADPH produced in the GAPN reaction need to be changed to NADH, and these reactions are used for recycling of NADPH. "
   ]
  },
  {
   "cell_type": "code",
   "execution_count": 32,
   "metadata": {},
   "outputs": [
    {
     "name": "stdout",
     "output_type": "stream",
     "text": [
      "Biomass flux: 0.06248703074422876\n"
     ]
    },
    {
     "data": {
      "application/vnd.jupyter.widget-view+json": {
       "model_id": "4015bbf989ed4c658fff69ad30831cf0",
       "version_major": 2,
       "version_minor": 0
      },
      "text/plain": [
       "Builder(hide_secondary_metabolites=False, highlight_missing=True, reaction_data={'Biomass': 0.062487, 'Biomass…"
      ]
     },
     "metadata": {},
     "output_type": "display_data"
    }
   ],
   "source": [
    "M= model.copy()\n",
    "M.reactions.get_by_id('carb_entner_2.7.1.165_GKI__RXN').bounds = (0,0)\n",
    "M.reactions.get_by_id('carb_enter_glucneo_1.2.1.9_1.2.1.9__RXN').bounds = (0,0)\n",
    "M.reactions.get_by_id('carb_enter_glucneo_2.7.2.3_PHOSGLYPHOS__RXN').bounds = (0,0)\n",
    "M.reactions.get_by_id(\"carb_enter_2.7.1.40_PEPDEPHOS__RXN\").bounds = (0,0)\n",
    "sol = M.optimize()\n",
    "print (\"Biomass flux:\", sol.fluxes.loc[\"Biomass\"])\n",
    "b = show_map(sol,map_loc)\n",
    "b"
   ]
  },
  {
   "cell_type": "markdown",
   "metadata": {},
   "source": [
    "### SoxM + spontaneous degradation pathway after blocking GKI, spondegradation for BPG.\n",
    "      - In the figure we can see that GAPDH reactions will also be used, the reason for this is the NADPH produced in the GAPN reaction need to be changed to NADH, and these reactions are used for recycling of NADPH. "
   ]
  },
  {
   "cell_type": "code",
   "execution_count": 33,
   "metadata": {
    "scrolled": false
   },
   "outputs": [
    {
     "name": "stdout",
     "output_type": "stream",
     "text": [
      "Biomass flux: 0.03655761159419117\n"
     ]
    },
    {
     "data": {
      "application/vnd.jupyter.widget-view+json": {
       "model_id": "405fb32ddc48404eaa7d2a9aebe12e3d",
       "version_major": 2,
       "version_minor": 0
      },
      "text/plain": [
       "Builder(hide_secondary_metabolites=False, highlight_missing=True, reaction_data={'Biomass': 0.036558, 'Biomass…"
      ]
     },
     "metadata": {},
     "output_type": "display_data"
    }
   ],
   "source": [
    "M= model.copy()\n",
    "M.reactions.get_by_id('carb_entner_2.7.1.165_GKI__RXN').bounds = (0,0)\n",
    "M.reactions.get_by_id('carb_enter_glucneo_1.2.1.9_1.2.1.9__RXN').bounds = (0,0)\n",
    "M.reactions.get_by_id('carb_enter_glucneo_2.7.2.3_PHOSGLYPHOS__RXN').bounds = (0,0)\n",
    "M.reactions.get_by_id(\"oxp_redox_1.10.3.13_soxABCD_TRANS__RXN__240\").bounds = (0,0)\n",
    "M.reactions.get_by_id(\"carb_enter_2.7.1.40_PEPDEPHOS__RXN\").bounds = (0,0)\n",
    "\n",
    "sol = M.optimize()\n",
    "print (\"Biomass flux:\", sol.fluxes.loc[\"Biomass\"])\n",
    "b = show_map(sol,map_loc)\n",
    "b"
   ]
  }
 ],
 "metadata": {
  "kernelspec": {
   "display_name": "Python 3",
   "language": "python",
   "name": "python3"
  },
  "language_info": {
   "codemirror_mode": {
    "name": "ipython",
    "version": 3
   },
   "file_extension": ".py",
   "mimetype": "text/x-python",
   "name": "python",
   "nbconvert_exporter": "python",
   "pygments_lexer": "ipython3",
   "version": "3.6.9"
  },
  "toc": {
   "base_numbering": 1,
   "nav_menu": {},
   "number_sections": true,
   "sideBar": true,
   "skip_h1_title": false,
   "title_cell": "Table of Contents",
   "title_sidebar": "Contents",
   "toc_cell": false,
   "toc_position": {
    "height": "477px",
    "left": "130px",
    "top": "251px",
    "width": "292.891px"
   },
   "toc_section_display": true,
   "toc_window_display": true
  },
  "varInspector": {
   "cols": {
    "lenName": 16,
    "lenType": 16,
    "lenVar": 40
   },
   "kernels_config": {
    "python": {
     "delete_cmd_postfix": "",
     "delete_cmd_prefix": "del ",
     "library": "var_list.py",
     "varRefreshCmd": "print(var_dic_list())"
    },
    "r": {
     "delete_cmd_postfix": ") ",
     "delete_cmd_prefix": "rm(",
     "library": "var_list.r",
     "varRefreshCmd": "cat(var_dic_list()) "
    }
   },
   "types_to_exclude": [
    "module",
    "function",
    "builtin_function_or_method",
    "instance",
    "_Feature"
   ],
   "window_display": false
  }
 },
 "nbformat": 4,
 "nbformat_minor": 2
}
