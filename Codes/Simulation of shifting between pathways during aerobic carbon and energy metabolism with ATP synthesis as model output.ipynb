{
 "cells": [
  {
   "cell_type": "markdown",
   "metadata": {},
   "source": [
    "# Set the environment"
   ]
  },
  {
   "cell_type": "code",
   "execution_count": 1,
   "metadata": {},
   "outputs": [],
   "source": [
    "# set the envoiroment\n",
    "import cobra\n",
    "from cobra import Model, Reaction, Metabolite\n",
    "from cobra.flux_analysis import flux_variability_analysis\n",
    "import pandas as pd\n",
    "import numpy as np\n",
    "import matplotlib.pyplot as plt\n",
    "import glob\n",
    "import escher\n",
    "from escher import Builder\n",
    "from utils import show_map\n",
    "from utils.check_precursor_problem import check_precursor_problem\n"
   ]
  },
  {
   "cell_type": "markdown",
   "metadata": {},
   "source": [
    "## load the model"
   ]
  },
  {
   "cell_type": "code",
   "execution_count": 2,
   "metadata": {},
   "outputs": [],
   "source": [
    "model = cobra.io.load_json_model(\"../models/updated_model.json\")# Import the model.\n",
    "model.solver = 'glpk'\n",
    "model.reactions.NGAM.bounds = (0,1000)\n",
    "model.objective = model.reactions.NGAM\n",
    "map_loc = \"../data/overallmap.json\"\n",
    "map_loc1 = \"../data/7.21 overallmap.json\" #Import the map that has been drawn using escher."
   ]
  },
  {
   "cell_type": "markdown",
   "metadata": {},
   "source": [
    "## PK"
   ]
  },
  {
   "cell_type": "markdown",
   "metadata": {},
   "source": [
    "### PGK and GAPDH pathway + PK + SoxM: Figure S4"
   ]
  },
  {
   "cell_type": "code",
   "execution_count": 3,
   "metadata": {},
   "outputs": [
    {
     "name": "stdout",
     "output_type": "stream",
     "text": [
      "ATP production flux: 8.000000000000002\n"
     ]
    },
    {
     "data": {
      "application/vnd.jupyter.widget-view+json": {
       "model_id": "2618f7decdf84b67ad95283069294b73",
       "version_major": 2,
       "version_minor": 0
      },
      "text/plain": [
       "Builder(hide_secondary_metabolites=False, highlight_missing=True, reaction_data={'Biomass': 0.0, 'Biomass__fuc…"
      ]
     },
     "metadata": {},
     "output_type": "display_data"
    }
   ],
   "source": [
    "M= model.copy()\n",
    "M.reactions.get_by_id(\"oxp_redox_1.10.3.13_soxABCD_TRANS__RXN__240\").bounds = (0,0)\n",
    "sol = M.optimize()\n",
    "print (\"ATP production flux:\", sol.fluxes.loc[\"NGAM\"])\n",
    "\n",
    "b = show_map(sol,map_loc1)\n",
    "b"
   ]
  },
  {
   "cell_type": "markdown",
   "metadata": {},
   "source": [
    "### PGK and GAPDH pathway + PK + SoxABCD"
   ]
  },
  {
   "cell_type": "code",
   "execution_count": 4,
   "metadata": {
    "scrolled": true
   },
   "outputs": [
    {
     "name": "stdout",
     "output_type": "stream",
     "text": [
      "ATP production flux: 14.0\n"
     ]
    },
    {
     "data": {
      "application/vnd.jupyter.widget-view+json": {
       "model_id": "30056673376b4f299101102821befecd",
       "version_major": 2,
       "version_minor": 0
      },
      "text/plain": [
       "Builder(hide_secondary_metabolites=False, highlight_missing=True, reaction_data={'Biomass': 0.0, 'Biomass__fuc…"
      ]
     },
     "metadata": {},
     "output_type": "display_data"
    }
   ],
   "source": [
    "M= model.copy()\n",
    "sol = M.optimize()\n",
    "print (\"ATP production flux:\", sol.fluxes.loc[\"NGAM\"])\n",
    "b = show_map(sol,map_loc)\n",
    "b"
   ]
  },
  {
   "cell_type": "code",
   "execution_count": 5,
   "metadata": {},
   "outputs": [],
   "source": [
    "model.reactions.get_by_id('cof_sulfopterin_6.3.4.3_FORMATETHFLIG__RXN').bounds = (0,0)"
   ]
  },
  {
   "cell_type": "markdown",
   "metadata": {},
   "source": [
    "### PGK and GAPDH pathway + PK + SoxM"
   ]
  },
  {
   "cell_type": "code",
   "execution_count": 6,
   "metadata": {
    "scrolled": true
   },
   "outputs": [
    {
     "name": "stdout",
     "output_type": "stream",
     "text": [
      "ATP production flux: 8.000000000000005\n"
     ]
    },
    {
     "data": {
      "application/vnd.jupyter.widget-view+json": {
       "model_id": "cb021d23942d4adc86ebdc63aea3854d",
       "version_major": 2,
       "version_minor": 0
      },
      "text/plain": [
       "Builder(hide_secondary_metabolites=False, highlight_missing=True, reaction_data={'Biomass': 0.0, 'Biomass__fuc…"
      ]
     },
     "metadata": {},
     "output_type": "display_data"
    }
   ],
   "source": [
    "M= model.copy()\n",
    "M.reactions.get_by_id(\"oxp_redox_1.10.3.13_soxABCD_TRANS__RXN__240\").bounds = (0,0)\n",
    "sol = M.optimize()\n",
    "print (\"ATP production flux:\", sol.fluxes.loc[\"NGAM\"])\n",
    "b = show_map(sol,map_loc)\n",
    "b"
   ]
  },
  {
   "cell_type": "markdown",
   "metadata": {},
   "source": [
    "### Sox ABCD + Non-phosphorylation pathway after blocking the reactions for KDGK\n",
    "    - There are two reactions for KDGK enzyme, after making the bounds to 0, the \n",
    "    non-phosphorylation pathway will be used. \n",
    "    \n",
    "    - In the figure we can see that GAPDH reactions will also be used, the reason for this is the NADPH produced in the GK reaction need to be changed to NADH, and these reactions are used for recycling of NADPH. "
   ]
  },
  {
   "cell_type": "code",
   "execution_count": 7,
   "metadata": {},
   "outputs": [
    {
     "name": "stdout",
     "output_type": "stream",
     "text": [
      "ATP production flux: 12.999999999999982\n"
     ]
    },
    {
     "data": {
      "application/vnd.jupyter.widget-view+json": {
       "model_id": "e989729b7cb9469bb6116a09086edcd2",
       "version_major": 2,
       "version_minor": 0
      },
      "text/plain": [
       "Builder(hide_secondary_metabolites=False, highlight_missing=True, reaction_data={'Biomass': 0.0, 'Biomass__fuc…"
      ]
     },
     "metadata": {},
     "output_type": "display_data"
    }
   ],
   "source": [
    "M= model.copy()\n",
    "# The following two reactions are the ones for KDGK reactions\n",
    "M.reactions.get_by_id('carb_entner_2.7.1.178_DEHYDDEOXGALACTKIN__RXN').bounds = (0,0)\n",
    "M.reactions.get_by_id('carb_entner_2.7.1.178_DEOXYGLUCONOKIN__RXN').bounds = (0,0)\n",
    "M.reactions.get_by_id('carb_enter_glucneo_2.7.2.3_PHOSGLYPHOS__RXN').bounds = (0,0)\n",
    "\n",
    "sol = M.optimize()\n",
    "print (\"ATP production flux:\", sol.fluxes.loc[\"NGAM\"])\n",
    "b = show_map(sol,map_loc)\n",
    "b"
   ]
  },
  {
   "cell_type": "markdown",
   "metadata": {},
   "source": [
    "### Sox M + Non-phosphorylation pathway after blocking the reactions for KDGK\n",
    "    - There are two reactions for KDGK enzyme, after making the bounds to 0, the \n",
    "    non-phosphorylation pathway will be used. \n",
    "    \n",
    "    - In the figure we can see that GAPDH reactions will also be used, the reason for this is the NADPH produced in the GK reaction need to be changed to NADH, and these reactions are used for recycling of NADPH. "
   ]
  },
  {
   "cell_type": "code",
   "execution_count": 8,
   "metadata": {},
   "outputs": [
    {
     "name": "stdout",
     "output_type": "stream",
     "text": [
      "ATP production flux: 7.000000000000004\n"
     ]
    },
    {
     "data": {
      "application/vnd.jupyter.widget-view+json": {
       "model_id": "f59831a7b043480082a1c1e65818b858",
       "version_major": 2,
       "version_minor": 0
      },
      "text/plain": [
       "Builder(hide_secondary_metabolites=False, highlight_missing=True, reaction_data={'Biomass': 0.0, 'Biomass__fuc…"
      ]
     },
     "metadata": {},
     "output_type": "display_data"
    }
   ],
   "source": [
    "M= model.copy()\n",
    "# The following two reactions are the ones for KDGK reactions\n",
    "M.reactions.get_by_id('carb_entner_2.7.1.178_DEHYDDEOXGALACTKIN__RXN').bounds = (0,0)\n",
    "M.reactions.get_by_id('carb_entner_2.7.1.178_DEOXYGLUCONOKIN__RXN').bounds = (0,0)\n",
    "M.reactions.get_by_id('carb_enter_glucneo_2.7.2.3_PHOSGLYPHOS__RXN').bounds = (0,0)\n",
    "M.reactions.get_by_id(\"oxp_redox_1.10.3.13_soxABCD_TRANS__RXN__240\").bounds = (0,0)\n",
    "\n",
    "sol = M.optimize()\n",
    "print (\"ATP production flux:\", sol.fluxes.loc[\"NGAM\"])\n",
    "b = show_map(sol,map_loc)\n",
    "b"
   ]
  },
  {
   "cell_type": "markdown",
   "metadata": {},
   "source": [
    "### SoxABCD + spontaneous degradation pathway after blocking the reaction for GK"
   ]
  },
  {
   "cell_type": "code",
   "execution_count": 9,
   "metadata": {},
   "outputs": [
    {
     "name": "stdout",
     "output_type": "stream",
     "text": [
      "ATP production flux: 13.000000000000005\n"
     ]
    },
    {
     "data": {
      "application/vnd.jupyter.widget-view+json": {
       "model_id": "8c6c5473066d408ba31c214d71cbf467",
       "version_major": 2,
       "version_minor": 0
      },
      "text/plain": [
       "Builder(hide_secondary_metabolites=False, highlight_missing=True, reaction_data={'Biomass': 0.0, 'Biomass__fuc…"
      ]
     },
     "metadata": {},
     "output_type": "display_data"
    }
   ],
   "source": [
    "M= model.copy()\n",
    "M.reactions.get_by_id('carb_enter_glucneo_2.7.2.3_PHOSGLYPHOS__RXN').bounds = (0,0)\n",
    "M.reactions.get_by_id('carb_entner_2.7.1.165_GKI__RXN').bounds = (0,0)\n",
    "\n",
    "sol = M.optimize()\n",
    "print (\"ATP production flux:\", sol.fluxes.loc[\"NGAM\"])\n",
    "b = show_map(sol,map_loc)\n",
    "b"
   ]
  },
  {
   "cell_type": "markdown",
   "metadata": {},
   "source": [
    "### SoxM + spontaneous degradation pathway after blocking the reaction for GK"
   ]
  },
  {
   "cell_type": "code",
   "execution_count": 10,
   "metadata": {},
   "outputs": [
    {
     "name": "stdout",
     "output_type": "stream",
     "text": [
      "ATP production flux: 7.000000000000004\n"
     ]
    },
    {
     "data": {
      "application/vnd.jupyter.widget-view+json": {
       "model_id": "be59df71ab34421299d6f69b016fa8d9",
       "version_major": 2,
       "version_minor": 0
      },
      "text/plain": [
       "Builder(hide_secondary_metabolites=False, highlight_missing=True, reaction_data={'Biomass': 0.0, 'Biomass__fuc…"
      ]
     },
     "metadata": {},
     "output_type": "display_data"
    }
   ],
   "source": [
    "M= model.copy()\n",
    "M.reactions.get_by_id('carb_enter_glucneo_2.7.2.3_PHOSGLYPHOS__RXN').bounds = (0,0)\n",
    "M.reactions.get_by_id('carb_entner_2.7.1.165_GKI__RXN').bounds = (0,0)\n",
    "M.reactions.get_by_id(\"oxp_redox_1.10.3.13_soxABCD_TRANS__RXN__240\").bounds = (0,0)\n",
    "sol = M.optimize()\n",
    "l = sol.fluxes[abs(sol.fluxes)>1e-6].index\n",
    "print (\"ATP production flux:\", sol.fluxes.loc[\"NGAM\"])\n",
    "b = show_map(sol,map_loc)\n",
    "b"
   ]
  },
  {
   "cell_type": "markdown",
   "metadata": {},
   "source": [
    "### SoxABCD + GAPN pathway after blocking GKI, spondegradation for BPG.\n",
    "      - In the figure we can see that GAPDH reactions will also be used, the reason for this is the NADPH produced in the GAPN reaction need to be changed to NADH, and these reactions are used for recycling of NADPH. "
   ]
  },
  {
   "cell_type": "code",
   "execution_count": 11,
   "metadata": {},
   "outputs": [
    {
     "name": "stdout",
     "output_type": "stream",
     "text": [
      "ATP production flux: 12.999999999999996\n"
     ]
    },
    {
     "data": {
      "application/vnd.jupyter.widget-view+json": {
       "model_id": "c0470d7c09ba4434a4b6157c88738416",
       "version_major": 2,
       "version_minor": 0
      },
      "text/plain": [
       "Builder(hide_secondary_metabolites=False, highlight_missing=True, reaction_data={'Biomass': 0.0, 'Biomass__fuc…"
      ]
     },
     "metadata": {},
     "output_type": "display_data"
    }
   ],
   "source": [
    "M= model.copy()\n",
    "M.reactions.get_by_id('carb_entner_2.7.1.165_GKI__RXN').bounds = (0,0)\n",
    "M.reactions.get_by_id('other_no__pathway_3.6.1.7_BS165362').bounds = (0,0)\n",
    "M.reactions.get_by_id('carb_enter_glucneo_2.7.2.3_PHOSGLYPHOS__RXN').bounds = (0,0)\n",
    "\n",
    "sol = M.optimize()\n",
    "print (\"ATP production flux:\", sol.fluxes.loc[\"NGAM\"])\n",
    "b = show_map(sol,map_loc)\n",
    "b"
   ]
  },
  {
   "cell_type": "markdown",
   "metadata": {},
   "source": [
    "### SoxM + GAPN pathway after blocking GKI, spondegradation for BPG.\n",
    "      - In the figure we can see that GAPDH reactions will also be used, the reason for this is the NADPH produced in the GAPN reaction need to be changed to NADH, and these reactions are used for recycling of NADPH. "
   ]
  },
  {
   "cell_type": "code",
   "execution_count": 12,
   "metadata": {},
   "outputs": [
    {
     "name": "stdout",
     "output_type": "stream",
     "text": [
      "ATP production flux: 7.000000000000004\n"
     ]
    },
    {
     "data": {
      "application/vnd.jupyter.widget-view+json": {
       "model_id": "b6389b3393cc44e18d2f2ba0cf794428",
       "version_major": 2,
       "version_minor": 0
      },
      "text/plain": [
       "Builder(hide_secondary_metabolites=False, highlight_missing=True, reaction_data={'Biomass': 0.0, 'Biomass__fuc…"
      ]
     },
     "metadata": {},
     "output_type": "display_data"
    }
   ],
   "source": [
    "M= model.copy()\n",
    "M.reactions.get_by_id('carb_entner_2.7.1.165_GKI__RXN').bounds = (0,0)\n",
    "M.reactions.get_by_id('other_no__pathway_3.6.1.7_BS165362').bounds = (0,0)\n",
    "M.reactions.get_by_id('carb_enter_glucneo_2.7.2.3_PHOSGLYPHOS__RXN').bounds = (0,0)\n",
    "M.reactions.get_by_id(\"oxp_redox_1.10.3.13_soxABCD_TRANS__RXN__240\").bounds = (0,0)\n",
    "sol = M.optimize()\n",
    "print (\"ATP production flux:\", sol.fluxes.loc[\"NGAM\"])\n",
    "b = show_map(sol,map_loc)\n",
    "b"
   ]
  },
  {
   "cell_type": "markdown",
   "metadata": {},
   "source": [
    "### SoxABCD+ methyxol"
   ]
  },
  {
   "cell_type": "code",
   "execution_count": 13,
   "metadata": {},
   "outputs": [
    {
     "name": "stdout",
     "output_type": "stream",
     "text": [
      "ATP production flux: 10.000000000000005\n"
     ]
    },
    {
     "data": {
      "application/vnd.jupyter.widget-view+json": {
       "model_id": "56c31bbb6d2143fdb14f757d97d6e3e1",
       "version_major": 2,
       "version_minor": 0
      },
      "text/plain": [
       "Builder(hide_secondary_metabolites=False, highlight_missing=True, reaction_data={'Biomass': 0.0, 'Biomass__fuc…"
      ]
     },
     "metadata": {},
     "output_type": "display_data"
    }
   ],
   "source": [
    "M= model.copy()\n",
    "M.reactions.get_by_id('carb_entner_2.7.1.165_GKI__RXN').bounds = (0,0)\n",
    "M.reactions.get_by_id('other_no__pathway_3.6.1.7_BS165362').bounds = (0,0)\n",
    "M.reactions.get_by_id('carb_enter_glucneo_2.7.2.3_PHOSGLYPHOS__RXN').bounds = (0,0)\n",
    "M.reactions.get_by_id('carb_enter_glucneo_1.2.1.9_1.2.1.9__RXN').bounds = (0,0)\n",
    "sol = M.optimize()\n",
    "print (\"ATP production flux:\", sol.fluxes.loc[\"NGAM\"])\n",
    "b = show_map(sol,map_loc)\n",
    "b"
   ]
  },
  {
   "cell_type": "markdown",
   "metadata": {},
   "source": [
    "### SoxM + methyxol"
   ]
  },
  {
   "cell_type": "code",
   "execution_count": 14,
   "metadata": {},
   "outputs": [
    {
     "name": "stdout",
     "output_type": "stream",
     "text": [
      "ATP production flux: 5.000000000000008\n"
     ]
    },
    {
     "data": {
      "application/vnd.jupyter.widget-view+json": {
       "model_id": "e4971b249f5a4c8e9df7076256305434",
       "version_major": 2,
       "version_minor": 0
      },
      "text/plain": [
       "Builder(hide_secondary_metabolites=False, highlight_missing=True, reaction_data={'Biomass': 0.0, 'Biomass__fuc…"
      ]
     },
     "metadata": {},
     "output_type": "display_data"
    }
   ],
   "source": [
    "M= model.copy()\n",
    "M.reactions.get_by_id('carb_entner_2.7.1.165_GKI__RXN').bounds = (0,0)\n",
    "M.reactions.get_by_id('other_no__pathway_3.6.1.7_BS165362').bounds = (0,0)\n",
    "M.reactions.get_by_id('carb_enter_glucneo_2.7.2.3_PHOSGLYPHOS__RXN').bounds = (0,0)\n",
    "M.reactions.get_by_id('carb_enter_glucneo_1.2.1.9_1.2.1.9__RXN').bounds = (0,0)\n",
    "M.reactions.get_by_id(\"oxp_redox_1.10.3.13_soxABCD_TRANS__RXN__240\").bounds = (0,0)\n",
    "sol = M.optimize()\n",
    "print (\"ATP production flux:\", sol.fluxes.loc[\"NGAM\"])\n",
    "b = show_map(sol,map_loc)\n",
    "b"
   ]
  },
  {
   "cell_type": "markdown",
   "metadata": {},
   "source": [
    "## PEP carboxlyse + PEP synthesis:  pathway 2"
   ]
  },
  {
   "cell_type": "markdown",
   "metadata": {},
   "source": [
    "### SoxABCD PGK and GAPDH pathway + SoxABCD"
   ]
  },
  {
   "cell_type": "code",
   "execution_count": 15,
   "metadata": {},
   "outputs": [],
   "source": [
    "model.reactions.get_by_id (\"aa_ser_gly_cys_sec_trp_1.1.1.95_PGLYCDEHYDROG__RXN\").bounds = (0,0)"
   ]
  },
  {
   "cell_type": "code",
   "execution_count": 16,
   "metadata": {
    "scrolled": true
   },
   "outputs": [
    {
     "name": "stdout",
     "output_type": "stream",
     "text": [
      "ATP production flux: 13.000000000000028\n"
     ]
    },
    {
     "data": {
      "application/vnd.jupyter.widget-view+json": {
       "model_id": "27c3227c439c4d469a4616f9d20ccea8",
       "version_major": 2,
       "version_minor": 0
      },
      "text/plain": [
       "Builder(hide_secondary_metabolites=False, highlight_missing=True, reaction_data={'Biomass': 0.0, 'Biomass__fuc…"
      ]
     },
     "metadata": {},
     "output_type": "display_data"
    }
   ],
   "source": [
    "M= model.copy()\n",
    "M.reactions.get_by_id(\"carb_enter_2.7.1.40_PEPDEPHOS__RXN\").bounds = (0,0)\n",
    "sol = M.optimize()\n",
    "print (\"ATP production flux:\", sol.fluxes.loc[\"NGAM\"])\n",
    "b = show_map(sol,map_loc)\n",
    "b"
   ]
  },
  {
   "cell_type": "markdown",
   "metadata": {},
   "source": [
    "### SoxM PGK and GAPDH pathway + PK + SoxM"
   ]
  },
  {
   "cell_type": "code",
   "execution_count": 17,
   "metadata": {
    "scrolled": true
   },
   "outputs": [
    {
     "name": "stdout",
     "output_type": "stream",
     "text": [
      "ATP production flux: 7.000000000000003\n"
     ]
    },
    {
     "data": {
      "application/vnd.jupyter.widget-view+json": {
       "model_id": "91b9967c492e400aa19b1017e8052113",
       "version_major": 2,
       "version_minor": 0
      },
      "text/plain": [
       "Builder(hide_secondary_metabolites=False, highlight_missing=True, reaction_data={'Biomass': 0.0, 'Biomass__fuc…"
      ]
     },
     "metadata": {},
     "output_type": "display_data"
    }
   ],
   "source": [
    "M= model.copy()\n",
    "M.reactions.get_by_id(\"oxp_redox_1.10.3.13_soxABCD_TRANS__RXN__240\").bounds = (0,0)\n",
    "M.reactions.get_by_id(\"carb_enter_2.7.1.40_PEPDEPHOS__RXN\").bounds = (0,0)\n",
    "sol = M.optimize()\n",
    "print (\"ATP production flux:\", sol.fluxes.loc[\"NGAM\"])\n",
    "b = show_map(sol,map_loc)\n",
    "b"
   ]
  },
  {
   "cell_type": "markdown",
   "metadata": {},
   "source": [
    "### Sox ABCD + Non-phosphorylation pathway after blocking the reactions for KDGK\n",
    "    - There are two reactions for KDGK enzyme, after making the bounds to 0, the \n",
    "    non-phosphorylation pathway will be used. \n",
    "    \n",
    "    - In the figure we can see that GAPDH reactions will also be used, the reason for this is the NADPH produced in the GK reaction need to be changed to NADH, and these reactions are used for recycling of NADPH. "
   ]
  },
  {
   "cell_type": "code",
   "execution_count": 18,
   "metadata": {},
   "outputs": [
    {
     "name": "stdout",
     "output_type": "stream",
     "text": [
      "ATP production flux: 11.999999999999995\n"
     ]
    },
    {
     "data": {
      "application/vnd.jupyter.widget-view+json": {
       "model_id": "a842ae441bc9474bb755b053a58793db",
       "version_major": 2,
       "version_minor": 0
      },
      "text/plain": [
       "Builder(hide_secondary_metabolites=False, highlight_missing=True, reaction_data={'Biomass': 0.0, 'Biomass__fuc…"
      ]
     },
     "metadata": {},
     "output_type": "display_data"
    }
   ],
   "source": [
    "M= model.copy()\n",
    "# The following two reactions are the ones for KDGK reactions\n",
    "M.reactions.get_by_id('carb_entner_2.7.1.178_DEHYDDEOXGALACTKIN__RXN').bounds = (0,0)\n",
    "M.reactions.get_by_id('carb_entner_2.7.1.178_DEOXYGLUCONOKIN__RXN').bounds = (0,0)\n",
    "M.reactions.get_by_id('carb_enter_glucneo_2.7.2.3_PHOSGLYPHOS__RXN').bounds = (0,0)\n",
    "M.reactions.get_by_id(\"carb_enter_2.7.1.40_PEPDEPHOS__RXN\").bounds = (0,0)\n",
    "\n",
    "sol = M.optimize()\n",
    "print (\"ATP production flux:\", sol.fluxes.loc[\"NGAM\"])\n",
    "b = show_map(sol,map_loc)\n",
    "b"
   ]
  },
  {
   "cell_type": "markdown",
   "metadata": {},
   "source": [
    "### Sox M + Non-phosphorylation pathway after blocking the reactions for KDGK\n",
    "    - There are two reactions for KDGK enzyme, after making the bounds to 0, the \n",
    "    non-phosphorylation pathway will be used. \n",
    "    \n",
    "    - In the figure we can see that GAPDH reactions will also be used, the reason for this is the NADPH produced in the GK reaction need to be changed to NADH, and these reactions are used for recycling of NADPH. "
   ]
  },
  {
   "cell_type": "code",
   "execution_count": 19,
   "metadata": {},
   "outputs": [
    {
     "name": "stdout",
     "output_type": "stream",
     "text": [
      "ATP production flux: 5.999999999999993\n"
     ]
    },
    {
     "data": {
      "application/vnd.jupyter.widget-view+json": {
       "model_id": "5616b5e0ad2b46f9849f66cbf84b2505",
       "version_major": 2,
       "version_minor": 0
      },
      "text/plain": [
       "Builder(hide_secondary_metabolites=False, highlight_missing=True, reaction_data={'Biomass': 0.0, 'Biomass__fuc…"
      ]
     },
     "metadata": {},
     "output_type": "display_data"
    }
   ],
   "source": [
    "M= model.copy()\n",
    "# The following two reactions are the ones for KDGK reactions\n",
    "M.reactions.get_by_id('carb_entner_2.7.1.178_DEHYDDEOXGALACTKIN__RXN').bounds = (0,0)\n",
    "M.reactions.get_by_id('carb_entner_2.7.1.178_DEOXYGLUCONOKIN__RXN').bounds = (0,0)\n",
    "M.reactions.get_by_id('carb_enter_glucneo_2.7.2.3_PHOSGLYPHOS__RXN').bounds = (0,0)\n",
    "M.reactions.get_by_id(\"carb_enter_2.7.1.40_PEPDEPHOS__RXN\").bounds = (0,0)\n",
    "M.reactions.get_by_id(\"oxp_redox_1.10.3.13_soxABCD_TRANS__RXN__240\").bounds = (0,0)\n",
    "\n",
    "sol = M.optimize()\n",
    "print (\"ATP production flux:\", sol.fluxes.loc[\"NGAM\"])\n",
    "b = show_map(sol,map_loc)\n",
    "b"
   ]
  },
  {
   "cell_type": "markdown",
   "metadata": {},
   "source": [
    "### SoxABCD + spontaneous degradation pathway after blocking the reaction for GK"
   ]
  },
  {
   "cell_type": "code",
   "execution_count": 20,
   "metadata": {},
   "outputs": [
    {
     "name": "stdout",
     "output_type": "stream",
     "text": [
      "ATP production flux: 12.000000000000018\n"
     ]
    },
    {
     "data": {
      "application/vnd.jupyter.widget-view+json": {
       "model_id": "55110272930f4f4fb1950d6f7c8cd4ff",
       "version_major": 2,
       "version_minor": 0
      },
      "text/plain": [
       "Builder(hide_secondary_metabolites=False, highlight_missing=True, reaction_data={'Biomass': 0.0, 'Biomass__fuc…"
      ]
     },
     "metadata": {},
     "output_type": "display_data"
    }
   ],
   "source": [
    "M= model.copy()\n",
    "M.reactions.get_by_id('carb_enter_glucneo_2.7.2.3_PHOSGLYPHOS__RXN').bounds = (0,0)\n",
    "M.reactions.get_by_id('carb_entner_2.7.1.165_GKI__RXN').bounds = (0,0)\n",
    "M.reactions.get_by_id(\"carb_enter_2.7.1.40_PEPDEPHOS__RXN\").bounds = (0,0)\n",
    "sol = M.optimize()\n",
    "l = sol.fluxes[abs(sol.fluxes)>1e-6].index\n",
    "print (\"ATP production flux:\", sol.fluxes.loc[\"NGAM\"])\n",
    "b = show_map(sol,map_loc)\n",
    "b"
   ]
  },
  {
   "cell_type": "markdown",
   "metadata": {},
   "source": [
    "### SoxM + spontaneous degradation pathway after blocking the reaction for GK"
   ]
  },
  {
   "cell_type": "code",
   "execution_count": 21,
   "metadata": {},
   "outputs": [
    {
     "name": "stdout",
     "output_type": "stream",
     "text": [
      "ATP production flux: 6.0000000000000195\n"
     ]
    },
    {
     "data": {
      "application/vnd.jupyter.widget-view+json": {
       "model_id": "bd747a094f4e4b47932c0f8853bf3b79",
       "version_major": 2,
       "version_minor": 0
      },
      "text/plain": [
       "Builder(hide_secondary_metabolites=False, highlight_missing=True, reaction_data={'Biomass': 0.0, 'Biomass__fuc…"
      ]
     },
     "metadata": {},
     "output_type": "display_data"
    }
   ],
   "source": [
    "M= model.copy()\n",
    "M.reactions.get_by_id('carb_enter_glucneo_2.7.2.3_PHOSGLYPHOS__RXN').bounds = (0,0)\n",
    "M.reactions.get_by_id('carb_entner_2.7.1.165_GKI__RXN').bounds = (0,0)\n",
    "M.reactions.get_by_id(\"carb_enter_2.7.1.40_PEPDEPHOS__RXN\").bounds = (0,0)\n",
    "M.reactions.get_by_id(\"oxp_redox_1.10.3.13_soxABCD_TRANS__RXN__240\").bounds = (0,0)\n",
    "sol = M.optimize()\n",
    "print (\"ATP production flux:\", sol.fluxes.loc[\"NGAM\"])\n",
    "b = show_map(sol,map_loc)\n",
    "b"
   ]
  },
  {
   "cell_type": "markdown",
   "metadata": {},
   "source": [
    "### SoxABCD + GAPN pathway after blocking GKI, spondegradation for BPG.\n",
    "      - In the figure we can see that GAPDH reactions will also be used, the reason for this is the NADPH produced in the GAPN reaction need to be changed to NADH, and these reactions are used for recycling of NADPH. "
   ]
  },
  {
   "cell_type": "code",
   "execution_count": 22,
   "metadata": {},
   "outputs": [
    {
     "name": "stdout",
     "output_type": "stream",
     "text": [
      "ATP production flux: 12.00000000000001\n"
     ]
    },
    {
     "data": {
      "application/vnd.jupyter.widget-view+json": {
       "model_id": "04fb8da05b0245a1af4085ea25aa054c",
       "version_major": 2,
       "version_minor": 0
      },
      "text/plain": [
       "Builder(hide_secondary_metabolites=False, highlight_missing=True, reaction_data={'Biomass': 0.0, 'Biomass__fuc…"
      ]
     },
     "metadata": {},
     "output_type": "display_data"
    }
   ],
   "source": [
    "M= model.copy()\n",
    "M.reactions.get_by_id('carb_entner_2.7.1.165_GKI__RXN').bounds = (0,0)\n",
    "M.reactions.get_by_id('other_no__pathway_3.6.1.7_BS165362').bounds = (0,0)\n",
    "M.reactions.get_by_id('carb_enter_glucneo_2.7.2.3_PHOSGLYPHOS__RXN').bounds = (0,0)\n",
    "M.reactions.get_by_id(\"carb_enter_2.7.1.40_PEPDEPHOS__RXN\").bounds = (0,0)\n",
    "sol = M.optimize()\n",
    "print (\"ATP production flux:\", sol.fluxes.loc[\"NGAM\"])\n",
    "b = show_map(sol,map_loc)\n",
    "b"
   ]
  },
  {
   "cell_type": "markdown",
   "metadata": {},
   "source": [
    "### SoxM + GAPN pathway after blocking GKI, spondegradation for BPG.\n",
    "      - In the figure we can see that GAPDH reactions will also be used, the reason for this is the NADPH produced in the GAPN reaction need to be changed to NADH, and these reactions are used for recycling of NADPH. "
   ]
  },
  {
   "cell_type": "code",
   "execution_count": 23,
   "metadata": {},
   "outputs": [
    {
     "name": "stdout",
     "output_type": "stream",
     "text": [
      "ATP production flux: 5.999999999999984\n"
     ]
    },
    {
     "data": {
      "application/vnd.jupyter.widget-view+json": {
       "model_id": "fc9a14eb620d44549920b1c43961b79f",
       "version_major": 2,
       "version_minor": 0
      },
      "text/plain": [
       "Builder(hide_secondary_metabolites=False, highlight_missing=True, reaction_data={'Biomass': 0.0, 'Biomass__fuc…"
      ]
     },
     "metadata": {},
     "output_type": "display_data"
    }
   ],
   "source": [
    "M= model.copy()\n",
    "M.reactions.get_by_id('carb_entner_2.7.1.165_GKI__RXN').bounds = (0,0)\n",
    "M.reactions.get_by_id('other_no__pathway_3.6.1.7_BS165362').bounds = (0,0)\n",
    "M.reactions.get_by_id('carb_enter_glucneo_2.7.2.3_PHOSGLYPHOS__RXN').bounds = (0,0)\n",
    "M.reactions.get_by_id(\"carb_enter_2.7.1.40_PEPDEPHOS__RXN\").bounds = (0,0)\n",
    "M.reactions.get_by_id(\"oxp_redox_1.10.3.13_soxABCD_TRANS__RXN__240\").bounds = (0,0)\n",
    "sol = M.optimize()\n",
    "l = sol.fluxes[abs(sol.fluxes)>1e-6].index\n",
    "# for rxn in l:\n",
    "#     print (rxn,M.reactions.get_by_id(rxn).reaction,sol.fluxes.loc[rxn])\n",
    "print (\"ATP production flux:\", sol.fluxes.loc[\"NGAM\"])\n",
    "b = show_map(sol,map_loc)\n",
    "b"
   ]
  },
  {
   "cell_type": "markdown",
   "metadata": {},
   "source": [
    "## blocking PEP carboxlyse + PEP synthesis:  pathway 3"
   ]
  },
  {
   "cell_type": "markdown",
   "metadata": {},
   "source": [
    "### SoxABCD PGK and GAPDH pathway + SoxABCD"
   ]
  },
  {
   "cell_type": "code",
   "execution_count": 24,
   "metadata": {},
   "outputs": [],
   "source": [
    "reaction = Reaction('aa_ser_gly_thr_4.3.1.19_L_SERINE_AMMONIA_LYASE_RXN')\n",
    "reaction.name = 'aa_ser_gly_thr_4.3.1.19_L_SERINE_AMMONIA_LYASE_RXN'\n",
    "reaction.lower_bound = 0.  # This is the default\n",
    "reaction.upper_bound = 1000.  # This is the default\n",
    "model.add_reactions([reaction])\n",
    "reaction.add_metabolites({\"L__serine\":-1.0,\n",
    "                         \"pyruvate\":1.0,\n",
    "                         \"ammonia\": 1.0})\n",
    "model.reactions.get_by_id('aa_met_salvage_4.2.1.22_CYSTATHIONINE__BETA__SYNTHASE__RXN').bounds = (0,0)# these two reactions do not exist in this organism"
   ]
  },
  {
   "cell_type": "code",
   "execution_count": 25,
   "metadata": {},
   "outputs": [],
   "source": [
    "model.reactions.get_by_id(\"carb_anap_4.1.1.31_PEPCARBOX__RXN\").bounds = (0,0)\n",
    "model.reactions.get_by_id(\"aa_ser_gly_cys_sec_trp_1.1.1.95_PGLYCDEHYDROG__RXN\").bounds = (0,10)"
   ]
  },
  {
   "cell_type": "code",
   "execution_count": 26,
   "metadata": {
    "scrolled": true
   },
   "outputs": [
    {
     "name": "stdout",
     "output_type": "stream",
     "text": [
      "ATP production flux: 13.000000000000025\n"
     ]
    },
    {
     "data": {
      "application/vnd.jupyter.widget-view+json": {
       "model_id": "a092be1af78b463baa14d1b2b24ffa89",
       "version_major": 2,
       "version_minor": 0
      },
      "text/plain": [
       "Builder(hide_secondary_metabolites=False, highlight_missing=True, reaction_data={'Biomass': 0.0, 'Biomass__fuc…"
      ]
     },
     "metadata": {},
     "output_type": "display_data"
    }
   ],
   "source": [
    "M= model.copy()\n",
    "M.reactions.get_by_id(\"carb_enter_2.7.1.40_PEPDEPHOS__RXN\").bounds = (0,0)\n",
    "sol = M.optimize()\n",
    "print (\"ATP production flux:\", sol.fluxes.loc[\"NGAM\"])\n",
    "b = show_map(sol,map_loc)\n",
    "b"
   ]
  },
  {
   "cell_type": "markdown",
   "metadata": {},
   "source": [
    "### SoxM PGK and GAPDH pathway + PK + SoxM"
   ]
  },
  {
   "cell_type": "code",
   "execution_count": 27,
   "metadata": {
    "scrolled": false
   },
   "outputs": [
    {
     "name": "stdout",
     "output_type": "stream",
     "text": [
      "ATP production flux: 7.000000000000003\n"
     ]
    },
    {
     "data": {
      "application/vnd.jupyter.widget-view+json": {
       "model_id": "30bb3f5d95f24ae795784682eea72681",
       "version_major": 2,
       "version_minor": 0
      },
      "text/plain": [
       "Builder(hide_secondary_metabolites=False, highlight_missing=True, reaction_data={'Biomass': 0.0, 'Biomass__fuc…"
      ]
     },
     "metadata": {},
     "output_type": "display_data"
    }
   ],
   "source": [
    "M= model.copy()\n",
    "M.reactions.get_by_id(\"oxp_redox_1.10.3.13_soxABCD_TRANS__RXN__240\").bounds = (0,0)\n",
    "M.reactions.get_by_id(\"carb_enter_2.7.1.40_PEPDEPHOS__RXN\").bounds = (0,0)\n",
    "sol = M.optimize()\n",
    "print (\"ATP production flux:\", sol.fluxes.loc[\"NGAM\"])\n",
    "b = show_map(sol,map_loc)\n",
    "b"
   ]
  },
  {
   "cell_type": "markdown",
   "metadata": {},
   "source": [
    "### Sox ABCD + Non-phosphorylation pathway after blocking the reactions for KDGK\n",
    "    - There are two reactions for KDGK enzyme, after making the bounds to 0, the \n",
    "    non-phosphorylation pathway will be used. \n",
    "    \n",
    "    - In the figure we can see that GAPDH reactions will also be used, the reason for this is the NADPH produced in the GK reaction need to be changed to NADH, and these reactions are used for recycling of NADPH. "
   ]
  },
  {
   "cell_type": "code",
   "execution_count": 28,
   "metadata": {},
   "outputs": [
    {
     "name": "stdout",
     "output_type": "stream",
     "text": [
      "ATP production flux: 11.999999999999998\n"
     ]
    },
    {
     "data": {
      "application/vnd.jupyter.widget-view+json": {
       "model_id": "d04fd64f19e64c16b30f9904a97f1b14",
       "version_major": 2,
       "version_minor": 0
      },
      "text/plain": [
       "Builder(hide_secondary_metabolites=False, highlight_missing=True, reaction_data={'Biomass': 0.0, 'Biomass__fuc…"
      ]
     },
     "metadata": {},
     "output_type": "display_data"
    }
   ],
   "source": [
    "M= model.copy()\n",
    "# The following two reactions are the ones for KDGK reactions\n",
    "M.reactions.get_by_id('carb_entner_2.7.1.178_DEHYDDEOXGALACTKIN__RXN').bounds = (0,0)\n",
    "M.reactions.get_by_id('carb_entner_2.7.1.178_DEOXYGLUCONOKIN__RXN').bounds = (0,0)\n",
    "M.reactions.get_by_id('carb_enter_glucneo_2.7.2.3_PHOSGLYPHOS__RXN').bounds = (0,0)\n",
    "M.reactions.get_by_id(\"carb_enter_2.7.1.40_PEPDEPHOS__RXN\").bounds = (0,0)\n",
    "\n",
    "sol = M.optimize()\n",
    "print (\"ATP production flux:\", sol.fluxes.loc[\"NGAM\"])\n",
    "b = show_map(sol,map_loc)\n",
    "b"
   ]
  },
  {
   "cell_type": "markdown",
   "metadata": {},
   "source": [
    "### Sox M + Non-phosphorylation pathway after blocking the reactions for KDGK\n",
    "    - There are two reactions for KDGK enzyme, after making the bounds to 0, the \n",
    "    non-phosphorylation pathway will be used. \n",
    "    \n",
    "    - In the figure we can see that GAPDH reactions will also be used, the reason for this is the NADPH produced in the GK reaction need to be changed to NADH, and these reactions are used for recycling of NADPH. "
   ]
  },
  {
   "cell_type": "code",
   "execution_count": 29,
   "metadata": {},
   "outputs": [
    {
     "name": "stdout",
     "output_type": "stream",
     "text": [
      "ATP production flux: 6.000000000000001\n"
     ]
    },
    {
     "data": {
      "application/vnd.jupyter.widget-view+json": {
       "model_id": "ea32f4b7023346f49b23b98eedc7c713",
       "version_major": 2,
       "version_minor": 0
      },
      "text/plain": [
       "Builder(hide_secondary_metabolites=False, highlight_missing=True, reaction_data={'Biomass': 0.0, 'Biomass__fuc…"
      ]
     },
     "metadata": {},
     "output_type": "display_data"
    }
   ],
   "source": [
    "M= model.copy()\n",
    "# The following two reactions are the ones for KDGK reactions\n",
    "M.reactions.get_by_id('carb_entner_2.7.1.178_DEHYDDEOXGALACTKIN__RXN').bounds = (0,0)\n",
    "M.reactions.get_by_id('carb_entner_2.7.1.178_DEOXYGLUCONOKIN__RXN').bounds = (0,0)\n",
    "M.reactions.get_by_id('carb_enter_glucneo_2.7.2.3_PHOSGLYPHOS__RXN').bounds = (0,0)\n",
    "M.reactions.get_by_id(\"oxp_redox_1.10.3.13_soxABCD_TRANS__RXN__240\").bounds = (0,0)\n",
    "M.reactions.get_by_id(\"carb_enter_2.7.1.40_PEPDEPHOS__RXN\").bounds = (0,0)\n",
    "\n",
    "sol = M.optimize()\n",
    "print (\"ATP production flux:\", sol.fluxes.loc[\"NGAM\"])\n",
    "b = show_map(sol,map_loc)\n",
    "b"
   ]
  },
  {
   "cell_type": "markdown",
   "metadata": {},
   "source": [
    "### SoxABCD + GAPN pathway after blocking the reaction for GK"
   ]
  },
  {
   "cell_type": "code",
   "execution_count": 30,
   "metadata": {},
   "outputs": [
    {
     "name": "stdout",
     "output_type": "stream",
     "text": [
      "ATP production flux: 12.000000000000002\n"
     ]
    },
    {
     "data": {
      "application/vnd.jupyter.widget-view+json": {
       "model_id": "479c88e7f3d34af1be055f7b7cf503db",
       "version_major": 2,
       "version_minor": 0
      },
      "text/plain": [
       "Builder(hide_secondary_metabolites=False, highlight_missing=True, reaction_data={'Biomass': 0.0, 'Biomass__fuc…"
      ]
     },
     "metadata": {},
     "output_type": "display_data"
    }
   ],
   "source": [
    "M= model.copy()\n",
    "M.reactions.get_by_id('carb_enter_glucneo_2.7.2.3_PHOSGLYPHOS__RXN').bounds = (0,0)\n",
    "M.reactions.get_by_id('carb_entner_2.7.1.165_GKI__RXN').bounds = (0,0)\n",
    "M.reactions.get_by_id(\"carb_enter_2.7.1.40_PEPDEPHOS__RXN\").bounds = (0,0)\n",
    "sol = M.optimize()\n",
    "print (\"ATP production flux:\", sol.fluxes.loc[\"NGAM\"])\n",
    "b = show_map(sol,map_loc)\n",
    "b"
   ]
  },
  {
   "cell_type": "markdown",
   "metadata": {},
   "source": [
    "### SoxM + GAPN pathway after blocking the reaction for GK"
   ]
  },
  {
   "cell_type": "code",
   "execution_count": 31,
   "metadata": {},
   "outputs": [
    {
     "name": "stdout",
     "output_type": "stream",
     "text": [
      "ATP production flux: 6.0000000000000036\n"
     ]
    },
    {
     "data": {
      "application/vnd.jupyter.widget-view+json": {
       "model_id": "9d24f068cf1847eabc228d8705c4c9c7",
       "version_major": 2,
       "version_minor": 0
      },
      "text/plain": [
       "Builder(hide_secondary_metabolites=False, highlight_missing=True, reaction_data={'Biomass': 0.0, 'Biomass__fuc…"
      ]
     },
     "metadata": {},
     "output_type": "display_data"
    }
   ],
   "source": [
    "M= model.copy()\n",
    "M.reactions.get_by_id('carb_enter_glucneo_2.7.2.3_PHOSGLYPHOS__RXN').bounds = (0,0)\n",
    "M.reactions.get_by_id('carb_entner_2.7.1.165_GKI__RXN').bounds = (0,0)\n",
    "M.reactions.get_by_id(\"oxp_redox_1.10.3.13_soxABCD_TRANS__RXN__240\").bounds = (0,0)\n",
    "M.reactions.get_by_id(\"carb_enter_2.7.1.40_PEPDEPHOS__RXN\").bounds = (0,0)\n",
    "\n",
    "sol = M.optimize()\n",
    "l = sol.fluxes[abs(sol.fluxes)>1e-6].index\n",
    "print (\"ATP production flux:\", sol.fluxes.loc[\"NGAM\"])\n",
    "b = show_map(sol,map_loc)\n",
    "b"
   ]
  },
  {
   "cell_type": "markdown",
   "metadata": {},
   "source": [
    "### SoxABCD + spontaneous degradation pathway after blocking GKI, spondegradation for BPG.\n",
    "      - In the figure we can see that GAPDH reactions will also be used, the reason for this is the NADPH produced in the GAPN reaction need to be changed to NADH, and these reactions are used for recycling of NADPH. "
   ]
  },
  {
   "cell_type": "code",
   "execution_count": 32,
   "metadata": {},
   "outputs": [
    {
     "name": "stdout",
     "output_type": "stream",
     "text": [
      "ATP production flux: 12.000000000000039\n"
     ]
    },
    {
     "data": {
      "application/vnd.jupyter.widget-view+json": {
       "model_id": "02f3e21d23454563bc8166c8b09ccf91",
       "version_major": 2,
       "version_minor": 0
      },
      "text/plain": [
       "Builder(hide_secondary_metabolites=False, highlight_missing=True, reaction_data={'Biomass': 0.0, 'Biomass__fuc…"
      ]
     },
     "metadata": {},
     "output_type": "display_data"
    }
   ],
   "source": [
    "M= model.copy()\n",
    "M.reactions.get_by_id('carb_entner_2.7.1.165_GKI__RXN').bounds = (0,0)\n",
    "M.reactions.get_by_id('carb_enter_glucneo_1.2.1.9_1.2.1.9__RXN').bounds = (0,0)\n",
    "M.reactions.get_by_id('carb_enter_glucneo_2.7.2.3_PHOSGLYPHOS__RXN').bounds = (0,0)\n",
    "M.reactions.get_by_id(\"carb_enter_2.7.1.40_PEPDEPHOS__RXN\").bounds = (0,0)\n",
    "sol = M.optimize()\n",
    "print (\"ATP production flux:\", sol.fluxes.loc[\"NGAM\"])\n",
    "b = show_map(sol,map_loc)\n",
    "b"
   ]
  },
  {
   "cell_type": "markdown",
   "metadata": {},
   "source": [
    "### SoxM + spontaneous degradation pathway after blocking GKI, spondegradation for BPG.\n",
    "      - In the figure we can see that GAPDH reactions will also be used, the reason for this is the NADPH produced in the GAPN reaction need to be changed to NADH, and these reactions are used for recycling of NADPH. "
   ]
  },
  {
   "cell_type": "code",
   "execution_count": 33,
   "metadata": {
    "scrolled": false
   },
   "outputs": [
    {
     "name": "stdout",
     "output_type": "stream",
     "text": [
      "ATP production flux: 6.000000000000001\n"
     ]
    },
    {
     "data": {
      "application/vnd.jupyter.widget-view+json": {
       "model_id": "87c0710e475d423a9d11bc72a95f79cf",
       "version_major": 2,
       "version_minor": 0
      },
      "text/plain": [
       "Builder(hide_secondary_metabolites=False, highlight_missing=True, reaction_data={'Biomass': 0.0, 'Biomass__fuc…"
      ]
     },
     "metadata": {},
     "output_type": "display_data"
    }
   ],
   "source": [
    "M= model.copy()\n",
    "M.reactions.get_by_id('carb_entner_2.7.1.165_GKI__RXN').bounds = (0,0)\n",
    "M.reactions.get_by_id('carb_enter_glucneo_1.2.1.9_1.2.1.9__RXN').bounds = (0,0)\n",
    "M.reactions.get_by_id('carb_enter_glucneo_2.7.2.3_PHOSGLYPHOS__RXN').bounds = (0,0)\n",
    "M.reactions.get_by_id(\"oxp_redox_1.10.3.13_soxABCD_TRANS__RXN__240\").bounds = (0,0)\n",
    "M.reactions.get_by_id(\"carb_enter_2.7.1.40_PEPDEPHOS__RXN\").bounds = (0,0)\n",
    "\n",
    "sol = M.optimize()\n",
    "print (\"ATP production flux:\", sol.fluxes.loc[\"NGAM\"])\n",
    "b = show_map(sol,map_loc)\n",
    "b"
   ]
  },
  {
   "cell_type": "markdown",
   "metadata": {},
   "source": [
    "# Methodology for dealing with variable stoichiometry"
   ]
  },
  {
   "cell_type": "code",
   "execution_count": 34,
   "metadata": {},
   "outputs": [
    {
     "ename": "FileNotFoundError",
     "evalue": "[Errno 2] No such file or directory: '../tables/Table 3.csv'",
     "output_type": "error",
     "traceback": [
      "\u001b[1;31m---------------------------------------------------------------------------\u001b[0m",
      "\u001b[1;31mFileNotFoundError\u001b[0m                         Traceback (most recent call last)",
      "\u001b[1;32m<ipython-input-34-a4ec7f220fd3>\u001b[0m in \u001b[0;36m<module>\u001b[1;34m\u001b[0m\n\u001b[0;32m     11\u001b[0m \u001b[1;31m# df_variable_stoichiometry = df_variable_stoichiometry.set_index('Factor Z')\u001b[0m\u001b[1;33m\u001b[0m\u001b[1;33m\u001b[0m\u001b[1;33m\u001b[0m\u001b[0m\n\u001b[0;32m     12\u001b[0m \u001b[0mdf_variable_stoichiometry\u001b[0m\u001b[1;33m\u001b[0m\u001b[1;33m\u001b[0m\u001b[0m\n\u001b[1;32m---> 13\u001b[1;33m \u001b[0mdf_variable_stoichiometry\u001b[0m\u001b[1;33m.\u001b[0m\u001b[0mto_csv\u001b[0m\u001b[1;33m(\u001b[0m\u001b[1;34m\"../tables/Table 3.csv\"\u001b[0m\u001b[1;33m)\u001b[0m\u001b[1;33m\u001b[0m\u001b[1;33m\u001b[0m\u001b[0m\n\u001b[0m",
      "\u001b[1;32m~\\Anaconda3\\envs\\archeapy36\\lib\\site-packages\\pandas\\core\\generic.py\u001b[0m in \u001b[0;36mto_csv\u001b[1;34m(self, path_or_buf, sep, na_rep, float_format, columns, header, index, index_label, mode, encoding, compression, quoting, quotechar, line_terminator, chunksize, date_format, doublequote, escapechar, decimal)\u001b[0m\n\u001b[0;32m   3226\u001b[0m             \u001b[0mdecimal\u001b[0m\u001b[1;33m=\u001b[0m\u001b[0mdecimal\u001b[0m\u001b[1;33m,\u001b[0m\u001b[1;33m\u001b[0m\u001b[1;33m\u001b[0m\u001b[0m\n\u001b[0;32m   3227\u001b[0m         )\n\u001b[1;32m-> 3228\u001b[1;33m         \u001b[0mformatter\u001b[0m\u001b[1;33m.\u001b[0m\u001b[0msave\u001b[0m\u001b[1;33m(\u001b[0m\u001b[1;33m)\u001b[0m\u001b[1;33m\u001b[0m\u001b[1;33m\u001b[0m\u001b[0m\n\u001b[0m\u001b[0;32m   3229\u001b[0m \u001b[1;33m\u001b[0m\u001b[0m\n\u001b[0;32m   3230\u001b[0m         \u001b[1;32mif\u001b[0m \u001b[0mpath_or_buf\u001b[0m \u001b[1;32mis\u001b[0m \u001b[1;32mNone\u001b[0m\u001b[1;33m:\u001b[0m\u001b[1;33m\u001b[0m\u001b[1;33m\u001b[0m\u001b[0m\n",
      "\u001b[1;32m~\\Anaconda3\\envs\\archeapy36\\lib\\site-packages\\pandas\\io\\formats\\csvs.py\u001b[0m in \u001b[0;36msave\u001b[1;34m(self)\u001b[0m\n\u001b[0;32m    181\u001b[0m                 \u001b[0mself\u001b[0m\u001b[1;33m.\u001b[0m\u001b[0mmode\u001b[0m\u001b[1;33m,\u001b[0m\u001b[1;33m\u001b[0m\u001b[1;33m\u001b[0m\u001b[0m\n\u001b[0;32m    182\u001b[0m                 \u001b[0mencoding\u001b[0m\u001b[1;33m=\u001b[0m\u001b[0mself\u001b[0m\u001b[1;33m.\u001b[0m\u001b[0mencoding\u001b[0m\u001b[1;33m,\u001b[0m\u001b[1;33m\u001b[0m\u001b[1;33m\u001b[0m\u001b[0m\n\u001b[1;32m--> 183\u001b[1;33m                 \u001b[0mcompression\u001b[0m\u001b[1;33m=\u001b[0m\u001b[0mself\u001b[0m\u001b[1;33m.\u001b[0m\u001b[0mcompression\u001b[0m\u001b[1;33m,\u001b[0m\u001b[1;33m\u001b[0m\u001b[1;33m\u001b[0m\u001b[0m\n\u001b[0m\u001b[0;32m    184\u001b[0m             )\n\u001b[0;32m    185\u001b[0m             \u001b[0mclose\u001b[0m \u001b[1;33m=\u001b[0m \u001b[1;32mTrue\u001b[0m\u001b[1;33m\u001b[0m\u001b[1;33m\u001b[0m\u001b[0m\n",
      "\u001b[1;32m~\\Anaconda3\\envs\\archeapy36\\lib\\site-packages\\pandas\\io\\common.py\u001b[0m in \u001b[0;36m_get_handle\u001b[1;34m(path_or_buf, mode, encoding, compression, memory_map, is_text)\u001b[0m\n\u001b[0;32m    397\u001b[0m         \u001b[1;32mif\u001b[0m \u001b[0mencoding\u001b[0m\u001b[1;33m:\u001b[0m\u001b[1;33m\u001b[0m\u001b[1;33m\u001b[0m\u001b[0m\n\u001b[0;32m    398\u001b[0m             \u001b[1;31m# Encoding\u001b[0m\u001b[1;33m\u001b[0m\u001b[1;33m\u001b[0m\u001b[1;33m\u001b[0m\u001b[0m\n\u001b[1;32m--> 399\u001b[1;33m             \u001b[0mf\u001b[0m \u001b[1;33m=\u001b[0m \u001b[0mopen\u001b[0m\u001b[1;33m(\u001b[0m\u001b[0mpath_or_buf\u001b[0m\u001b[1;33m,\u001b[0m \u001b[0mmode\u001b[0m\u001b[1;33m,\u001b[0m \u001b[0mencoding\u001b[0m\u001b[1;33m=\u001b[0m\u001b[0mencoding\u001b[0m\u001b[1;33m,\u001b[0m \u001b[0mnewline\u001b[0m\u001b[1;33m=\u001b[0m\u001b[1;34m\"\"\u001b[0m\u001b[1;33m)\u001b[0m\u001b[1;33m\u001b[0m\u001b[1;33m\u001b[0m\u001b[0m\n\u001b[0m\u001b[0;32m    400\u001b[0m         \u001b[1;32melif\u001b[0m \u001b[0mis_text\u001b[0m\u001b[1;33m:\u001b[0m\u001b[1;33m\u001b[0m\u001b[1;33m\u001b[0m\u001b[0m\n\u001b[0;32m    401\u001b[0m             \u001b[1;31m# No explicit encoding\u001b[0m\u001b[1;33m\u001b[0m\u001b[1;33m\u001b[0m\u001b[1;33m\u001b[0m\u001b[0m\n",
      "\u001b[1;31mFileNotFoundError\u001b[0m: [Errno 2] No such file or directory: '../tables/Table 3.csv'"
     ]
    }
   ],
   "source": [
    "df_variable_stoichiometry = pd.DataFrame(columns=[\"Gear Z\",\"SoxABCD flux\",\"SoxM (DoxABCD) flux\",\"NGAM (maintenance ATPase) (ATP/glucose imported\",\"H+-ATPsynthase proton flux per glucose imported\"]) # start empty table\n",
    "M = model.copy()\n",
    "M.objective = M.reactions.NGAM\n",
    "M.reactions.T_flux_beta__D__glucose.bounds = (-1,1000)\n",
    "for Z in range(0,13):\n",
    "    M.reactions.get_by_id('oxp_redox_1.10.3.13_soxABCD_TRANS__RXN__240').bounds =(0,Z) \n",
    "    M.reactions.get_by_id('oxp_redox_1.10.3.13_soxM_TRANS__RXN__240').bounds =(0,12-Z) \n",
    "    sol = M.optimize()\n",
    "    H_ATPsynthase_proton_flux = sol.fluxes.loc[\"oxp_redox_1.10.3.13_soxABCD_TRANS__RXN__240\"] * 4 + sol.fluxes.loc[\"oxp_redox_1.10.3.13_soxM_TRANS__RXN__240\"]*2\n",
    "    df_variable_stoichiometry.loc[Z] = [Z,sol.fluxes.loc[\"oxp_redox_1.10.3.13_soxABCD_TRANS__RXN__240\"],sol.fluxes.loc[\"oxp_redox_1.10.3.13_soxM_TRANS__RXN__240\"],sol.fluxes.loc[\"NGAM\"],H_ATPsynthase_proton_flux] \n",
    "# df_variable_stoichiometry = df_variable_stoichiometry.set_index('Factor Z')\n",
    "df_variable_stoichiometry\n",
    "df_variable_stoichiometry.to_csv(\"../tables/Table 3.csv\")"
   ]
  },
  {
   "cell_type": "code",
   "execution_count": null,
   "metadata": {},
   "outputs": [],
   "source": [
    "df_variable_stoichiometry"
   ]
  }
 ],
 "metadata": {
  "kernelspec": {
   "display_name": "Python 3",
   "language": "python",
   "name": "python3"
  },
  "language_info": {
   "codemirror_mode": {
    "name": "ipython",
    "version": 3
   },
   "file_extension": ".py",
   "mimetype": "text/x-python",
   "name": "python",
   "nbconvert_exporter": "python",
   "pygments_lexer": "ipython3",
   "version": "3.6.9"
  },
  "toc": {
   "base_numbering": 1,
   "nav_menu": {},
   "number_sections": true,
   "sideBar": true,
   "skip_h1_title": false,
   "title_cell": "Table of Contents",
   "title_sidebar": "Contents",
   "toc_cell": false,
   "toc_position": {
    "height": "477px",
    "left": "130px",
    "top": "251px",
    "width": "292.891px"
   },
   "toc_section_display": true,
   "toc_window_display": true
  },
  "varInspector": {
   "cols": {
    "lenName": 16,
    "lenType": 16,
    "lenVar": 40
   },
   "kernels_config": {
    "python": {
     "delete_cmd_postfix": "",
     "delete_cmd_prefix": "del ",
     "library": "var_list.py",
     "varRefreshCmd": "print(var_dic_list())"
    },
    "r": {
     "delete_cmd_postfix": ") ",
     "delete_cmd_prefix": "rm(",
     "library": "var_list.r",
     "varRefreshCmd": "cat(var_dic_list()) "
    }
   },
   "types_to_exclude": [
    "module",
    "function",
    "builtin_function_or_method",
    "instance",
    "_Feature"
   ],
   "window_display": false
  }
 },
 "nbformat": 4,
 "nbformat_minor": 2
}
