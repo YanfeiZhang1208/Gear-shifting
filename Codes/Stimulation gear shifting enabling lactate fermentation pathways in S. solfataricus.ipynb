{
 "cells": [
  {
   "cell_type": "markdown",
   "metadata": {},
   "source": [
    "# Set the environment"
   ]
  },
  {
   "cell_type": "code",
   "execution_count": 1,
   "metadata": {},
   "outputs": [],
   "source": [
    "# set the envoiroment\n",
    "import cobra\n",
    "from cobra import Model, Reaction, Metabolite\n",
    "from cobra.flux_analysis import flux_variability_analysis\n",
    "import pandas as pd\n",
    "import numpy as np\n",
    "import matplotlib.pyplot as plt\n",
    "import glob\n",
    "import escher\n",
    "from escher import Builder\n",
    "from utils import show_map\n",
    "from utils.check_precursor_problem import check_precursor_problem\n",
    "map_loc = \"../data/fermentation8.24.json\"\n",
    "map_loc1 = \"../data/figure S2E1.json\""
   ]
  },
  {
   "cell_type": "markdown",
   "metadata": {},
   "source": [
    "## Read the model"
   ]
  },
  {
   "cell_type": "code",
   "execution_count": 2,
   "metadata": {},
   "outputs": [],
   "source": [
    "model = cobra.io.load_json_model(\"../models/updated_model.json\")# Import the model\n",
    "model.solver = 'glpk'\n",
    "model.reactions.get_by_id(\"prot_prot__lactate\").bounds = (-1000,1000)\n",
    "model.reactions.get_by_id(\"NGAM\").bounds = (0,1000)\n",
    "model.reactions.T_flux_oxygen.bounds = (0,0) # block the import of oxygen"
   ]
  },
  {
   "cell_type": "code",
   "execution_count": 3,
   "metadata": {},
   "outputs": [],
   "source": [
    "### Pumping 0 protons from lactic acid export system \n",
    "Psi = Metabolite(\n",
    "    'Psi',\n",
    "    formula='',\n",
    "    name='PSI is a unit of pressure expressed in pounds of force per square inch of area',\n",
    "    compartment='cytosol')\n",
    "model.reactions.get_by_id('T_symporter_(S)__lactic_acid').remove_from_model()\n",
    "reaction = Reaction('T_symporter_(S)__lactic_acid')\n",
    "reaction.name = 'T_symporter_(S)__lactic_acid'\n",
    "reaction.lower_bound = -1000.  # This is the default\n",
    "reaction.upper_bound = 1000.  # This is the default\n",
    "model.add_reactions([reaction])\n",
    "reaction.add_metabolites({\"(S)__lactic_acid\":-1.0,\n",
    "                         \"H+\":-0.0,\n",
    "                         \"(S)__lactic_acid_ex\":1.0,\n",
    "                           Psi: 0.0,\n",
    "                          \"H+_ex\":0.0})"
   ]
  },
  {
   "cell_type": "code",
   "execution_count": 4,
   "metadata": {},
   "outputs": [
    {
     "name": "stdout",
     "output_type": "stream",
     "text": [
      "<Solution 0.000 at 0x20d6e49de48>\n"
     ]
    }
   ],
   "source": [
    "model.objective = model.reactions.Biomass\n",
    "sol = model.optimize()\n",
    "print (sol)"
   ]
  },
  {
   "cell_type": "markdown",
   "metadata": {},
   "source": [
    "## ATP source reaction was added"
   ]
  },
  {
   "cell_type": "code",
   "execution_count": 5,
   "metadata": {
    "scrolled": true
   },
   "outputs": [],
   "source": [
    "## Use the lactic acid export reaction as objective reaction\n",
    "model1 = model.copy()\n",
    "reaction = Reaction('ATP_source_reaction')\n",
    "reaction.name = 'ATP_source_reaction'\n",
    "reaction.lower_bound = -0.  # This is the default\n",
    "reaction.upper_bound = 1000.  # This is the default\n",
    "model1.add_reactions([reaction])\n",
    "reaction.add_metabolites({\"ADP\": -1.0,\n",
    "                          \"H+\": -1.0,\n",
    "                          \"phosphate\":-1.0,\n",
    "                          \"H2O\": 1.0,\n",
    "                         \"ATP\": 1.0})\n",
    "model1.objective = model1.reactions.get_by_id('T_flux_(S)__lactic_acid')"
   ]
  },
  {
   "cell_type": "markdown",
   "metadata": {},
   "source": [
    "# checking different n values for the ATP source reaction\n"
   ]
  },
  {
   "cell_type": "markdown",
   "metadata": {},
   "source": [
    "## n =-1,solver status is 'infeasible'"
   ]
  },
  {
   "cell_type": "code",
   "execution_count": 6,
   "metadata": {},
   "outputs": [
    {
     "name": "stdout",
     "output_type": "stream",
     "text": [
      "<Solution infeasible at 0x20d6f3adf98>\n"
     ]
    },
    {
     "name": "stderr",
     "output_type": "stream",
     "text": [
      "cobra\\util\\solver.py:408 UserWarning: solver status is 'infeasible'\n"
     ]
    }
   ],
   "source": [
    "### Use the lactate dehydrogenase reaction as objective reaction\n",
    "M= model1.copy()\n",
    "M.reactions.ATP_source_reaction.bounds= (-1,-1)\n",
    "sol = M.optimize()\n",
    "print (sol)"
   ]
  },
  {
   "cell_type": "markdown",
   "metadata": {},
   "source": [
    "## n = 0,PGK and GAPDH pathway (Figure.S2A)"
   ]
  },
  {
   "cell_type": "code",
   "execution_count": 7,
   "metadata": {
    "scrolled": true
   },
   "outputs": [
    {
     "data": {
      "application/vnd.jupyter.widget-view+json": {
       "model_id": "2df773dfda1943e7b66dff956da9b1b6",
       "version_major": 2,
       "version_minor": 0
      },
      "text/plain": [
       "Builder(hide_secondary_metabolites=False, highlight_missing=True, reaction_data={'Biomass': 0.0, 'Biomass__fuc…"
      ]
     },
     "metadata": {},
     "output_type": "display_data"
    }
   ],
   "source": [
    "M= model1.copy()\n",
    "M.reactions.ATP_source_reaction.bounds= (-0,-0)\n",
    "sol = M.optimize()\n",
    "b = show_map(sol,map_loc)\n",
    "b"
   ]
  },
  {
   "cell_type": "markdown",
   "metadata": {},
   "source": [
    "# Blocking PGK"
   ]
  },
  {
   "cell_type": "markdown",
   "metadata": {},
   "source": [
    "## n = 0, solver status is 'infeasible'"
   ]
  },
  {
   "cell_type": "code",
   "execution_count": 8,
   "metadata": {},
   "outputs": [
    {
     "name": "stdout",
     "output_type": "stream",
     "text": [
      "<Solution 0.000 at 0x20d70d17cc0>\n"
     ]
    }
   ],
   "source": [
    "M= model1.copy()\n",
    "M.reactions.get_by_id('carb_enter_glucneo_2.7.2.3_PHOSGLYPHOS__RXN').bounds = (0,0)\n",
    "M.reactions.ATP_source_reaction.bounds= (-0,-0)\n",
    "sol = M.optimize()\n",
    "print (sol)"
   ]
  },
  {
   "cell_type": "markdown",
   "metadata": {},
   "source": [
    "## n = 1"
   ]
  },
  {
   "cell_type": "markdown",
   "metadata": {},
   "source": [
    "### spontaneous degradation pathway (Figure S2B) "
   ]
  },
  {
   "cell_type": "code",
   "execution_count": 9,
   "metadata": {
    "scrolled": true
   },
   "outputs": [
    {
     "data": {
      "application/vnd.jupyter.widget-view+json": {
       "model_id": "c2c662562ef14386bfa53404f512534b",
       "version_major": 2,
       "version_minor": 0
      },
      "text/plain": [
       "Builder(hide_secondary_metabolites=False, highlight_missing=True, reaction_data={'Biomass': 0.0, 'Biomass__fuc…"
      ]
     },
     "metadata": {},
     "output_type": "display_data"
    }
   ],
   "source": [
    "M= model1.copy()\n",
    "M.reactions.get_by_id('carb_enter_glucneo_2.7.2.3_PHOSGLYPHOS__RXN').bounds = (0,0)\n",
    "M.reactions.ATP_source_reaction.bounds= (1,1)\n",
    "sol = M.optimize()\n",
    "b = show_map(sol,map_loc)\n",
    "b"
   ]
  },
  {
   "cell_type": "markdown",
   "metadata": {},
   "source": [
    "### Blocking T_ABC transport_glucose and PGK"
   ]
  },
  {
   "cell_type": "code",
   "execution_count": 10,
   "metadata": {
    "scrolled": true
   },
   "outputs": [
    {
     "name": "stdout",
     "output_type": "stream",
     "text": [
      "<Solution 0.000 at 0x20d7130a208>\n"
     ]
    }
   ],
   "source": [
    "M= model1.copy()\n",
    "M.reactions.get_by_id('carb_enter_glucneo_2.7.2.3_PHOSGLYPHOS__RXN').bounds = (0,0)\n",
    "M.reactions.get_by_id('T_ABC__transporter_beta__D__glucose').bounds = (0,0)\n",
    "M.reactions.ATP_source_reaction.bounds= (1,1)\n",
    "sol = M.optimize()\n",
    "print (sol)"
   ]
  },
  {
   "cell_type": "markdown",
   "metadata": {},
   "source": [
    "### Non-phosphorylation pathway (Figure S2C) after blocking the reactions for KDGK and PGK\n",
    "    - There are two reactions for KDGK enzyme, after making the bounds to 0, the \n",
    "    non-phosphorylation pathway will be used. \n",
    "    \n",
    "    - In the figure we can see that GAPDH reactions will also be used, the reason for this is the NADPH produced in the GK reaction need to be changed to NADH, and these reactions are used for recycling of NADPH. "
   ]
  },
  {
   "cell_type": "code",
   "execution_count": 11,
   "metadata": {
    "scrolled": true
   },
   "outputs": [
    {
     "data": {
      "application/vnd.jupyter.widget-view+json": {
       "model_id": "dadb917c7dd54e4ca437bf284891322e",
       "version_major": 2,
       "version_minor": 0
      },
      "text/plain": [
       "Builder(hide_secondary_metabolites=False, highlight_missing=True, reaction_data={'Biomass': 0.0, 'Biomass__fuc…"
      ]
     },
     "metadata": {},
     "output_type": "display_data"
    }
   ],
   "source": [
    "M= model1.copy()\n",
    "# The following two reactions are the ones for KDGK reactions\n",
    "M.reactions.get_by_id('carb_entner_2.7.1.178_DEHYDDEOXGALACTKIN__RXN').bounds = (0,0)\n",
    "M.reactions.get_by_id('carb_entner_2.7.1.178_DEOXYGLUCONOKIN__RXN').bounds = (0,0)\n",
    "M.reactions.get_by_id('carb_enter_glucneo_2.7.2.3_PHOSGLYPHOS__RXN').bounds = (0,0)\n",
    "M.reactions.ATP_source_reaction.bounds= (1,1)\n",
    "sol = M.optimize()\n",
    "b = show_map(sol,map_loc)\n",
    "b"
   ]
  },
  {
   "cell_type": "markdown",
   "metadata": {},
   "source": [
    "### GAPN pathway (Figure S2D) after blocking GKI, spondegradation for BPG.\n",
    "      - In the figure we can see that GAPDH reactions will also be used, the reason for this is the NADPH produced in the GAPN reaction need to be changed to NADH, and these reactions are used for recycling of NADPH. "
   ]
  },
  {
   "cell_type": "code",
   "execution_count": 12,
   "metadata": {},
   "outputs": [
    {
     "data": {
      "application/vnd.jupyter.widget-view+json": {
       "model_id": "e9dc44240e5d42a59c9425b75bcfd22d",
       "version_major": 2,
       "version_minor": 0
      },
      "text/plain": [
       "Builder(hide_secondary_metabolites=False, highlight_missing=True, reaction_data={'Biomass': 0.0, 'Biomass__fuc…"
      ]
     },
     "metadata": {},
     "output_type": "display_data"
    }
   ],
   "source": [
    "M= model1.copy()\n",
    "M.reactions.get_by_id('carb_entner_2.7.1.165_GKI__RXN').bounds = (0,0)\n",
    "M.reactions.get_by_id('other_no__pathway_3.6.1.7_BS165362').bounds = (0,0)\n",
    "M.reactions.get_by_id('carb_enter_glucneo_2.7.2.3_PHOSGLYPHOS__RXN').bounds = (0,0)\n",
    "M.reactions.ATP_source_reaction.bounds= (1,1)\n",
    "sol = M.optimize()\n",
    "b = show_map(sol,map_loc)\n",
    "b"
   ]
  },
  {
   "cell_type": "markdown",
   "metadata": {},
   "source": [
    "# Blocking PK reactions"
   ]
  },
  {
   "cell_type": "markdown",
   "metadata": {},
   "source": [
    "## n = -1, solver status is 'infeasible'"
   ]
  },
  {
   "cell_type": "code",
   "execution_count": 13,
   "metadata": {},
   "outputs": [
    {
     "name": "stdout",
     "output_type": "stream",
     "text": [
      "<Solution infeasible at 0x20d71bf49b0>\n"
     ]
    }
   ],
   "source": [
    "M= model1.copy()\n",
    "M.reactions.get_by_id('carb_enter_2.7.1.40_PEPDEPHOS__RXN').bounds = (0,0)\n",
    "M.reactions.ATP_source_reaction.bounds= (-1,-1)\n",
    "sol = M.optimize()\n",
    "print (sol)"
   ]
  },
  {
   "cell_type": "markdown",
   "metadata": {},
   "source": [
    "## n = 0, solver status is 'infeasible'"
   ]
  },
  {
   "cell_type": "code",
   "execution_count": 14,
   "metadata": {},
   "outputs": [
    {
     "name": "stdout",
     "output_type": "stream",
     "text": [
      "<Solution 0.000 at 0x20d7307f2e8>\n"
     ]
    }
   ],
   "source": [
    "M= model1.copy()\n",
    "M.reactions.get_by_id('carb_enter_2.7.1.40_PEPDEPHOS__RXN').bounds = (0,0)\n",
    "M.reactions.ATP_source_reaction.bounds= (-0,-0)\n",
    "sol = M.optimize()\n",
    "print (sol)"
   ]
  },
  {
   "cell_type": "markdown",
   "metadata": {},
   "source": [
    "## n = 1"
   ]
  },
  {
   "cell_type": "markdown",
   "metadata": {},
   "source": [
    "### Figure S2E"
   ]
  },
  {
   "cell_type": "code",
   "execution_count": 15,
   "metadata": {
    "scrolled": false
   },
   "outputs": [
    {
     "data": {
      "application/vnd.jupyter.widget-view+json": {
       "model_id": "b6b3e4fd6a534f94b1e636750ac3f9ec",
       "version_major": 2,
       "version_minor": 0
      },
      "text/plain": [
       "Builder(hide_secondary_metabolites=False, highlight_missing=True, reaction_data={'Biomass': 0.0, 'Biomass__fuc…"
      ]
     },
     "metadata": {},
     "output_type": "display_data"
    }
   ],
   "source": [
    "M= model1.copy()\n",
    "M.reactions.get_by_id('carb_enter_2.7.1.40_PEPDEPHOS__RXN').bounds = (0,0)\n",
    "M.reactions.ATP_source_reaction.bounds= (1,1)\n",
    "sol = M.optimize()\n",
    "l = sol.fluxes[abs(sol.fluxes)>1e-6].index\n",
    "b = show_map(sol,map_loc)\n",
    "b"
   ]
  },
  {
   "cell_type": "markdown",
   "metadata": {},
   "source": [
    "### Figure S2E1"
   ]
  },
  {
   "cell_type": "code",
   "execution_count": 16,
   "metadata": {
    "scrolled": true
   },
   "outputs": [
    {
     "data": {
      "application/vnd.jupyter.widget-view+json": {
       "model_id": "80762dbe763f442e8aaec86da8439e46",
       "version_major": 2,
       "version_minor": 0
      },
      "text/plain": [
       "Builder(hide_secondary_metabolites=False, highlight_missing=True, reaction_data={'Biomass': 0.0, 'Biomass__fuc…"
      ]
     },
     "metadata": {},
     "output_type": "display_data"
    }
   ],
   "source": [
    "M= model1.copy()\n",
    "M.reactions.get_by_id('carb_enter_2.7.1.40_PEPDEPHOS__RXN').bounds = (0,0)\n",
    "M.reactions.get_by_id('carb_anap_4.1.1.31_PEPCARBOX__RXN').bounds = (0,0)\n",
    "# M.reactions.get_by_id(\"aa_met_4.4.1.8_CYSTATHIONINE__BETA__LYASE__RXN\").bounds = (0,0)\n",
    "M.reactions.ATP_source_reaction.bounds= (1,1)\n",
    "sol = M.optimize()\n",
    "\n",
    "b = show_map(sol,map_loc1)\n",
    "b"
   ]
  },
  {
   "cell_type": "markdown",
   "metadata": {},
   "source": [
    "### Adding serine dehydratase reaction into the model"
   ]
  },
  {
   "cell_type": "code",
   "execution_count": 17,
   "metadata": {},
   "outputs": [],
   "source": [
    "reaction = Reaction('aa_ser_gly_thr_4.3.1.19_L_SERINE_AMMONIA_LYASE_RXN')\n",
    "reaction.name = 'aa_ser_gly_thr_4.3.1.19_L_SERINE_AMMONIA_LYASE_RXN'\n",
    "reaction.lower_bound = 0.  # This is the default\n",
    "reaction.upper_bound = 1000.  # This is the default\n",
    "model1.add_reactions([reaction])\n",
    "reaction.add_metabolites({\"L__serine\":-1.0,\n",
    "                         \"pyruvate\":1.0,\n",
    "                         \"ammonia\": 1.0})\n",
    "model1.reactions.get_by_id('aa_met_salvage_4.2.1.22_CYSTATHIONINE__BETA__SYNTHASE__RXN').bounds = (0,0)# these two reactions do not exist in this organism"
   ]
  },
  {
   "cell_type": "markdown",
   "metadata": {},
   "source": [
    "### Figure S2F"
   ]
  },
  {
   "cell_type": "code",
   "execution_count": 18,
   "metadata": {
    "scrolled": true
   },
   "outputs": [
    {
     "data": {
      "application/vnd.jupyter.widget-view+json": {
       "model_id": "380e650429a940549af88fde87672189",
       "version_major": 2,
       "version_minor": 0
      },
      "text/plain": [
       "Builder(hide_secondary_metabolites=False, highlight_missing=True, reaction_data={'Biomass': 0.0, 'Biomass__fuc…"
      ]
     },
     "metadata": {},
     "output_type": "display_data"
    }
   ],
   "source": [
    "M= model1.copy()\n",
    "M.reactions.get_by_id('carb_enter_2.7.1.40_PEPDEPHOS__RXN').bounds = (0,0)\n",
    "M.reactions.get_by_id('carb_anap_4.1.1.31_PEPCARBOX__RXN').bounds = (0,0)\n",
    "M.reactions.ATP_source_reaction.bounds= (1,1)\n",
    "sol = M.optimize()\n",
    "\n",
    "b = show_map(sol,map_loc)\n",
    "b"
   ]
  },
  {
   "cell_type": "markdown",
   "metadata": {},
   "source": [
    "## Blocking both PGK and PK reactions"
   ]
  },
  {
   "cell_type": "markdown",
   "metadata": {},
   "source": [
    "### n = 0, solver status is \"infeasible\""
   ]
  },
  {
   "cell_type": "code",
   "execution_count": 19,
   "metadata": {},
   "outputs": [
    {
     "name": "stdout",
     "output_type": "stream",
     "text": [
      "<Solution 0.000 at 0x20d73c6c2b0>\n"
     ]
    }
   ],
   "source": [
    "M= model1.copy()\n",
    "M.reactions.get_by_id('carb_enter_2.7.1.40_PEPDEPHOS__RXN').bounds = (0,0)\n",
    "M.reactions.get_by_id('carb_enter_glucneo_2.7.2.3_PHOSGLYPHOS__RXN').bounds = (0,0)\n",
    "M.reactions.ATP_source_reaction.bounds= (0,0)\n",
    "sol = M.optimize()\n",
    "l = sol.fluxes[abs(sol.fluxes)>1e-6].index\n",
    "print (sol)"
   ]
  },
  {
   "cell_type": "markdown",
   "metadata": {},
   "source": [
    "### n = 1, solver status is \"infeasible\""
   ]
  },
  {
   "cell_type": "code",
   "execution_count": 20,
   "metadata": {},
   "outputs": [
    {
     "name": "stdout",
     "output_type": "stream",
     "text": [
      "<Solution infeasible at 0x20d74121b70>\n"
     ]
    }
   ],
   "source": [
    "M= model1.copy()\n",
    "M.reactions.get_by_id('carb_enter_2.7.1.40_PEPDEPHOS__RXN').bounds = (0,0)\n",
    "M.reactions.get_by_id('carb_enter_glucneo_2.7.2.3_PHOSGLYPHOS__RXN').bounds = (0,0)\n",
    "M.reactions.ATP_source_reaction.bounds= (1,1)\n",
    "M.reactions.get_by_id(\"T_flux_beta__D__glucose\").bounds = (-1,-1)\n",
    "sol = M.optimize()\n",
    "print (sol)"
   ]
  },
  {
   "cell_type": "markdown",
   "metadata": {},
   "source": [
    "### n = 2"
   ]
  },
  {
   "cell_type": "markdown",
   "metadata": {},
   "source": [
    "### Figure S2G"
   ]
  },
  {
   "cell_type": "code",
   "execution_count": 21,
   "metadata": {
    "scrolled": true
   },
   "outputs": [
    {
     "data": {
      "application/vnd.jupyter.widget-view+json": {
       "model_id": "5d580cbe5de642c2b8423042b509228c",
       "version_major": 2,
       "version_minor": 0
      },
      "text/plain": [
       "Builder(hide_secondary_metabolites=False, highlight_missing=True, reaction_data={'Biomass': 0.0, 'Biomass__fuc…"
      ]
     },
     "metadata": {},
     "output_type": "display_data"
    }
   ],
   "source": [
    "M= model1.copy()\n",
    "M.reactions.get_by_id('carb_enter_2.7.1.40_PEPDEPHOS__RXN').bounds = (0,0)\n",
    "M.reactions.get_by_id('carb_enter_glucneo_2.7.2.3_PHOSGLYPHOS__RXN').bounds = (0,0)\n",
    "M.reactions.ATP_source_reaction.bounds= (2,2)\n",
    "sol = M.optimize()\n",
    "\n",
    "b = show_map(sol,map_loc)\n",
    "b"
   ]
  },
  {
   "cell_type": "markdown",
   "metadata": {},
   "source": [
    "### Figure S2H"
   ]
  },
  {
   "cell_type": "code",
   "execution_count": 22,
   "metadata": {
    "scrolled": false
   },
   "outputs": [
    {
     "data": {
      "application/vnd.jupyter.widget-view+json": {
       "model_id": "84c4a7490d124d4c9b0c6d0c910c8994",
       "version_major": 2,
       "version_minor": 0
      },
      "text/plain": [
       "Builder(hide_secondary_metabolites=False, highlight_missing=True, reaction_data={'Biomass': 0.0, 'Biomass__fuc…"
      ]
     },
     "metadata": {},
     "output_type": "display_data"
    }
   ],
   "source": [
    "M= model1.copy()\n",
    "M.reactions.get_by_id('carb_enter_2.7.1.40_PEPDEPHOS__RXN').bounds = (0,0)\n",
    "M.reactions.get_by_id('carb_enter_glucneo_2.7.2.3_PHOSGLYPHOS__RXN').bounds = (0,0)\n",
    "M.reactions.get_by_id('aa_ser_gly_cys_sec_trp_1.1.1.95_PGLYCDEHYDROG__RXN').bounds = (0,0)\n",
    "M.reactions.ATP_source_reaction.bounds= (2,2)\n",
    "sol = M.optimize()\n",
    "\n",
    "b = show_map(sol,map_loc)\n",
    "b"
   ]
  },
  {
   "cell_type": "markdown",
   "metadata": {},
   "source": [
    "### blocking KDGK"
   ]
  },
  {
   "cell_type": "markdown",
   "metadata": {},
   "source": [
    "#### Figure S2I, blocking KDPG, using non phosphorylation pathway"
   ]
  },
  {
   "cell_type": "code",
   "execution_count": 23,
   "metadata": {
    "scrolled": true
   },
   "outputs": [
    {
     "data": {
      "application/vnd.jupyter.widget-view+json": {
       "model_id": "23b76a1e1e0e48c89fa08424039ec64a",
       "version_major": 2,
       "version_minor": 0
      },
      "text/plain": [
       "Builder(hide_secondary_metabolites=False, highlight_missing=True, reaction_data={'Biomass': 0.0, 'Biomass__fuc…"
      ]
     },
     "metadata": {},
     "output_type": "display_data"
    }
   ],
   "source": [
    "M= model1.copy()\n",
    "M.reactions.get_by_id('carb_enter_2.7.1.40_PEPDEPHOS__RXN').bounds = (0,0)\n",
    "M.reactions.get_by_id('carb_enter_glucneo_2.7.2.3_PHOSGLYPHOS__RXN').bounds = (0,0)\n",
    "M.reactions.get_by_id('carb_entner_2.7.1.178_DEHYDDEOXGALACTKIN__RXN').bounds = (0,0)\n",
    "M.reactions.get_by_id('carb_entner_2.7.1.178_DEOXYGLUCONOKIN__RXN').bounds = (0,0)\n",
    "M.reactions.get_by_id('aa_ser_gly_cys_sec_trp_1.1.1.95_PGLYCDEHYDROG__RXN').bounds = (0,0)\n",
    "M.reactions.ATP_source_reaction.bounds= (2,2)\n",
    "sol = M.optimize()\n",
    "b = show_map(sol,map_loc)\n",
    "b"
   ]
  },
  {
   "cell_type": "markdown",
   "metadata": {},
   "source": [
    "#### Figure S2J, blocking KDGK, using non phosphorylation pathway"
   ]
  },
  {
   "cell_type": "code",
   "execution_count": 24,
   "metadata": {
    "scrolled": true
   },
   "outputs": [
    {
     "data": {
      "application/vnd.jupyter.widget-view+json": {
       "model_id": "a287c74a87604bf68cad0f0d1ba2fde8",
       "version_major": 2,
       "version_minor": 0
      },
      "text/plain": [
       "Builder(hide_secondary_metabolites=False, highlight_missing=True, reaction_data={'Biomass': 0.0, 'Biomass__fuc…"
      ]
     },
     "metadata": {},
     "output_type": "display_data"
    }
   ],
   "source": [
    "M= model1.copy()\n",
    "M.reactions.get_by_id('carb_enter_2.7.1.40_PEPDEPHOS__RXN').bounds = (0,0)\n",
    "M.reactions.get_by_id('carb_enter_glucneo_2.7.2.3_PHOSGLYPHOS__RXN').bounds = (0,0)\n",
    "M.reactions.get_by_id('carb_entner_2.7.1.178_DEHYDDEOXGALACTKIN__RXN').bounds = (0,0)\n",
    "M.reactions.get_by_id('carb_entner_2.7.1.178_DEOXYGLUCONOKIN__RXN').bounds = (0,0)\n",
    "M.reactions.get_by_id('carb_anap_4.1.1.31_PEPCARBOX__RXN').bounds = (0,0)\n",
    "\n",
    "M.reactions.ATP_source_reaction.bounds= (2,2)\n",
    "sol = M.optimize()\n",
    "\n",
    "b = show_map(sol,map_loc)\n",
    "b"
   ]
  },
  {
   "cell_type": "markdown",
   "metadata": {},
   "source": [
    "### Blocking GKI"
   ]
  },
  {
   "cell_type": "markdown",
   "metadata": {},
   "source": [
    "#### Figure S2H Blocking GKI,  use spontaneous degradation pathway"
   ]
  },
  {
   "cell_type": "code",
   "execution_count": 25,
   "metadata": {
    "scrolled": true
   },
   "outputs": [
    {
     "data": {
      "application/vnd.jupyter.widget-view+json": {
       "model_id": "df7b215e90c44634b72f53dd18426f76",
       "version_major": 2,
       "version_minor": 0
      },
      "text/plain": [
       "Builder(hide_secondary_metabolites=False, highlight_missing=True, reaction_data={'Biomass': 0.0, 'Biomass__fuc…"
      ]
     },
     "metadata": {},
     "output_type": "display_data"
    }
   ],
   "source": [
    "M= model1.copy()\n",
    "M.reactions.get_by_id('carb_enter_2.7.1.40_PEPDEPHOS__RXN').bounds = (0,0)\n",
    "M.reactions.get_by_id('carb_enter_glucneo_2.7.2.3_PHOSGLYPHOS__RXN').bounds = (0,0)\n",
    "M.reactions.get_by_id('carb_entner_2.7.1.165_GKI__RXN').bounds = (0,0)\n",
    "M.reactions.get_by_id('carb_anap_4.1.1.31_PEPCARBOX__RXN').bounds = (0,0)\n",
    "M.reactions.ATP_source_reaction.bounds= (2,2)\n",
    "sol = M.optimize()\n",
    "l = sol.fluxes[abs(sol.fluxes)>1e-6].index\n",
    "# for rxn in l:\n",
    "#     print (rxn,M.reactions.get_by_id(rxn).reaction,sol.fluxes.loc[rxn])\n",
    "b = show_map(sol,map_loc)\n",
    "b"
   ]
  },
  {
   "cell_type": "markdown",
   "metadata": {},
   "source": [
    "### blocking GKI and spontaneous"
   ]
  },
  {
   "cell_type": "markdown",
   "metadata": {},
   "source": [
    "#### Figure S2K"
   ]
  },
  {
   "cell_type": "code",
   "execution_count": 26,
   "metadata": {
    "scrolled": true
   },
   "outputs": [
    {
     "data": {
      "application/vnd.jupyter.widget-view+json": {
       "model_id": "f2ec3f9946904d41aec9967ebcb38aa0",
       "version_major": 2,
       "version_minor": 0
      },
      "text/plain": [
       "Builder(hide_secondary_metabolites=False, highlight_missing=True, reaction_data={'Biomass': 0.0, 'Biomass__fuc…"
      ]
     },
     "metadata": {},
     "output_type": "display_data"
    }
   ],
   "source": [
    "M= model1.copy()\n",
    "M.reactions.get_by_id('carb_enter_2.7.1.40_PEPDEPHOS__RXN').bounds = (0,0)\n",
    "M.reactions.get_by_id('carb_enter_glucneo_2.7.2.3_PHOSGLYPHOS__RXN').bounds = (0,0)\n",
    "M.reactions.get_by_id('carb_entner_2.7.1.165_GKI__RXN').bounds = (0,0)\n",
    "\n",
    "M.reactions.get_by_id('other_no__pathway_3.6.1.7_BS165362').bounds = (0,0)\n",
    "M.reactions.ATP_source_reaction.bounds= (-2,2)\n",
    "sol = M.optimize()\n",
    "\n",
    "b = show_map(sol,map_loc)\n",
    "b"
   ]
  },
  {
   "cell_type": "markdown",
   "metadata": {},
   "source": [
    "#### Figure S2L"
   ]
  },
  {
   "cell_type": "code",
   "execution_count": 27,
   "metadata": {
    "scrolled": false
   },
   "outputs": [
    {
     "data": {
      "application/vnd.jupyter.widget-view+json": {
       "model_id": "f9faa11c7ab947f8a72cf583b51bb141",
       "version_major": 2,
       "version_minor": 0
      },
      "text/plain": [
       "Builder(hide_secondary_metabolites=False, highlight_missing=True, reaction_data={'Biomass': 0.0, 'Biomass__fuc…"
      ]
     },
     "metadata": {},
     "output_type": "display_data"
    }
   ],
   "source": [
    "M= model1.copy()\n",
    "M.reactions.get_by_id('carb_enter_2.7.1.40_PEPDEPHOS__RXN').bounds = (0,0)\n",
    "M.reactions.get_by_id('carb_enter_glucneo_2.7.2.3_PHOSGLYPHOS__RXN').bounds = (0,0)\n",
    "M.reactions.get_by_id('carb_entner_2.7.1.165_GKI__RXN').bounds = (0,0)\n",
    "M.reactions.get_by_id('other_no__pathway_3.6.1.7_BS165362').bounds = (0,0)\n",
    "\n",
    "M.reactions.get_by_id('aa_ser_gly_cys_sec_trp_1.1.1.95_PGLYCDEHYDROG__RXN').bounds = (0,0)\n",
    "M.reactions.ATP_source_reaction.bounds= (-2,2)\n",
    "sol = M.optimize()\n",
    "\n",
    "b = show_map(sol,map_loc)\n",
    "b"
   ]
  }
 ],
 "metadata": {
  "kernelspec": {
   "display_name": "Python 3",
   "language": "python",
   "name": "python3"
  },
  "language_info": {
   "codemirror_mode": {
    "name": "ipython",
    "version": 3
   },
   "file_extension": ".py",
   "mimetype": "text/x-python",
   "name": "python",
   "nbconvert_exporter": "python",
   "pygments_lexer": "ipython3",
   "version": "3.6.9"
  },
  "toc": {
   "base_numbering": 1,
   "nav_menu": {},
   "number_sections": true,
   "sideBar": true,
   "skip_h1_title": false,
   "title_cell": "Table of Contents",
   "title_sidebar": "Contents",
   "toc_cell": false,
   "toc_position": {
    "height": "calc(100% - 180px)",
    "left": "10px",
    "top": "150px",
    "width": "291.766px"
   },
   "toc_section_display": true,
   "toc_window_display": true
  },
  "varInspector": {
   "cols": {
    "lenName": 16,
    "lenType": 16,
    "lenVar": 40
   },
   "kernels_config": {
    "python": {
     "delete_cmd_postfix": "",
     "delete_cmd_prefix": "del ",
     "library": "var_list.py",
     "varRefreshCmd": "print(var_dic_list())"
    },
    "r": {
     "delete_cmd_postfix": ") ",
     "delete_cmd_prefix": "rm(",
     "library": "var_list.r",
     "varRefreshCmd": "cat(var_dic_list()) "
    }
   },
   "types_to_exclude": [
    "module",
    "function",
    "builtin_function_or_method",
    "instance",
    "_Feature"
   ],
   "window_display": false
  }
 },
 "nbformat": 4,
 "nbformat_minor": 2
}
