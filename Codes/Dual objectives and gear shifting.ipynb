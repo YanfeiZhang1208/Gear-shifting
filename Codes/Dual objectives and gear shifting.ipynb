{
 "cells": [
  {
   "cell_type": "markdown",
   "metadata": {},
   "source": [
    "# Set the environment"
   ]
  },
  {
   "cell_type": "code",
   "execution_count": 1,
   "metadata": {},
   "outputs": [],
   "source": [
    "# set the envoiroment\n",
    "import cobra\n",
    "from cobra import Model, Reaction, Metabolite\n",
    "from cobra.flux_analysis import flux_variability_analysis\n",
    "import pandas as pd\n",
    "import numpy as np\n",
    "import matplotlib.pyplot as plt\n",
    "import glob \n",
    "import escher\n",
    "from escher import Builder\n",
    "from utils import show_map\n",
    "from utils.check_precursor_problem import check_precursor_problem"
   ]
  },
  {
   "cell_type": "markdown",
   "metadata": {},
   "source": [
    "## load the model"
   ]
  },
  {
   "cell_type": "code",
   "execution_count": 2,
   "metadata": {},
   "outputs": [],
   "source": [
    "model = cobra.io.load_json_model(\"../models/updated_model.json\")# Import the model.\n",
    "model.solver = 'glpk'\n",
    "model.reactions.T_flux_oxygen.bounds = (0,0) # block the import of oxygen\n",
    "model.reactions.NGAM.bounds = (0,1000)\n",
    "map_loc = \"../data/new fermentation map.json\""
   ]
  },
  {
   "cell_type": "markdown",
   "metadata": {},
   "source": [
    "## make the bounds of the small model"
   ]
  },
  {
   "cell_type": "code",
   "execution_count": 3,
   "metadata": {
    "scrolled": true
   },
   "outputs": [],
   "source": [
    "model1= model.copy()\n",
    "## add the reaction for the maintainance of NADPH\n",
    "reaction = Reaction('NADPH_recycle')\n",
    "reaction.name = 'NADPH_recycle'\n",
    "reaction.lower_bound = -100.  # This is the default\n",
    "reaction.upper_bound = 1000.  # This is the default\n",
    "model1.add_reactions([reaction])\n",
    "reaction.add_metabolites({'NADPH': -1.0,\n",
    "                         'NADP+': 1.0,\n",
    "                         \"H+\":1.0})\n",
    "reaction.reaction\n",
    "## add the reaction for the maintainance of NADH\n",
    "reaction = Reaction('NADH_recycle')\n",
    "reaction.name = 'NADH_recycle'\n",
    "reaction.lower_bound = -100.  # This is the default\n",
    "reaction.upper_bound = 1000.  # This is the default\n",
    "model1.add_reactions([reaction])\n",
    "reaction.add_metabolites({'NADH': -1.0,\n",
    "                         'NAD+': 1.0,\n",
    "                         \"H+\":1.0})\n",
    "reaction.reaction\n",
    "\n",
    "total_reactions_id = [r.id for r in model1.reactions]\n",
    "small_pathway_reactions = [\"carb_glucneo_1.2.1.13_GAPDHSYNEC__RXN_NAD\",\"carb_glucneo_1.2.1.13_GAPDHSYNEC__RXN_NADP\",\"carb_enter_glucneo_2.7.2.3_PHOSGLYPHOS__RXN\",\n",
    "        \"carb_enter_glucneo_1.2.1.9_1.2.1.9__RXN\",'T_flux_H+','T_trans_H+','T_flux_H2O','T_trans_H2O','T_flux_phosphate','T_trans_phosphate',\n",
    "        'carb_enter_glucneo_5.4.2.1_3PGAREARR__RXN','carb_enter_glucneo_4.2.1.11_2PGADEHYDRAT__RXN',\n",
    "        'carb_enter_2.7.1.40_PEPDEPHOS__RXN','T_flux_D__glyceraldehyde__3__phosphate','NADPH_recycle','NADH_recycle']\n",
    "\n",
    "for r in total_reactions_id:\n",
    "    if r not in small_pathway_reactions:\n",
    "        model1.reactions.get_by_id(r).upper_bound = 0\n",
    "        model1.reactions.get_by_id(r).lower_bound = 0\n",
    "    else:\n",
    "        model1.reactions.get_by_id(r).bounds = (-10, 10)\n",
    "model1.reactions.get_by_id('carb_enter_2.7.1.40_PEPDEPHOS__RXN').bounds = (0,1)\n",
    "model1.reactions.get_by_id(\"carb_enter_glucneo_1.2.1.9_1.2.1.9__RXN\").bounds = (0,1)\n"
   ]
  },
  {
   "cell_type": "markdown",
   "metadata": {},
   "source": [
    "# With variation of n"
   ]
  },
  {
   "cell_type": "markdown",
   "metadata": {},
   "source": [
    "## when 0<=n <=2"
   ]
  },
  {
   "cell_type": "code",
   "execution_count": 4,
   "metadata": {},
   "outputs": [],
   "source": [
    "def different_n (n):     \n",
    "    M = model1.copy()\n",
    "    M.reactions.get_by_id('T_trans_phosphate').bounds = (-10,10)\n",
    "    reaction = Reaction('from_pyruvate_to_GAP')\n",
    "    reaction.name = 'from_pyruvate_to_GAP'\n",
    "    reaction.lower_bound = -0.  # This is the default\n",
    "    reaction.upper_bound = 10.  # This is the default\n",
    "    M.add_reactions([reaction])\n",
    "    reaction.add_metabolites({\"pyruvate\": -1.0,\n",
    "                             \"NAD+\": -1.0,\n",
    "                             \"ATP\": -n,\n",
    "                             \"D__glyceraldehyde__3__phosphate\": 1.0,\n",
    "                             \"NADH\": 1.0,\n",
    "                              \"H+\": 1.0,\n",
    "                             \"ADP\": n})\n",
    "\n",
    "    M.objective = M.reactions.get_by_id('from_pyruvate_to_GAP')\n",
    "    sol = M.optimize()\n",
    "#     l = sol.fluxes[abs(sol.fluxes)>1e-6].index\n",
    "#     for rxn in l:\n",
    "#         print (rxn,M.reactions.get_by_id(rxn).reaction,sol.fluxes.loc[rxn])\n",
    "\n",
    "#     print (\"GAPN flux is \" + str(sol.fluxes.loc['carb_enter_glucneo_1.2.1.9_1.2.1.9__RXN']),\", GAPDH flux is \" + str(-sol.fluxes.loc['carb_enter_glucneo_2.7.2.3_PHOSGLYPHOS__RXN']))\n",
    "    return (str(sol.fluxes.loc['carb_enter_glucneo_1.2.1.9_1.2.1.9__RXN']),str(-sol.fluxes.loc['carb_enter_glucneo_2.7.2.3_PHOSGLYPHOS__RXN'])) "
   ]
  },
  {
   "cell_type": "code",
   "execution_count": 5,
   "metadata": {
    "scrolled": true
   },
   "outputs": [
    {
     "data": {
      "text/html": [
       "<div>\n",
       "<style scoped>\n",
       "    .dataframe tbody tr th:only-of-type {\n",
       "        vertical-align: middle;\n",
       "    }\n",
       "\n",
       "    .dataframe tbody tr th {\n",
       "        vertical-align: top;\n",
       "    }\n",
       "\n",
       "    .dataframe thead th {\n",
       "        text-align: right;\n",
       "    }\n",
       "</style>\n",
       "<table border=\"1\" class=\"dataframe\">\n",
       "  <thead>\n",
       "    <tr style=\"text-align: right;\">\n",
       "      <th></th>\n",
       "      <th>n</th>\n",
       "      <th>VGAPN</th>\n",
       "      <th>VGAPDH</th>\n",
       "    </tr>\n",
       "  </thead>\n",
       "  <tbody>\n",
       "    <tr>\n",
       "      <td>0</td>\n",
       "      <td>0.0</td>\n",
       "      <td>1</td>\n",
       "      <td>-0.5</td>\n",
       "    </tr>\n",
       "    <tr>\n",
       "      <td>1</td>\n",
       "      <td>0.2</td>\n",
       "      <td>1</td>\n",
       "      <td>-0.444444</td>\n",
       "    </tr>\n",
       "    <tr>\n",
       "      <td>2</td>\n",
       "      <td>0.4</td>\n",
       "      <td>1</td>\n",
       "      <td>-0.375</td>\n",
       "    </tr>\n",
       "    <tr>\n",
       "      <td>3</td>\n",
       "      <td>0.6</td>\n",
       "      <td>1</td>\n",
       "      <td>-0.285714</td>\n",
       "    </tr>\n",
       "    <tr>\n",
       "      <td>4</td>\n",
       "      <td>0.8</td>\n",
       "      <td>1</td>\n",
       "      <td>-0.166667</td>\n",
       "    </tr>\n",
       "    <tr>\n",
       "      <td>5</td>\n",
       "      <td>1.0</td>\n",
       "      <td>1</td>\n",
       "      <td>-0</td>\n",
       "    </tr>\n",
       "    <tr>\n",
       "      <td>6</td>\n",
       "      <td>1.2</td>\n",
       "      <td>0.8</td>\n",
       "      <td>0.2</td>\n",
       "    </tr>\n",
       "    <tr>\n",
       "      <td>7</td>\n",
       "      <td>1.4</td>\n",
       "      <td>0.6</td>\n",
       "      <td>0.4</td>\n",
       "    </tr>\n",
       "    <tr>\n",
       "      <td>8</td>\n",
       "      <td>1.6</td>\n",
       "      <td>0.4</td>\n",
       "      <td>0.6</td>\n",
       "    </tr>\n",
       "    <tr>\n",
       "      <td>9</td>\n",
       "      <td>1.8</td>\n",
       "      <td>0.2</td>\n",
       "      <td>0.8</td>\n",
       "    </tr>\n",
       "    <tr>\n",
       "      <td>10</td>\n",
       "      <td>2.0</td>\n",
       "      <td>6.00407e-16</td>\n",
       "      <td>1</td>\n",
       "    </tr>\n",
       "  </tbody>\n",
       "</table>\n",
       "</div>"
      ],
      "text/plain": [
       "      n        VGAPN    VGAPDH\n",
       "0   0.0  1           -0.5     \n",
       "1   0.2  1           -0.444444\n",
       "2   0.4  1           -0.375   \n",
       "3   0.6  1           -0.285714\n",
       "4   0.8  1           -0.166667\n",
       "5   1.0  1           -0       \n",
       "6   1.2  0.8          0.2     \n",
       "7   1.4  0.6          0.4     \n",
       "8   1.6  0.4          0.6     \n",
       "9   1.8  0.2          0.8     \n",
       "10  2.0  6.00407e-16  1       "
      ]
     },
     "execution_count": 5,
     "metadata": {},
     "output_type": "execute_result"
    }
   ],
   "source": [
    "df_Variation_n = pd.DataFrame(columns=['n', 'VGAPN', 'VGAPDH'])\n",
    "df_Variation_n[\"n\"]=np.arange(0, 2.1, step=0.2)\n",
    "df_Variation_n = df_Variation_n.set_index([\"n\"])\n",
    "for n in df_Variation_n.index:\n",
    "    df_Variation_n[\"VGAPN\"].loc[n] = float(different_n(n)[0])\n",
    "    df_Variation_n[\"VGAPDH\"].loc[n] = float(different_n(n)[1])\n",
    "df_Variation_n=df_Variation_n.reset_index()\n",
    "df_Variation_n"
   ]
  },
  {
   "cell_type": "markdown",
   "metadata": {},
   "source": [
    "## when n >2, for example n=3,  no solution"
   ]
  },
  {
   "cell_type": "code",
   "execution_count": 6,
   "metadata": {
    "scrolled": true
   },
   "outputs": [
    {
     "name": "stdout",
     "output_type": "stream",
     "text": [
      "GAPN flux is 0.0 , GAPDH flux is -0.0\n"
     ]
    }
   ],
   "source": [
    "M = model1.copy()\n",
    "M.reactions.get_by_id('T_trans_phosphate').bounds = (-10,10)\n",
    "\n",
    "\n",
    "reaction = Reaction('from_pyruvate_to_GAP')\n",
    "reaction.name = 'from_pyruvate_to_GAP'\n",
    "reaction.lower_bound = -0.  # This is the default\n",
    "reaction.upper_bound = 10.  # This is the default\n",
    "M.add_reactions([reaction])\n",
    "reaction.add_metabolites({\"pyruvate\": -1.0,\n",
    "                         \"NAD+\": -1.0,\n",
    "                         \"ATP\": -3,\n",
    "                         \"D__glyceraldehyde__3__phosphate\": 1.0,\n",
    "                         \"NADH\": 1.0,\n",
    "                          \"H+\": 1.0,\n",
    "                         \"ADP\": 3})\n",
    "\n",
    "M.objective = M.reactions.get_by_id('from_pyruvate_to_GAP')\n",
    "sol = M.optimize()\n",
    "l = sol.fluxes[abs(sol.fluxes)>1e-6].index\n",
    "for rxn in l:\n",
    "    print (rxn,sol.fluxes.loc[rxn])\n",
    "print (\"GAPN flux is \" + str(sol.fluxes.loc['carb_enter_glucneo_1.2.1.9_1.2.1.9__RXN']),\", GAPDH flux is \" + str(-sol.fluxes.loc['carb_enter_glucneo_2.7.2.3_PHOSGLYPHOS__RXN']))\n",
    "# b = show_map(sol,map_loc)\n",
    "# b "
   ]
  },
  {
   "cell_type": "markdown",
   "metadata": {},
   "source": [
    "# when adding ATPase reaction"
   ]
  },
  {
   "cell_type": "code",
   "execution_count": 7,
   "metadata": {},
   "outputs": [],
   "source": [
    "M= model.copy()\n",
    "\n",
    "reaction = Reaction('T_flux_pyruvate')\n",
    "reaction.name = 'T_flux_pyruvate'\n",
    "reaction.lower_bound = 0.  # This is the default\n",
    "reaction.upper_bound = 1000.  # This is the default\n",
    "M.add_reactions([reaction])\n",
    "reaction.add_metabolites({'pyruvate': -1.0})\n",
    "reaction.reaction\n",
    "\n",
    "reaction = Reaction('T_flux_D__glyceraldehyde__3__phosphate')\n",
    "reaction.name = 'T_flux_D__glyceraldehyde__3__phosphate'\n",
    "reaction.lower_bound = -1  # This is the default\n",
    "reaction.upper_bound = 0  # This is the default\n",
    "M.add_reactions([reaction])\n",
    "reaction.add_metabolites({\n",
    "                         \"D__glyceraldehyde__3__phosphate\": -1.0})\n",
    "reaction.reaction\n",
    "## add the reaction for the maintainance of NADPH\n",
    "reaction = Reaction('NADPH_recycle')\n",
    "reaction.name = 'NADPH_recycle'\n",
    "reaction.lower_bound = -100.  # This is the default\n",
    "reaction.upper_bound = 1000.  # This is the default\n",
    "M.add_reactions([reaction])\n",
    "reaction.add_metabolites({'NADPH': -1.0,\n",
    "                         'NADP+': 1.0,\n",
    "                         \"H+\":1.0})\n",
    "reaction.reaction\n",
    "## add the reaction for the maintainance of NADH\n",
    "reaction = Reaction('NADH_recycle')\n",
    "reaction.name = 'NADH_recycle'\n",
    "reaction.lower_bound = -100.  # This is the default\n",
    "reaction.upper_bound = 1000.  # This is the default\n",
    "M.add_reactions([reaction])\n",
    "reaction.add_metabolites({'NADH': -1.0,\n",
    "                         'NAD+': 1.0,\n",
    "                         \"H+\":1.0})\n",
    "reaction.reaction\n",
    "total_reactions_id = [r.id for r in M.reactions]\n",
    "small_pathway_reactions = [\"carb_glucneo_1.2.1.13_GAPDHSYNEC__RXN_NAD\",\"carb_glucneo_1.2.1.13_GAPDHSYNEC__RXN_NADP\",\"carb_enter_glucneo_2.7.2.3_PHOSGLYPHOS__RXN\",\n",
    "        \"carb_enter_glucneo_1.2.1.9_1.2.1.9__RXN\",'T_flux_H+','T_trans_H+','T_flux_H2O','T_trans_H2O','T_flux_phosphate','T_trans_phosphate',\n",
    "        'carb_enter_glucneo_5.4.2.1_3PGAREARR__RXN','carb_enter_glucneo_4.2.1.11_2PGADEHYDRAT__RXN',\n",
    "        'carb_enter_2.7.1.40_PEPDEPHOS__RXN','T_flux_pyruvate','T_flux_D__glyceraldehyde__3__phosphate','NADPH_recycle','NADH_recycle']\n",
    "\n",
    "for r in total_reactions_id:\n",
    "    if r not in small_pathway_reactions:\n",
    "        M.reactions.get_by_id(r).upper_bound = 0\n",
    "        M.reactions.get_by_id(r).lower_bound = 0\n",
    "    else:\n",
    "        M.reactions.get_by_id(r).bounds = (-10, 10)\n",
    "M.reactions.get_by_id(\"carb_enter_glucneo_1.2.1.9_1.2.1.9__RXN\").bounds = (0,1)"
   ]
  },
  {
   "cell_type": "code",
   "execution_count": 8,
   "metadata": {},
   "outputs": [],
   "source": [
    "def different_ATPase_bound (a,b):\n",
    "    M.reactions.get_by_id('NGAM').bounds =(a,a)\n",
    "    M.reactions.get_by_id('T_flux_D__glyceraldehyde__3__phosphate').bounds =(-b,0)\n",
    "    M.objective = M.reactions.get_by_id('T_flux_pyruvate')\n",
    "    sol = M.optimize()\n",
    "    l = sol.fluxes[abs(sol.fluxes)>1e-6].index\n",
    "#     for rxn in l:\n",
    "#         print (rxn,M.reactions.get_by_id(rxn).reaction,sol.fluxes.loc[rxn],M.reactions.get_by_id(rxn).bounds)\n",
    "    return(sol.fluxes.loc['carb_enter_glucneo_1.2.1.9_1.2.1.9__RXN'],-sol.fluxes.loc['carb_enter_glucneo_2.7.2.3_PHOSGLYPHOS__RXN'],sol.fluxes.loc['carb_enter_2.7.1.40_PEPDEPHOS__RXN'])"
   ]
  },
  {
   "cell_type": "markdown",
   "metadata": {},
   "source": [
    "## T_flux_D__glyceraldehyde__3__phosphate bound was set to (-1,1)"
   ]
  },
  {
   "cell_type": "code",
   "execution_count": 9,
   "metadata": {},
   "outputs": [],
   "source": [
    "df_Variation_ATPase = pd.DataFrame(columns=['ATPase', 'VGAPN', 'VGAPDH',\"n\"])\n",
    "df_Variation_ATPase[\"ATPase\"]= np.arange(0, 2.1, step=0.25)\n",
    "df_Variation_ATPase = df_Variation_ATPase.set_index([\"ATPase\"])\n",
    "for ATPase in df_Variation_ATPase.index:\n",
    "    df_Variation_ATPase[\"VGAPN\"].loc[ATPase] = different_ATPase_bound(ATPase,1)[0]\n",
    "    df_Variation_ATPase[\"VGAPDH\"].loc[ATPase] = different_ATPase_bound(ATPase,1)[1]\n",
    "    df_Variation_ATPase[\"n\"].loc[ATPase] = (df_Variation_ATPase[\"VGAPN\"].loc[ATPase]+2*df_Variation_ATPase[\"VGAPDH\"].loc[ATPase])/different_ATPase_bound(ATPase,1)[2]"
   ]
  },
  {
   "cell_type": "code",
   "execution_count": 10,
   "metadata": {
    "scrolled": true
   },
   "outputs": [
    {
     "data": {
      "text/html": [
       "<div>\n",
       "<style scoped>\n",
       "    .dataframe tbody tr th:only-of-type {\n",
       "        vertical-align: middle;\n",
       "    }\n",
       "\n",
       "    .dataframe tbody tr th {\n",
       "        vertical-align: top;\n",
       "    }\n",
       "\n",
       "    .dataframe thead th {\n",
       "        text-align: right;\n",
       "    }\n",
       "</style>\n",
       "<table border=\"1\" class=\"dataframe\">\n",
       "  <thead>\n",
       "    <tr style=\"text-align: right;\">\n",
       "      <th></th>\n",
       "      <th>VGAPN</th>\n",
       "      <th>VGAPDH</th>\n",
       "      <th>n</th>\n",
       "    </tr>\n",
       "    <tr>\n",
       "      <th>ATPase</th>\n",
       "      <th></th>\n",
       "      <th></th>\n",
       "      <th></th>\n",
       "    </tr>\n",
       "  </thead>\n",
       "  <tbody>\n",
       "    <tr>\n",
       "      <td>0.00</td>\n",
       "      <td>1</td>\n",
       "      <td>-0.5</td>\n",
       "      <td>0</td>\n",
       "    </tr>\n",
       "    <tr>\n",
       "      <td>0.25</td>\n",
       "      <td>1</td>\n",
       "      <td>-0.375</td>\n",
       "      <td>0.4</td>\n",
       "    </tr>\n",
       "    <tr>\n",
       "      <td>0.50</td>\n",
       "      <td>1</td>\n",
       "      <td>-0.25</td>\n",
       "      <td>0.666667</td>\n",
       "    </tr>\n",
       "    <tr>\n",
       "      <td>0.75</td>\n",
       "      <td>1</td>\n",
       "      <td>-0.125</td>\n",
       "      <td>0.857143</td>\n",
       "    </tr>\n",
       "    <tr>\n",
       "      <td>1.00</td>\n",
       "      <td>1</td>\n",
       "      <td>-0</td>\n",
       "      <td>1</td>\n",
       "    </tr>\n",
       "    <tr>\n",
       "      <td>1.25</td>\n",
       "      <td>0.75</td>\n",
       "      <td>0.25</td>\n",
       "      <td>1.25</td>\n",
       "    </tr>\n",
       "    <tr>\n",
       "      <td>1.50</td>\n",
       "      <td>0.5</td>\n",
       "      <td>0.5</td>\n",
       "      <td>1.5</td>\n",
       "    </tr>\n",
       "    <tr>\n",
       "      <td>1.75</td>\n",
       "      <td>0.25</td>\n",
       "      <td>0.75</td>\n",
       "      <td>1.75</td>\n",
       "    </tr>\n",
       "    <tr>\n",
       "      <td>2.00</td>\n",
       "      <td>0</td>\n",
       "      <td>1</td>\n",
       "      <td>2</td>\n",
       "    </tr>\n",
       "  </tbody>\n",
       "</table>\n",
       "</div>"
      ],
      "text/plain": [
       "       VGAPN VGAPDH         n\n",
       "ATPase                       \n",
       "0.00    1    -0.5    0       \n",
       "0.25    1    -0.375  0.4     \n",
       "0.50    1    -0.25   0.666667\n",
       "0.75    1    -0.125  0.857143\n",
       "1.00    1    -0      1       \n",
       "1.25    0.75  0.25   1.25    \n",
       "1.50    0.5   0.5    1.5     \n",
       "1.75    0.25  0.75   1.75    \n",
       "2.00    0     1      2       "
      ]
     },
     "execution_count": 10,
     "metadata": {},
     "output_type": "execute_result"
    }
   ],
   "source": [
    "df_Variation_ATPase"
   ]
  },
  {
   "cell_type": "markdown",
   "metadata": {},
   "source": [
    "## T_flux_D__glyceraldehyde__3__phosphate bound was set to (-1.5,1.5)"
   ]
  },
  {
   "cell_type": "code",
   "execution_count": 11,
   "metadata": {},
   "outputs": [],
   "source": [
    "df_Variation_ATPase_with_high_GAP = pd.DataFrame(columns=['ATPase', 'VGAPN', 'VGAPDH',\"n\"])\n",
    "df_Variation_ATPase_with_high_GAP[\"ATPase\"]= np.arange(0, 3.1, step=0.25)\n",
    "df_Variation_ATPase_with_high_GAP = df_Variation_ATPase_with_high_GAP.set_index([\"ATPase\"])\n",
    "for ATPase in df_Variation_ATPase_with_high_GAP.index:\n",
    "    df_Variation_ATPase_with_high_GAP[\"VGAPN\"].loc[ATPase] = different_ATPase_bound(ATPase,1.5)[0]\n",
    "    df_Variation_ATPase_with_high_GAP[\"VGAPDH\"].loc[ATPase] = different_ATPase_bound(ATPase,1.5)[1]\n",
    "    df_Variation_ATPase_with_high_GAP[\"n\"].loc[ATPase] = (df_Variation_ATPase_with_high_GAP[\"VGAPN\"].loc[ATPase]+2*df_Variation_ATPase_with_high_GAP[\"VGAPDH\"].loc[ATPase])/different_ATPase_bound(ATPase,1.5)[2]"
   ]
  },
  {
   "cell_type": "code",
   "execution_count": 12,
   "metadata": {
    "scrolled": true
   },
   "outputs": [
    {
     "data": {
      "text/html": [
       "<div>\n",
       "<style scoped>\n",
       "    .dataframe tbody tr th:only-of-type {\n",
       "        vertical-align: middle;\n",
       "    }\n",
       "\n",
       "    .dataframe tbody tr th {\n",
       "        vertical-align: top;\n",
       "    }\n",
       "\n",
       "    .dataframe thead th {\n",
       "        text-align: right;\n",
       "    }\n",
       "</style>\n",
       "<table border=\"1\" class=\"dataframe\">\n",
       "  <thead>\n",
       "    <tr style=\"text-align: right;\">\n",
       "      <th></th>\n",
       "      <th>VGAPN</th>\n",
       "      <th>VGAPDH</th>\n",
       "      <th>n</th>\n",
       "    </tr>\n",
       "    <tr>\n",
       "      <th>ATPase</th>\n",
       "      <th></th>\n",
       "      <th></th>\n",
       "      <th></th>\n",
       "    </tr>\n",
       "  </thead>\n",
       "  <tbody>\n",
       "    <tr>\n",
       "      <td>0.00</td>\n",
       "      <td>1</td>\n",
       "      <td>-0.5</td>\n",
       "      <td>-1.33227e-15</td>\n",
       "    </tr>\n",
       "    <tr>\n",
       "      <td>0.25</td>\n",
       "      <td>1</td>\n",
       "      <td>-0.375</td>\n",
       "      <td>0.4</td>\n",
       "    </tr>\n",
       "    <tr>\n",
       "      <td>0.50</td>\n",
       "      <td>1</td>\n",
       "      <td>-0.25</td>\n",
       "      <td>0.666667</td>\n",
       "    </tr>\n",
       "    <tr>\n",
       "      <td>0.75</td>\n",
       "      <td>1</td>\n",
       "      <td>-0.125</td>\n",
       "      <td>0.857143</td>\n",
       "    </tr>\n",
       "    <tr>\n",
       "      <td>1.00</td>\n",
       "      <td>1</td>\n",
       "      <td>-6.01255e-16</td>\n",
       "      <td>1</td>\n",
       "    </tr>\n",
       "    <tr>\n",
       "      <td>1.25</td>\n",
       "      <td>1</td>\n",
       "      <td>0.125</td>\n",
       "      <td>1.11111</td>\n",
       "    </tr>\n",
       "    <tr>\n",
       "      <td>1.50</td>\n",
       "      <td>1</td>\n",
       "      <td>0.25</td>\n",
       "      <td>1.2</td>\n",
       "    </tr>\n",
       "    <tr>\n",
       "      <td>1.75</td>\n",
       "      <td>1</td>\n",
       "      <td>0.375</td>\n",
       "      <td>1.27273</td>\n",
       "    </tr>\n",
       "    <tr>\n",
       "      <td>2.00</td>\n",
       "      <td>1</td>\n",
       "      <td>0.5</td>\n",
       "      <td>1.33333</td>\n",
       "    </tr>\n",
       "    <tr>\n",
       "      <td>2.25</td>\n",
       "      <td>0.75</td>\n",
       "      <td>0.75</td>\n",
       "      <td>1.5</td>\n",
       "    </tr>\n",
       "    <tr>\n",
       "      <td>2.50</td>\n",
       "      <td>0.5</td>\n",
       "      <td>1</td>\n",
       "      <td>1.66667</td>\n",
       "    </tr>\n",
       "    <tr>\n",
       "      <td>2.75</td>\n",
       "      <td>0.25</td>\n",
       "      <td>1.25</td>\n",
       "      <td>1.83333</td>\n",
       "    </tr>\n",
       "    <tr>\n",
       "      <td>3.00</td>\n",
       "      <td>0</td>\n",
       "      <td>1.5</td>\n",
       "      <td>2</td>\n",
       "    </tr>\n",
       "  </tbody>\n",
       "</table>\n",
       "</div>"
      ],
      "text/plain": [
       "       VGAPN       VGAPDH            n\n",
       "ATPase                                \n",
       "0.00    1    -0.5         -1.33227e-15\n",
       "0.25    1    -0.375        0.4        \n",
       "0.50    1    -0.25         0.666667   \n",
       "0.75    1    -0.125        0.857143   \n",
       "1.00    1    -6.01255e-16  1          \n",
       "1.25    1     0.125        1.11111    \n",
       "1.50    1     0.25         1.2        \n",
       "1.75    1     0.375        1.27273    \n",
       "2.00    1     0.5          1.33333    \n",
       "2.25    0.75  0.75         1.5        \n",
       "2.50    0.5   1            1.66667    \n",
       "2.75    0.25  1.25         1.83333    \n",
       "3.00    0     1.5          2          "
      ]
     },
     "execution_count": 12,
     "metadata": {},
     "output_type": "execute_result"
    }
   ],
   "source": [
    "df_Variation_ATPase_with_high_GAP"
   ]
  },
  {
   "cell_type": "markdown",
   "metadata": {},
   "source": [
    "# Figure 1"
   ]
  },
  {
   "cell_type": "code",
   "execution_count": 13,
   "metadata": {
    "scrolled": true
   },
   "outputs": [
    {
     "data": {
      "image/png": "[encoded data removed]",
      "text/plain": [
       "<Figure size 504x432 with 3 Axes>"
      ]
     },
     "metadata": {
      "needs_background": "light"
     },
     "output_type": "display_data"
    }
   ],
   "source": [
    "import matplotlib\n",
    "import matplotlib.pyplot as plt\n",
    "plt.rcParams[\"font.family\"] = \"Times New Roman\"\n",
    "fig = plt.figure(figsize = (7,6))\n",
    "\n",
    "ax1 = plt.subplot2grid((2, 2), (0, 0), colspan=1)\n",
    "ax2 = plt.subplot2grid((2, 2), (0, 1), colspan=1)\n",
    "ax3 = plt.subplot2grid((2, 2), (1, 0), colspan=1)\n",
    "legend_properties = {'weight':'bold'}\n",
    "\n",
    "ax1.plot(df_Variation_n[\"n\"],df_Variation_n[\"VGAPN\"],\"s-\",color='black', label = \"$V_{GAPN}$\")\n",
    "ax1.plot(df_Variation_n[\"n\"],df_Variation_n[\"VGAPDH\"],\"o-\",color='red',label = \"$V_{GAPDH}$\")\n",
    "\n",
    "ax1.legend(prop={\"size\":11,\"weight\":\"bold\"}, loc='upper left', borderaxespad=0.4)\n",
    "ax1.text(-1.25, 2.4, 'A',  fontsize = 14, color =\"black\")\n",
    "# ax1.set_yticklabels([\"-1.0\",\"-0.5\",\"0\",\"0.5\",\"1.0\",\"1.5\",\"2.0\"],fontsize = 10,fontweight = \"bold\")\n",
    "ax1.set_yticks(np.arange(-0.5, 2.4, step=0.4))\n",
    "ax1.set_xticks(np.arange(-0, 2.4, step=0.5))\n",
    "ax1.set_ylim(-0.75, 2.4)\n",
    "ax1.set_xlim (-0.5,2.1)\n",
    "ax1.set_xlabel(\"n\", fontsize = 12, fontweight = \"bold\",labelpad=6)\n",
    "ax1.set_ylabel(\"Fermentation flux\", fontsize = 12, fontweight = \"bold\",labelpad=6)\n",
    "\n",
    "ax2.plot(df_Variation_ATPase.index,df_Variation_ATPase[\"VGAPN\"],\"s-\",color='black',label = \"$V_{GAPN}$\")\n",
    "ax2.plot(df_Variation_ATPase.index,df_Variation_ATPase[\"VGAPDH\"],\"o-\",color='red',label = \"$V_{GAPDH}$\")\n",
    "ax2.plot(df_Variation_ATPase.index,df_Variation_ATPase[\"n\"],\"^-\",color='blue',label = \"n\")\n",
    "# ax.plot(figure_S6[\"X\"],figure_S6[\"-Jp/Jc total\"],color='green',label = \"-Jp/Jc total\")\n",
    "# ax2.plot(figure_S6[\"X\"],figure_S6[\"-Jp/Jc for Optimal Z = q/2X\"],color='purple', label = \"n for optimal \\n Z = q/2X\")\n",
    "\n",
    "ax2.legend(prop={\"size\":11,\"weight\":\"bold\"}, loc='upper left', borderaxespad=0.5)\n",
    "ax2.text(-1.25, 2.4, 'B',  fontsize = 14, color =\"black\")\n",
    "ax2.set_yticks(np.arange(-0.5, 2.4, step=0.5))\n",
    "ax2.set_xticks(np.arange(-0, 2.4, step=0.5))\n",
    "ax2.set_ylim(-0.75, 2.4)\n",
    "ax2.set_xlim (-0.5,2.1)\n",
    "ax2.set_xlabel(\"ATPase\", fontsize = 12, fontweight = \"bold\",labelpad=6)\n",
    "ax2.set_ylabel(\"Fermentation flux or n\", fontsize = 12, fontweight = \"bold\",labelpad=6)\n",
    "\n",
    "\n",
    "ax3.plot(df_Variation_ATPase_with_high_GAP.index,df_Variation_ATPase_with_high_GAP[\"VGAPN\"],\"s-\",color='black',label = \"$V_{GAPN}$\")\n",
    "ax3.plot(df_Variation_ATPase_with_high_GAP.index,df_Variation_ATPase_with_high_GAP[\"VGAPDH\"],\"o-\",color='red',label = \"$V_{GAPDH}$\")\n",
    "ax3.plot(df_Variation_ATPase_with_high_GAP.index,df_Variation_ATPase_with_high_GAP[\"n\"],\"^-\",color='blue',label = \"n\")\n",
    "\n",
    "ax3.legend(prop={\"size\":11,\"weight\":\"bold\"}, loc='upper left', borderaxespad=0.5)\n",
    "# ax3.text(-0.37, 3.5, 'C',  fontsize = 14, color =\"black\")\n",
    "ax3.text(-1.6, 2.4, 'C',  fontsize = 14, color =\"black\")\n",
    "ax3.set_yticks(np.arange(-0.5, 2.4, step=0.5))\n",
    "ax3.set_xticks(np.arange(-0, 3.1, step=0.5))\n",
    "ax3.set_ylim([-0.75,2.4])\n",
    "ax3.set_xlim ([-0.5,3.1])\n",
    "ax3.set_xlabel(\"ATP synthesis flux\", fontsize = 12, fontweight = \"bold\",labelpad=6)\n",
    "ax3.set_ylabel(\"Fermentation flux or n\", fontsize = 12, fontweight = \"bold\",labelpad=6)\n",
    "\n",
    "plt.yticks(fontsize = 11,fontweight = \"bold\")\n",
    "plt.xticks(fontsize = 11,fontweight = \"bold\")\n",
    "# matplotlib.rc('ytick', labelsize=12) \n",
    "plt.tight_layout()\n",
    "\n",
    "plt.savefig('../figures/Figure 1.png', dpi=300)\n",
    "plt.show()"
   ]
  },
  {
   "cell_type": "code",
   "execution_count": 14,
   "metadata": {},
   "outputs": [],
   "source": [
    "def different_ATPase_bound (a,b):\n",
    "    M.reactions.get_by_id('NGAM').bounds =(a,a)\n",
    "    M.reactions.get_by_id('T_flux_D__glyceraldehyde__3__phosphate').bounds =(-b,0)\n",
    "    M.objective = M.reactions.get_by_id('T_flux_pyruvate')\n",
    "    sol = M.optimize()\n",
    "    l = sol.fluxes[abs(sol.fluxes)>1e-6].index\n",
    "    for rxn in l:\n",
    "        print (rxn,M.reactions.get_by_id(rxn).reaction,sol.fluxes.loc[rxn],M.reactions.get_by_id(rxn).bounds)\n",
    "    print (\"GAPN flux is \" + str(sol.fluxes.loc['carb_enter_glucneo_1.2.1.9_1.2.1.9__RXN']),\", GAPDH flux is \" + str(-sol.fluxes.loc['carb_enter_glucneo_2.7.2.3_PHOSGLYPHOS__RXN']))\n",
    "    print (\", ATPase flux is \" + str(sol.fluxes.loc['NGAM']))\n",
    "    b = show_map(sol,map_loc)\n",
    "    return(b)"
   ]
  },
  {
   "cell_type": "code",
   "execution_count": null,
   "metadata": {},
   "outputs": [],
   "source": []
  }
 ],
 "metadata": {
  "kernelspec": {
   "display_name": "Python 3",
   "language": "python",
   "name": "python3"
  },
  "language_info": {
   "codemirror_mode": {
    "name": "ipython",
    "version": 3
   },
   "file_extension": ".py",
   "mimetype": "text/x-python",
   "name": "python",
   "nbconvert_exporter": "python",
   "pygments_lexer": "ipython3",
   "version": "3.6.9"
  },
  "toc": {
   "base_numbering": 1,
   "nav_menu": {},
   "number_sections": true,
   "sideBar": true,
   "skip_h1_title": false,
   "title_cell": "Table of Contents",
   "title_sidebar": "Contents",
   "toc_cell": false,
   "toc_position": {
    "height": "calc(100% - 180px)",
    "left": "10px",
    "top": "150px",
    "width": "327.688px"
   },
   "toc_section_display": true,
   "toc_window_display": true
  },
  "varInspector": {
   "cols": {
    "lenName": 16,
    "lenType": 16,
    "lenVar": 40
   },
   "kernels_config": {
    "python": {
     "delete_cmd_postfix": "",
     "delete_cmd_prefix": "del ",
     "library": "var_list.py",
     "varRefreshCmd": "print(var_dic_list())"
    },
    "r": {
     "delete_cmd_postfix": ") ",
     "delete_cmd_prefix": "rm(",
     "library": "var_list.r",
     "varRefreshCmd": "cat(var_dic_list()) "
    }
   },
   "types_to_exclude": [
    "module",
    "function",
    "builtin_function_or_method",
    "instance",
    "_Feature"
   ],
   "window_display": false
  }
 },
 "nbformat": 4,
 "nbformat_minor": 2
}
