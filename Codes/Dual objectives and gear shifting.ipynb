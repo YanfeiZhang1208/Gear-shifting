{
 "cells": [
  {
   "cell_type": "markdown",
   "metadata": {},
   "source": [
    "# Set the environment"
   ]
  },
  {
   "cell_type": "code",
   "execution_count": 1,
   "metadata": {},
   "outputs": [],
   "source": [
    "# set the envoiroment\n",
    "import cobra\n",
    "from cobra import Model, Reaction, Metabolite\n",
    "from cobra.flux_analysis import flux_variability_analysis\n",
    "import pandas as pd\n",
    "import numpy as np\n",
    "import matplotlib.pyplot as plt\n",
    "import glob \n",
    "import escher\n",
    "from escher import Builder\n",
    "from utils import show_map\n",
    "from utils.check_precursor_problem import check_precursor_problem"
   ]
  },
  {
   "cell_type": "markdown",
   "metadata": {},
   "source": [
    "## load the model"
   ]
  },
  {
   "cell_type": "code",
   "execution_count": 2,
   "metadata": {},
   "outputs": [],
   "source": [
    "model = cobra.io.load_json_model(\"../models/updated_model.json\")# Import the model.\n",
    "model.solver = 'glpk'\n",
    "model.reactions.T_flux_oxygen.bounds = (0,0) # block the import of oxygen\n",
    "model.reactions.NGAM.bounds = (0,1000)\n",
    "map_loc = \"../data/fermentation.json\""
   ]
  },
  {
   "cell_type": "markdown",
   "metadata": {},
   "source": [
    "## make the bounds of the small model"
   ]
  },
  {
   "cell_type": "code",
   "execution_count": 3,
   "metadata": {
    "scrolled": true
   },
   "outputs": [],
   "source": [
    "model1= model.copy()\n",
    "## add the reaction for the maintainance of NADPH\n",
    "reaction = Reaction('NADPH_recycle')\n",
    "reaction.name = 'NADPH_recycle'\n",
    "reaction.lower_bound = -100.  # This is the default\n",
    "reaction.upper_bound = 1000.  # This is the default\n",
    "model1.add_reactions([reaction])\n",
    "reaction.add_metabolites({'NADPH': -1.0,\n",
    "                         'NADP+': 1.0,\n",
    "                         \"H+\":1.0})\n",
    "reaction.reaction\n",
    "## add the reaction for the maintainance of NADH\n",
    "reaction = Reaction('NADH_recycle')\n",
    "reaction.name = 'NADH_recycle'\n",
    "reaction.lower_bound = -100.  # This is the default\n",
    "reaction.upper_bound = 1000.  # This is the default\n",
    "model1.add_reactions([reaction])\n",
    "reaction.add_metabolites({'NADH': -1.0,\n",
    "                         'NAD+': 1.0,\n",
    "                         \"H+\":1.0})\n",
    "reaction.reaction\n",
    "\n",
    "total_reactions_id = [r.id for r in model1.reactions]\n",
    "small_pathway_reactions = [\"carb_glucneo_1.2.1.13_GAPDHSYNEC__RXN_NAD\",\"carb_glucneo_1.2.1.13_GAPDHSYNEC__RXN_NADP\",\"carb_enter_glucneo_2.7.2.3_PHOSGLYPHOS__RXN\",\n",
    "        \"carb_enter_glucneo_1.2.1.9_1.2.1.9__RXN\",'T_flux_H+','T_trans_H+','T_flux_H2O','T_trans_H2O','T_flux_phosphate','T_trans_phosphate',\n",
    "        'carb_enter_glucneo_5.4.2.1_3PGAREARR__RXN','carb_enter_glucneo_4.2.1.11_2PGADEHYDRAT__RXN',\n",
    "        'carb_enter_2.7.1.40_PEPDEPHOS__RXN','T_flux_D__glyceraldehyde__3__phosphate','NADPH_recycle','NADH_recycle']\n",
    "\n",
    "for r in total_reactions_id:\n",
    "    if r not in small_pathway_reactions:\n",
    "        model1.reactions.get_by_id(r).upper_bound = 0\n",
    "        model1.reactions.get_by_id(r).lower_bound = 0\n",
    "    else:\n",
    "        model1.reactions.get_by_id(r).bounds = (-10, 10)\n",
    "model1.reactions.get_by_id('carb_enter_2.7.1.40_PEPDEPHOS__RXN').bounds = (1,1)\n",
    "model1.reactions.get_by_id(\"carb_enter_glucneo_1.2.1.9_1.2.1.9__RXN\").bounds = (0,1)\n"
   ]
  },
  {
   "cell_type": "markdown",
   "metadata": {},
   "source": [
    "## when n <1, for example n=0,  no solution"
   ]
  },
  {
   "cell_type": "code",
   "execution_count": 4,
   "metadata": {
    "scrolled": false
   },
   "outputs": [
    {
     "name": "stdout",
     "output_type": "stream",
     "text": [
      "T_flux_H+ H+_ex <=>  3.999999999999999\n",
      "T_trans_H+ H+ <=> H+_ex 4.0\n",
      "carb_enter_glucneo_1.2.1.9_1.2.1.9__RXN D__glyceraldehyde__3__phosphate + H2O + NADP+ --> 3__phospho__D__glycerate + H+ + NADPH 1.0\n",
      "carb_enter_glucneo_5.4.2.1_3PGAREARR__RXN 3__phospho__D__glycerate <=> 2__phospho__D__glycerate 1.0\n",
      "carb_enter_glucneo_4.2.1.11_2PGADEHYDRAT__RXN 2__phospho__D__glycerate <=> H2O + phosphoenolpyruvate 1.0\n",
      "carb_enter_2.7.1.40_PEPDEPHOS__RXN ADP + phosphoenolpyruvate --> ATP + pyruvate 1.0\n",
      "NADPH_recycle NADPH <=> H+ + NADP+ 0.9999999999999999\n",
      "NADH_recycle NADH <=> H+ + NAD+ 1.0000000000000002\n",
      "from_pyruvate_to_GAP NAD+ + pyruvate --> D__glyceraldehyde__3__phosphate + H+ + NADH 1.0000000000000002\n",
      "GAPN flux is 1.0 , GAPDH flux is -0.0\n"
     ]
    },
    {
     "name": "stderr",
     "output_type": "stream",
     "text": [
      "cobra\\util\\solver.py:408 UserWarning: solver status is 'infeasible'\n"
     ]
    },
    {
     "data": {
      "application/vnd.jupyter.widget-view+json": {
       "model_id": "f37c4736902e45ac8c37149eaf2d5c8c",
       "version_major": 2,
       "version_minor": 0
      },
      "text/plain": [
       "Builder(hide_secondary_metabolites=False, highlight_missing=True, reaction_data={'Biomass': 0.0, 'Biomass__fuc…"
      ]
     },
     "metadata": {},
     "output_type": "display_data"
    }
   ],
   "source": [
    "M = model1.copy()\n",
    "M.reactions.get_by_id('T_trans_phosphate').bounds = (-10,10)\n",
    "reaction = Reaction('from_pyruvate_to_GAP')\n",
    "reaction.name = 'from_pyruvate_to_GAP'\n",
    "reaction.lower_bound = -0.  # This is the default\n",
    "reaction.upper_bound = 10.  # This is the default\n",
    "M.add_reactions([reaction])\n",
    "reaction.add_metabolites({\"pyruvate\": -1.0,\n",
    "                         \"NAD+\": -1.0,\n",
    "                         \"ATP\": -0,\n",
    "                         \"D__glyceraldehyde__3__phosphate\": 1.0,\n",
    "                         \"NADH\": 1.0,\n",
    "                          \"H+\": 1.0,\n",
    "                         \"ADP\": 0})\n",
    "\n",
    "M.objective = M.reactions.get_by_id('from_pyruvate_to_GAP')\n",
    "sol = M.optimize()\n",
    "l = sol.fluxes[abs(sol.fluxes)>1e-6].index\n",
    "for rxn in l:\n",
    "    print (rxn,M.reactions.get_by_id(rxn).reaction,sol.fluxes.loc[rxn])\n",
    "\n",
    "print (\"GAPN flux is \" + str(sol.fluxes.loc['carb_enter_glucneo_1.2.1.9_1.2.1.9__RXN']),\", GAPDH flux is \" + str(-sol.fluxes.loc['carb_enter_glucneo_2.7.2.3_PHOSGLYPHOS__RXN']))\n",
    "\n",
    "b = show_map(sol,map_loc)\n",
    "b    \n"
   ]
  },
  {
   "cell_type": "markdown",
   "metadata": {},
   "source": [
    "## when n <1, for example n=0.5, no feasible solution"
   ]
  },
  {
   "cell_type": "code",
   "execution_count": 5,
   "metadata": {
    "scrolled": false
   },
   "outputs": [
    {
     "name": "stdout",
     "output_type": "stream",
     "text": [
      "GAPN flux is 1.0 , GAPDH flux is -0.0\n"
     ]
    },
    {
     "data": {
      "application/vnd.jupyter.widget-view+json": {
       "model_id": "75b2b3eacc0940838b3b6b1888680021",
       "version_major": 2,
       "version_minor": 0
      },
      "text/plain": [
       "Builder(hide_secondary_metabolites=False, highlight_missing=True, reaction_data={'Biomass': 0.0, 'Biomass__fuc…"
      ]
     },
     "metadata": {},
     "output_type": "display_data"
    }
   ],
   "source": [
    "M = model1.copy()\n",
    "M.reactions.get_by_id('T_trans_phosphate').bounds = (-10,10)\n",
    "\n",
    "\n",
    "reaction = Reaction('from_pyruvate_to_GAP')\n",
    "reaction.name = 'from_pyruvate_to_GAP'\n",
    "reaction.lower_bound = -0.  # This is the default\n",
    "reaction.upper_bound = 10.  # This is the default\n",
    "M.add_reactions([reaction])\n",
    "reaction.add_metabolites({\"pyruvate\": -1.0,\n",
    "                         \"NAD+\": -1.0,\n",
    "                         \"ATP\": -0.5,\n",
    "                         \"D__glyceraldehyde__3__phosphate\": 1.0,\n",
    "                         \"NADH\": 1.0,\n",
    "                          \"H+\": 1.0,\n",
    "                         \"ADP\": 0.5})\n",
    "\n",
    "M.objective = M.reactions.get_by_id('from_pyruvate_to_GAP')\n",
    "sol = M.optimize()\n",
    "l = sol.fluxes[abs(sol.fluxes)>1e-6].index\n",
    "# for rxn in l:\n",
    "#     print (rxn,M.reactions.get_by_id(rxn).reaction,sol.fluxes.loc[rxn])\n",
    "print (\"GAPN flux is \" + str(sol.fluxes.loc['carb_enter_glucneo_1.2.1.9_1.2.1.9__RXN']),\", GAPDH flux is \" + str(-sol.fluxes.loc['carb_enter_glucneo_2.7.2.3_PHOSGLYPHOS__RXN']))\n",
    "\n",
    "b = show_map(sol,map_loc)\n",
    "b    \n"
   ]
  },
  {
   "cell_type": "markdown",
   "metadata": {},
   "source": [
    "## when n =1, GAPN flux 1, GAPDH flux 0"
   ]
  },
  {
   "cell_type": "code",
   "execution_count": 6,
   "metadata": {
    "scrolled": false
   },
   "outputs": [
    {
     "name": "stdout",
     "output_type": "stream",
     "text": [
      "GAPN flux is 1.0 , GAPDH flux is -0.0\n"
     ]
    },
    {
     "data": {
      "application/vnd.jupyter.widget-view+json": {
       "model_id": "1b4b06649d4942bc9cabfb1996c64b89",
       "version_major": 2,
       "version_minor": 0
      },
      "text/plain": [
       "Builder(hide_secondary_metabolites=False, highlight_missing=True, reaction_data={'Biomass': 0.0, 'Biomass__fuc…"
      ]
     },
     "metadata": {},
     "output_type": "display_data"
    }
   ],
   "source": [
    "M = model1.copy()\n",
    "M.reactions.get_by_id('T_trans_phosphate').bounds = (-10,10)\n",
    "\n",
    "\n",
    "reaction = Reaction('from_pyruvate_to_GAP')\n",
    "reaction.name = 'from_pyruvate_to_GAP'\n",
    "reaction.lower_bound = -0.  # This is the default\n",
    "reaction.upper_bound = 10.  # This is the default\n",
    "M.add_reactions([reaction])\n",
    "reaction.add_metabolites({\"pyruvate\": -1.0,\n",
    "                         \"NAD+\": -1.0,\n",
    "                         \"ATP\": -1,\n",
    "                         \"D__glyceraldehyde__3__phosphate\": 1.0,\n",
    "                         \"NADH\": 1.0,\n",
    "                          \"H+\": 1.0,\n",
    "                         \"ADP\": 1})\n",
    "\n",
    "M.objective = M.reactions.get_by_id('from_pyruvate_to_GAP')\n",
    "sol = M.optimize()\n",
    "l = sol.fluxes[abs(sol.fluxes)>1e-6].index\n",
    "# for rxn in l:\n",
    "#     print (rxn,M.reactions.get_by_id(rxn).reaction,sol.fluxes.loc[rxn])\n",
    "print (\"GAPN flux is \" + str(sol.fluxes.loc['carb_enter_glucneo_1.2.1.9_1.2.1.9__RXN']),\", GAPDH flux is \" + str(-sol.fluxes.loc['carb_enter_glucneo_2.7.2.3_PHOSGLYPHOS__RXN']))\n",
    "\n",
    "b = show_map(sol,map_loc)\n",
    "b    \n"
   ]
  },
  {
   "cell_type": "markdown",
   "metadata": {},
   "source": [
    "## when n =1.5, GAPN flux 0.5, GAPDH flux 0.5"
   ]
  },
  {
   "cell_type": "code",
   "execution_count": 7,
   "metadata": {
    "scrolled": false
   },
   "outputs": [
    {
     "name": "stdout",
     "output_type": "stream",
     "text": [
      "GAPN flux is 0.5 , GAPDH flux is 0.5\n"
     ]
    },
    {
     "data": {
      "application/vnd.jupyter.widget-view+json": {
       "model_id": "bf87d0dca2c24a5fb29ba28309deef1c",
       "version_major": 2,
       "version_minor": 0
      },
      "text/plain": [
       "Builder(hide_secondary_metabolites=False, highlight_missing=True, reaction_data={'Biomass': 0.0, 'Biomass__fuc…"
      ]
     },
     "metadata": {},
     "output_type": "display_data"
    }
   ],
   "source": [
    "M = model1.copy()\n",
    "M.reactions.get_by_id('T_trans_phosphate').bounds = (-10,10)\n",
    "\n",
    "\n",
    "reaction = Reaction('from_pyruvate_to_GAP')\n",
    "reaction.name = 'from_pyruvate_to_GAP'\n",
    "reaction.lower_bound = -0.  # This is the default\n",
    "reaction.upper_bound = 10.  # This is the default\n",
    "M.add_reactions([reaction])\n",
    "reaction.add_metabolites({\"pyruvate\": -1.0,\n",
    "                         \"NAD+\": -1.0,\n",
    "                         \"ATP\": -1.5,\n",
    "                         \"D__glyceraldehyde__3__phosphate\": 1.0,\n",
    "                         \"NADH\": 1.0,\n",
    "                          \"H+\": 1.0,\n",
    "                         \"ADP\": 1.5})\n",
    "\n",
    "M.objective = M.reactions.get_by_id('from_pyruvate_to_GAP')\n",
    "sol = M.optimize()\n",
    "l = sol.fluxes[abs(sol.fluxes)>1e-6].index\n",
    "print (\"GAPN flux is \" + str(sol.fluxes.loc['carb_enter_glucneo_1.2.1.9_1.2.1.9__RXN']),\", GAPDH flux is \" + str(-sol.fluxes.loc['carb_enter_glucneo_2.7.2.3_PHOSGLYPHOS__RXN']))\n",
    "\n",
    "b = show_map(sol,map_loc)\n",
    "b    \n"
   ]
  },
  {
   "cell_type": "markdown",
   "metadata": {},
   "source": [
    "## when n =2, GAPN flux 0, GAPDH flux 1"
   ]
  },
  {
   "cell_type": "code",
   "execution_count": 8,
   "metadata": {
    "scrolled": true
   },
   "outputs": [
    {
     "name": "stdout",
     "output_type": "stream",
     "text": [
      "GAPN flux is 0.0 , GAPDH flux is 1.0\n"
     ]
    },
    {
     "data": {
      "application/vnd.jupyter.widget-view+json": {
       "model_id": "994aeb5d7cd04580a08e3b4481c436c9",
       "version_major": 2,
       "version_minor": 0
      },
      "text/plain": [
       "Builder(hide_secondary_metabolites=False, highlight_missing=True, reaction_data={'Biomass': 0.0, 'Biomass__fuc…"
      ]
     },
     "metadata": {},
     "output_type": "display_data"
    }
   ],
   "source": [
    "M = model1.copy()\n",
    "M.reactions.get_by_id('T_trans_phosphate').bounds = (-10,10)\n",
    "\n",
    "\n",
    "reaction = Reaction('from_pyruvate_to_GAP')\n",
    "reaction.name = 'from_pyruvate_to_GAP'\n",
    "reaction.lower_bound = -0.  # This is the default\n",
    "reaction.upper_bound = 10.  # This is the default\n",
    "M.add_reactions([reaction])\n",
    "reaction.add_metabolites({\"pyruvate\": -1.0,\n",
    "                         \"NAD+\": -1.0,\n",
    "                         \"ATP\": -2,\n",
    "                         \"D__glyceraldehyde__3__phosphate\": 1.0,\n",
    "                         \"NADH\": 1.0,\n",
    "                          \"H+\": 1.0,\n",
    "                         \"ADP\": 2})\n",
    "\n",
    "M.objective = M.reactions.get_by_id('from_pyruvate_to_GAP')\n",
    "sol = M.optimize()\n",
    "l = sol.fluxes[abs(sol.fluxes)>1e-6].index\n",
    "print (\"GAPN flux is \" + str(sol.fluxes.loc['carb_enter_glucneo_1.2.1.9_1.2.1.9__RXN']),\", GAPDH flux is \" + str(-sol.fluxes.loc['carb_enter_glucneo_2.7.2.3_PHOSGLYPHOS__RXN']))\n",
    "\n",
    "b = show_map(sol,map_loc)\n",
    "b    \n"
   ]
  },
  {
   "cell_type": "markdown",
   "metadata": {},
   "source": [
    "## when n =3, no solution "
   ]
  },
  {
   "cell_type": "code",
   "execution_count": 9,
   "metadata": {
    "scrolled": true
   },
   "outputs": [
    {
     "name": "stdout",
     "output_type": "stream",
     "text": [
      "GAPN flux is 0.0 , GAPDH flux is 0.49999999999999994\n"
     ]
    },
    {
     "data": {
      "application/vnd.jupyter.widget-view+json": {
       "model_id": "9e304b1032294f0ca9cf4fb3057a877a",
       "version_major": 2,
       "version_minor": 0
      },
      "text/plain": [
       "Builder(hide_secondary_metabolites=False, highlight_missing=True, reaction_data={'Biomass': 0.0, 'Biomass__fuc…"
      ]
     },
     "metadata": {},
     "output_type": "display_data"
    }
   ],
   "source": [
    "M = model1.copy()\n",
    "M.reactions.get_by_id('T_trans_phosphate').bounds = (-10,10)\n",
    "\n",
    "\n",
    "reaction = Reaction('from_pyruvate_to_GAP')\n",
    "reaction.name = 'from_pyruvate_to_GAP'\n",
    "reaction.lower_bound = -0.  # This is the default\n",
    "reaction.upper_bound = 10.  # This is the default\n",
    "M.add_reactions([reaction])\n",
    "reaction.add_metabolites({\"pyruvate\": -1.0,\n",
    "                         \"NAD+\": -1.0,\n",
    "                         \"ATP\": -3,\n",
    "                         \"D__glyceraldehyde__3__phosphate\": 1.0,\n",
    "                         \"NADH\": 1.0,\n",
    "                          \"H+\": 1.0,\n",
    "                         \"ADP\": 3})\n",
    "\n",
    "M.objective = M.reactions.get_by_id('from_pyruvate_to_GAP')\n",
    "sol = M.optimize()\n",
    "l = sol.fluxes[abs(sol.fluxes)>1e-6].index\n",
    "print (\"GAPN flux is \" + str(sol.fluxes.loc['carb_enter_glucneo_1.2.1.9_1.2.1.9__RXN']),\", GAPDH flux is \" + str(-sol.fluxes.loc['carb_enter_glucneo_2.7.2.3_PHOSGLYPHOS__RXN']))\n",
    "b = show_map(sol,map_loc)\n",
    "b "
   ]
  },
  {
   "cell_type": "markdown",
   "metadata": {},
   "source": [
    "# when adding ATPase reaction"
   ]
  },
  {
   "cell_type": "code",
   "execution_count": 10,
   "metadata": {},
   "outputs": [],
   "source": [
    "M= model.copy()\n",
    "\n",
    "reaction = Reaction('T_flux_pyruvate')\n",
    "reaction.name = 'T_flux_pyruvate'\n",
    "reaction.lower_bound = 0.  # This is the default\n",
    "reaction.upper_bound = 1000.  # This is the default\n",
    "M.add_reactions([reaction])\n",
    "reaction.add_metabolites({'pyruvate': -1.0})\n",
    "reaction.reaction\n",
    "\n",
    "reaction = Reaction('T_flux_D__glyceraldehyde__3__phosphate')\n",
    "reaction.name = 'T_flux_D__glyceraldehyde__3__phosphate'\n",
    "reaction.lower_bound = -1  # This is the default\n",
    "reaction.upper_bound = 0  # This is the default\n",
    "M.add_reactions([reaction])\n",
    "reaction.add_metabolites({\n",
    "                         \"D__glyceraldehyde__3__phosphate\": -1.0})\n",
    "reaction.reaction\n",
    "## add the reaction for the maintainance of NADPH\n",
    "reaction = Reaction('NADPH_recycle')\n",
    "reaction.name = 'NADPH_recycle'\n",
    "reaction.lower_bound = -100.  # This is the default\n",
    "reaction.upper_bound = 1000.  # This is the default\n",
    "M.add_reactions([reaction])\n",
    "reaction.add_metabolites({'NADPH': -1.0,\n",
    "                         'NADP+': 1.0,\n",
    "                         \"H+\":1.0})\n",
    "reaction.reaction\n",
    "## add the reaction for the maintainance of NADH\n",
    "reaction = Reaction('NADH_recycle')\n",
    "reaction.name = 'NADH_recycle'\n",
    "reaction.lower_bound = -100.  # This is the default\n",
    "reaction.upper_bound = 1000.  # This is the default\n",
    "M.add_reactions([reaction])\n",
    "reaction.add_metabolites({'NADH': -1.0,\n",
    "                         'NAD+': 1.0,\n",
    "                         \"H+\":1.0})\n",
    "reaction.reaction\n",
    "total_reactions_id = [r.id for r in M.reactions]\n",
    "small_pathway_reactions = [\"carb_glucneo_1.2.1.13_GAPDHSYNEC__RXN_NAD\",\"carb_glucneo_1.2.1.13_GAPDHSYNEC__RXN_NADP\",\"carb_enter_glucneo_2.7.2.3_PHOSGLYPHOS__RXN\",\n",
    "        \"carb_enter_glucneo_1.2.1.9_1.2.1.9__RXN\",'T_flux_H+','T_trans_H+','T_flux_H2O','T_trans_H2O','T_flux_phosphate','T_trans_phosphate',\n",
    "        'carb_enter_glucneo_5.4.2.1_3PGAREARR__RXN','carb_enter_glucneo_4.2.1.11_2PGADEHYDRAT__RXN',\n",
    "        'carb_enter_2.7.1.40_PEPDEPHOS__RXN','T_flux_pyruvate','T_flux_D__glyceraldehyde__3__phosphate','NADPH_recycle','NADH_recycle']\n",
    "\n",
    "for r in total_reactions_id:\n",
    "    if r not in small_pathway_reactions:\n",
    "        M.reactions.get_by_id(r).upper_bound = 0\n",
    "        M.reactions.get_by_id(r).lower_bound = 0\n",
    "    else:\n",
    "        M.reactions.get_by_id(r).bounds = (-10, 10)\n",
    "# m = [r for r in l if r not in list]\n",
    "# for r in m:\n",
    "#     M.reactions.get_by_id(r).upper_bound = 0\n",
    "#     M.reactions.get_by_id(r).lower_bound = 0\n",
    "#     else:\n",
    "#         M.reactions.get_by_id(r).bounds = (-10, 10)\n",
    "M.reactions.get_by_id(\"carb_enter_glucneo_1.2.1.9_1.2.1.9__RXN\").bounds = (0,1)\n",
    "# M.reactions.get_by_id('carb_enter_2.7.1.40_PEPDEPHOS__RXN').bounds = (-1,1)"
   ]
  },
  {
   "cell_type": "code",
   "execution_count": 11,
   "metadata": {},
   "outputs": [],
   "source": [
    "def different_ATPase_bound (a,b):\n",
    "    M.reactions.get_by_id('NGAM').bounds =(a,a)\n",
    "    M.reactions.get_by_id('T_flux_D__glyceraldehyde__3__phosphate').bounds =(-b,0)\n",
    "    M.objective = M.reactions.get_by_id('T_flux_pyruvate')\n",
    "    sol = M.optimize()\n",
    "    l = sol.fluxes[abs(sol.fluxes)>1e-6].index\n",
    "    for rxn in l:\n",
    "        print (rxn,M.reactions.get_by_id(rxn).reaction,sol.fluxes.loc[rxn],M.reactions.get_by_id(rxn).bounds)\n",
    "    print (\"GAPN flux is \" + str(sol.fluxes.loc['carb_enter_glucneo_1.2.1.9_1.2.1.9__RXN']),\", GAPDH flux is \" + str(-sol.fluxes.loc['carb_enter_glucneo_2.7.2.3_PHOSGLYPHOS__RXN']))\n",
    "    print (\", ATPase flux is \" + str(sol.fluxes.loc['NGAM']))\n",
    "    b = show_map(sol,map_loc)\n",
    "    return(b)"
   ]
  },
  {
   "cell_type": "code",
   "execution_count": 12,
   "metadata": {
    "scrolled": true
   },
   "outputs": [
    {
     "name": "stdout",
     "output_type": "stream",
     "text": [
      "NGAM ATP + H2O --> ADP + H+ + phosphate 0.25 (0.25, 0.25)\n",
      "T_flux_H+ H+_ex <=>  1.4999999999999998 (-10, 10)\n",
      "T_trans_H+ H+ <=> H+_ex 1.5 (-10, 10)\n",
      "T_flux_H2O H2O_ex <=>  -0.6249999999999998 (-10, 10)\n",
      "T_trans_H2O H2O <=> H2O_ex -0.6249999999999998 (-10, 10)\n",
      "carb_enter_glucneo_1.2.1.9_1.2.1.9__RXN D__glyceraldehyde__3__phosphate + H2O + NADP+ --> 3__phospho__D__glycerate + H+ + NADPH 1.0 (0, 1)\n",
      "carb_enter_glucneo_5.4.2.1_3PGAREARR__RXN 3__phospho__D__glycerate <=> 2__phospho__D__glycerate 0.625 (-10, 10)\n",
      "carb_enter_glucneo_4.2.1.11_2PGADEHYDRAT__RXN 2__phospho__D__glycerate <=> H2O + phosphoenolpyruvate 0.625 (-10, 10)\n",
      "carb_enter_2.7.1.40_PEPDEPHOS__RXN ADP + phosphoenolpyruvate <=> ATP + pyruvate 0.625 (-10, 10)\n",
      "carb_enter_glucneo_2.7.2.3_PHOSGLYPHOS__RXN 3__phospho__D__glycerate + ATP <=> 1,3__bisphospho__D__glycerate + ADP 0.37500000000000006 (-10, 10)\n",
      "carb_glucneo_1.2.1.13_GAPDHSYNEC__RXN_NAD 1,3__bisphospho__D__glycerate + H+ + NADH <=> D__glyceraldehyde__3__phosphate + NAD+ + phosphate 0.3750000000000001 (-10, 10)\n",
      "T_flux_phosphate phosphate_ex <=>  0.6250000000000001 (-10, 10)\n",
      "T_trans_phosphate phosphate_ex <=> phosphate -0.625 (-10, 10)\n",
      "T_flux_pyruvate pyruvate <=>  0.625 (-10, 10)\n",
      "T_flux_D__glyceraldehyde__3__phosphate D__glyceraldehyde__3__phosphate <--  -0.625 (-1, 0)\n",
      "NADPH_recycle NADPH <=> H+ + NADP+ 1.0 (-10, 10)\n",
      "NADH_recycle NADH <=> H+ + NAD+ -0.3750000000000001 (-10, 10)\n",
      "GAPN flux is 1.0 , GAPDH flux is -0.37500000000000006\n",
      ", ATPase flux is 0.25\n"
     ]
    },
    {
     "data": {
      "application/vnd.jupyter.widget-view+json": {
       "model_id": "83ef02089c7546568c7473347a23a35b",
       "version_major": 2,
       "version_minor": 0
      },
      "text/plain": [
       "Builder(hide_secondary_metabolites=False, highlight_missing=True, reaction_data={'Biomass': 0.0, 'Biomass__fuc…"
      ]
     },
     "metadata": {},
     "output_type": "display_data"
    }
   ],
   "source": [
    "different_ATPase_bound(0.25,1)"
   ]
  },
  {
   "cell_type": "markdown",
   "metadata": {},
   "source": [
    "## when ATPase bounds is set at 0"
   ]
  },
  {
   "cell_type": "code",
   "execution_count": 13,
   "metadata": {
    "scrolled": true
   },
   "outputs": [
    {
     "name": "stdout",
     "output_type": "stream",
     "text": [
      "T_flux_H+ H+_ex <=>  0.9999999999999998 (-10, 10)\n",
      "T_trans_H+ H+ <=> H+_ex 0.9999999999999999 (-10, 10)\n",
      "T_flux_H2O H2O_ex <=>  -0.5000000000000001 (-10, 10)\n",
      "T_trans_H2O H2O <=> H2O_ex -0.5000000000000001 (-10, 10)\n",
      "carb_enter_glucneo_1.2.1.9_1.2.1.9__RXN D__glyceraldehyde__3__phosphate + H2O + NADP+ --> 3__phospho__D__glycerate + H+ + NADPH 1.0 (0, 1)\n",
      "carb_enter_glucneo_5.4.2.1_3PGAREARR__RXN 3__phospho__D__glycerate <=> 2__phospho__D__glycerate 0.49999999999999994 (-10, 10)\n",
      "carb_enter_glucneo_4.2.1.11_2PGADEHYDRAT__RXN 2__phospho__D__glycerate <=> H2O + phosphoenolpyruvate 0.4999999999999999 (-10, 10)\n",
      "carb_enter_2.7.1.40_PEPDEPHOS__RXN ADP + phosphoenolpyruvate <=> ATP + pyruvate 0.4999999999999999 (-10, 10)\n",
      "carb_enter_glucneo_2.7.2.3_PHOSGLYPHOS__RXN 3__phospho__D__glycerate + ATP <=> 1,3__bisphospho__D__glycerate + ADP 0.5 (-10, 10)\n",
      "carb_glucneo_1.2.1.13_GAPDHSYNEC__RXN_NAD 1,3__bisphospho__D__glycerate + H+ + NADH <=> D__glyceraldehyde__3__phosphate + NAD+ + phosphate 0.5000000000000001 (-10, 10)\n",
      "T_flux_phosphate phosphate_ex <=>  0.5000000000000001 (-10, 10)\n",
      "T_trans_phosphate phosphate_ex <=> phosphate -0.5000000000000001 (-10, 10)\n",
      "T_flux_pyruvate pyruvate <=>  0.4999999999999999 (-10, 10)\n",
      "T_flux_D__glyceraldehyde__3__phosphate D__glyceraldehyde__3__phosphate <--  -0.5 (-1, 0)\n",
      "NADPH_recycle NADPH <=> H+ + NADP+ 1.0 (-10, 10)\n",
      "NADH_recycle NADH <=> H+ + NAD+ -0.5000000000000001 (-10, 10)\n",
      "GAPN flux is 1.0 , GAPDH flux is -0.5\n",
      ", ATPase flux is 0.0\n"
     ]
    },
    {
     "data": {
      "application/vnd.jupyter.widget-view+json": {
       "model_id": "f7a4b000206e46418428772b36f57483",
       "version_major": 2,
       "version_minor": 0
      },
      "text/plain": [
       "Builder(hide_secondary_metabolites=False, highlight_missing=True, reaction_data={'Biomass': 0.0, 'Biomass__fuc…"
      ]
     },
     "metadata": {},
     "output_type": "display_data"
    }
   ],
   "source": [
    "different_ATPase_bound(0,1)"
   ]
  },
  {
   "cell_type": "markdown",
   "metadata": {},
   "source": [
    "## when ATPase bounds is set at 0.25"
   ]
  },
  {
   "cell_type": "markdown",
   "metadata": {},
   "source": [
    "## when ATPase bounds is set at 0.5"
   ]
  },
  {
   "cell_type": "code",
   "execution_count": 14,
   "metadata": {
    "scrolled": true
   },
   "outputs": [
    {
     "name": "stdout",
     "output_type": "stream",
     "text": [
      "NGAM ATP + H2O --> ADP + H+ + phosphate 0.5 (0.5, 0.5)\n",
      "T_flux_H+ H+_ex <=>  1.9999999999999996 (-10, 10)\n",
      "T_trans_H+ H+ <=> H+_ex 1.9999999999999998 (-10, 10)\n",
      "T_flux_H2O H2O_ex <=>  -0.75 (-10, 10)\n",
      "T_trans_H2O H2O <=> H2O_ex -0.75 (-10, 10)\n",
      "carb_enter_glucneo_1.2.1.9_1.2.1.9__RXN D__glyceraldehyde__3__phosphate + H2O + NADP+ --> 3__phospho__D__glycerate + H+ + NADPH 1.0 (0, 1)\n",
      "carb_enter_glucneo_5.4.2.1_3PGAREARR__RXN 3__phospho__D__glycerate <=> 2__phospho__D__glycerate 0.7499999999999999 (-10, 10)\n",
      "carb_enter_glucneo_4.2.1.11_2PGADEHYDRAT__RXN 2__phospho__D__glycerate <=> H2O + phosphoenolpyruvate 0.75 (-10, 10)\n",
      "carb_enter_2.7.1.40_PEPDEPHOS__RXN ADP + phosphoenolpyruvate <=> ATP + pyruvate 0.75 (-10, 10)\n",
      "carb_enter_glucneo_2.7.2.3_PHOSGLYPHOS__RXN 3__phospho__D__glycerate + ATP <=> 1,3__bisphospho__D__glycerate + ADP 0.25000000000000017 (-10, 10)\n",
      "carb_glucneo_1.2.1.13_GAPDHSYNEC__RXN_NAD 1,3__bisphospho__D__glycerate + H+ + NADH <=> D__glyceraldehyde__3__phosphate + NAD+ + phosphate 0.25000000000000017 (-10, 10)\n",
      "T_flux_phosphate phosphate_ex <=>  0.7500000000000002 (-10, 10)\n",
      "T_trans_phosphate phosphate_ex <=> phosphate -0.7500000000000003 (-10, 10)\n",
      "T_flux_pyruvate pyruvate <=>  0.7499999999999999 (-10, 10)\n",
      "T_flux_D__glyceraldehyde__3__phosphate D__glyceraldehyde__3__phosphate <--  -0.7499999999999999 (-1, 0)\n",
      "NADPH_recycle NADPH <=> H+ + NADP+ 1.0 (-10, 10)\n",
      "NADH_recycle NADH <=> H+ + NAD+ -0.25000000000000017 (-10, 10)\n",
      "GAPN flux is 1.0 , GAPDH flux is -0.25000000000000017\n",
      ", ATPase flux is 0.5\n"
     ]
    },
    {
     "data": {
      "application/vnd.jupyter.widget-view+json": {
       "model_id": "f0f2124d68ca42af8f00624e373b81ff",
       "version_major": 2,
       "version_minor": 0
      },
      "text/plain": [
       "Builder(hide_secondary_metabolites=False, highlight_missing=True, reaction_data={'Biomass': 0.0, 'Biomass__fuc…"
      ]
     },
     "metadata": {},
     "output_type": "display_data"
    }
   ],
   "source": [
    "different_ATPase_bound(0.5,1)"
   ]
  },
  {
   "cell_type": "markdown",
   "metadata": {},
   "source": [
    "## when ATPase bounds is set at 1"
   ]
  },
  {
   "cell_type": "code",
   "execution_count": 15,
   "metadata": {
    "scrolled": true
   },
   "outputs": [
    {
     "name": "stdout",
     "output_type": "stream",
     "text": [
      "NGAM ATP + H2O --> ADP + H+ + phosphate 1.0 (1, 1)\n",
      "T_flux_H+ H+_ex <=>  2.9999999999999996 (-10, 10)\n",
      "T_trans_H+ H+ <=> H+_ex 3.0 (-10, 10)\n",
      "T_flux_H2O H2O_ex <=>  -1.0 (-10, 10)\n",
      "T_trans_H2O H2O <=> H2O_ex -1.0 (-10, 10)\n",
      "carb_enter_glucneo_1.2.1.9_1.2.1.9__RXN D__glyceraldehyde__3__phosphate + H2O + NADP+ --> 3__phospho__D__glycerate + H+ + NADPH 1.0 (0, 1)\n",
      "carb_enter_glucneo_5.4.2.1_3PGAREARR__RXN 3__phospho__D__glycerate <=> 2__phospho__D__glycerate 1.0 (-10, 10)\n",
      "carb_enter_glucneo_4.2.1.11_2PGADEHYDRAT__RXN 2__phospho__D__glycerate <=> H2O + phosphoenolpyruvate 1.0 (-10, 10)\n",
      "carb_enter_2.7.1.40_PEPDEPHOS__RXN ADP + phosphoenolpyruvate <=> ATP + pyruvate 1.0 (-10, 10)\n",
      "T_flux_phosphate phosphate_ex <=>  1.0 (-10, 10)\n",
      "T_trans_phosphate phosphate_ex <=> phosphate -0.9999999999999999 (-10, 10)\n",
      "T_flux_pyruvate pyruvate <=>  1.0 (-10, 10)\n",
      "T_flux_D__glyceraldehyde__3__phosphate D__glyceraldehyde__3__phosphate <--  -1.0 (-1, 0)\n",
      "NADPH_recycle NADPH <=> H+ + NADP+ 1.0 (-10, 10)\n",
      "GAPN flux is 1.0 , GAPDH flux is -0.0\n",
      ", ATPase flux is 1.0\n"
     ]
    },
    {
     "data": {
      "application/vnd.jupyter.widget-view+json": {
       "model_id": "5fd03ded451041129c79a347bedffcb5",
       "version_major": 2,
       "version_minor": 0
      },
      "text/plain": [
       "Builder(hide_secondary_metabolites=False, highlight_missing=True, reaction_data={'Biomass': 0.0, 'Biomass__fuc…"
      ]
     },
     "metadata": {},
     "output_type": "display_data"
    }
   ],
   "source": [
    "different_ATPase_bound(1,1)"
   ]
  },
  {
   "cell_type": "markdown",
   "metadata": {},
   "source": [
    "## when ATPase bounds is set at 1.25"
   ]
  },
  {
   "cell_type": "code",
   "execution_count": 16,
   "metadata": {
    "scrolled": true
   },
   "outputs": [
    {
     "name": "stdout",
     "output_type": "stream",
     "text": [
      "NGAM ATP + H2O --> ADP + H+ + phosphate 1.25 (1.25, 1.25)\n",
      "T_flux_H+ H+_ex <=>  3.2500000000000004 (-10, 10)\n",
      "T_trans_H+ H+ <=> H+_ex 3.2500000000000004 (-10, 10)\n",
      "T_flux_H2O H2O_ex <=>  -1.0000000000000004 (-10, 10)\n",
      "T_trans_H2O H2O <=> H2O_ex -1.0000000000000004 (-10, 10)\n",
      "carb_enter_glucneo_1.2.1.9_1.2.1.9__RXN D__glyceraldehyde__3__phosphate + H2O + NADP+ --> 3__phospho__D__glycerate + H+ + NADPH 0.7500000000000003 (0, 1)\n",
      "carb_enter_glucneo_5.4.2.1_3PGAREARR__RXN 3__phospho__D__glycerate <=> 2__phospho__D__glycerate 1.0 (-10, 10)\n",
      "carb_enter_glucneo_4.2.1.11_2PGADEHYDRAT__RXN 2__phospho__D__glycerate <=> H2O + phosphoenolpyruvate 1.0 (-10, 10)\n",
      "carb_enter_2.7.1.40_PEPDEPHOS__RXN ADP + phosphoenolpyruvate <=> ATP + pyruvate 1.0 (-10, 10)\n",
      "carb_enter_glucneo_2.7.2.3_PHOSGLYPHOS__RXN 3__phospho__D__glycerate + ATP <=> 1,3__bisphospho__D__glycerate + ADP -0.24999999999999972 (-10, 10)\n",
      "carb_glucneo_1.2.1.13_GAPDHSYNEC__RXN_NAD 1,3__bisphospho__D__glycerate + H+ + NADH <=> D__glyceraldehyde__3__phosphate + NAD+ + phosphate -0.24999999999999978 (-10, 10)\n",
      "T_flux_phosphate phosphate_ex <=>  1.0000000000000002 (-10, 10)\n",
      "T_trans_phosphate phosphate_ex <=> phosphate -1.0000000000000002 (-10, 10)\n",
      "T_flux_pyruvate pyruvate <=>  1.0 (-10, 10)\n",
      "T_flux_D__glyceraldehyde__3__phosphate D__glyceraldehyde__3__phosphate <--  -1.0 (-1, 0)\n",
      "NADPH_recycle NADPH <=> H+ + NADP+ 0.7500000000000002 (-10, 10)\n",
      "NADH_recycle NADH <=> H+ + NAD+ 0.2499999999999999 (-10, 10)\n",
      "GAPN flux is 0.7500000000000003 , GAPDH flux is 0.24999999999999972\n",
      ", ATPase flux is 1.25\n"
     ]
    },
    {
     "data": {
      "application/vnd.jupyter.widget-view+json": {
       "model_id": "ce0fbed6351b453d9969067d4a8fe50a",
       "version_major": 2,
       "version_minor": 0
      },
      "text/plain": [
       "Builder(hide_secondary_metabolites=False, highlight_missing=True, reaction_data={'Biomass': 0.0, 'Biomass__fuc…"
      ]
     },
     "metadata": {},
     "output_type": "display_data"
    }
   ],
   "source": [
    "different_ATPase_bound(1.25,1)"
   ]
  },
  {
   "cell_type": "markdown",
   "metadata": {},
   "source": [
    "## when ATPase bounds is set at 1.5"
   ]
  },
  {
   "cell_type": "code",
   "execution_count": 17,
   "metadata": {
    "scrolled": true
   },
   "outputs": [
    {
     "name": "stdout",
     "output_type": "stream",
     "text": [
      "NGAM ATP + H2O --> ADP + H+ + phosphate 1.5 (1.5, 1.5)\n",
      "T_flux_H+ H+_ex <=>  3.5 (-10, 10)\n",
      "T_trans_H+ H+ <=> H+_ex 3.5 (-10, 10)\n",
      "T_flux_H2O H2O_ex <=>  -1.0 (-10, 10)\n",
      "T_trans_H2O H2O <=> H2O_ex -1.0 (-10, 10)\n",
      "carb_enter_glucneo_1.2.1.9_1.2.1.9__RXN D__glyceraldehyde__3__phosphate + H2O + NADP+ --> 3__phospho__D__glycerate + H+ + NADPH 0.5 (0, 1)\n",
      "carb_enter_glucneo_5.4.2.1_3PGAREARR__RXN 3__phospho__D__glycerate <=> 2__phospho__D__glycerate 1.0 (-10, 10)\n",
      "carb_enter_glucneo_4.2.1.11_2PGADEHYDRAT__RXN 2__phospho__D__glycerate <=> H2O + phosphoenolpyruvate 1.0 (-10, 10)\n",
      "carb_enter_2.7.1.40_PEPDEPHOS__RXN ADP + phosphoenolpyruvate <=> ATP + pyruvate 1.0 (-10, 10)\n",
      "carb_enter_glucneo_2.7.2.3_PHOSGLYPHOS__RXN 3__phospho__D__glycerate + ATP <=> 1,3__bisphospho__D__glycerate + ADP -0.49999999999999994 (-10, 10)\n",
      "carb_glucneo_1.2.1.13_GAPDHSYNEC__RXN_NAD 1,3__bisphospho__D__glycerate + H+ + NADH <=> D__glyceraldehyde__3__phosphate + NAD+ + phosphate -0.5 (-10, 10)\n",
      "T_flux_phosphate phosphate_ex <=>  0.9999999999999998 (-10, 10)\n",
      "T_trans_phosphate phosphate_ex <=> phosphate -0.9999999999999998 (-10, 10)\n",
      "T_flux_pyruvate pyruvate <=>  1.0 (-10, 10)\n",
      "T_flux_D__glyceraldehyde__3__phosphate D__glyceraldehyde__3__phosphate <--  -1.0 (-1, 0)\n",
      "NADPH_recycle NADPH <=> H+ + NADP+ 0.4999999999999997 (-10, 10)\n",
      "NADH_recycle NADH <=> H+ + NAD+ 0.5000000000000001 (-10, 10)\n",
      "GAPN flux is 0.5 , GAPDH flux is 0.49999999999999994\n",
      ", ATPase flux is 1.5\n"
     ]
    },
    {
     "data": {
      "application/vnd.jupyter.widget-view+json": {
       "model_id": "fb2d28dce2574431af36c80b8903c983",
       "version_major": 2,
       "version_minor": 0
      },
      "text/plain": [
       "Builder(hide_secondary_metabolites=False, highlight_missing=True, reaction_data={'Biomass': 0.0, 'Biomass__fuc…"
      ]
     },
     "metadata": {},
     "output_type": "display_data"
    }
   ],
   "source": [
    "different_ATPase_bound(1.5,1)"
   ]
  },
  {
   "cell_type": "markdown",
   "metadata": {},
   "source": [
    "## when ATPase bounds is set at 2"
   ]
  },
  {
   "cell_type": "code",
   "execution_count": 18,
   "metadata": {
    "scrolled": true
   },
   "outputs": [
    {
     "name": "stdout",
     "output_type": "stream",
     "text": [
      "NGAM ATP + H2O --> ADP + H+ + phosphate 2.0 (2, 2)\n",
      "T_flux_H+ H+_ex <=>  4.0 (-10, 10)\n",
      "T_trans_H+ H+ <=> H+_ex 4.0 (-10, 10)\n",
      "T_flux_H2O H2O_ex <=>  -0.9999999999999996 (-10, 10)\n",
      "T_trans_H2O H2O <=> H2O_ex -0.9999999999999996 (-10, 10)\n",
      "carb_enter_glucneo_5.4.2.1_3PGAREARR__RXN 3__phospho__D__glycerate <=> 2__phospho__D__glycerate 1.0 (-10, 10)\n",
      "carb_enter_glucneo_4.2.1.11_2PGADEHYDRAT__RXN 2__phospho__D__glycerate <=> H2O + phosphoenolpyruvate 1.0 (-10, 10)\n",
      "carb_enter_2.7.1.40_PEPDEPHOS__RXN ADP + phosphoenolpyruvate <=> ATP + pyruvate 1.0 (-10, 10)\n",
      "carb_enter_glucneo_2.7.2.3_PHOSGLYPHOS__RXN 3__phospho__D__glycerate + ATP <=> 1,3__bisphospho__D__glycerate + ADP -1.0000000000000002 (-10, 10)\n",
      "carb_glucneo_1.2.1.13_GAPDHSYNEC__RXN_NAD 1,3__bisphospho__D__glycerate + H+ + NADH <=> D__glyceraldehyde__3__phosphate + NAD+ + phosphate -1.0000000000000004 (-10, 10)\n",
      "T_flux_phosphate phosphate_ex <=>  0.9999999999999996 (-10, 10)\n",
      "T_trans_phosphate phosphate_ex <=> phosphate -0.9999999999999994 (-10, 10)\n",
      "T_flux_pyruvate pyruvate <=>  1.0 (-10, 10)\n",
      "T_flux_D__glyceraldehyde__3__phosphate D__glyceraldehyde__3__phosphate <--  -1.0 (-1, 0)\n",
      "NADH_recycle NADH <=> H+ + NAD+ 1.0000000000000004 (-10, 10)\n",
      "GAPN flux is -3.7411211209438714e-16 , GAPDH flux is 1.0000000000000002\n",
      ", ATPase flux is 2.0\n"
     ]
    },
    {
     "data": {
      "application/vnd.jupyter.widget-view+json": {
       "model_id": "de48117a76cc4ee799f533e2583ff16f",
       "version_major": 2,
       "version_minor": 0
      },
      "text/plain": [
       "Builder(hide_secondary_metabolites=False, highlight_missing=True, reaction_data={'Biomass': 0.0, 'Biomass__fuc…"
      ]
     },
     "metadata": {},
     "output_type": "display_data"
    }
   ],
   "source": [
    "different_ATPase_bound(2,1)"
   ]
  },
  {
   "cell_type": "markdown",
   "metadata": {},
   "source": [
    "## when ATPase bounds is set at 2.5"
   ]
  },
  {
   "cell_type": "code",
   "execution_count": 19,
   "metadata": {
    "scrolled": true
   },
   "outputs": [
    {
     "name": "stdout",
     "output_type": "stream",
     "text": [
      "NGAM ATP + H2O --> ADP + H+ + phosphate 2.5 (2.5, 2.5)\n",
      "T_flux_H+ H+_ex <=>  4.500000000000001 (-10, 10)\n",
      "T_trans_H+ H+ <=> H+_ex 4.500000000000001 (-10, 10)\n",
      "T_flux_H2O H2O_ex <=>  -0.9999999999999994 (-10, 10)\n",
      "T_trans_H2O H2O <=> H2O_ex -0.9999999999999994 (-10, 10)\n",
      "carb_enter_glucneo_1.2.1.9_1.2.1.9__RXN D__glyceraldehyde__3__phosphate + H2O + NADP+ --> 3__phospho__D__glycerate + H+ + NADPH -0.5 (0, 1)\n",
      "carb_enter_glucneo_5.4.2.1_3PGAREARR__RXN 3__phospho__D__glycerate <=> 2__phospho__D__glycerate 1.0000000000000004 (-10, 10)\n",
      "carb_enter_glucneo_4.2.1.11_2PGADEHYDRAT__RXN 2__phospho__D__glycerate <=> H2O + phosphoenolpyruvate 1.0000000000000004 (-10, 10)\n",
      "carb_enter_2.7.1.40_PEPDEPHOS__RXN ADP + phosphoenolpyruvate <=> ATP + pyruvate 1.0000000000000004 (-10, 10)\n",
      "carb_enter_glucneo_2.7.2.3_PHOSGLYPHOS__RXN 3__phospho__D__glycerate + ATP <=> 1,3__bisphospho__D__glycerate + ADP -1.5000000000000002 (-10, 10)\n",
      "carb_glucneo_1.2.1.13_GAPDHSYNEC__RXN_NAD 1,3__bisphospho__D__glycerate + H+ + NADH <=> D__glyceraldehyde__3__phosphate + NAD+ + phosphate -1.5000000000000004 (-10, 10)\n",
      "T_flux_phosphate phosphate_ex <=>  0.9999999999999997 (-10, 10)\n",
      "T_trans_phosphate phosphate_ex <=> phosphate -0.9999999999999996 (-10, 10)\n",
      "T_flux_pyruvate pyruvate <=>  1.0000000000000004 (-10, 10)\n",
      "T_flux_D__glyceraldehyde__3__phosphate D__glyceraldehyde__3__phosphate <--  -1.0 (-1, 0)\n",
      "NADPH_recycle NADPH <=> H+ + NADP+ -0.5000000000000001 (-10, 10)\n",
      "NADH_recycle NADH <=> H+ + NAD+ 1.5000000000000002 (-10, 10)\n",
      "GAPN flux is -0.5 , GAPDH flux is 1.5000000000000002\n",
      ", ATPase flux is 2.5\n"
     ]
    },
    {
     "data": {
      "application/vnd.jupyter.widget-view+json": {
       "model_id": "66e6d8b70e1445419027f0f70add5497",
       "version_major": 2,
       "version_minor": 0
      },
      "text/plain": [
       "Builder(hide_secondary_metabolites=False, highlight_missing=True, reaction_data={'Biomass': 0.0, 'Biomass__fuc…"
      ]
     },
     "metadata": {},
     "output_type": "display_data"
    }
   ],
   "source": [
    "different_ATPase_bound(2.5,1)"
   ]
  },
  {
   "cell_type": "markdown",
   "metadata": {},
   "source": [
    "# when adding ATPase reaction,T_flux_D__glyceraldehyde__3__phosphate bound was set to (-1.5,1.5)"
   ]
  },
  {
   "cell_type": "markdown",
   "metadata": {},
   "source": [
    "## when ATPase bounds is set at 0"
   ]
  },
  {
   "cell_type": "code",
   "execution_count": 20,
   "metadata": {
    "scrolled": false
   },
   "outputs": [
    {
     "name": "stdout",
     "output_type": "stream",
     "text": [
      "T_flux_H+ H+_ex <=>  0.9999999999999998 (-10, 10)\n",
      "T_trans_H+ H+ <=> H+_ex 0.9999999999999999 (-10, 10)\n",
      "T_flux_H2O H2O_ex <=>  -0.5 (-10, 10)\n",
      "T_trans_H2O H2O <=> H2O_ex -0.5 (-10, 10)\n",
      "carb_enter_glucneo_1.2.1.9_1.2.1.9__RXN D__glyceraldehyde__3__phosphate + H2O + NADP+ --> 3__phospho__D__glycerate + H+ + NADPH 1.0 (0, 1)\n",
      "carb_enter_glucneo_5.4.2.1_3PGAREARR__RXN 3__phospho__D__glycerate <=> 2__phospho__D__glycerate 0.5 (-10, 10)\n",
      "carb_enter_glucneo_4.2.1.11_2PGADEHYDRAT__RXN 2__phospho__D__glycerate <=> H2O + phosphoenolpyruvate 0.5 (-10, 10)\n",
      "carb_enter_2.7.1.40_PEPDEPHOS__RXN ADP + phosphoenolpyruvate <=> ATP + pyruvate 0.5 (-10, 10)\n",
      "carb_enter_glucneo_2.7.2.3_PHOSGLYPHOS__RXN 3__phospho__D__glycerate + ATP <=> 1,3__bisphospho__D__glycerate + ADP 0.49999999999999994 (-10, 10)\n",
      "carb_glucneo_1.2.1.13_GAPDHSYNEC__RXN_NAD 1,3__bisphospho__D__glycerate + H+ + NADH <=> D__glyceraldehyde__3__phosphate + NAD+ + phosphate 0.5 (-10, 10)\n",
      "T_flux_phosphate phosphate_ex <=>  0.5 (-10, 10)\n",
      "T_trans_phosphate phosphate_ex <=> phosphate -0.49999999999999994 (-10, 10)\n",
      "T_flux_pyruvate pyruvate <=>  0.5 (-10, 10)\n",
      "T_flux_D__glyceraldehyde__3__phosphate D__glyceraldehyde__3__phosphate <--  -0.4999999999999999 (-1.5, 0)\n",
      "NADPH_recycle NADPH <=> H+ + NADP+ 0.9999999999999997 (-10, 10)\n",
      "NADH_recycle NADH <=> H+ + NAD+ -0.5 (-10, 10)\n",
      "GAPN flux is 1.0 , GAPDH flux is -0.49999999999999994\n",
      ", ATPase flux is 0.0\n"
     ]
    },
    {
     "data": {
      "application/vnd.jupyter.widget-view+json": {
       "model_id": "15d4eba625c844a5971f86b2b0911787",
       "version_major": 2,
       "version_minor": 0
      },
      "text/plain": [
       "Builder(hide_secondary_metabolites=False, highlight_missing=True, reaction_data={'Biomass': 0.0, 'Biomass__fuc…"
      ]
     },
     "metadata": {},
     "output_type": "display_data"
    }
   ],
   "source": [
    "different_ATPase_bound(0,1.5)"
   ]
  },
  {
   "cell_type": "markdown",
   "metadata": {},
   "source": [
    "## when ATPase bounds is set at 0.25"
   ]
  },
  {
   "cell_type": "code",
   "execution_count": 21,
   "metadata": {},
   "outputs": [
    {
     "name": "stdout",
     "output_type": "stream",
     "text": [
      "NGAM ATP + H2O --> ADP + H+ + phosphate 0.25 (0.25, 0.25)\n",
      "T_flux_H+ H+_ex <=>  1.4999999999999998 (-10, 10)\n",
      "T_trans_H+ H+ <=> H+_ex 1.5 (-10, 10)\n",
      "T_flux_H2O H2O_ex <=>  -0.6249999999999998 (-10, 10)\n",
      "T_trans_H2O H2O <=> H2O_ex -0.6249999999999998 (-10, 10)\n",
      "carb_enter_glucneo_1.2.1.9_1.2.1.9__RXN D__glyceraldehyde__3__phosphate + H2O + NADP+ --> 3__phospho__D__glycerate + H+ + NADPH 1.0 (0, 1)\n",
      "carb_enter_glucneo_5.4.2.1_3PGAREARR__RXN 3__phospho__D__glycerate <=> 2__phospho__D__glycerate 0.625 (-10, 10)\n",
      "carb_enter_glucneo_4.2.1.11_2PGADEHYDRAT__RXN 2__phospho__D__glycerate <=> H2O + phosphoenolpyruvate 0.625 (-10, 10)\n",
      "carb_enter_2.7.1.40_PEPDEPHOS__RXN ADP + phosphoenolpyruvate <=> ATP + pyruvate 0.625 (-10, 10)\n",
      "carb_enter_glucneo_2.7.2.3_PHOSGLYPHOS__RXN 3__phospho__D__glycerate + ATP <=> 1,3__bisphospho__D__glycerate + ADP 0.3750000000000001 (-10, 10)\n",
      "carb_glucneo_1.2.1.13_GAPDHSYNEC__RXN_NAD 1,3__bisphospho__D__glycerate + H+ + NADH <=> D__glyceraldehyde__3__phosphate + NAD+ + phosphate 0.3750000000000001 (-10, 10)\n",
      "T_flux_phosphate phosphate_ex <=>  0.6250000000000001 (-10, 10)\n",
      "T_trans_phosphate phosphate_ex <=> phosphate -0.625 (-10, 10)\n",
      "T_flux_pyruvate pyruvate <=>  0.625 (-10, 10)\n",
      "T_flux_D__glyceraldehyde__3__phosphate D__glyceraldehyde__3__phosphate <--  -0.6249999999999999 (-1.5, 0)\n",
      "NADPH_recycle NADPH <=> H+ + NADP+ 1.0 (-10, 10)\n",
      "NADH_recycle NADH <=> H+ + NAD+ -0.3750000000000001 (-10, 10)\n",
      "GAPN flux is 1.0 , GAPDH flux is -0.3750000000000001\n",
      ", ATPase flux is 0.25\n"
     ]
    },
    {
     "data": {
      "application/vnd.jupyter.widget-view+json": {
       "model_id": "95263311048a4921a3b8285e8f81901d",
       "version_major": 2,
       "version_minor": 0
      },
      "text/plain": [
       "Builder(hide_secondary_metabolites=False, highlight_missing=True, reaction_data={'Biomass': 0.0, 'Biomass__fuc…"
      ]
     },
     "metadata": {},
     "output_type": "display_data"
    }
   ],
   "source": [
    "different_ATPase_bound(0.25,1.5)"
   ]
  },
  {
   "cell_type": "markdown",
   "metadata": {},
   "source": [
    "## when ATPase bounds is set at 0.5"
   ]
  },
  {
   "cell_type": "code",
   "execution_count": 22,
   "metadata": {},
   "outputs": [
    {
     "name": "stdout",
     "output_type": "stream",
     "text": [
      "NGAM ATP + H2O --> ADP + H+ + phosphate 0.5 (0.5, 0.5)\n",
      "T_flux_H+ H+_ex <=>  1.9999999999999996 (-10, 10)\n",
      "T_trans_H+ H+ <=> H+_ex 1.9999999999999998 (-10, 10)\n",
      "T_flux_H2O H2O_ex <=>  -0.75 (-10, 10)\n",
      "T_trans_H2O H2O <=> H2O_ex -0.75 (-10, 10)\n",
      "carb_enter_glucneo_1.2.1.9_1.2.1.9__RXN D__glyceraldehyde__3__phosphate + H2O + NADP+ --> 3__phospho__D__glycerate + H+ + NADPH 1.0 (0, 1)\n",
      "carb_enter_glucneo_5.4.2.1_3PGAREARR__RXN 3__phospho__D__glycerate <=> 2__phospho__D__glycerate 0.7499999999999999 (-10, 10)\n",
      "carb_enter_glucneo_4.2.1.11_2PGADEHYDRAT__RXN 2__phospho__D__glycerate <=> H2O + phosphoenolpyruvate 0.75 (-10, 10)\n",
      "carb_enter_2.7.1.40_PEPDEPHOS__RXN ADP + phosphoenolpyruvate <=> ATP + pyruvate 0.75 (-10, 10)\n",
      "carb_enter_glucneo_2.7.2.3_PHOSGLYPHOS__RXN 3__phospho__D__glycerate + ATP <=> 1,3__bisphospho__D__glycerate + ADP 0.25000000000000006 (-10, 10)\n",
      "carb_glucneo_1.2.1.13_GAPDHSYNEC__RXN_NAD 1,3__bisphospho__D__glycerate + H+ + NADH <=> D__glyceraldehyde__3__phosphate + NAD+ + phosphate 0.2500000000000001 (-10, 10)\n",
      "T_flux_phosphate phosphate_ex <=>  0.7500000000000001 (-10, 10)\n",
      "T_trans_phosphate phosphate_ex <=> phosphate -0.7500000000000001 (-10, 10)\n",
      "T_flux_pyruvate pyruvate <=>  0.7499999999999999 (-10, 10)\n",
      "T_flux_D__glyceraldehyde__3__phosphate D__glyceraldehyde__3__phosphate <--  -0.7499999999999999 (-1.5, 0)\n",
      "NADPH_recycle NADPH <=> H+ + NADP+ 0.9999999999999999 (-10, 10)\n",
      "NADH_recycle NADH <=> H+ + NAD+ -0.2500000000000001 (-10, 10)\n",
      "GAPN flux is 1.0 , GAPDH flux is -0.25000000000000006\n",
      ", ATPase flux is 0.5\n"
     ]
    },
    {
     "data": {
      "application/vnd.jupyter.widget-view+json": {
       "model_id": "e0569a2dbb06469f9b76a7cf9c51c726",
       "version_major": 2,
       "version_minor": 0
      },
      "text/plain": [
       "Builder(hide_secondary_metabolites=False, highlight_missing=True, reaction_data={'Biomass': 0.0, 'Biomass__fuc…"
      ]
     },
     "metadata": {},
     "output_type": "display_data"
    }
   ],
   "source": [
    "different_ATPase_bound(0.5,1.5)"
   ]
  },
  {
   "cell_type": "markdown",
   "metadata": {},
   "source": [
    "## when ATPase bounds is set at 1"
   ]
  },
  {
   "cell_type": "code",
   "execution_count": 23,
   "metadata": {},
   "outputs": [
    {
     "name": "stdout",
     "output_type": "stream",
     "text": [
      "NGAM ATP + H2O --> ADP + H+ + phosphate 1.0 (1, 1)\n",
      "T_flux_H+ H+_ex <=>  2.9999999999999996 (-10, 10)\n",
      "T_trans_H+ H+ <=> H+_ex 3.0 (-10, 10)\n",
      "T_flux_H2O H2O_ex <=>  -1.0 (-10, 10)\n",
      "T_trans_H2O H2O <=> H2O_ex -1.0 (-10, 10)\n",
      "carb_enter_glucneo_1.2.1.9_1.2.1.9__RXN D__glyceraldehyde__3__phosphate + H2O + NADP+ --> 3__phospho__D__glycerate + H+ + NADPH 1.0 (0, 1)\n",
      "carb_enter_glucneo_5.4.2.1_3PGAREARR__RXN 3__phospho__D__glycerate <=> 2__phospho__D__glycerate 1.0 (-10, 10)\n",
      "carb_enter_glucneo_4.2.1.11_2PGADEHYDRAT__RXN 2__phospho__D__glycerate <=> H2O + phosphoenolpyruvate 1.0 (-10, 10)\n",
      "carb_enter_2.7.1.40_PEPDEPHOS__RXN ADP + phosphoenolpyruvate <=> ATP + pyruvate 1.0 (-10, 10)\n",
      "T_flux_phosphate phosphate_ex <=>  1.0 (-10, 10)\n",
      "T_trans_phosphate phosphate_ex <=> phosphate -0.9999999999999999 (-10, 10)\n",
      "T_flux_pyruvate pyruvate <=>  1.0 (-10, 10)\n",
      "T_flux_D__glyceraldehyde__3__phosphate D__glyceraldehyde__3__phosphate <--  -1.0 (-1.5, 0)\n",
      "NADPH_recycle NADPH <=> H+ + NADP+ 1.0 (-10, 10)\n",
      "GAPN flux is 1.0 , GAPDH flux is -0.0\n",
      ", ATPase flux is 1.0\n"
     ]
    },
    {
     "data": {
      "application/vnd.jupyter.widget-view+json": {
       "model_id": "8f3c6178fb5049f8a395ff2ed0d26278",
       "version_major": 2,
       "version_minor": 0
      },
      "text/plain": [
       "Builder(hide_secondary_metabolites=False, highlight_missing=True, reaction_data={'Biomass': 0.0, 'Biomass__fuc…"
      ]
     },
     "metadata": {},
     "output_type": "display_data"
    }
   ],
   "source": [
    "different_ATPase_bound(1,1.5)"
   ]
  },
  {
   "cell_type": "markdown",
   "metadata": {},
   "source": [
    "## when ATPase bounds is set at 1.25"
   ]
  },
  {
   "cell_type": "code",
   "execution_count": 24,
   "metadata": {},
   "outputs": [
    {
     "name": "stdout",
     "output_type": "stream",
     "text": [
      "NGAM ATP + H2O --> ADP + H+ + phosphate 1.25 (1.25, 1.25)\n",
      "T_flux_H+ H+_ex <=>  3.5 (-10, 10)\n",
      "T_trans_H+ H+ <=> H+_ex 3.5 (-10, 10)\n",
      "T_flux_H2O H2O_ex <=>  -1.1249999999999996 (-10, 10)\n",
      "T_trans_H2O H2O <=> H2O_ex -1.1249999999999996 (-10, 10)\n",
      "carb_enter_glucneo_1.2.1.9_1.2.1.9__RXN D__glyceraldehyde__3__phosphate + H2O + NADP+ --> 3__phospho__D__glycerate + H+ + NADPH 1.0 (0, 1)\n",
      "carb_enter_glucneo_5.4.2.1_3PGAREARR__RXN 3__phospho__D__glycerate <=> 2__phospho__D__glycerate 1.1250000000000002 (-10, 10)\n",
      "carb_enter_glucneo_4.2.1.11_2PGADEHYDRAT__RXN 2__phospho__D__glycerate <=> H2O + phosphoenolpyruvate 1.1250000000000002 (-10, 10)\n",
      "carb_enter_2.7.1.40_PEPDEPHOS__RXN ADP + phosphoenolpyruvate <=> ATP + pyruvate 1.1250000000000002 (-10, 10)\n",
      "carb_enter_glucneo_2.7.2.3_PHOSGLYPHOS__RXN 3__phospho__D__glycerate + ATP <=> 1,3__bisphospho__D__glycerate + ADP -0.12500000000000003 (-10, 10)\n",
      "carb_glucneo_1.2.1.13_GAPDHSYNEC__RXN_NAD 1,3__bisphospho__D__glycerate + H+ + NADH <=> D__glyceraldehyde__3__phosphate + NAD+ + phosphate -0.12500000000000008 (-10, 10)\n",
      "T_flux_phosphate phosphate_ex <=>  1.125 (-10, 10)\n",
      "T_trans_phosphate phosphate_ex <=> phosphate -1.125 (-10, 10)\n",
      "T_flux_pyruvate pyruvate <=>  1.1250000000000002 (-10, 10)\n",
      "T_flux_D__glyceraldehyde__3__phosphate D__glyceraldehyde__3__phosphate <--  -1.125 (-1.5, 0)\n",
      "NADPH_recycle NADPH <=> H+ + NADP+ 0.9999999999999999 (-10, 10)\n",
      "NADH_recycle NADH <=> H+ + NAD+ 0.125 (-10, 10)\n",
      "GAPN flux is 1.0 , GAPDH flux is 0.12500000000000003\n",
      ", ATPase flux is 1.25\n"
     ]
    },
    {
     "data": {
      "application/vnd.jupyter.widget-view+json": {
       "model_id": "12a679ce029c4be3a6708778c019a789",
       "version_major": 2,
       "version_minor": 0
      },
      "text/plain": [
       "Builder(hide_secondary_metabolites=False, highlight_missing=True, reaction_data={'Biomass': 0.0, 'Biomass__fuc…"
      ]
     },
     "metadata": {},
     "output_type": "display_data"
    }
   ],
   "source": [
    "different_ATPase_bound(1.25,1.5)"
   ]
  },
  {
   "cell_type": "markdown",
   "metadata": {},
   "source": [
    "## when ATPase bounds is set at 1.5"
   ]
  },
  {
   "cell_type": "code",
   "execution_count": 25,
   "metadata": {},
   "outputs": [
    {
     "name": "stdout",
     "output_type": "stream",
     "text": [
      "NGAM ATP + H2O --> ADP + H+ + phosphate 1.5 (1.5, 1.5)\n",
      "T_flux_H+ H+_ex <=>  3.999999999999999 (-10, 10)\n",
      "T_trans_H+ H+ <=> H+_ex 3.9999999999999996 (-10, 10)\n",
      "T_flux_H2O H2O_ex <=>  -1.2499999999999996 (-10, 10)\n",
      "T_trans_H2O H2O <=> H2O_ex -1.2499999999999996 (-10, 10)\n",
      "carb_enter_glucneo_1.2.1.9_1.2.1.9__RXN D__glyceraldehyde__3__phosphate + H2O + NADP+ --> 3__phospho__D__glycerate + H+ + NADPH 1.0 (0, 1)\n",
      "carb_enter_glucneo_5.4.2.1_3PGAREARR__RXN 3__phospho__D__glycerate <=> 2__phospho__D__glycerate 1.25 (-10, 10)\n",
      "carb_enter_glucneo_4.2.1.11_2PGADEHYDRAT__RXN 2__phospho__D__glycerate <=> H2O + phosphoenolpyruvate 1.25 (-10, 10)\n",
      "carb_enter_2.7.1.40_PEPDEPHOS__RXN ADP + phosphoenolpyruvate <=> ATP + pyruvate 1.25 (-10, 10)\n",
      "carb_enter_glucneo_2.7.2.3_PHOSGLYPHOS__RXN 3__phospho__D__glycerate + ATP <=> 1,3__bisphospho__D__glycerate + ADP -0.24999999999999983 (-10, 10)\n",
      "carb_glucneo_1.2.1.13_GAPDHSYNEC__RXN_NAD 1,3__bisphospho__D__glycerate + H+ + NADH <=> D__glyceraldehyde__3__phosphate + NAD+ + phosphate -0.24999999999999992 (-10, 10)\n",
      "T_flux_phosphate phosphate_ex <=>  1.25 (-10, 10)\n",
      "T_trans_phosphate phosphate_ex <=> phosphate -1.2499999999999998 (-10, 10)\n",
      "T_flux_pyruvate pyruvate <=>  1.25 (-10, 10)\n",
      "T_flux_D__glyceraldehyde__3__phosphate D__glyceraldehyde__3__phosphate <--  -1.2499999999999998 (-1.5, 0)\n",
      "NADPH_recycle NADPH <=> H+ + NADP+ 0.9999999999999999 (-10, 10)\n",
      "NADH_recycle NADH <=> H+ + NAD+ 0.24999999999999992 (-10, 10)\n",
      "GAPN flux is 1.0 , GAPDH flux is 0.24999999999999983\n",
      ", ATPase flux is 1.5\n"
     ]
    },
    {
     "data": {
      "application/vnd.jupyter.widget-view+json": {
       "model_id": "6b4de6e6c29d4c188776021c88a7f518",
       "version_major": 2,
       "version_minor": 0
      },
      "text/plain": [
       "Builder(hide_secondary_metabolites=False, highlight_missing=True, reaction_data={'Biomass': 0.0, 'Biomass__fuc…"
      ]
     },
     "metadata": {},
     "output_type": "display_data"
    }
   ],
   "source": [
    "different_ATPase_bound(1.5,1.5)"
   ]
  },
  {
   "cell_type": "markdown",
   "metadata": {},
   "source": [
    "## when ATPase bounds is set at 1.75"
   ]
  },
  {
   "cell_type": "code",
   "execution_count": 26,
   "metadata": {},
   "outputs": [
    {
     "name": "stdout",
     "output_type": "stream",
     "text": [
      "NGAM ATP + H2O --> ADP + H+ + phosphate 1.75 (1.75, 1.75)\n",
      "T_flux_H+ H+_ex <=>  4.500000000000001 (-10, 10)\n",
      "T_trans_H+ H+ <=> H+_ex 4.500000000000001 (-10, 10)\n",
      "T_flux_H2O H2O_ex <=>  -1.3749999999999993 (-10, 10)\n",
      "T_trans_H2O H2O <=> H2O_ex -1.3749999999999993 (-10, 10)\n",
      "carb_enter_glucneo_1.2.1.9_1.2.1.9__RXN D__glyceraldehyde__3__phosphate + H2O + NADP+ --> 3__phospho__D__glycerate + H+ + NADPH 1.0 (0, 1)\n",
      "carb_enter_glucneo_5.4.2.1_3PGAREARR__RXN 3__phospho__D__glycerate <=> 2__phospho__D__glycerate 1.3750000000000004 (-10, 10)\n",
      "carb_enter_glucneo_4.2.1.11_2PGADEHYDRAT__RXN 2__phospho__D__glycerate <=> H2O + phosphoenolpyruvate 1.3750000000000004 (-10, 10)\n",
      "carb_enter_2.7.1.40_PEPDEPHOS__RXN ADP + phosphoenolpyruvate <=> ATP + pyruvate 1.3750000000000004 (-10, 10)\n",
      "carb_enter_glucneo_2.7.2.3_PHOSGLYPHOS__RXN 3__phospho__D__glycerate + ATP <=> 1,3__bisphospho__D__glycerate + ADP -0.3750000000000002 (-10, 10)\n",
      "carb_glucneo_1.2.1.13_GAPDHSYNEC__RXN_NAD 1,3__bisphospho__D__glycerate + H+ + NADH <=> D__glyceraldehyde__3__phosphate + NAD+ + phosphate -0.37500000000000033 (-10, 10)\n",
      "T_flux_phosphate phosphate_ex <=>  1.3749999999999993 (-10, 10)\n",
      "T_trans_phosphate phosphate_ex <=> phosphate -1.3749999999999993 (-10, 10)\n",
      "T_flux_pyruvate pyruvate <=>  1.3750000000000004 (-10, 10)\n",
      "T_flux_D__glyceraldehyde__3__phosphate D__glyceraldehyde__3__phosphate <--  -1.3750000000000002 (-1.5, 0)\n",
      "NADPH_recycle NADPH <=> H+ + NADP+ 0.9999999999999997 (-10, 10)\n",
      "NADH_recycle NADH <=> H+ + NAD+ 0.3750000000000004 (-10, 10)\n",
      "GAPN flux is 1.0 , GAPDH flux is 0.3750000000000002\n",
      ", ATPase flux is 1.75\n"
     ]
    },
    {
     "data": {
      "application/vnd.jupyter.widget-view+json": {
       "model_id": "81f6f1d5734d48788206df9fb4668009",
       "version_major": 2,
       "version_minor": 0
      },
      "text/plain": [
       "Builder(hide_secondary_metabolites=False, highlight_missing=True, reaction_data={'Biomass': 0.0, 'Biomass__fuc…"
      ]
     },
     "metadata": {},
     "output_type": "display_data"
    }
   ],
   "source": [
    "different_ATPase_bound(1.75,1.5)"
   ]
  },
  {
   "cell_type": "markdown",
   "metadata": {},
   "source": [
    "## when ATPase bounds is set at 2"
   ]
  },
  {
   "cell_type": "code",
   "execution_count": null,
   "metadata": {},
   "outputs": [],
   "source": [
    "different_ATPase_bound(2,1.5)"
   ]
  },
  {
   "cell_type": "markdown",
   "metadata": {},
   "source": [
    "## when ATPase bounds is set at 2.25"
   ]
  },
  {
   "cell_type": "code",
   "execution_count": null,
   "metadata": {},
   "outputs": [],
   "source": [
    "different_ATPase_bound(2.25,1.5)"
   ]
  },
  {
   "cell_type": "markdown",
   "metadata": {},
   "source": [
    "## when ATPase bounds is set at 2.5"
   ]
  },
  {
   "cell_type": "code",
   "execution_count": null,
   "metadata": {},
   "outputs": [],
   "source": [
    "different_ATPase_bound(2.5,1.5)"
   ]
  },
  {
   "cell_type": "markdown",
   "metadata": {},
   "source": [
    "## when ATPase bounds is set at 2.75"
   ]
  },
  {
   "cell_type": "code",
   "execution_count": null,
   "metadata": {},
   "outputs": [],
   "source": [
    "different_ATPase_bound(2.75,1.5)"
   ]
  },
  {
   "cell_type": "markdown",
   "metadata": {},
   "source": [
    "## when ATPase bounds is set at 3"
   ]
  },
  {
   "cell_type": "code",
   "execution_count": null,
   "metadata": {},
   "outputs": [],
   "source": [
    "different_ATPase_bound(3,1.5)"
   ]
  }
 ],
 "metadata": {
  "kernelspec": {
   "display_name": "Python 3",
   "language": "python",
   "name": "python3"
  },
  "language_info": {
   "codemirror_mode": {
    "name": "ipython",
    "version": 3
   },
   "file_extension": ".py",
   "mimetype": "text/x-python",
   "name": "python",
   "nbconvert_exporter": "python",
   "pygments_lexer": "ipython3",
   "version": "3.6.9"
  },
  "toc": {
   "base_numbering": 1,
   "nav_menu": {},
   "number_sections": true,
   "sideBar": true,
   "skip_h1_title": false,
   "title_cell": "Table of Contents",
   "title_sidebar": "Contents",
   "toc_cell": false,
   "toc_position": {
    "height": "calc(100% - 180px)",
    "left": "10px",
    "top": "150px",
    "width": "327.688px"
   },
   "toc_section_display": true,
   "toc_window_display": true
  },
  "varInspector": {
   "cols": {
    "lenName": 16,
    "lenType": 16,
    "lenVar": 40
   },
   "kernels_config": {
    "python": {
     "delete_cmd_postfix": "",
     "delete_cmd_prefix": "del ",
     "library": "var_list.py",
     "varRefreshCmd": "print(var_dic_list())"
    },
    "r": {
     "delete_cmd_postfix": ") ",
     "delete_cmd_prefix": "rm(",
     "library": "var_list.r",
     "varRefreshCmd": "cat(var_dic_list()) "
    }
   },
   "types_to_exclude": [
    "module",
    "function",
    "builtin_function_or_method",
    "instance",
    "_Feature"
   ],
   "window_display": false
  }
 },
 "nbformat": 4,
 "nbformat_minor": 2
}
