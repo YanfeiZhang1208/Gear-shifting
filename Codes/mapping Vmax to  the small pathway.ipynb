{
 "cells": [
  {
   "cell_type": "markdown",
   "metadata": {},
   "source": [
    "# Set the environment"
   ]
  },
  {
   "cell_type": "code",
   "execution_count": 1,
   "metadata": {},
   "outputs": [],
   "source": [
    "# set the envoiroment\n",
    "import cobra\n",
    "from cobra import Model, Reaction, Metabolite\n",
    "from cobra.flux_analysis import flux_variability_analysis\n",
    "import pandas as pd\n",
    "import numpy as np\n",
    "import matplotlib.pyplot as plt\n",
    "import glob \n",
    "import escher\n",
    "from escher import Builder\n",
    "from utils import show_map\n",
    "from utils.check_precursor_problem import check_precursor_problem"
   ]
  },
  {
   "cell_type": "markdown",
   "metadata": {},
   "source": [
    "# Load the model"
   ]
  },
  {
   "cell_type": "code",
   "execution_count": 2,
   "metadata": {},
   "outputs": [],
   "source": [
    "model = cobra.io.load_json_model(\"../models/updated_model.json\")# Import the model.\n",
    "model.solver = 'glpk'\n",
    "model.reactions.T_flux_oxygen.bounds = (0,0) # block the import of oxygen\n",
    "model.reactions.NGAM.bounds = (0,1000)\n",
    "map_loc = \"../data/small_pathway.json\""
   ]
  },
  {
   "cell_type": "markdown",
   "metadata": {},
   "source": [
    "# The small model "
   ]
  },
  {
   "cell_type": "code",
   "execution_count": 3,
   "metadata": {
    "scrolled": true
   },
   "outputs": [
    {
     "data": {
      "application/vnd.jupyter.widget-view+json": {
       "model_id": "647ae33740a847ceb3191b3a91d33776",
       "version_major": 2,
       "version_minor": 0
      },
      "text/plain": [
       "Builder(hide_secondary_metabolites=False, highlight_missing=True, reaction_data={'Biomass': 0.0, 'Biomass__fuc…"
      ]
     },
     "metadata": {},
     "output_type": "display_data"
    }
   ],
   "source": [
    "M= model.copy()\n",
    "\n",
    "## add the reaction for the maintainance of NADPH\n",
    "reaction = Reaction('NADPH_recycle')\n",
    "reaction.name = 'NADPH_recycle'\n",
    "reaction.lower_bound = -100.  # This is the default\n",
    "reaction.upper_bound = 1000.  # This is the default\n",
    "M.add_reactions([reaction])\n",
    "reaction.add_metabolites({'NADPH': -1.0,\n",
    "                         'NADP+': 1.0,\n",
    "                         \"H+\":1.0})\n",
    "\n",
    "reaction.reaction \n",
    "## add the reaction for the maintainance of NADH\n",
    "reaction = Reaction('NADH_recycle')\n",
    "reaction.name = 'NADH_recycle'\n",
    "reaction.lower_bound = -100.  # This is the default\n",
    "reaction.upper_bound = 1000.  # This is the default\n",
    "M.add_reactions([reaction])\n",
    "reaction.add_metabolites({'NADH': -1.0,\n",
    "                         'NAD+': 1.0,\n",
    "                         \"H+\":1.0})\n",
    "reaction.reaction\n",
    "reaction = Reaction('T_flux_pyruvate')\n",
    "reaction.name = 'T_flux_pyruvate'\n",
    "reaction.lower_bound = 0.  # This is the default\n",
    "reaction.upper_bound = 1000.  # This is the default\n",
    "M.add_reactions([reaction])\n",
    "reaction.add_metabolites({'pyruvate': -1.0\n",
    "                         })\n",
    "\n",
    "reaction = Reaction('ATP_source_reaction')\n",
    "reaction.name = 'ATP_source_reaction'\n",
    "reaction.lower_bound = -0.  # This is the default\n",
    "reaction.upper_bound = 1000.  # This is the default\n",
    "M.add_reactions([reaction])\n",
    "reaction.add_metabolites({\"ADP\": -1.0,\n",
    "                          \"H+\": -1.0,\n",
    "                          \"phosphate\":-1.0,\n",
    "                          \"H2O\": 1.0,\n",
    "                         \"ATP\": 1.0})\n",
    "total_reactions_id = [r.id for r in M.reactions]\n",
    "small_pathway_reactions = ['T_flux_beta__D__glucose','T_ABC__transporter_beta__D__glucose',\n",
    "'carb_entner_1.1.1.359_GLUCOSE__1__DEHYDROGENASE__NAD+__RXN','carb_entner_1.1.1.47_GLUCOSE__1__DEHYDROGENASE__NAD+__RXN',\n",
    "'carb_entner_1.1.1.360_GLUCOSE__1__DEHYDROGENASE__NADP+__RXN','carb_entner_3.1.1.17_GLUCONOLACT__RXN',\n",
    "'carb_entner_4.2.1.140_GLUCONATE__DEHYDRATASE__RXN','carb_degra__glucose_4.2.1.9_GLUCONATE__DEHYDRATASE__RXN','carb_entner_2.7.1.178_DEOXYGLUCONOKIN__RXN',\n",
    "'carb_entner_4.1.2.55_KDPGALDOL__RXN',\"carb_glucneo_1.2.1.13_GAPDHSYNEC__RXN_NAD\",\"carb_glucneo_1.2.1.13_GAPDHSYNEC__RXN_NADP\",\"carb_enter_glucneo_2.7.2.3_PHOSGLYPHOS__RXN\",\n",
    " \"carb_enter_glucneo_1.2.1.9_1.2.1.9__RXN\",'T_flux_H+','T_trans_H+','T_flux_H2O','T_trans_H2O','T_flux_phosphate','T_trans_phosphate',\n",
    "'carb_enter_glucneo_5.4.2.1_3PGAREARR__RXN','carb_enter_glucneo_4.2.1.11_2PGADEHYDRAT__RXN',\n",
    "'carb_enter_2.7.1.40_PEPDEPHOS__RXN','NADPH_recycle','NADH_recycle','T_flux_pyruvate','ATP_source_reaction']\n",
    "\n",
    "for r in total_reactions_id:\n",
    "    if r not in small_pathway_reactions:\n",
    "        M.reactions.get_by_id(r).upper_bound = 0\n",
    "        M.reactions.get_by_id(r).lower_bound = 0\n",
    "    \n",
    "\n",
    "M.objective = M.reactions.get_by_id('T_flux_pyruvate')\n",
    "sol = M.optimize()\n",
    "b = show_map(sol,map_loc)\n",
    "b"
   ]
  },
  {
   "cell_type": "markdown",
   "metadata": {},
   "source": [
    "# Import the mRNA data and Vmax data"
   ]
  },
  {
   "cell_type": "code",
   "execution_count": 4,
   "metadata": {},
   "outputs": [],
   "source": [
    "df_gene_reaction_rule =pd.read_csv('../data/reaction_id_RAS 4.1.csv')\n",
    "# set the reaction id column as the index in order to map it to the model\n",
    "df_gene_reaction_rule = df_gene_reaction_rule.fillna(1000)\n",
    "df_gene_reaction_rule = df_gene_reaction_rule.set_index([\"reaction_id\"],)"
   ]
  },
  {
   "cell_type": "markdown",
   "metadata": {},
   "source": [
    "# Write a function for mapping transcriptomics to model reaction bounds"
   ]
  },
  {
   "cell_type": "code",
   "execution_count": 5,
   "metadata": {},
   "outputs": [],
   "source": [
    "def map_the_RNA_to_model (a, b,c):# Here a is the number used to divid the transcriptome data, b is the column for the transcriptome data, -c is the lower bound for glucose exchange reaction \n",
    "    model1 = M.copy()\n",
    "    model1.reactions.get_by_id('T_flux_beta__D__glucose').bounds = (-c,0)\n",
    "\n",
    "    for rxn in small_pathway_reactions:\n",
    "        if rxn in df_gene_reaction_rule.index:\n",
    "\n",
    "            the_bound = df_gene_reaction_rule[b].loc[rxn]/a\n",
    "\n",
    "            if model1.reactions.get_by_id(rxn).lower_bound < 0 and model1.reactions.get_by_id(rxn).upper_bound > 0: # this finds reversible rxns\n",
    "\n",
    "                model1.reactions.get_by_id(rxn).bounds = (-1*the_bound, the_bound) # we set the bound(s) with max abs(FVA) \n",
    "\n",
    "            elif model1.reactions.get_by_id(rxn).upper_bound > 0: # irreversible, flows in forward direction\n",
    "\n",
    "                model1.reactions.get_by_id(rxn).bounds = (0, the_bound)  # the lower bound will stay zero\n",
    "\n",
    "            elif int(model1.reactions.get_by_id(rxn).lower_bound) < 0: # irreversible, flows in backward direction\n",
    "\n",
    "                model1.reactions.get_by_id(rxn).bounds = (-1*the_bound, 0) # the upper bound will stay zero\n",
    "    model1.objective  = model1.reactions.get_by_id(\"T_flux_pyruvate\")\n",
    "    sol = model1.optimize()\n",
    "    l = sol.fluxes[abs(sol.fluxes)>1e-6].index\n",
    "    for rxn in l:\n",
    "        print (rxn,model1.reactions.get_by_id(rxn).bounds,sol.fluxes.loc[rxn])\n",
    "    b = show_map(sol,map_loc)\n",
    "    return(b)"
   ]
  },
  {
   "cell_type": "markdown",
   "metadata": {},
   "source": [
    "# Map the transcriptomics at different temperatures 70 and 80 ℃"
   ]
  },
  {
   "cell_type": "markdown",
   "metadata": {},
   "source": [
    "## 70 ℃, different a factor "
   ]
  },
  {
   "cell_type": "markdown",
   "metadata": {},
   "source": [
    "### 70 ℃, a factor was  fixed at 100000"
   ]
  },
  {
   "cell_type": "code",
   "execution_count": 6,
   "metadata": {
    "scrolled": true
   },
   "outputs": [
    {
     "name": "stdout",
     "output_type": "stream",
     "text": [
      "T_flux_H+ (-1000, 1000) 2.981320000000001\n",
      "T_trans_H+ (-1000, 1000) 2.9813200000000006\n",
      "T_flux_beta__D__glucose (-1, 0) -0.74533\n",
      "T_ABC__transporter_beta__D__glucose (0, 1.844567) 0.7453300000000003\n",
      "carb_entner_1.1.1.360_GLUCOSE__1__DEHYDROGENASE__NADP+__RXN (0, 1.31251) 0.7453300000000003\n",
      "carb_entner_3.1.1.17_GLUCONOLACT__RXN (0, 10.0) 0.7453300000000004\n",
      "carb_entner_4.2.1.140_GLUCONATE__DEHYDRATASE__RXN (0, 8.365715) 0.7453300000000004\n",
      "carb_entner_2.7.1.178_DEOXYGLUCONOKIN__RXN (0, 2.912728) 0.7453300000000003\n",
      "carb_entner_4.1.2.55_KDPGALDOL__RXN (0, 5.973186999999999) 0.7453300000000002\n",
      "carb_enter_glucneo_5.4.2.1_3PGAREARR__RXN (-0.74533, 0.74533) 0.74533\n",
      "carb_enter_glucneo_4.2.1.11_2PGADEHYDRAT__RXN (-4.107753, 4.107753) 0.74533\n",
      "carb_enter_2.7.1.40_PEPDEPHOS__RXN (0, 1.92121) 0.74533\n",
      "carb_enter_glucneo_2.7.2.3_PHOSGLYPHOS__RXN (-5.995728000000001, 5.995728000000001) -0.7453300000000002\n",
      "carb_glucneo_1.2.1.13_GAPDHSYNEC__RXN_NAD (-6.530183, 6.530183) -0.7453300000000002\n",
      "NADPH_recycle (-100.0, 1000.0) 0.7453300000000003\n",
      "NADH_recycle (-100.0, 1000.0) 0.7453300000000002\n",
      "T_flux_pyruvate (0.0, 1000.0) 1.4906600000000003\n"
     ]
    },
    {
     "data": {
      "application/vnd.jupyter.widget-view+json": {
       "model_id": "461d5b3fe14644b6942d30428a124c39",
       "version_major": 2,
       "version_minor": 0
      },
      "text/plain": [
       "Builder(hide_secondary_metabolites=False, highlight_missing=True, reaction_data={'Biomass': 0.0, 'Biomass__fuc…"
      ]
     },
     "metadata": {},
     "output_type": "display_data"
    }
   ],
   "source": [
    "map_the_RNA_to_model (100000,'mRNA (70)',1)"
   ]
  },
  {
   "cell_type": "markdown",
   "metadata": {},
   "source": [
    "### 70 ℃, a factor was  fixed at 10000"
   ]
  },
  {
   "cell_type": "code",
   "execution_count": 7,
   "metadata": {
    "scrolled": true
   },
   "outputs": [
    {
     "name": "stdout",
     "output_type": "stream",
     "text": [
      "T_flux_H+ (-1000, 1000) 4.000000000000002\n",
      "T_trans_H+ (-1000, 1000) 4.000000000000001\n",
      "T_flux_beta__D__glucose (-1, 0) -1.0\n",
      "T_ABC__transporter_beta__D__glucose (0, 18.44567) 1.0000000000000002\n",
      "carb_entner_1.1.1.360_GLUCOSE__1__DEHYDROGENASE__NADP+__RXN (0, 13.1251) 1.0000000000000002\n",
      "carb_entner_3.1.1.17_GLUCONOLACT__RXN (0, 100.0) 1.0000000000000002\n",
      "carb_entner_4.2.1.140_GLUCONATE__DEHYDRATASE__RXN (0, 83.65715) 1.0000000000000002\n",
      "carb_entner_2.7.1.178_DEOXYGLUCONOKIN__RXN (0, 29.12728) 1.0000000000000002\n",
      "carb_entner_4.1.2.55_KDPGALDOL__RXN (0, 59.731869999999994) 1.0\n",
      "carb_enter_glucneo_5.4.2.1_3PGAREARR__RXN (-7.4533, 7.4533) 1.0000000000000002\n",
      "carb_enter_glucneo_4.2.1.11_2PGADEHYDRAT__RXN (-41.077529999999996, 41.077529999999996) 1.0000000000000002\n",
      "carb_enter_2.7.1.40_PEPDEPHOS__RXN (0, 19.2121) 1.0000000000000002\n",
      "carb_enter_glucneo_2.7.2.3_PHOSGLYPHOS__RXN (-59.957280000000004, 59.957280000000004) -1.0000000000000004\n",
      "carb_glucneo_1.2.1.13_GAPDHSYNEC__RXN_NAD (-65.30183000000001, 65.30183000000001) -1.0000000000000002\n",
      "NADPH_recycle (-100.0, 1000.0) 1.0\n",
      "NADH_recycle (-100.0, 1000.0) 1.0000000000000002\n",
      "T_flux_pyruvate (0.0, 1000.0) 2.0000000000000004\n"
     ]
    },
    {
     "data": {
      "application/vnd.jupyter.widget-view+json": {
       "model_id": "7d0d65a2689044ea90ba618449518e36",
       "version_major": 2,
       "version_minor": 0
      },
      "text/plain": [
       "Builder(hide_secondary_metabolites=False, highlight_missing=True, reaction_data={'Biomass': 0.0, 'Biomass__fuc…"
      ]
     },
     "metadata": {},
     "output_type": "display_data"
    }
   ],
   "source": [
    "map_the_RNA_to_model (10000,'mRNA (70)',1)"
   ]
  },
  {
   "cell_type": "markdown",
   "metadata": {},
   "source": [
    "### 70 ℃, a factor was  fixed at 1000000"
   ]
  },
  {
   "cell_type": "code",
   "execution_count": 8,
   "metadata": {
    "scrolled": true
   },
   "outputs": [
    {
     "name": "stdout",
     "output_type": "stream",
     "text": [
      "T_flux_H+ (-1000, 1000) 0.298132\n",
      "T_trans_H+ (-1000, 1000) 0.298132\n",
      "T_flux_beta__D__glucose (-1, 0) -0.07453299999999996\n",
      "T_ABC__transporter_beta__D__glucose (0, 0.1844567) 0.07453299999999996\n",
      "carb_entner_1.1.1.360_GLUCOSE__1__DEHYDROGENASE__NADP+__RXN (0, 0.131251) 0.07453299999999999\n",
      "carb_entner_3.1.1.17_GLUCONOLACT__RXN (0, 1.0) 0.074533\n",
      "carb_entner_4.2.1.140_GLUCONATE__DEHYDRATASE__RXN (0, 0.8365715) 0.074533\n",
      "carb_entner_2.7.1.178_DEOXYGLUCONOKIN__RXN (0, 0.2912728) 0.07453299999999999\n",
      "carb_entner_4.1.2.55_KDPGALDOL__RXN (0, 0.5973187) 0.07453299999999997\n",
      "carb_enter_glucneo_5.4.2.1_3PGAREARR__RXN (-0.074533, 0.074533) 0.074533\n",
      "carb_enter_glucneo_4.2.1.11_2PGADEHYDRAT__RXN (-0.4107753, 0.4107753) 0.07453299999999996\n",
      "carb_enter_2.7.1.40_PEPDEPHOS__RXN (0, 0.192121) 0.07453299999999996\n",
      "carb_enter_glucneo_2.7.2.3_PHOSGLYPHOS__RXN (-0.5995728, 0.5995728) -0.07453299999999996\n",
      "carb_glucneo_1.2.1.13_GAPDHSYNEC__RXN_NAD (-0.6530183, 0.6530183) -0.07453299999999997\n",
      "NADPH_recycle (-100.0, 1000.0) 0.074533\n",
      "NADH_recycle (-100.0, 1000.0) 0.07453299999999997\n",
      "T_flux_pyruvate (0.0, 1000.0) 0.14906599999999992\n"
     ]
    },
    {
     "data": {
      "application/vnd.jupyter.widget-view+json": {
       "model_id": "9d8ef5c9872e46ef86db89993e7eb268",
       "version_major": 2,
       "version_minor": 0
      },
      "text/plain": [
       "Builder(hide_secondary_metabolites=False, highlight_missing=True, reaction_data={'Biomass': 0.0, 'Biomass__fuc…"
      ]
     },
     "metadata": {},
     "output_type": "display_data"
    }
   ],
   "source": [
    "map_the_RNA_to_model (1000000,'mRNA (70)',1)"
   ]
  },
  {
   "cell_type": "markdown",
   "metadata": {},
   "source": [
    "## 80 ℃, different a factor "
   ]
  },
  {
   "cell_type": "markdown",
   "metadata": {},
   "source": [
    "### 80 ℃, a factor was  fixed at 100000"
   ]
  },
  {
   "cell_type": "code",
   "execution_count": 9,
   "metadata": {
    "scrolled": true
   },
   "outputs": [
    {
     "name": "stdout",
     "output_type": "stream",
     "text": [
      "T_flux_H+ (-1000, 1000) 4.000000000000002\n",
      "T_trans_H+ (-1000, 1000) 4.000000000000001\n",
      "T_flux_beta__D__glucose (-1, 0) -1.0\n",
      "T_ABC__transporter_beta__D__glucose (0, 1.01448) 1.0000000000000002\n",
      "carb_entner_1.1.1.360_GLUCOSE__1__DEHYDROGENASE__NADP+__RXN (0, 1.16348) 1.0000000000000002\n",
      "carb_entner_3.1.1.17_GLUCONOLACT__RXN (0, 10.0) 1.0000000000000002\n",
      "carb_entner_4.2.1.140_GLUCONATE__DEHYDRATASE__RXN (0, 3.56251) 1.0000000000000002\n",
      "carb_entner_2.7.1.178_DEOXYGLUCONOKIN__RXN (0, 2.5335579999999998) 1.0000000000000002\n",
      "carb_entner_4.1.2.55_KDPGALDOL__RXN (0, 3.46968) 1.0\n",
      "carb_enter_glucneo_5.4.2.1_3PGAREARR__RXN (-1.004765, 1.004765) 1.0000000000000002\n",
      "carb_enter_glucneo_4.2.1.11_2PGADEHYDRAT__RXN (-4.253073, 4.253073) 1.0000000000000002\n",
      "carb_enter_2.7.1.40_PEPDEPHOS__RXN (0, 3.07618) 1.0000000000000002\n",
      "carb_enter_glucneo_2.7.2.3_PHOSGLYPHOS__RXN (-4.929608, 4.929608) -1.0000000000000004\n",
      "carb_glucneo_1.2.1.13_GAPDHSYNEC__RXN_NAD (-6.758985, 6.758985) -1.0000000000000002\n",
      "NADPH_recycle (-100.0, 1000.0) 1.0\n",
      "NADH_recycle (-100.0, 1000.0) 1.0000000000000002\n",
      "T_flux_pyruvate (0.0, 1000.0) 2.0000000000000004\n"
     ]
    },
    {
     "data": {
      "application/vnd.jupyter.widget-view+json": {
       "model_id": "ff613fce37434fa385d56f0988ed4c27",
       "version_major": 2,
       "version_minor": 0
      },
      "text/plain": [
       "Builder(hide_secondary_metabolites=False, highlight_missing=True, reaction_data={'Biomass': 0.0, 'Biomass__fuc…"
      ]
     },
     "metadata": {},
     "output_type": "display_data"
    }
   ],
   "source": [
    "map_the_RNA_to_model (100000,'mRNA (80)',1)"
   ]
  },
  {
   "cell_type": "markdown",
   "metadata": {},
   "source": [
    "### 80 ℃, a factor was  fixed at 10000"
   ]
  },
  {
   "cell_type": "code",
   "execution_count": 10,
   "metadata": {
    "scrolled": true
   },
   "outputs": [
    {
     "name": "stdout",
     "output_type": "stream",
     "text": [
      "T_flux_H+ (-1000, 1000) 4.000000000000002\n",
      "T_trans_H+ (-1000, 1000) 4.000000000000001\n",
      "T_flux_beta__D__glucose (-1, 0) -1.0\n",
      "T_ABC__transporter_beta__D__glucose (0, 10.1448) 1.0000000000000002\n",
      "carb_entner_1.1.1.360_GLUCOSE__1__DEHYDROGENASE__NADP+__RXN (0, 11.6348) 1.0000000000000002\n",
      "carb_entner_3.1.1.17_GLUCONOLACT__RXN (0, 100.0) 1.0000000000000002\n",
      "carb_entner_4.2.1.140_GLUCONATE__DEHYDRATASE__RXN (0, 35.6251) 1.0000000000000002\n",
      "carb_entner_2.7.1.178_DEOXYGLUCONOKIN__RXN (0, 25.33558) 1.0000000000000002\n",
      "carb_entner_4.1.2.55_KDPGALDOL__RXN (0, 34.6968) 1.0\n",
      "carb_enter_glucneo_5.4.2.1_3PGAREARR__RXN (-10.04765, 10.04765) 1.0000000000000002\n",
      "carb_enter_glucneo_4.2.1.11_2PGADEHYDRAT__RXN (-42.53073, 42.53073) 1.0000000000000002\n",
      "carb_enter_2.7.1.40_PEPDEPHOS__RXN (0, 30.7618) 1.0000000000000002\n",
      "carb_enter_glucneo_2.7.2.3_PHOSGLYPHOS__RXN (-49.296079999999996, 49.296079999999996) -1.0000000000000004\n",
      "carb_glucneo_1.2.1.13_GAPDHSYNEC__RXN_NAD (-67.58985, 67.58985) -1.0000000000000002\n",
      "NADPH_recycle (-100.0, 1000.0) 1.0\n",
      "NADH_recycle (-100.0, 1000.0) 1.0000000000000002\n",
      "T_flux_pyruvate (0.0, 1000.0) 2.0000000000000004\n"
     ]
    },
    {
     "data": {
      "application/vnd.jupyter.widget-view+json": {
       "model_id": "50d19dbc820d4cbd82e7ccf61c46ff47",
       "version_major": 2,
       "version_minor": 0
      },
      "text/plain": [
       "Builder(hide_secondary_metabolites=False, highlight_missing=True, reaction_data={'Biomass': 0.0, 'Biomass__fuc…"
      ]
     },
     "metadata": {},
     "output_type": "display_data"
    }
   ],
   "source": [
    "map_the_RNA_to_model (10000,'mRNA (80)',1)"
   ]
  },
  {
   "cell_type": "markdown",
   "metadata": {},
   "source": [
    "### 80 ℃, a factor was  fixed at 1000000"
   ]
  },
  {
   "cell_type": "code",
   "execution_count": 11,
   "metadata": {
    "scrolled": true
   },
   "outputs": [
    {
     "name": "stdout",
     "output_type": "stream",
     "text": [
      "T_flux_H+ (-1000, 1000) 0.4019059999999999\n",
      "T_trans_H+ (-1000, 1000) 0.4019059999999999\n",
      "T_flux_beta__D__glucose (-1, 0) -0.10047649999999995\n",
      "T_ABC__transporter_beta__D__glucose (0, 0.101448) 0.10047649999999995\n",
      "carb_entner_1.1.1.360_GLUCOSE__1__DEHYDROGENASE__NADP+__RXN (0, 0.116348) 0.10047649999999995\n",
      "carb_entner_3.1.1.17_GLUCONOLACT__RXN (0, 1.0) 0.10047649999999997\n",
      "carb_entner_4.2.1.140_GLUCONATE__DEHYDRATASE__RXN (0, 0.356251) 0.10047649999999998\n",
      "carb_entner_2.7.1.178_DEOXYGLUCONOKIN__RXN (0, 0.25335579999999996) 0.10047649999999998\n",
      "carb_entner_4.1.2.55_KDPGALDOL__RXN (0, 0.346968) 0.10047649999999997\n",
      "carb_enter_glucneo_5.4.2.1_3PGAREARR__RXN (-0.1004765, 0.1004765) 0.1004765\n",
      "carb_enter_glucneo_4.2.1.11_2PGADEHYDRAT__RXN (-0.4253073, 0.4253073) 0.10047649999999995\n",
      "carb_enter_2.7.1.40_PEPDEPHOS__RXN (0, 0.307618) 0.10047649999999995\n",
      "carb_enter_glucneo_2.7.2.3_PHOSGLYPHOS__RXN (-0.4929608, 0.4929608) -0.10047649999999995\n",
      "carb_glucneo_1.2.1.13_GAPDHSYNEC__RXN_NAD (-0.6758985, 0.6758985) -0.10047649999999997\n",
      "NADPH_recycle (-100.0, 1000.0) 0.10047649999999995\n",
      "NADH_recycle (-100.0, 1000.0) 0.10047649999999995\n",
      "T_flux_pyruvate (0.0, 1000.0) 0.20095299999999994\n"
     ]
    },
    {
     "data": {
      "application/vnd.jupyter.widget-view+json": {
       "model_id": "0be331752ccc48b1b0e8bc0dc673c76c",
       "version_major": 2,
       "version_minor": 0
      },
      "text/plain": [
       "Builder(hide_secondary_metabolites=False, highlight_missing=True, reaction_data={'Biomass': 0.0, 'Biomass__fuc…"
      ]
     },
     "metadata": {},
     "output_type": "display_data"
    }
   ],
   "source": [
    "map_the_RNA_to_model (1000000,'mRNA (80)',1)"
   ]
  },
  {
   "cell_type": "markdown",
   "metadata": {},
   "source": [
    "# Map the Vmax at different temperatures 70 and 80 ℃"
   ]
  },
  {
   "cell_type": "markdown",
   "metadata": {},
   "source": [
    "## 80 ℃ , different a factor "
   ]
  },
  {
   "cell_type": "markdown",
   "metadata": {},
   "source": [
    "### 80 ℃, a factor was fixed at 100"
   ]
  },
  {
   "cell_type": "code",
   "execution_count": 12,
   "metadata": {
    "scrolled": true
   },
   "outputs": [
    {
     "name": "stdout",
     "output_type": "stream",
     "text": [
      "T_flux_H+ (-1000, 1000) 3.0000000000000004\n",
      "T_trans_H+ (-1000, 1000) 3.0000000000000004\n",
      "T_flux_beta__D__glucose (-1, 0) -0.7499999999999999\n",
      "T_ABC__transporter_beta__D__glucose (0, 10.0) 0.75\n",
      "carb_entner_1.1.1.360_GLUCOSE__1__DEHYDROGENASE__NADP+__RXN (0, 2.5) 0.75\n",
      "carb_entner_3.1.1.17_GLUCONOLACT__RXN (0, 10.0) 0.7500000000000001\n",
      "carb_entner_4.2.1.140_GLUCONATE__DEHYDRATASE__RXN (0, 1.7) 0.7500000000000001\n",
      "carb_entner_2.7.1.178_DEOXYGLUCONOKIN__RXN (0, 10.0) 0.7500000000000001\n",
      "carb_entner_4.1.2.55_KDPGALDOL__RXN (0, 1.2) 0.75\n",
      "carb_enter_glucneo_5.4.2.1_3PGAREARR__RXN (-0.75, 0.75) 0.75\n",
      "carb_enter_glucneo_4.2.1.11_2PGADEHYDRAT__RXN (-10.0, 10.0) 0.75\n",
      "carb_enter_2.7.1.40_PEPDEPHOS__RXN (0, 0.76) 0.7499999999999998\n",
      "carb_enter_glucneo_2.7.2.3_PHOSGLYPHOS__RXN (-1.1, 1.1) -0.7500000000000002\n",
      "carb_glucneo_1.2.1.13_GAPDHSYNEC__RXN_NAD (-0.87, 0.87) -0.75\n",
      "NADPH_recycle (-100.0, 1000.0) 0.7500000000000001\n",
      "NADH_recycle (-100.0, 1000.0) 0.7499999999999999\n",
      "T_flux_pyruvate (0.0, 1000.0) 1.4999999999999998\n"
     ]
    },
    {
     "data": {
      "application/vnd.jupyter.widget-view+json": {
       "model_id": "c0a71bb519464a568a5e2c1493f88846",
       "version_major": 2,
       "version_minor": 0
      },
      "text/plain": [
       "Builder(hide_secondary_metabolites=False, highlight_missing=True, reaction_data={'Biomass': 0.0, 'Biomass__fuc…"
      ]
     },
     "metadata": {},
     "output_type": "display_data"
    }
   ],
   "source": [
    "map_the_RNA_to_model (100,'80 (80) enzyme activities',1)"
   ]
  },
  {
   "cell_type": "markdown",
   "metadata": {},
   "source": [
    "### 80 ℃, a factor was fixed at 1000"
   ]
  },
  {
   "cell_type": "code",
   "execution_count": 13,
   "metadata": {
    "scrolled": true
   },
   "outputs": [
    {
     "name": "stdout",
     "output_type": "stream",
     "text": [
      "T_flux_H+ (-1000, 1000) 0.3\n",
      "T_trans_H+ (-1000, 1000) 0.3\n",
      "T_flux_beta__D__glucose (-1, 0) -0.07499999999999997\n",
      "T_ABC__transporter_beta__D__glucose (0, 1.0) 0.075\n",
      "carb_entner_1.1.1.360_GLUCOSE__1__DEHYDROGENASE__NADP+__RXN (0, 0.25) 0.07499999999999998\n",
      "carb_entner_3.1.1.17_GLUCONOLACT__RXN (0, 1.0) 0.075\n",
      "carb_entner_4.2.1.140_GLUCONATE__DEHYDRATASE__RXN (0, 0.17) 0.075\n",
      "carb_entner_2.7.1.178_DEOXYGLUCONOKIN__RXN (0, 1.0) 0.075\n",
      "carb_entner_4.1.2.55_KDPGALDOL__RXN (0, 0.12) 0.075\n",
      "carb_enter_glucneo_5.4.2.1_3PGAREARR__RXN (-0.075, 0.075) 0.075\n",
      "carb_enter_glucneo_4.2.1.11_2PGADEHYDRAT__RXN (-1.0, 1.0) 0.075\n",
      "carb_enter_2.7.1.40_PEPDEPHOS__RXN (0, 0.076) 0.075\n",
      "carb_enter_glucneo_2.7.2.3_PHOSGLYPHOS__RXN (-0.11, 0.11) -0.07500000000000001\n",
      "carb_glucneo_1.2.1.13_GAPDHSYNEC__RXN_NAD (-0.087, 0.087) -0.075\n",
      "NADPH_recycle (-100.0, 1000.0) 0.075\n",
      "NADH_recycle (-100.0, 1000.0) 0.07499999999999998\n",
      "T_flux_pyruvate (0.0, 1000.0) 0.15\n"
     ]
    },
    {
     "data": {
      "application/vnd.jupyter.widget-view+json": {
       "model_id": "acce6d916ec94a7c84bab4ea5a9feb75",
       "version_major": 2,
       "version_minor": 0
      },
      "text/plain": [
       "Builder(hide_secondary_metabolites=False, highlight_missing=True, reaction_data={'Biomass': 0.0, 'Biomass__fuc…"
      ]
     },
     "metadata": {},
     "output_type": "display_data"
    }
   ],
   "source": [
    "map_the_RNA_to_model (1000,'80 (80) enzyme activities',1)"
   ]
  },
  {
   "cell_type": "markdown",
   "metadata": {},
   "source": [
    "### 80 ℃, a factor was fixed at 10"
   ]
  },
  {
   "cell_type": "code",
   "execution_count": 14,
   "metadata": {
    "scrolled": true
   },
   "outputs": [
    {
     "name": "stdout",
     "output_type": "stream",
     "text": [
      "T_flux_H+ (-1000, 1000) 4.000000000000002\n",
      "T_trans_H+ (-1000, 1000) 4.000000000000001\n",
      "T_flux_beta__D__glucose (-1, 0) -1.0\n",
      "T_ABC__transporter_beta__D__glucose (0, 100.0) 1.0000000000000002\n",
      "carb_entner_1.1.1.360_GLUCOSE__1__DEHYDROGENASE__NADP+__RXN (0, 25.0) 1.0000000000000002\n",
      "carb_entner_3.1.1.17_GLUCONOLACT__RXN (0, 100.0) 1.0000000000000002\n",
      "carb_entner_4.2.1.140_GLUCONATE__DEHYDRATASE__RXN (0, 17.0) 1.0000000000000002\n",
      "carb_entner_2.7.1.178_DEOXYGLUCONOKIN__RXN (0, 100.0) 1.0000000000000002\n",
      "carb_entner_4.1.2.55_KDPGALDOL__RXN (0, 12.0) 1.0\n",
      "carb_enter_glucneo_5.4.2.1_3PGAREARR__RXN (-7.5, 7.5) 1.0000000000000002\n",
      "carb_enter_glucneo_4.2.1.11_2PGADEHYDRAT__RXN (-100.0, 100.0) 1.0000000000000002\n",
      "carb_enter_2.7.1.40_PEPDEPHOS__RXN (0, 7.6) 1.0000000000000002\n",
      "carb_enter_glucneo_2.7.2.3_PHOSGLYPHOS__RXN (-11.0, 11.0) -1.0000000000000004\n",
      "carb_glucneo_1.2.1.13_GAPDHSYNEC__RXN_NAD (-8.7, 8.7) -1.0000000000000002\n",
      "NADPH_recycle (-100.0, 1000.0) 1.0\n",
      "NADH_recycle (-100.0, 1000.0) 1.0000000000000002\n",
      "T_flux_pyruvate (0.0, 1000.0) 2.0000000000000004\n"
     ]
    },
    {
     "data": {
      "application/vnd.jupyter.widget-view+json": {
       "model_id": "1c5807618e1e4ef3b5fa958f1625ab3f",
       "version_major": 2,
       "version_minor": 0
      },
      "text/plain": [
       "Builder(hide_secondary_metabolites=False, highlight_missing=True, reaction_data={'Biomass': 0.0, 'Biomass__fuc…"
      ]
     },
     "metadata": {},
     "output_type": "display_data"
    }
   ],
   "source": [
    "map_the_RNA_to_model (10,'80 (80) enzyme activities',1)"
   ]
  },
  {
   "cell_type": "markdown",
   "metadata": {},
   "source": [
    "## 80 ℃ , different glucose import"
   ]
  },
  {
   "cell_type": "markdown",
   "metadata": {},
   "source": [
    "### 80 ℃, glucose import reaction lower bound was fixed at 1"
   ]
  },
  {
   "cell_type": "code",
   "execution_count": 15,
   "metadata": {
    "scrolled": true
   },
   "outputs": [
    {
     "name": "stdout",
     "output_type": "stream",
     "text": [
      "T_flux_H+ (-1000, 1000) 3.0000000000000004\n",
      "T_trans_H+ (-1000, 1000) 3.0000000000000004\n",
      "T_flux_beta__D__glucose (-1, 0) -0.7499999999999999\n",
      "T_ABC__transporter_beta__D__glucose (0, 10.0) 0.75\n",
      "carb_entner_1.1.1.360_GLUCOSE__1__DEHYDROGENASE__NADP+__RXN (0, 2.5) 0.75\n",
      "carb_entner_3.1.1.17_GLUCONOLACT__RXN (0, 10.0) 0.7500000000000001\n",
      "carb_entner_4.2.1.140_GLUCONATE__DEHYDRATASE__RXN (0, 1.7) 0.7500000000000001\n",
      "carb_entner_2.7.1.178_DEOXYGLUCONOKIN__RXN (0, 10.0) 0.7500000000000001\n",
      "carb_entner_4.1.2.55_KDPGALDOL__RXN (0, 1.2) 0.75\n",
      "carb_enter_glucneo_5.4.2.1_3PGAREARR__RXN (-0.75, 0.75) 0.75\n",
      "carb_enter_glucneo_4.2.1.11_2PGADEHYDRAT__RXN (-10.0, 10.0) 0.75\n",
      "carb_enter_2.7.1.40_PEPDEPHOS__RXN (0, 0.76) 0.7499999999999998\n",
      "carb_enter_glucneo_2.7.2.3_PHOSGLYPHOS__RXN (-1.1, 1.1) -0.7500000000000002\n",
      "carb_glucneo_1.2.1.13_GAPDHSYNEC__RXN_NAD (-0.87, 0.87) -0.75\n",
      "NADPH_recycle (-100.0, 1000.0) 0.7500000000000001\n",
      "NADH_recycle (-100.0, 1000.0) 0.7499999999999999\n",
      "T_flux_pyruvate (0.0, 1000.0) 1.4999999999999998\n"
     ]
    },
    {
     "data": {
      "application/vnd.jupyter.widget-view+json": {
       "model_id": "b776daeba62849668c757979bd8ac6a1",
       "version_major": 2,
       "version_minor": 0
      },
      "text/plain": [
       "Builder(hide_secondary_metabolites=False, highlight_missing=True, reaction_data={'Biomass': 0.0, 'Biomass__fuc…"
      ]
     },
     "metadata": {},
     "output_type": "display_data"
    }
   ],
   "source": [
    "map_the_RNA_to_model (100,'80 (80) enzyme activities',1)"
   ]
  },
  {
   "cell_type": "markdown",
   "metadata": {},
   "source": [
    "### 80 ℃, glucose import reaction lower bound was fixed at 0.4"
   ]
  },
  {
   "cell_type": "code",
   "execution_count": 16,
   "metadata": {
    "scrolled": true
   },
   "outputs": [
    {
     "name": "stdout",
     "output_type": "stream",
     "text": [
      "T_flux_H+ (-1000, 1000) 1.6000000000000003\n",
      "T_trans_H+ (-1000, 1000) 1.6000000000000003\n",
      "T_flux_beta__D__glucose (-0.4, 0) -0.4\n",
      "T_ABC__transporter_beta__D__glucose (0, 10.0) 0.4\n",
      "carb_entner_1.1.1.360_GLUCOSE__1__DEHYDROGENASE__NADP+__RXN (0, 2.5) 0.4\n",
      "carb_entner_3.1.1.17_GLUCONOLACT__RXN (0, 10.0) 0.4000000000000001\n",
      "carb_entner_4.2.1.140_GLUCONATE__DEHYDRATASE__RXN (0, 1.7) 0.4000000000000001\n",
      "carb_entner_2.7.1.178_DEOXYGLUCONOKIN__RXN (0, 10.0) 0.4000000000000001\n",
      "carb_entner_4.1.2.55_KDPGALDOL__RXN (0, 1.2) 0.4000000000000001\n",
      "carb_enter_glucneo_5.4.2.1_3PGAREARR__RXN (-0.75, 0.75) 0.4\n",
      "carb_enter_glucneo_4.2.1.11_2PGADEHYDRAT__RXN (-10.0, 10.0) 0.4\n",
      "carb_enter_2.7.1.40_PEPDEPHOS__RXN (0, 0.76) 0.4\n",
      "carb_enter_glucneo_2.7.2.3_PHOSGLYPHOS__RXN (-1.1, 1.1) -0.4\n",
      "carb_glucneo_1.2.1.13_GAPDHSYNEC__RXN_NAD (-0.87, 0.87) -0.4\n",
      "NADPH_recycle (-100.0, 1000.0) 0.4\n",
      "NADH_recycle (-100.0, 1000.0) 0.4\n",
      "T_flux_pyruvate (0.0, 1000.0) 0.8000000000000002\n"
     ]
    },
    {
     "data": {
      "application/vnd.jupyter.widget-view+json": {
       "model_id": "13534f2ad6d84249a39ed074ed5a549f",
       "version_major": 2,
       "version_minor": 0
      },
      "text/plain": [
       "Builder(hide_secondary_metabolites=False, highlight_missing=True, reaction_data={'Biomass': 0.0, 'Biomass__fuc…"
      ]
     },
     "metadata": {},
     "output_type": "display_data"
    }
   ],
   "source": [
    "map_the_RNA_to_model (100,'80 (80) enzyme activities',0.4)"
   ]
  },
  {
   "cell_type": "markdown",
   "metadata": {},
   "source": [
    "### 80 ℃, glucose import reaction lower bound was fixed at 0.1"
   ]
  },
  {
   "cell_type": "code",
   "execution_count": 17,
   "metadata": {
    "scrolled": true
   },
   "outputs": [
    {
     "name": "stdout",
     "output_type": "stream",
     "text": [
      "T_flux_H+ (-1000, 1000) 0.4000000000000001\n",
      "T_trans_H+ (-1000, 1000) 0.4000000000000001\n",
      "T_flux_beta__D__glucose (-0.1, 0) -0.1\n",
      "T_ABC__transporter_beta__D__glucose (0, 10.0) 0.1\n",
      "carb_entner_1.1.1.360_GLUCOSE__1__DEHYDROGENASE__NADP+__RXN (0, 2.5) 0.1\n",
      "carb_entner_3.1.1.17_GLUCONOLACT__RXN (0, 10.0) 0.10000000000000002\n",
      "carb_entner_4.2.1.140_GLUCONATE__DEHYDRATASE__RXN (0, 1.7) 0.10000000000000002\n",
      "carb_entner_2.7.1.178_DEOXYGLUCONOKIN__RXN (0, 10.0) 0.10000000000000002\n",
      "carb_entner_4.1.2.55_KDPGALDOL__RXN (0, 1.2) 0.10000000000000002\n",
      "carb_enter_glucneo_5.4.2.1_3PGAREARR__RXN (-0.75, 0.75) 0.1\n",
      "carb_enter_glucneo_4.2.1.11_2PGADEHYDRAT__RXN (-10.0, 10.0) 0.1\n",
      "carb_enter_2.7.1.40_PEPDEPHOS__RXN (0, 0.76) 0.1\n",
      "carb_enter_glucneo_2.7.2.3_PHOSGLYPHOS__RXN (-1.1, 1.1) -0.1\n",
      "carb_glucneo_1.2.1.13_GAPDHSYNEC__RXN_NAD (-0.87, 0.87) -0.1\n",
      "NADPH_recycle (-100.0, 1000.0) 0.1\n",
      "NADH_recycle (-100.0, 1000.0) 0.1\n",
      "T_flux_pyruvate (0.0, 1000.0) 0.20000000000000004\n"
     ]
    },
    {
     "data": {
      "application/vnd.jupyter.widget-view+json": {
       "model_id": "3de30e44cbb447aa9f32debd3b38744b",
       "version_major": 2,
       "version_minor": 0
      },
      "text/plain": [
       "Builder(hide_secondary_metabolites=False, highlight_missing=True, reaction_data={'Biomass': 0.0, 'Biomass__fuc…"
      ]
     },
     "metadata": {},
     "output_type": "display_data"
    }
   ],
   "source": [
    "map_the_RNA_to_model (100,'80 (80) enzyme activities',0.1)"
   ]
  },
  {
   "cell_type": "markdown",
   "metadata": {},
   "source": [
    "## 70 ℃, different a factor"
   ]
  },
  {
   "cell_type": "markdown",
   "metadata": {},
   "source": [
    "### 70 ℃, a factor was  fixed at 100"
   ]
  },
  {
   "cell_type": "code",
   "execution_count": 18,
   "metadata": {
    "scrolled": true
   },
   "outputs": [
    {
     "name": "stdout",
     "output_type": "stream",
     "text": [
      "T_flux_H+ (-1000, 1000) 1.8300000000000005\n",
      "T_trans_H+ (-1000, 1000) 1.8300000000000007\n",
      "T_flux_beta__D__glucose (-1, 0) -0.5100000000000001\n",
      "T_ABC__transporter_beta__D__glucose (0, 10.0) 0.5100000000000001\n",
      "carb_entner_1.1.1.360_GLUCOSE__1__DEHYDROGENASE__NADP+__RXN (0, 0.96) 0.51\n",
      "carb_entner_3.1.1.17_GLUCONOLACT__RXN (0, 10.0) 0.5100000000000001\n",
      "carb_entner_4.2.1.140_GLUCONATE__DEHYDRATASE__RXN (0, 0.92) 0.5100000000000001\n",
      "carb_entner_2.7.1.178_DEOXYGLUCONOKIN__RXN (0, 10.0) 0.5100000000000001\n",
      "carb_entner_4.1.2.55_KDPGALDOL__RXN (0, 0.55) 0.51\n",
      "carb_enter_glucneo_1.2.1.9_1.2.1.9__RXN (0, 0.21) 0.21\n",
      "carb_enter_glucneo_5.4.2.1_3PGAREARR__RXN (-0.93, 0.93) 0.5100000000000001\n",
      "carb_enter_glucneo_4.2.1.11_2PGADEHYDRAT__RXN (-10.0, 10.0) 0.5100000000000001\n",
      "carb_enter_2.7.1.40_PEPDEPHOS__RXN (0, 0.7) 0.51\n",
      "carb_enter_glucneo_2.7.2.3_PHOSGLYPHOS__RXN (-0.3, 0.3) -0.3\n",
      "carb_glucneo_1.2.1.13_GAPDHSYNEC__RXN_NAD (-0.43, 0.43) -0.3\n",
      "NADPH_recycle (-100.0, 1000.0) 0.7200000000000002\n",
      "NADH_recycle (-100.0, 1000.0) 0.30000000000000016\n",
      "T_flux_pyruvate (0.0, 1000.0) 1.02\n",
      "ATP_source_reaction (-0.0, 1000.0) 0.21\n"
     ]
    },
    {
     "data": {
      "application/vnd.jupyter.widget-view+json": {
       "model_id": "915a55389ed64753872acdc4ec18c609",
       "version_major": 2,
       "version_minor": 0
      },
      "text/plain": [
       "Builder(hide_secondary_metabolites=False, highlight_missing=True, reaction_data={'Biomass': 0.0, 'Biomass__fuc…"
      ]
     },
     "metadata": {},
     "output_type": "display_data"
    }
   ],
   "source": [
    "map_the_RNA_to_model (100,'70 enzyme activities',1)"
   ]
  },
  {
   "cell_type": "markdown",
   "metadata": {},
   "source": [
    "### 70 ℃, a factor was  fixed at 1000"
   ]
  },
  {
   "cell_type": "code",
   "execution_count": 19,
   "metadata": {
    "scrolled": true
   },
   "outputs": [
    {
     "name": "stdout",
     "output_type": "stream",
     "text": [
      "T_flux_H+ (-1000, 1000) 0.18300000000000008\n",
      "T_trans_H+ (-1000, 1000) 0.18299999999999997\n",
      "T_flux_beta__D__glucose (-1, 0) -0.05099999999999998\n",
      "T_ABC__transporter_beta__D__glucose (0, 1.0) 0.05099999999999999\n",
      "carb_entner_1.1.1.360_GLUCOSE__1__DEHYDROGENASE__NADP+__RXN (0, 0.096) 0.05099999999999999\n",
      "carb_entner_3.1.1.17_GLUCONOLACT__RXN (0, 1.0) 0.051\n",
      "carb_entner_4.2.1.140_GLUCONATE__DEHYDRATASE__RXN (0, 0.092) 0.051\n",
      "carb_entner_2.7.1.178_DEOXYGLUCONOKIN__RXN (0, 1.0) 0.051\n",
      "carb_entner_4.1.2.55_KDPGALDOL__RXN (0, 0.055) 0.051000000000000004\n",
      "carb_enter_glucneo_1.2.1.9_1.2.1.9__RXN (0, 0.021) 0.021\n",
      "carb_enter_glucneo_5.4.2.1_3PGAREARR__RXN (-0.093, 0.093) 0.051000000000000004\n",
      "carb_enter_glucneo_4.2.1.11_2PGADEHYDRAT__RXN (-1.0, 1.0) 0.051\n",
      "carb_enter_2.7.1.40_PEPDEPHOS__RXN (0, 0.07) 0.051\n",
      "carb_enter_glucneo_2.7.2.3_PHOSGLYPHOS__RXN (-0.03, 0.03) -0.03\n",
      "carb_glucneo_1.2.1.13_GAPDHSYNEC__RXN_NAD (-0.043, 0.043) -0.030000000000000002\n",
      "NADPH_recycle (-100.0, 1000.0) 0.07199999999999998\n",
      "NADH_recycle (-100.0, 1000.0) 0.029999999999999985\n",
      "T_flux_pyruvate (0.0, 1000.0) 0.102\n",
      "ATP_source_reaction (-0.0, 1000.0) 0.021\n"
     ]
    },
    {
     "data": {
      "application/vnd.jupyter.widget-view+json": {
       "model_id": "978d8b13ca0246ed813f8ad75490fabc",
       "version_major": 2,
       "version_minor": 0
      },
      "text/plain": [
       "Builder(hide_secondary_metabolites=False, highlight_missing=True, reaction_data={'Biomass': 0.0, 'Biomass__fuc…"
      ]
     },
     "metadata": {},
     "output_type": "display_data"
    }
   ],
   "source": [
    "map_the_RNA_to_model (1000,'70 enzyme activities',1)"
   ]
  },
  {
   "cell_type": "markdown",
   "metadata": {},
   "source": [
    "### 70 ℃, a factor was  fixed at 10"
   ]
  },
  {
   "cell_type": "code",
   "execution_count": 20,
   "metadata": {
    "scrolled": true
   },
   "outputs": [
    {
     "name": "stdout",
     "output_type": "stream",
     "text": [
      "T_flux_H+ (-1000, 1000) 4.000000000000002\n",
      "T_trans_H+ (-1000, 1000) 4.000000000000001\n",
      "T_flux_beta__D__glucose (-1, 0) -1.0\n",
      "T_ABC__transporter_beta__D__glucose (0, 100.0) 1.0000000000000002\n",
      "carb_entner_1.1.1.360_GLUCOSE__1__DEHYDROGENASE__NADP+__RXN (0, 9.6) 1.0000000000000002\n",
      "carb_entner_3.1.1.17_GLUCONOLACT__RXN (0, 100.0) 1.0000000000000002\n",
      "carb_entner_4.2.1.140_GLUCONATE__DEHYDRATASE__RXN (0, 9.2) 1.0000000000000002\n",
      "carb_entner_2.7.1.178_DEOXYGLUCONOKIN__RXN (0, 100.0) 1.0000000000000002\n",
      "carb_entner_4.1.2.55_KDPGALDOL__RXN (0, 5.5) 1.0\n",
      "carb_enter_glucneo_5.4.2.1_3PGAREARR__RXN (-9.3, 9.3) 1.0000000000000002\n",
      "carb_enter_glucneo_4.2.1.11_2PGADEHYDRAT__RXN (-100.0, 100.0) 1.0000000000000002\n",
      "carb_enter_2.7.1.40_PEPDEPHOS__RXN (0, 7.0) 1.0000000000000002\n",
      "carb_enter_glucneo_2.7.2.3_PHOSGLYPHOS__RXN (-3.0, 3.0) -1.0000000000000004\n",
      "carb_glucneo_1.2.1.13_GAPDHSYNEC__RXN_NAD (-4.3, 4.3) -1.0000000000000002\n",
      "NADPH_recycle (-100.0, 1000.0) 1.0\n",
      "NADH_recycle (-100.0, 1000.0) 1.0000000000000002\n",
      "T_flux_pyruvate (0.0, 1000.0) 2.0000000000000004\n"
     ]
    },
    {
     "data": {
      "application/vnd.jupyter.widget-view+json": {
       "model_id": "b7c4d53d7fb844b3aab3eb746e953722",
       "version_major": 2,
       "version_minor": 0
      },
      "text/plain": [
       "Builder(hide_secondary_metabolites=False, highlight_missing=True, reaction_data={'Biomass': 0.0, 'Biomass__fuc…"
      ]
     },
     "metadata": {},
     "output_type": "display_data"
    }
   ],
   "source": [
    "map_the_RNA_to_model (10,'70 enzyme activities',1)"
   ]
  },
  {
   "cell_type": "markdown",
   "metadata": {},
   "source": [
    "## 70 ℃, different glucose import"
   ]
  },
  {
   "cell_type": "markdown",
   "metadata": {},
   "source": [
    "### 70 ℃, glucose import reaction lower bound was fixed at 1"
   ]
  },
  {
   "cell_type": "code",
   "execution_count": 21,
   "metadata": {
    "scrolled": true
   },
   "outputs": [
    {
     "name": "stdout",
     "output_type": "stream",
     "text": [
      "T_flux_H+ (-1000, 1000) 1.8300000000000005\n",
      "T_trans_H+ (-1000, 1000) 1.8300000000000007\n",
      "T_flux_beta__D__glucose (-1, 0) -0.5100000000000001\n",
      "T_ABC__transporter_beta__D__glucose (0, 10.0) 0.5100000000000001\n",
      "carb_entner_1.1.1.360_GLUCOSE__1__DEHYDROGENASE__NADP+__RXN (0, 0.96) 0.51\n",
      "carb_entner_3.1.1.17_GLUCONOLACT__RXN (0, 10.0) 0.5100000000000001\n",
      "carb_entner_4.2.1.140_GLUCONATE__DEHYDRATASE__RXN (0, 0.92) 0.5100000000000001\n",
      "carb_entner_2.7.1.178_DEOXYGLUCONOKIN__RXN (0, 10.0) 0.5100000000000001\n",
      "carb_entner_4.1.2.55_KDPGALDOL__RXN (0, 0.55) 0.51\n",
      "carb_enter_glucneo_1.2.1.9_1.2.1.9__RXN (0, 0.21) 0.21\n",
      "carb_enter_glucneo_5.4.2.1_3PGAREARR__RXN (-0.93, 0.93) 0.5100000000000001\n",
      "carb_enter_glucneo_4.2.1.11_2PGADEHYDRAT__RXN (-10.0, 10.0) 0.5100000000000001\n",
      "carb_enter_2.7.1.40_PEPDEPHOS__RXN (0, 0.7) 0.51\n",
      "carb_enter_glucneo_2.7.2.3_PHOSGLYPHOS__RXN (-0.3, 0.3) -0.3\n",
      "carb_glucneo_1.2.1.13_GAPDHSYNEC__RXN_NAD (-0.43, 0.43) -0.3\n",
      "NADPH_recycle (-100.0, 1000.0) 0.7200000000000002\n",
      "NADH_recycle (-100.0, 1000.0) 0.30000000000000016\n",
      "T_flux_pyruvate (0.0, 1000.0) 1.02\n",
      "ATP_source_reaction (-0.0, 1000.0) 0.21\n"
     ]
    },
    {
     "data": {
      "application/vnd.jupyter.widget-view+json": {
       "model_id": "e8c5e348768c42c6b9fde66949763aa0",
       "version_major": 2,
       "version_minor": 0
      },
      "text/plain": [
       "Builder(hide_secondary_metabolites=False, highlight_missing=True, reaction_data={'Biomass': 0.0, 'Biomass__fuc…"
      ]
     },
     "metadata": {},
     "output_type": "display_data"
    }
   ],
   "source": [
    "map_the_RNA_to_model (100,'70 enzyme activities',1)"
   ]
  },
  {
   "cell_type": "markdown",
   "metadata": {},
   "source": [
    "### 70 ℃, glucose import reaction lower bound was fixed at 0.4"
   ]
  },
  {
   "cell_type": "code",
   "execution_count": 22,
   "metadata": {
    "scrolled": true
   },
   "outputs": [
    {
     "name": "stdout",
     "output_type": "stream",
     "text": [
      "T_flux_H+ (-1000, 1000) 1.5000000000000002\n",
      "T_trans_H+ (-1000, 1000) 1.5000000000000002\n",
      "T_flux_beta__D__glucose (-0.4, 0) -0.4\n",
      "T_ABC__transporter_beta__D__glucose (0, 10.0) 0.4\n",
      "carb_entner_1.1.1.360_GLUCOSE__1__DEHYDROGENASE__NADP+__RXN (0, 0.96) 0.4\n",
      "carb_entner_3.1.1.17_GLUCONOLACT__RXN (0, 10.0) 0.4000000000000001\n",
      "carb_entner_4.2.1.140_GLUCONATE__DEHYDRATASE__RXN (0, 0.92) 0.4000000000000001\n",
      "carb_entner_2.7.1.178_DEOXYGLUCONOKIN__RXN (0, 10.0) 0.4000000000000001\n",
      "carb_entner_4.1.2.55_KDPGALDOL__RXN (0, 0.55) 0.4000000000000001\n",
      "carb_enter_glucneo_1.2.1.9_1.2.1.9__RXN (0, 0.21) 0.10000000000000006\n",
      "carb_enter_glucneo_5.4.2.1_3PGAREARR__RXN (-0.93, 0.93) 0.4\n",
      "carb_enter_glucneo_4.2.1.11_2PGADEHYDRAT__RXN (-10.0, 10.0) 0.4\n",
      "carb_enter_2.7.1.40_PEPDEPHOS__RXN (0, 0.7) 0.4\n",
      "carb_enter_glucneo_2.7.2.3_PHOSGLYPHOS__RXN (-0.3, 0.3) -0.3\n",
      "carb_glucneo_1.2.1.13_GAPDHSYNEC__RXN_NAD (-0.43, 0.43) -0.3\n",
      "NADPH_recycle (-100.0, 1000.0) 0.5000000000000001\n",
      "NADH_recycle (-100.0, 1000.0) 0.3\n",
      "T_flux_pyruvate (0.0, 1000.0) 0.8000000000000002\n",
      "ATP_source_reaction (-0.0, 1000.0) 0.10000000000000007\n"
     ]
    },
    {
     "data": {
      "application/vnd.jupyter.widget-view+json": {
       "model_id": "3768beafea2c467692e24292e6652549",
       "version_major": 2,
       "version_minor": 0
      },
      "text/plain": [
       "Builder(hide_secondary_metabolites=False, highlight_missing=True, reaction_data={'Biomass': 0.0, 'Biomass__fuc…"
      ]
     },
     "metadata": {},
     "output_type": "display_data"
    }
   ],
   "source": [
    "map_the_RNA_to_model (100,'70 enzyme activities',0.4)"
   ]
  },
  {
   "cell_type": "markdown",
   "metadata": {},
   "source": [
    "### 70 ℃, glucose import reaction lower bound was fixed at 0.1"
   ]
  },
  {
   "cell_type": "code",
   "execution_count": 23,
   "metadata": {
    "scrolled": true
   },
   "outputs": [
    {
     "name": "stdout",
     "output_type": "stream",
     "text": [
      "T_flux_H+ (-1000, 1000) 0.4000000000000001\n",
      "T_trans_H+ (-1000, 1000) 0.4000000000000001\n",
      "T_flux_beta__D__glucose (-0.1, 0) -0.1\n",
      "T_ABC__transporter_beta__D__glucose (0, 10.0) 0.1\n",
      "carb_entner_1.1.1.360_GLUCOSE__1__DEHYDROGENASE__NADP+__RXN (0, 0.96) 0.1\n",
      "carb_entner_3.1.1.17_GLUCONOLACT__RXN (0, 10.0) 0.10000000000000002\n",
      "carb_entner_4.2.1.140_GLUCONATE__DEHYDRATASE__RXN (0, 0.92) 0.10000000000000002\n",
      "carb_entner_2.7.1.178_DEOXYGLUCONOKIN__RXN (0, 10.0) 0.10000000000000002\n",
      "carb_entner_4.1.2.55_KDPGALDOL__RXN (0, 0.55) 0.10000000000000002\n",
      "carb_enter_glucneo_5.4.2.1_3PGAREARR__RXN (-0.93, 0.93) 0.1\n",
      "carb_enter_glucneo_4.2.1.11_2PGADEHYDRAT__RXN (-10.0, 10.0) 0.1\n",
      "carb_enter_2.7.1.40_PEPDEPHOS__RXN (0, 0.7) 0.1\n",
      "carb_enter_glucneo_2.7.2.3_PHOSGLYPHOS__RXN (-0.3, 0.3) -0.1\n",
      "carb_glucneo_1.2.1.13_GAPDHSYNEC__RXN_NAD (-0.43, 0.43) -0.1\n",
      "NADPH_recycle (-100.0, 1000.0) 0.1\n",
      "NADH_recycle (-100.0, 1000.0) 0.1\n",
      "T_flux_pyruvate (0.0, 1000.0) 0.20000000000000004\n"
     ]
    },
    {
     "data": {
      "application/vnd.jupyter.widget-view+json": {
       "model_id": "f72c01f19b384fbc983ad36f628b0228",
       "version_major": 2,
       "version_minor": 0
      },
      "text/plain": [
       "Builder(hide_secondary_metabolites=False, highlight_missing=True, reaction_data={'Biomass': 0.0, 'Biomass__fuc…"
      ]
     },
     "metadata": {},
     "output_type": "display_data"
    }
   ],
   "source": [
    "map_the_RNA_to_model (100,'70 enzyme activities',0.1)"
   ]
  }
 ],
 "metadata": {
  "kernelspec": {
   "display_name": "Python 3",
   "language": "python",
   "name": "python3"
  },
  "language_info": {
   "codemirror_mode": {
    "name": "ipython",
    "version": 3
   },
   "file_extension": ".py",
   "mimetype": "text/x-python",
   "name": "python",
   "nbconvert_exporter": "python",
   "pygments_lexer": "ipython3",
   "version": "3.6.9"
  },
  "toc": {
   "base_numbering": 1,
   "nav_menu": {},
   "number_sections": true,
   "sideBar": true,
   "skip_h1_title": false,
   "title_cell": "Table of Contents",
   "title_sidebar": "Contents",
   "toc_cell": false,
   "toc_position": {
    "height": "477px",
    "left": "181px",
    "top": "67.125px",
    "width": "303.516px"
   },
   "toc_section_display": true,
   "toc_window_display": true
  }
 },
 "nbformat": 4,
 "nbformat_minor": 2
}
