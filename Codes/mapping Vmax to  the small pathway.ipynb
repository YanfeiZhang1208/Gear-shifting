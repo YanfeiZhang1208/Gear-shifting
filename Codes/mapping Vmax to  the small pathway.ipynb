{
 "cells": [
  {
   "cell_type": "markdown",
   "metadata": {},
   "source": [
    "# Set the environment"
   ]
  },
  {
   "cell_type": "code",
   "execution_count": 1,
   "metadata": {},
   "outputs": [],
   "source": [
    "# set the envoiroment\n",
    "import cobra\n",
    "from cobra import Model, Reaction, Metabolite\n",
    "from cobra.flux_analysis import flux_variability_analysis\n",
    "import pandas as pd\n",
    "import numpy as np\n",
    "import matplotlib.pyplot as plt\n",
    "import glob \n",
    "import escher\n",
    "from escher import Builder\n",
    "from utils import show_map\n",
    "from utils.check_precursor_problem import check_precursor_problem"
   ]
  },
  {
   "cell_type": "markdown",
   "metadata": {},
   "source": [
    "# Load the model"
   ]
  },
  {
   "cell_type": "code",
   "execution_count": 2,
   "metadata": {},
   "outputs": [],
   "source": [
    "model = cobra.io.load_json_model(\"../models/updated_model.json\")# Import the model.\n",
    "model.solver = 'glpk'\n",
    "model.reactions.T_flux_oxygen.bounds = (0,0) # block the import of oxygen\n",
    "model.reactions.NGAM.bounds = (0,1000)\n",
    "map_loc = \"../data/small_pathway.json\""
   ]
  },
  {
   "cell_type": "markdown",
   "metadata": {},
   "source": [
    "# The small model "
   ]
  },
  {
   "cell_type": "code",
   "execution_count": 3,
   "metadata": {
    "scrolled": true
   },
   "outputs": [
    {
     "data": {
      "application/vnd.jupyter.widget-view+json": {
       "model_id": "18c46000718e40c2b1658a4a0763a8a2",
       "version_major": 2,
       "version_minor": 0
      },
      "text/plain": [
       "Builder(hide_secondary_metabolites=False, highlight_missing=True, reaction_data={'Biomass': 0.0, 'Biomass__fuc…"
      ]
     },
     "metadata": {},
     "output_type": "display_data"
    }
   ],
   "source": [
    "M= model.copy()\n",
    "\n",
    "## add the reaction for the maintainance of NADPH\n",
    "reaction = Reaction('NADPH_recycle')\n",
    "reaction.name = 'NADPH_recycle'\n",
    "reaction.lower_bound = -100.  # This is the default\n",
    "reaction.upper_bound = 1000.  # This is the default\n",
    "M.add_reactions([reaction])\n",
    "reaction.add_metabolites({'NADPH': -1.0,\n",
    "                         'NADP+': 1.0,\n",
    "                         \"H+\":1.0})\n",
    "\n",
    "reaction.reaction \n",
    "## add the reaction for the maintainance of NADH\n",
    "reaction = Reaction('NADH_recycle')\n",
    "reaction.name = 'NADH_recycle'\n",
    "reaction.lower_bound = -100.  # This is the default\n",
    "reaction.upper_bound = 1000.  # This is the default\n",
    "M.add_reactions([reaction])\n",
    "reaction.add_metabolites({'NADH': -1.0,\n",
    "                         'NAD+': 1.0,\n",
    "                         \"H+\":1.0})\n",
    "reaction.reaction\n",
    "reaction = Reaction('T_flux_pyruvate')\n",
    "reaction.name = 'T_flux_pyruvate'\n",
    "reaction.lower_bound = 0.  # This is the default\n",
    "reaction.upper_bound = 1000.  # This is the default\n",
    "M.add_reactions([reaction])\n",
    "reaction.add_metabolites({'pyruvate': -1.0\n",
    "                         })\n",
    "\n",
    "reaction = Reaction('ATP_source_reaction')\n",
    "reaction.name = 'ATP_source_reaction'\n",
    "reaction.lower_bound = -0.  # This is the default\n",
    "reaction.upper_bound = 1000.  # This is the default\n",
    "M.add_reactions([reaction])\n",
    "reaction.add_metabolites({\"ADP\": -1.0,\n",
    "                          \"H+\": -1.0,\n",
    "                          \"phosphate\":-1.0,\n",
    "                          \"H2O\": 1.0,\n",
    "                         \"ATP\": 1.0})\n",
    "total_reactions_id = [r.id for r in M.reactions]\n",
    "small_pathway_reactions = ['T_flux_beta__D__glucose','T_ABC__transporter_beta__D__glucose',\n",
    "'carb_entner_1.1.1.359_GLUCOSE__1__DEHYDROGENASE__NAD+__RXN','carb_entner_1.1.1.47_GLUCOSE__1__DEHYDROGENASE__NAD+__RXN',\n",
    "'carb_entner_1.1.1.360_GLUCOSE__1__DEHYDROGENASE__NADP+__RXN','carb_entner_3.1.1.17_GLUCONOLACT__RXN',\n",
    "'carb_entner_4.2.1.140_GLUCONATE__DEHYDRATASE__RXN','carb_degra__glucose_4.2.1.9_GLUCONATE__DEHYDRATASE__RXN','carb_entner_2.7.1.178_DEOXYGLUCONOKIN__RXN',\n",
    "'carb_entner_4.1.2.55_KDPGALDOL__RXN',\"carb_glucneo_1.2.1.13_GAPDHSYNEC__RXN_NAD\",\"carb_glucneo_1.2.1.13_GAPDHSYNEC__RXN_NADP\",\"carb_enter_glucneo_2.7.2.3_PHOSGLYPHOS__RXN\",\n",
    " \"carb_enter_glucneo_1.2.1.9_1.2.1.9__RXN\",'T_flux_H+','T_trans_H+','T_flux_H2O','T_trans_H2O','T_flux_phosphate','T_trans_phosphate',\n",
    "'carb_enter_glucneo_5.4.2.1_3PGAREARR__RXN','carb_enter_glucneo_4.2.1.11_2PGADEHYDRAT__RXN',\n",
    "'carb_enter_2.7.1.40_PEPDEPHOS__RXN','NADPH_recycle','NADH_recycle','T_flux_pyruvate','ATP_source_reaction']\n",
    "\n",
    "for r in total_reactions_id:\n",
    "    if r not in small_pathway_reactions:\n",
    "        M.reactions.get_by_id(r).upper_bound = 0\n",
    "        M.reactions.get_by_id(r).lower_bound = 0\n",
    "    \n",
    "\n",
    "M.objective = M.reactions.get_by_id('T_flux_pyruvate')\n",
    "sol = M.optimize()\n",
    "b = show_map(sol,map_loc)\n",
    "b"
   ]
  },
  {
   "cell_type": "markdown",
   "metadata": {},
   "source": [
    "# Import the mRNA data and Vmax data"
   ]
  },
  {
   "cell_type": "code",
   "execution_count": 4,
   "metadata": {},
   "outputs": [],
   "source": [
    "df_gene_reaction_rule =pd.read_csv('../data/reaction_id_RAS_for_small_pathway.csv')\n",
    "# set the reaction id column as the index in order to map it to the model\n",
    "df_gene_reaction_rule = df_gene_reaction_rule.fillna(1000)\n",
    "df_gene_reaction_rule = df_gene_reaction_rule.set_index([\"reaction_id\"],)"
   ]
  },
  {
   "cell_type": "markdown",
   "metadata": {},
   "source": [
    "# Write a function for mapping transcriptomics to model reaction bounds"
   ]
  },
  {
   "cell_type": "code",
   "execution_count": 5,
   "metadata": {},
   "outputs": [],
   "source": [
    "def map_the_RNA_to_model (a,b,c):# Here a is the number used to divid the transcriptome data, b is the column for the transcriptome data, -c is the lower bound for glucose exchange reaction \n",
    "    model1 = M.copy()\n",
    "    model1.reactions.get_by_id('T_flux_beta__D__glucose').bounds = (-c,0)\n",
    "\n",
    "    for rxn in small_pathway_reactions:\n",
    "        if rxn in df_gene_reaction_rule.index:\n",
    "\n",
    "            the_bound = a*df_gene_reaction_rule[b].loc[rxn]\n",
    "\n",
    "            if model1.reactions.get_by_id(rxn).lower_bound < 0 and model1.reactions.get_by_id(rxn).upper_bound > 0: # this finds reversible rxns\n",
    "\n",
    "                model1.reactions.get_by_id(rxn).bounds = (-1*the_bound, the_bound) # we set the bound(s) with max abs(FVA) \n",
    "\n",
    "            elif model1.reactions.get_by_id(rxn).upper_bound > 0: # irreversible, flows in forward direction\n",
    "\n",
    "                model1.reactions.get_by_id(rxn).bounds = (0, the_bound)  # the lower bound will stay zero\n",
    "\n",
    "            elif int(model1.reactions.get_by_id(rxn).lower_bound) < 0: # irreversible, flows in backward direction\n",
    "\n",
    "                model1.reactions.get_by_id(rxn).bounds = (-1*the_bound, 0) # the upper bound will stay zero\n",
    "    model1.objective  = model1.reactions.get_by_id(\"T_flux_pyruvate\")\n",
    "    sol = model1.optimize()\n",
    "    l = sol.fluxes[abs(sol.fluxes)>1e-6].index\n",
    "    for rxn in l:\n",
    "        print (rxn,model1.reactions.get_by_id(rxn).bounds,sol.fluxes.loc[rxn])\n",
    "    b = show_map(sol,map_loc)\n",
    "    return(b)"
   ]
  },
  {
   "cell_type": "markdown",
   "metadata": {},
   "source": [
    "# Map the transcriptomics at different temperatures 70 and 80 ℃"
   ]
  },
  {
   "cell_type": "markdown",
   "metadata": {},
   "source": [
    "## 70 ℃, different a factor "
   ]
  },
  {
   "cell_type": "markdown",
   "metadata": {},
   "source": [
    "### 70 ℃, a factor was  fixed at 1/100000"
   ]
  },
  {
   "cell_type": "code",
   "execution_count": 6,
   "metadata": {
    "scrolled": true
   },
   "outputs": [
    {
     "name": "stdout",
     "output_type": "stream",
     "text": [
      "T_flux_H+ (-1000, 1000) 2.9813199999999984\n",
      "T_trans_H+ (-1000, 1000) 2.9813199999999984\n",
      "T_flux_beta__D__glucose (-1, 0) -0.7453299999999995\n",
      "T_ABC__transporter_beta__D__glucose (0, 1.8445670000000003) 0.7453299999999995\n",
      "carb_entner_1.1.1.360_GLUCOSE__1__DEHYDROGENASE__NADP+__RXN (0, 1.31251) 0.7453299999999995\n",
      "carb_entner_3.1.1.17_GLUCONOLACT__RXN (0, 10.0) 0.7453299999999996\n",
      "carb_entner_4.2.1.140_GLUCONATE__DEHYDRATASE__RXN (0, 8.365715000000002) 0.7453299999999996\n",
      "carb_entner_2.7.1.178_DEOXYGLUCONOKIN__RXN (0, 2.912728) 0.7453299999999997\n",
      "carb_entner_4.1.2.55_KDPGALDOL__RXN (0, 5.973187) 0.7453299999999996\n",
      "carb_enter_glucneo_5.4.2.1_3PGAREARR__RXN (-0.74533, 0.74533) 0.74533\n",
      "carb_enter_glucneo_4.2.1.11_2PGADEHYDRAT__RXN (-4.107753000000001, 4.107753000000001) 0.74533\n",
      "carb_enter_2.7.1.40_PEPDEPHOS__RXN (0, 1.92121) 0.74533\n",
      "carb_enter_glucneo_2.7.2.3_PHOSGLYPHOS__RXN (-5.995728000000001, 5.995728000000001) -0.7453299999999996\n",
      "carb_glucneo_1.2.1.13_GAPDHSYNEC__RXN_NAD (-6.530183000000001, 6.530183000000001) -0.7453299999999996\n",
      "NADPH_recycle (-100.0, 1000.0) 0.7453299999999996\n",
      "NADH_recycle (-100.0, 1000.0) 0.7453299999999996\n",
      "T_flux_pyruvate (0.0, 1000.0) 1.4906599999999997\n"
     ]
    },
    {
     "data": {
      "application/vnd.jupyter.widget-view+json": {
       "model_id": "9dcb165057654e539b9ab96157f13deb",
       "version_major": 2,
       "version_minor": 0
      },
      "text/plain": [
       "Builder(hide_secondary_metabolites=False, highlight_missing=True, reaction_data={'Biomass': 0.0, 'Biomass__fuc…"
      ]
     },
     "metadata": {},
     "output_type": "display_data"
    }
   ],
   "source": [
    "map_the_RNA_to_model (1/100000,'mRNA (70)',1)"
   ]
  },
  {
   "cell_type": "markdown",
   "metadata": {},
   "source": [
    "### 70 ℃, a factor was  fixed at 1/10000"
   ]
  },
  {
   "cell_type": "code",
   "execution_count": 7,
   "metadata": {
    "scrolled": true
   },
   "outputs": [
    {
     "name": "stdout",
     "output_type": "stream",
     "text": [
      "T_flux_H+ (-1000, 1000) 4.000000000000002\n",
      "T_trans_H+ (-1000, 1000) 4.000000000000001\n",
      "T_flux_beta__D__glucose (-1, 0) -1.0\n",
      "T_ABC__transporter_beta__D__glucose (0, 18.445670000000003) 1.0000000000000002\n",
      "carb_entner_1.1.1.360_GLUCOSE__1__DEHYDROGENASE__NADP+__RXN (0, 13.1251) 1.0000000000000002\n",
      "carb_entner_3.1.1.17_GLUCONOLACT__RXN (0, 100.0) 1.0000000000000002\n",
      "carb_entner_4.2.1.140_GLUCONATE__DEHYDRATASE__RXN (0, 83.65715) 1.0000000000000002\n",
      "carb_entner_2.7.1.178_DEOXYGLUCONOKIN__RXN (0, 29.12728) 1.0000000000000004\n",
      "carb_entner_4.1.2.55_KDPGALDOL__RXN (0, 59.73187) 1.0\n",
      "carb_enter_glucneo_5.4.2.1_3PGAREARR__RXN (-7.4533000000000005, 7.4533000000000005) 1.0000000000000002\n",
      "carb_enter_glucneo_4.2.1.11_2PGADEHYDRAT__RXN (-41.07753, 41.07753) 1.0000000000000002\n",
      "carb_enter_2.7.1.40_PEPDEPHOS__RXN (0, 19.2121) 1.0000000000000002\n",
      "carb_enter_glucneo_2.7.2.3_PHOSGLYPHOS__RXN (-59.957280000000004, 59.957280000000004) -1.0000000000000004\n",
      "carb_glucneo_1.2.1.13_GAPDHSYNEC__RXN_NAD (-65.30183000000001, 65.30183000000001) -1.0000000000000002\n",
      "NADPH_recycle (-100.0, 1000.0) 1.0\n",
      "NADH_recycle (-100.0, 1000.0) 1.0000000000000002\n",
      "T_flux_pyruvate (0.0, 1000.0) 2.0\n"
     ]
    },
    {
     "data": {
      "application/vnd.jupyter.widget-view+json": {
       "model_id": "fc9765edf8934195801149bb259c2429",
       "version_major": 2,
       "version_minor": 0
      },
      "text/plain": [
       "Builder(hide_secondary_metabolites=False, highlight_missing=True, reaction_data={'Biomass': 0.0, 'Biomass__fuc…"
      ]
     },
     "metadata": {},
     "output_type": "display_data"
    }
   ],
   "source": [
    "map_the_RNA_to_model (1/10000,'mRNA (70)',1)"
   ]
  },
  {
   "cell_type": "markdown",
   "metadata": {},
   "source": [
    "### 70 ℃, a factor was  fixed at 1/1000000"
   ]
  },
  {
   "cell_type": "code",
   "execution_count": 8,
   "metadata": {
    "scrolled": true
   },
   "outputs": [
    {
     "name": "stdout",
     "output_type": "stream",
     "text": [
      "T_flux_H+ (-1000, 1000) 0.2981319999999999\n",
      "T_trans_H+ (-1000, 1000) 0.2981319999999999\n",
      "T_flux_beta__D__glucose (-1, 0) -0.07453299999999993\n",
      "T_ABC__transporter_beta__D__glucose (0, 0.1844567) 0.07453299999999995\n",
      "carb_entner_1.1.1.360_GLUCOSE__1__DEHYDROGENASE__NADP+__RXN (0, 0.131251) 0.07453299999999996\n",
      "carb_entner_3.1.1.17_GLUCONOLACT__RXN (0, 1.0) 0.07453299999999997\n",
      "carb_entner_4.2.1.140_GLUCONATE__DEHYDRATASE__RXN (0, 0.8365714999999999) 0.07453299999999997\n",
      "carb_entner_2.7.1.178_DEOXYGLUCONOKIN__RXN (0, 0.2912728) 0.07453299999999997\n",
      "carb_entner_4.1.2.55_KDPGALDOL__RXN (0, 0.5973187) 0.07453299999999997\n",
      "carb_enter_glucneo_5.4.2.1_3PGAREARR__RXN (-0.074533, 0.074533) 0.074533\n",
      "carb_enter_glucneo_4.2.1.11_2PGADEHYDRAT__RXN (-0.41077529999999995, 0.41077529999999995) 0.07453299999999995\n",
      "carb_enter_2.7.1.40_PEPDEPHOS__RXN (0, 0.192121) 0.07453299999999996\n",
      "carb_enter_glucneo_2.7.2.3_PHOSGLYPHOS__RXN (-0.5995728, 0.5995728) -0.07453299999999995\n",
      "carb_glucneo_1.2.1.13_GAPDHSYNEC__RXN_NAD (-0.6530183, 0.6530183) -0.07453299999999995\n",
      "NADPH_recycle (-100.0, 1000.0) 0.07453299999999999\n",
      "NADH_recycle (-100.0, 1000.0) 0.07453299999999995\n",
      "T_flux_pyruvate (0.0, 1000.0) 0.14906599999999992\n"
     ]
    },
    {
     "data": {
      "application/vnd.jupyter.widget-view+json": {
       "model_id": "add9ac7a524c4ec3b778cf6352a00d13",
       "version_major": 2,
       "version_minor": 0
      },
      "text/plain": [
       "Builder(hide_secondary_metabolites=False, highlight_missing=True, reaction_data={'Biomass': 0.0, 'Biomass__fuc…"
      ]
     },
     "metadata": {},
     "output_type": "display_data"
    }
   ],
   "source": [
    "map_the_RNA_to_model (1/1000000,'mRNA (70)',1)"
   ]
  },
  {
   "cell_type": "markdown",
   "metadata": {},
   "source": [
    "## 80 ℃, different a factor "
   ]
  },
  {
   "cell_type": "markdown",
   "metadata": {},
   "source": [
    "### 80 ℃, a factor was  fixed at 1/100000"
   ]
  },
  {
   "cell_type": "code",
   "execution_count": 9,
   "metadata": {
    "scrolled": true
   },
   "outputs": [
    {
     "name": "stdout",
     "output_type": "stream",
     "text": [
      "T_flux_H+ (-1000, 1000) 4.000000000000002\n",
      "T_trans_H+ (-1000, 1000) 4.000000000000001\n",
      "T_flux_beta__D__glucose (-1, 0) -1.0\n",
      "T_ABC__transporter_beta__D__glucose (0, 1.01448) 1.0000000000000002\n",
      "carb_entner_1.1.1.360_GLUCOSE__1__DEHYDROGENASE__NADP+__RXN (0, 1.16348) 1.0000000000000002\n",
      "carb_entner_3.1.1.17_GLUCONOLACT__RXN (0, 10.0) 1.0000000000000002\n",
      "carb_entner_4.2.1.140_GLUCONATE__DEHYDRATASE__RXN (0, 3.5625100000000005) 1.0000000000000002\n",
      "carb_entner_2.7.1.178_DEOXYGLUCONOKIN__RXN (0, 2.533558) 1.0000000000000004\n",
      "carb_entner_4.1.2.55_KDPGALDOL__RXN (0, 3.4696800000000003) 1.0\n",
      "carb_enter_glucneo_5.4.2.1_3PGAREARR__RXN (-1.0047650000000001, 1.0047650000000001) 1.0000000000000002\n",
      "carb_enter_glucneo_4.2.1.11_2PGADEHYDRAT__RXN (-4.2530730000000005, 4.2530730000000005) 1.0000000000000002\n",
      "carb_enter_2.7.1.40_PEPDEPHOS__RXN (0, 3.0761800000000004) 1.0000000000000002\n",
      "carb_enter_glucneo_2.7.2.3_PHOSGLYPHOS__RXN (-4.929608, 4.929608) -1.0000000000000004\n",
      "carb_glucneo_1.2.1.13_GAPDHSYNEC__RXN_NAD (-6.758985000000001, 6.758985000000001) -1.0000000000000002\n",
      "NADPH_recycle (-100.0, 1000.0) 1.0\n",
      "NADH_recycle (-100.0, 1000.0) 1.0000000000000002\n",
      "T_flux_pyruvate (0.0, 1000.0) 2.0\n"
     ]
    },
    {
     "data": {
      "application/vnd.jupyter.widget-view+json": {
       "model_id": "5d18632e4729436fa75a2d30f2d20beb",
       "version_major": 2,
       "version_minor": 0
      },
      "text/plain": [
       "Builder(hide_secondary_metabolites=False, highlight_missing=True, reaction_data={'Biomass': 0.0, 'Biomass__fuc…"
      ]
     },
     "metadata": {},
     "output_type": "display_data"
    }
   ],
   "source": [
    "map_the_RNA_to_model (1/100000,'mRNA (80)',1)"
   ]
  },
  {
   "cell_type": "markdown",
   "metadata": {},
   "source": [
    "### 80 ℃, a factor was  fixed at 1/10000"
   ]
  },
  {
   "cell_type": "code",
   "execution_count": 10,
   "metadata": {
    "scrolled": true
   },
   "outputs": [
    {
     "name": "stdout",
     "output_type": "stream",
     "text": [
      "T_flux_H+ (-1000, 1000) 4.000000000000002\n",
      "T_trans_H+ (-1000, 1000) 4.000000000000001\n",
      "T_flux_beta__D__glucose (-1, 0) -1.0\n",
      "T_ABC__transporter_beta__D__glucose (0, 10.1448) 1.0000000000000002\n",
      "carb_entner_1.1.1.360_GLUCOSE__1__DEHYDROGENASE__NADP+__RXN (0, 11.6348) 1.0000000000000002\n",
      "carb_entner_3.1.1.17_GLUCONOLACT__RXN (0, 100.0) 1.0000000000000002\n",
      "carb_entner_4.2.1.140_GLUCONATE__DEHYDRATASE__RXN (0, 35.6251) 1.0000000000000002\n",
      "carb_entner_2.7.1.178_DEOXYGLUCONOKIN__RXN (0, 25.33558) 1.0000000000000004\n",
      "carb_entner_4.1.2.55_KDPGALDOL__RXN (0, 34.6968) 1.0\n",
      "carb_enter_glucneo_5.4.2.1_3PGAREARR__RXN (-10.04765, 10.04765) 1.0000000000000002\n",
      "carb_enter_glucneo_4.2.1.11_2PGADEHYDRAT__RXN (-42.53073, 42.53073) 1.0000000000000002\n",
      "carb_enter_2.7.1.40_PEPDEPHOS__RXN (0, 30.7618) 1.0000000000000002\n",
      "carb_enter_glucneo_2.7.2.3_PHOSGLYPHOS__RXN (-49.29608, 49.29608) -1.0000000000000004\n",
      "carb_glucneo_1.2.1.13_GAPDHSYNEC__RXN_NAD (-67.58985, 67.58985) -1.0000000000000002\n",
      "NADPH_recycle (-100.0, 1000.0) 1.0\n",
      "NADH_recycle (-100.0, 1000.0) 1.0000000000000002\n",
      "T_flux_pyruvate (0.0, 1000.0) 2.0\n"
     ]
    },
    {
     "data": {
      "application/vnd.jupyter.widget-view+json": {
       "model_id": "22e8fc5b0f9a43ce813e3776064ebfb9",
       "version_major": 2,
       "version_minor": 0
      },
      "text/plain": [
       "Builder(hide_secondary_metabolites=False, highlight_missing=True, reaction_data={'Biomass': 0.0, 'Biomass__fuc…"
      ]
     },
     "metadata": {},
     "output_type": "display_data"
    }
   ],
   "source": [
    "map_the_RNA_to_model (1/10000,'mRNA (80)',1)"
   ]
  },
  {
   "cell_type": "markdown",
   "metadata": {},
   "source": [
    "### 80 ℃, a factor was  fixed at 1/1000000"
   ]
  },
  {
   "cell_type": "code",
   "execution_count": 11,
   "metadata": {
    "scrolled": true
   },
   "outputs": [
    {
     "name": "stdout",
     "output_type": "stream",
     "text": [
      "T_flux_H+ (-1000, 1000) 0.4019059999999997\n",
      "T_trans_H+ (-1000, 1000) 0.40190599999999993\n",
      "T_flux_beta__D__glucose (-1, 0) -0.10047649999999991\n",
      "T_ABC__transporter_beta__D__glucose (0, 0.101448) 0.10047649999999994\n",
      "carb_entner_1.1.1.360_GLUCOSE__1__DEHYDROGENASE__NADP+__RXN (0, 0.116348) 0.10047649999999994\n",
      "carb_entner_3.1.1.17_GLUCONOLACT__RXN (0, 1.0) 0.10047649999999994\n",
      "carb_entner_4.2.1.140_GLUCONATE__DEHYDRATASE__RXN (0, 0.356251) 0.10047649999999995\n",
      "carb_entner_2.7.1.178_DEOXYGLUCONOKIN__RXN (0, 0.25335579999999996) 0.10047649999999998\n",
      "carb_entner_4.1.2.55_KDPGALDOL__RXN (0, 0.346968) 0.1004765\n",
      "carb_enter_glucneo_5.4.2.1_3PGAREARR__RXN (-0.1004765, 0.1004765) 0.1004765\n",
      "carb_enter_glucneo_4.2.1.11_2PGADEHYDRAT__RXN (-0.42530729999999994, 0.42530729999999994) 0.10047649999999993\n",
      "carb_enter_2.7.1.40_PEPDEPHOS__RXN (0, 0.307618) 0.10047649999999994\n",
      "carb_enter_glucneo_2.7.2.3_PHOSGLYPHOS__RXN (-0.4929608, 0.4929608) -0.10047649999999995\n",
      "carb_glucneo_1.2.1.13_GAPDHSYNEC__RXN_NAD (-0.6758985, 0.6758985) -0.10047649999999994\n",
      "NADPH_recycle (-100.0, 1000.0) 0.1004765\n",
      "NADH_recycle (-100.0, 1000.0) 0.10047649999999994\n",
      "T_flux_pyruvate (0.0, 1000.0) 0.20095299999999994\n"
     ]
    },
    {
     "data": {
      "application/vnd.jupyter.widget-view+json": {
       "model_id": "a3ec70d404df408a913ffb8b18dfd38c",
       "version_major": 2,
       "version_minor": 0
      },
      "text/plain": [
       "Builder(hide_secondary_metabolites=False, highlight_missing=True, reaction_data={'Biomass': 0.0, 'Biomass__fuc…"
      ]
     },
     "metadata": {},
     "output_type": "display_data"
    }
   ],
   "source": [
    "map_the_RNA_to_model (1/1000000,'mRNA (80)',1)"
   ]
  },
  {
   "cell_type": "markdown",
   "metadata": {},
   "source": [
    "# Map the Vmax at different temperatures 70 and 80 ℃"
   ]
  },
  {
   "cell_type": "markdown",
   "metadata": {},
   "source": [
    "## 80 ℃ , different a factor "
   ]
  },
  {
   "cell_type": "markdown",
   "metadata": {},
   "source": [
    "### 80 ℃, a factor was fixed at 1/100"
   ]
  },
  {
   "cell_type": "code",
   "execution_count": 12,
   "metadata": {
    "scrolled": true
   },
   "outputs": [
    {
     "name": "stdout",
     "output_type": "stream",
     "text": [
      "T_flux_H+ (-1000, 1000) 2.9999999999999987\n",
      "T_trans_H+ (-1000, 1000) 2.999999999999999\n",
      "T_flux_beta__D__glucose (-1, 0) -0.7499999999999994\n",
      "T_ABC__transporter_beta__D__glucose (0, 10.0) 0.7499999999999996\n",
      "carb_entner_1.1.1.360_GLUCOSE__1__DEHYDROGENASE__NADP+__RXN (0, 2.5) 0.7499999999999996\n",
      "carb_entner_3.1.1.17_GLUCONOLACT__RXN (0, 10.0) 0.7499999999999997\n",
      "carb_entner_4.2.1.140_GLUCONATE__DEHYDRATASE__RXN (0, 1.7) 0.7499999999999997\n",
      "carb_entner_2.7.1.178_DEOXYGLUCONOKIN__RXN (0, 10.0) 0.7499999999999998\n",
      "carb_entner_4.1.2.55_KDPGALDOL__RXN (0, 1.2) 0.7499999999999997\n",
      "carb_enter_glucneo_5.4.2.1_3PGAREARR__RXN (-0.75, 0.75) 0.75\n",
      "carb_enter_glucneo_4.2.1.11_2PGADEHYDRAT__RXN (-10.0, 10.0) 0.75\n",
      "carb_enter_2.7.1.40_PEPDEPHOS__RXN (0, 0.76) 0.7499999999999998\n",
      "carb_enter_glucneo_2.7.2.3_PHOSGLYPHOS__RXN (-1.1, 1.1) -0.7499999999999998\n",
      "carb_glucneo_1.2.1.13_GAPDHSYNEC__RXN_NAD (-0.87, 0.87) -0.7499999999999996\n",
      "NADPH_recycle (-100.0, 1000.0) 0.7499999999999999\n",
      "NADH_recycle (-100.0, 1000.0) 0.7499999999999996\n",
      "T_flux_pyruvate (0.0, 1000.0) 1.4999999999999993\n"
     ]
    },
    {
     "data": {
      "application/vnd.jupyter.widget-view+json": {
       "model_id": "48ca03fbc7c944b6b60959975ae7b1d2",
       "version_major": 2,
       "version_minor": 0
      },
      "text/plain": [
       "Builder(hide_secondary_metabolites=False, highlight_missing=True, reaction_data={'Biomass': 0.0, 'Biomass__fuc…"
      ]
     },
     "metadata": {},
     "output_type": "display_data"
    }
   ],
   "source": [
    "map_the_RNA_to_model (1/100,'80 (80) enzyme activities',1)"
   ]
  },
  {
   "cell_type": "markdown",
   "metadata": {},
   "source": [
    "### 80 ℃, a factor was fixed at 1/1000"
   ]
  },
  {
   "cell_type": "code",
   "execution_count": 13,
   "metadata": {
    "scrolled": true
   },
   "outputs": [
    {
     "name": "stdout",
     "output_type": "stream",
     "text": [
      "T_flux_H+ (-1000, 1000) 0.3000000000000001\n",
      "T_trans_H+ (-1000, 1000) 0.3000000000000001\n",
      "T_flux_beta__D__glucose (-1, 0) -0.07500000000000001\n",
      "T_ABC__transporter_beta__D__glucose (0, 1.0) 0.07500000000000002\n",
      "carb_entner_1.1.1.360_GLUCOSE__1__DEHYDROGENASE__NADP+__RXN (0, 0.25) 0.07500000000000002\n",
      "carb_entner_3.1.1.17_GLUCONOLACT__RXN (0, 1.0) 0.07500000000000002\n",
      "carb_entner_4.2.1.140_GLUCONATE__DEHYDRATASE__RXN (0, 0.17) 0.07500000000000002\n",
      "carb_entner_2.7.1.178_DEOXYGLUCONOKIN__RXN (0, 1.0) 0.07500000000000004\n",
      "carb_entner_4.1.2.55_KDPGALDOL__RXN (0, 0.12) 0.07500000000000005\n",
      "carb_enter_glucneo_5.4.2.1_3PGAREARR__RXN (-0.075, 0.075) 0.075\n",
      "carb_enter_glucneo_4.2.1.11_2PGADEHYDRAT__RXN (-1.0, 1.0) 0.075\n",
      "carb_enter_2.7.1.40_PEPDEPHOS__RXN (0, 0.076) 0.07500000000000001\n",
      "carb_enter_glucneo_2.7.2.3_PHOSGLYPHOS__RXN (-0.11, 0.11) -0.07500000000000001\n",
      "carb_glucneo_1.2.1.13_GAPDHSYNEC__RXN_NAD (-0.08700000000000001, 0.08700000000000001) -0.075\n",
      "NADPH_recycle (-100.0, 1000.0) 0.07500000000000004\n",
      "NADH_recycle (-100.0, 1000.0) 0.07500000000000001\n",
      "T_flux_pyruvate (0.0, 1000.0) 0.15000000000000008\n"
     ]
    },
    {
     "data": {
      "application/vnd.jupyter.widget-view+json": {
       "model_id": "67b75cff99504ffcb0ef8a0de7a5c1da",
       "version_major": 2,
       "version_minor": 0
      },
      "text/plain": [
       "Builder(hide_secondary_metabolites=False, highlight_missing=True, reaction_data={'Biomass': 0.0, 'Biomass__fuc…"
      ]
     },
     "metadata": {},
     "output_type": "display_data"
    }
   ],
   "source": [
    "map_the_RNA_to_model (1/1000,'80 (80) enzyme activities',1)"
   ]
  },
  {
   "cell_type": "markdown",
   "metadata": {},
   "source": [
    "### 80 ℃, a factor was fixed at 1/10"
   ]
  },
  {
   "cell_type": "code",
   "execution_count": 14,
   "metadata": {
    "scrolled": true
   },
   "outputs": [
    {
     "name": "stdout",
     "output_type": "stream",
     "text": [
      "T_flux_H+ (-1000, 1000) 4.000000000000002\n",
      "T_trans_H+ (-1000, 1000) 4.000000000000001\n",
      "T_flux_beta__D__glucose (-1, 0) -1.0\n",
      "T_ABC__transporter_beta__D__glucose (0, 100.0) 1.0000000000000002\n",
      "carb_entner_1.1.1.360_GLUCOSE__1__DEHYDROGENASE__NADP+__RXN (0, 25.0) 1.0000000000000002\n",
      "carb_entner_3.1.1.17_GLUCONOLACT__RXN (0, 100.0) 1.0000000000000002\n",
      "carb_entner_4.2.1.140_GLUCONATE__DEHYDRATASE__RXN (0, 17.0) 1.0000000000000002\n",
      "carb_entner_2.7.1.178_DEOXYGLUCONOKIN__RXN (0, 100.0) 1.0000000000000004\n",
      "carb_entner_4.1.2.55_KDPGALDOL__RXN (0, 12.0) 1.0\n",
      "carb_enter_glucneo_5.4.2.1_3PGAREARR__RXN (-7.5, 7.5) 1.0000000000000002\n",
      "carb_enter_glucneo_4.2.1.11_2PGADEHYDRAT__RXN (-100.0, 100.0) 1.0000000000000002\n",
      "carb_enter_2.7.1.40_PEPDEPHOS__RXN (0, 7.6000000000000005) 1.0000000000000002\n",
      "carb_enter_glucneo_2.7.2.3_PHOSGLYPHOS__RXN (-11.0, 11.0) -1.0000000000000004\n",
      "carb_glucneo_1.2.1.13_GAPDHSYNEC__RXN_NAD (-8.700000000000001, 8.700000000000001) -1.0000000000000002\n",
      "NADPH_recycle (-100.0, 1000.0) 1.0\n",
      "NADH_recycle (-100.0, 1000.0) 1.0000000000000002\n",
      "T_flux_pyruvate (0.0, 1000.0) 2.0\n"
     ]
    },
    {
     "data": {
      "application/vnd.jupyter.widget-view+json": {
       "model_id": "ab126dcfda224956bd5e439d6cf76ddc",
       "version_major": 2,
       "version_minor": 0
      },
      "text/plain": [
       "Builder(hide_secondary_metabolites=False, highlight_missing=True, reaction_data={'Biomass': 0.0, 'Biomass__fuc…"
      ]
     },
     "metadata": {},
     "output_type": "display_data"
    }
   ],
   "source": [
    "map_the_RNA_to_model (1/10,'80 (80) enzyme activities',1)"
   ]
  },
  {
   "cell_type": "markdown",
   "metadata": {},
   "source": [
    "## 80 ℃ , different glucose import"
   ]
  },
  {
   "cell_type": "markdown",
   "metadata": {},
   "source": [
    "### 80 ℃, glucose import reaction lower bound was fixed at 1"
   ]
  },
  {
   "cell_type": "code",
   "execution_count": 15,
   "metadata": {
    "scrolled": true
   },
   "outputs": [
    {
     "name": "stdout",
     "output_type": "stream",
     "text": [
      "T_flux_H+ (-1000, 1000) 2.9999999999999987\n",
      "T_trans_H+ (-1000, 1000) 2.999999999999999\n",
      "T_flux_beta__D__glucose (-1, 0) -0.7499999999999994\n",
      "T_ABC__transporter_beta__D__glucose (0, 10.0) 0.7499999999999996\n",
      "carb_entner_1.1.1.360_GLUCOSE__1__DEHYDROGENASE__NADP+__RXN (0, 2.5) 0.7499999999999996\n",
      "carb_entner_3.1.1.17_GLUCONOLACT__RXN (0, 10.0) 0.7499999999999997\n",
      "carb_entner_4.2.1.140_GLUCONATE__DEHYDRATASE__RXN (0, 1.7) 0.7499999999999997\n",
      "carb_entner_2.7.1.178_DEOXYGLUCONOKIN__RXN (0, 10.0) 0.7499999999999998\n",
      "carb_entner_4.1.2.55_KDPGALDOL__RXN (0, 1.2) 0.7499999999999997\n",
      "carb_enter_glucneo_5.4.2.1_3PGAREARR__RXN (-0.75, 0.75) 0.75\n",
      "carb_enter_glucneo_4.2.1.11_2PGADEHYDRAT__RXN (-10.0, 10.0) 0.75\n",
      "carb_enter_2.7.1.40_PEPDEPHOS__RXN (0, 0.76) 0.7499999999999998\n",
      "carb_enter_glucneo_2.7.2.3_PHOSGLYPHOS__RXN (-1.1, 1.1) -0.7499999999999998\n",
      "carb_glucneo_1.2.1.13_GAPDHSYNEC__RXN_NAD (-0.87, 0.87) -0.7499999999999996\n",
      "NADPH_recycle (-100.0, 1000.0) 0.7499999999999999\n",
      "NADH_recycle (-100.0, 1000.0) 0.7499999999999996\n",
      "T_flux_pyruvate (0.0, 1000.0) 1.4999999999999993\n"
     ]
    },
    {
     "data": {
      "application/vnd.jupyter.widget-view+json": {
       "model_id": "5ed697501a8940c8a28969da4d22d821",
       "version_major": 2,
       "version_minor": 0
      },
      "text/plain": [
       "Builder(hide_secondary_metabolites=False, highlight_missing=True, reaction_data={'Biomass': 0.0, 'Biomass__fuc…"
      ]
     },
     "metadata": {},
     "output_type": "display_data"
    }
   ],
   "source": [
    "map_the_RNA_to_model (1/100,'80 (80) enzyme activities',1)"
   ]
  },
  {
   "cell_type": "markdown",
   "metadata": {},
   "source": [
    "### 80 ℃, glucose import reaction lower bound was fixed at 0.4"
   ]
  },
  {
   "cell_type": "code",
   "execution_count": 16,
   "metadata": {
    "scrolled": true
   },
   "outputs": [
    {
     "name": "stdout",
     "output_type": "stream",
     "text": [
      "T_flux_H+ (-1000, 1000) 1.6000000000000003\n",
      "T_trans_H+ (-1000, 1000) 1.6000000000000005\n",
      "T_flux_beta__D__glucose (-0.4, 0) -0.4\n",
      "T_ABC__transporter_beta__D__glucose (0, 10.0) 0.4\n",
      "carb_entner_1.1.1.360_GLUCOSE__1__DEHYDROGENASE__NADP+__RXN (0, 2.5) 0.4\n",
      "carb_entner_3.1.1.17_GLUCONOLACT__RXN (0, 10.0) 0.4000000000000001\n",
      "carb_entner_4.2.1.140_GLUCONATE__DEHYDRATASE__RXN (0, 1.7) 0.4000000000000001\n",
      "carb_entner_2.7.1.178_DEOXYGLUCONOKIN__RXN (0, 10.0) 0.40000000000000013\n",
      "carb_entner_4.1.2.55_KDPGALDOL__RXN (0, 1.2) 0.4000000000000002\n",
      "carb_enter_glucneo_5.4.2.1_3PGAREARR__RXN (-0.75, 0.75) 0.4000000000000002\n",
      "carb_enter_glucneo_4.2.1.11_2PGADEHYDRAT__RXN (-10.0, 10.0) 0.40000000000000013\n",
      "carb_enter_2.7.1.40_PEPDEPHOS__RXN (0, 0.76) 0.40000000000000013\n",
      "carb_enter_glucneo_2.7.2.3_PHOSGLYPHOS__RXN (-1.1, 1.1) -0.4\n",
      "carb_glucneo_1.2.1.13_GAPDHSYNEC__RXN_NAD (-0.87, 0.87) -0.4\n",
      "NADPH_recycle (-100.0, 1000.0) 0.4000000000000002\n",
      "NADH_recycle (-100.0, 1000.0) 0.4\n",
      "T_flux_pyruvate (0.0, 1000.0) 0.8000000000000005\n"
     ]
    },
    {
     "data": {
      "application/vnd.jupyter.widget-view+json": {
       "model_id": "e38f02e120984b9cb3b9ebbe727b39bc",
       "version_major": 2,
       "version_minor": 0
      },
      "text/plain": [
       "Builder(hide_secondary_metabolites=False, highlight_missing=True, reaction_data={'Biomass': 0.0, 'Biomass__fuc…"
      ]
     },
     "metadata": {},
     "output_type": "display_data"
    }
   ],
   "source": [
    "map_the_RNA_to_model (1/100,'80 (80) enzyme activities',0.4)"
   ]
  },
  {
   "cell_type": "markdown",
   "metadata": {},
   "source": [
    "### 80 ℃, glucose import reaction lower bound was fixed at 0.1"
   ]
  },
  {
   "cell_type": "code",
   "execution_count": 17,
   "metadata": {
    "scrolled": true
   },
   "outputs": [
    {
     "name": "stdout",
     "output_type": "stream",
     "text": [
      "T_flux_H+ (-1000, 1000) 0.4000000000000001\n",
      "T_trans_H+ (-1000, 1000) 0.40000000000000013\n",
      "T_flux_beta__D__glucose (-0.1, 0) -0.1\n",
      "T_ABC__transporter_beta__D__glucose (0, 10.0) 0.1\n",
      "carb_entner_1.1.1.360_GLUCOSE__1__DEHYDROGENASE__NADP+__RXN (0, 2.5) 0.1\n",
      "carb_entner_3.1.1.17_GLUCONOLACT__RXN (0, 10.0) 0.10000000000000002\n",
      "carb_entner_4.2.1.140_GLUCONATE__DEHYDRATASE__RXN (0, 1.7) 0.10000000000000002\n",
      "carb_entner_2.7.1.178_DEOXYGLUCONOKIN__RXN (0, 10.0) 0.10000000000000003\n",
      "carb_entner_4.1.2.55_KDPGALDOL__RXN (0, 1.2) 0.10000000000000005\n",
      "carb_enter_glucneo_5.4.2.1_3PGAREARR__RXN (-0.75, 0.75) 0.10000000000000005\n",
      "carb_enter_glucneo_4.2.1.11_2PGADEHYDRAT__RXN (-10.0, 10.0) 0.10000000000000003\n",
      "carb_enter_2.7.1.40_PEPDEPHOS__RXN (0, 0.76) 0.10000000000000003\n",
      "carb_enter_glucneo_2.7.2.3_PHOSGLYPHOS__RXN (-1.1, 1.1) -0.1\n",
      "carb_glucneo_1.2.1.13_GAPDHSYNEC__RXN_NAD (-0.87, 0.87) -0.1\n",
      "NADPH_recycle (-100.0, 1000.0) 0.10000000000000005\n",
      "NADH_recycle (-100.0, 1000.0) 0.1\n",
      "T_flux_pyruvate (0.0, 1000.0) 0.20000000000000012\n"
     ]
    },
    {
     "data": {
      "application/vnd.jupyter.widget-view+json": {
       "model_id": "4a6ad4ac4c2040ab93f7c689fde0a1af",
       "version_major": 2,
       "version_minor": 0
      },
      "text/plain": [
       "Builder(hide_secondary_metabolites=False, highlight_missing=True, reaction_data={'Biomass': 0.0, 'Biomass__fuc…"
      ]
     },
     "metadata": {},
     "output_type": "display_data"
    }
   ],
   "source": [
    "map_the_RNA_to_model (1/100,'80 (80) enzyme activities',0.1)"
   ]
  },
  {
   "cell_type": "markdown",
   "metadata": {},
   "source": [
    "## 70 ℃, different a factor"
   ]
  },
  {
   "cell_type": "markdown",
   "metadata": {},
   "source": [
    "### 70 ℃, a factor was  fixed at 1/100"
   ]
  },
  {
   "cell_type": "code",
   "execution_count": 18,
   "metadata": {
    "scrolled": true
   },
   "outputs": [
    {
     "name": "stdout",
     "output_type": "stream",
     "text": [
      "T_flux_H+ (-1000, 1000) 1.8300000000000003\n",
      "T_trans_H+ (-1000, 1000) 1.8299999999999998\n",
      "T_flux_beta__D__glucose (-1, 0) -0.5099999999999998\n",
      "T_ABC__transporter_beta__D__glucose (0, 10.0) 0.5099999999999999\n",
      "carb_entner_1.1.1.360_GLUCOSE__1__DEHYDROGENASE__NADP+__RXN (0, 0.96) 0.5099999999999999\n",
      "carb_entner_3.1.1.17_GLUCONOLACT__RXN (0, 10.0) 0.5099999999999999\n",
      "carb_entner_4.2.1.140_GLUCONATE__DEHYDRATASE__RXN (0, 0.92) 0.5099999999999999\n",
      "carb_entner_2.7.1.178_DEOXYGLUCONOKIN__RXN (0, 10.0) 0.51\n",
      "carb_entner_4.1.2.55_KDPGALDOL__RXN (0, 0.55) 0.5100000000000001\n",
      "carb_enter_glucneo_1.2.1.9_1.2.1.9__RXN (0, 0.21) 0.21\n",
      "carb_enter_glucneo_5.4.2.1_3PGAREARR__RXN (-0.93, 0.93) 0.5100000000000002\n",
      "carb_enter_glucneo_4.2.1.11_2PGADEHYDRAT__RXN (-10.0, 10.0) 0.5100000000000002\n",
      "carb_enter_2.7.1.40_PEPDEPHOS__RXN (0, 0.7000000000000001) 0.5100000000000002\n",
      "carb_enter_glucneo_2.7.2.3_PHOSGLYPHOS__RXN (-0.3, 0.3) -0.3\n",
      "carb_glucneo_1.2.1.13_GAPDHSYNEC__RXN_NAD (-0.43, 0.43) -0.3\n",
      "NADPH_recycle (-100.0, 1000.0) 0.72\n",
      "NADH_recycle (-100.0, 1000.0) 0.2999999999999999\n",
      "T_flux_pyruvate (0.0, 1000.0) 1.0200000000000002\n",
      "ATP_source_reaction (-0.0, 1000.0) 0.21\n"
     ]
    },
    {
     "data": {
      "application/vnd.jupyter.widget-view+json": {
       "model_id": "a7bd48ba8ae745eb825aecff6d3aab1a",
       "version_major": 2,
       "version_minor": 0
      },
      "text/plain": [
       "Builder(hide_secondary_metabolites=False, highlight_missing=True, reaction_data={'Biomass': 0.0, 'Biomass__fuc…"
      ]
     },
     "metadata": {},
     "output_type": "display_data"
    }
   ],
   "source": [
    "map_the_RNA_to_model (1/100,'70 enzyme activities',1)"
   ]
  },
  {
   "cell_type": "markdown",
   "metadata": {},
   "source": [
    "### 70 ℃, a factor was  fixed at 1/1000"
   ]
  },
  {
   "cell_type": "code",
   "execution_count": 19,
   "metadata": {
    "scrolled": true
   },
   "outputs": [
    {
     "name": "stdout",
     "output_type": "stream",
     "text": [
      "T_flux_H+ (-1000, 1000) 0.18300000000000008\n",
      "T_trans_H+ (-1000, 1000) 0.183\n",
      "T_flux_beta__D__glucose (-1, 0) -0.051\n",
      "T_ABC__transporter_beta__D__glucose (0, 1.0) 0.051\n",
      "carb_entner_1.1.1.360_GLUCOSE__1__DEHYDROGENASE__NADP+__RXN (0, 0.096) 0.051\n",
      "carb_entner_3.1.1.17_GLUCONOLACT__RXN (0, 1.0) 0.051000000000000004\n",
      "carb_entner_4.2.1.140_GLUCONATE__DEHYDRATASE__RXN (0, 0.092) 0.051000000000000004\n",
      "carb_entner_2.7.1.178_DEOXYGLUCONOKIN__RXN (0, 1.0) 0.05100000000000002\n",
      "carb_entner_4.1.2.55_KDPGALDOL__RXN (0, 0.055) 0.05100000000000001\n",
      "carb_enter_glucneo_1.2.1.9_1.2.1.9__RXN (0, 0.021) 0.021\n",
      "carb_enter_glucneo_5.4.2.1_3PGAREARR__RXN (-0.093, 0.093) 0.05100000000000003\n",
      "carb_enter_glucneo_4.2.1.11_2PGADEHYDRAT__RXN (-1.0, 1.0) 0.05100000000000003\n",
      "carb_enter_2.7.1.40_PEPDEPHOS__RXN (0, 0.07) 0.05100000000000003\n",
      "carb_enter_glucneo_2.7.2.3_PHOSGLYPHOS__RXN (-0.03, 0.03) -0.03\n",
      "carb_glucneo_1.2.1.13_GAPDHSYNEC__RXN_NAD (-0.043000000000000003, 0.043000000000000003) -0.030000000000000002\n",
      "NADPH_recycle (-100.0, 1000.0) 0.072\n",
      "NADH_recycle (-100.0, 1000.0) 0.029999999999999995\n",
      "T_flux_pyruvate (0.0, 1000.0) 0.10200000000000005\n",
      "ATP_source_reaction (-0.0, 1000.0) 0.021\n"
     ]
    },
    {
     "data": {
      "application/vnd.jupyter.widget-view+json": {
       "model_id": "428074d9a6e548e694c6f628446bd2e2",
       "version_major": 2,
       "version_minor": 0
      },
      "text/plain": [
       "Builder(hide_secondary_metabolites=False, highlight_missing=True, reaction_data={'Biomass': 0.0, 'Biomass__fuc…"
      ]
     },
     "metadata": {},
     "output_type": "display_data"
    }
   ],
   "source": [
    "map_the_RNA_to_model (1/1000,'70 enzyme activities',1)"
   ]
  },
  {
   "cell_type": "markdown",
   "metadata": {},
   "source": [
    "### 70 ℃, a factor was  fixed at 1/10"
   ]
  },
  {
   "cell_type": "code",
   "execution_count": 20,
   "metadata": {
    "scrolled": true
   },
   "outputs": [
    {
     "name": "stdout",
     "output_type": "stream",
     "text": [
      "T_flux_H+ (-1000, 1000) 4.000000000000002\n",
      "T_trans_H+ (-1000, 1000) 4.000000000000001\n",
      "T_flux_beta__D__glucose (-1, 0) -1.0\n",
      "T_ABC__transporter_beta__D__glucose (0, 100.0) 1.0000000000000002\n",
      "carb_entner_1.1.1.360_GLUCOSE__1__DEHYDROGENASE__NADP+__RXN (0, 9.600000000000001) 1.0000000000000002\n",
      "carb_entner_3.1.1.17_GLUCONOLACT__RXN (0, 100.0) 1.0000000000000002\n",
      "carb_entner_4.2.1.140_GLUCONATE__DEHYDRATASE__RXN (0, 9.200000000000001) 1.0000000000000002\n",
      "carb_entner_2.7.1.178_DEOXYGLUCONOKIN__RXN (0, 100.0) 1.0000000000000004\n",
      "carb_entner_4.1.2.55_KDPGALDOL__RXN (0, 5.5) 1.0\n",
      "carb_enter_glucneo_5.4.2.1_3PGAREARR__RXN (-9.3, 9.3) 1.0000000000000002\n",
      "carb_enter_glucneo_4.2.1.11_2PGADEHYDRAT__RXN (-100.0, 100.0) 1.0000000000000002\n",
      "carb_enter_2.7.1.40_PEPDEPHOS__RXN (0, 7.0) 1.0000000000000002\n",
      "carb_enter_glucneo_2.7.2.3_PHOSGLYPHOS__RXN (-3.0, 3.0) -1.0000000000000004\n",
      "carb_glucneo_1.2.1.13_GAPDHSYNEC__RXN_NAD (-4.3, 4.3) -1.0000000000000002\n",
      "NADPH_recycle (-100.0, 1000.0) 1.0\n",
      "NADH_recycle (-100.0, 1000.0) 1.0000000000000002\n",
      "T_flux_pyruvate (0.0, 1000.0) 2.0\n"
     ]
    },
    {
     "data": {
      "application/vnd.jupyter.widget-view+json": {
       "model_id": "4dbe9958488b4ed8a1efe6498f7c6e5b",
       "version_major": 2,
       "version_minor": 0
      },
      "text/plain": [
       "Builder(hide_secondary_metabolites=False, highlight_missing=True, reaction_data={'Biomass': 0.0, 'Biomass__fuc…"
      ]
     },
     "metadata": {},
     "output_type": "display_data"
    }
   ],
   "source": [
    "map_the_RNA_to_model (1/10,'70 enzyme activities',1)"
   ]
  },
  {
   "cell_type": "markdown",
   "metadata": {},
   "source": [
    "## 70 ℃, different glucose import"
   ]
  },
  {
   "cell_type": "markdown",
   "metadata": {},
   "source": [
    "### 70 ℃, glucose import reaction lower bound was fixed at 1"
   ]
  },
  {
   "cell_type": "code",
   "execution_count": 21,
   "metadata": {
    "scrolled": true
   },
   "outputs": [
    {
     "name": "stdout",
     "output_type": "stream",
     "text": [
      "T_flux_H+ (-1000, 1000) 1.8300000000000003\n",
      "T_trans_H+ (-1000, 1000) 1.8299999999999998\n",
      "T_flux_beta__D__glucose (-1, 0) -0.5099999999999998\n",
      "T_ABC__transporter_beta__D__glucose (0, 10.0) 0.5099999999999999\n",
      "carb_entner_1.1.1.360_GLUCOSE__1__DEHYDROGENASE__NADP+__RXN (0, 0.96) 0.5099999999999999\n",
      "carb_entner_3.1.1.17_GLUCONOLACT__RXN (0, 10.0) 0.5099999999999999\n",
      "carb_entner_4.2.1.140_GLUCONATE__DEHYDRATASE__RXN (0, 0.92) 0.5099999999999999\n",
      "carb_entner_2.7.1.178_DEOXYGLUCONOKIN__RXN (0, 10.0) 0.51\n",
      "carb_entner_4.1.2.55_KDPGALDOL__RXN (0, 0.55) 0.5100000000000001\n",
      "carb_enter_glucneo_1.2.1.9_1.2.1.9__RXN (0, 0.21) 0.21\n",
      "carb_enter_glucneo_5.4.2.1_3PGAREARR__RXN (-0.93, 0.93) 0.5100000000000002\n",
      "carb_enter_glucneo_4.2.1.11_2PGADEHYDRAT__RXN (-10.0, 10.0) 0.5100000000000002\n",
      "carb_enter_2.7.1.40_PEPDEPHOS__RXN (0, 0.7000000000000001) 0.5100000000000002\n",
      "carb_enter_glucneo_2.7.2.3_PHOSGLYPHOS__RXN (-0.3, 0.3) -0.3\n",
      "carb_glucneo_1.2.1.13_GAPDHSYNEC__RXN_NAD (-0.43, 0.43) -0.3\n",
      "NADPH_recycle (-100.0, 1000.0) 0.72\n",
      "NADH_recycle (-100.0, 1000.0) 0.2999999999999999\n",
      "T_flux_pyruvate (0.0, 1000.0) 1.0200000000000002\n",
      "ATP_source_reaction (-0.0, 1000.0) 0.21\n"
     ]
    },
    {
     "data": {
      "application/vnd.jupyter.widget-view+json": {
       "model_id": "4aafc1ad67964e649882d5c16d1db29a",
       "version_major": 2,
       "version_minor": 0
      },
      "text/plain": [
       "Builder(hide_secondary_metabolites=False, highlight_missing=True, reaction_data={'Biomass': 0.0, 'Biomass__fuc…"
      ]
     },
     "metadata": {},
     "output_type": "display_data"
    }
   ],
   "source": [
    "map_the_RNA_to_model (1/100,'70 enzyme activities',1)"
   ]
  },
  {
   "cell_type": "markdown",
   "metadata": {},
   "source": [
    "### 70 ℃, glucose import reaction lower bound was fixed at 0.4"
   ]
  },
  {
   "cell_type": "code",
   "execution_count": 22,
   "metadata": {
    "scrolled": true
   },
   "outputs": [
    {
     "name": "stdout",
     "output_type": "stream",
     "text": [
      "T_flux_H+ (-1000, 1000) 1.5000000000000002\n",
      "T_trans_H+ (-1000, 1000) 1.5000000000000002\n",
      "T_flux_beta__D__glucose (-0.4, 0) -0.4\n",
      "T_ABC__transporter_beta__D__glucose (0, 10.0) 0.4\n",
      "carb_entner_1.1.1.360_GLUCOSE__1__DEHYDROGENASE__NADP+__RXN (0, 0.96) 0.4\n",
      "carb_entner_3.1.1.17_GLUCONOLACT__RXN (0, 10.0) 0.4000000000000001\n",
      "carb_entner_4.2.1.140_GLUCONATE__DEHYDRATASE__RXN (0, 0.92) 0.4000000000000001\n",
      "carb_entner_2.7.1.178_DEOXYGLUCONOKIN__RXN (0, 10.0) 0.40000000000000013\n",
      "carb_entner_4.1.2.55_KDPGALDOL__RXN (0, 0.55) 0.40000000000000013\n",
      "carb_enter_glucneo_1.2.1.9_1.2.1.9__RXN (0, 0.21) 0.10000000000000013\n",
      "carb_enter_glucneo_5.4.2.1_3PGAREARR__RXN (-0.93, 0.93) 0.40000000000000013\n",
      "carb_enter_glucneo_4.2.1.11_2PGADEHYDRAT__RXN (-10.0, 10.0) 0.40000000000000013\n",
      "carb_enter_2.7.1.40_PEPDEPHOS__RXN (0, 0.7000000000000001) 0.40000000000000013\n",
      "carb_enter_glucneo_2.7.2.3_PHOSGLYPHOS__RXN (-0.3, 0.3) -0.3\n",
      "carb_glucneo_1.2.1.13_GAPDHSYNEC__RXN_NAD (-0.43, 0.43) -0.29999999999999993\n",
      "NADPH_recycle (-100.0, 1000.0) 0.5000000000000001\n",
      "NADH_recycle (-100.0, 1000.0) 0.29999999999999993\n",
      "T_flux_pyruvate (0.0, 1000.0) 0.8000000000000002\n",
      "ATP_source_reaction (-0.0, 1000.0) 0.10000000000000013\n"
     ]
    },
    {
     "data": {
      "application/vnd.jupyter.widget-view+json": {
       "model_id": "a36cb35c462343e6b40c2e5d80137c27",
       "version_major": 2,
       "version_minor": 0
      },
      "text/plain": [
       "Builder(hide_secondary_metabolites=False, highlight_missing=True, reaction_data={'Biomass': 0.0, 'Biomass__fuc…"
      ]
     },
     "metadata": {},
     "output_type": "display_data"
    }
   ],
   "source": [
    "map_the_RNA_to_model (1/100,'70 enzyme activities',0.4)"
   ]
  },
  {
   "cell_type": "markdown",
   "metadata": {},
   "source": [
    "### 70 ℃, glucose import reaction lower bound was fixed at 0.1"
   ]
  },
  {
   "cell_type": "code",
   "execution_count": 23,
   "metadata": {
    "scrolled": true
   },
   "outputs": [
    {
     "name": "stdout",
     "output_type": "stream",
     "text": [
      "T_flux_H+ (-1000, 1000) 0.4000000000000001\n",
      "T_trans_H+ (-1000, 1000) 0.40000000000000013\n",
      "T_flux_beta__D__glucose (-0.1, 0) -0.1\n",
      "T_ABC__transporter_beta__D__glucose (0, 10.0) 0.1\n",
      "carb_entner_1.1.1.360_GLUCOSE__1__DEHYDROGENASE__NADP+__RXN (0, 0.96) 0.1\n",
      "carb_entner_3.1.1.17_GLUCONOLACT__RXN (0, 10.0) 0.10000000000000002\n",
      "carb_entner_4.2.1.140_GLUCONATE__DEHYDRATASE__RXN (0, 0.92) 0.10000000000000002\n",
      "carb_entner_2.7.1.178_DEOXYGLUCONOKIN__RXN (0, 10.0) 0.10000000000000003\n",
      "carb_entner_4.1.2.55_KDPGALDOL__RXN (0, 0.55) 0.10000000000000005\n",
      "carb_enter_glucneo_5.4.2.1_3PGAREARR__RXN (-0.93, 0.93) 0.10000000000000005\n",
      "carb_enter_glucneo_4.2.1.11_2PGADEHYDRAT__RXN (-10.0, 10.0) 0.10000000000000003\n",
      "carb_enter_2.7.1.40_PEPDEPHOS__RXN (0, 0.7000000000000001) 0.10000000000000003\n",
      "carb_enter_glucneo_2.7.2.3_PHOSGLYPHOS__RXN (-0.3, 0.3) -0.1\n",
      "carb_glucneo_1.2.1.13_GAPDHSYNEC__RXN_NAD (-0.43, 0.43) -0.1\n",
      "NADPH_recycle (-100.0, 1000.0) 0.10000000000000005\n",
      "NADH_recycle (-100.0, 1000.0) 0.1\n",
      "T_flux_pyruvate (0.0, 1000.0) 0.20000000000000012\n"
     ]
    },
    {
     "data": {
      "application/vnd.jupyter.widget-view+json": {
       "model_id": "1f2f35c2bbec4dae94e27405e8e90210",
       "version_major": 2,
       "version_minor": 0
      },
      "text/plain": [
       "Builder(hide_secondary_metabolites=False, highlight_missing=True, reaction_data={'Biomass': 0.0, 'Biomass__fuc…"
      ]
     },
     "metadata": {},
     "output_type": "display_data"
    }
   ],
   "source": [
    "map_the_RNA_to_model (1/100,'70 enzyme activities',0.1)"
   ]
  },
  {
   "cell_type": "code",
   "execution_count": null,
   "metadata": {},
   "outputs": [],
   "source": []
  }
 ],
 "metadata": {
  "kernelspec": {
   "display_name": "Python 3",
   "language": "python",
   "name": "python3"
  },
  "language_info": {
   "codemirror_mode": {
    "name": "ipython",
    "version": 3
   },
   "file_extension": ".py",
   "mimetype": "text/x-python",
   "name": "python",
   "nbconvert_exporter": "python",
   "pygments_lexer": "ipython3",
   "version": "3.6.9"
  },
  "toc": {
   "base_numbering": 1,
   "nav_menu": {},
   "number_sections": true,
   "sideBar": true,
   "skip_h1_title": false,
   "title_cell": "Table of Contents",
   "title_sidebar": "Contents",
   "toc_cell": false,
   "toc_position": {
    "height": "477px",
    "left": "181px",
    "top": "67.125px",
    "width": "303.516px"
   },
   "toc_section_display": true,
   "toc_window_display": true
  }
 },
 "nbformat": 4,
 "nbformat_minor": 2
}
