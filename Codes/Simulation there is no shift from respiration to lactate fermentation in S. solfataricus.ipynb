{
 "cells": [
  {
   "cell_type": "markdown",
   "metadata": {},
   "source": [
    "# Set the environment"
   ]
  },
  {
   "cell_type": "code",
   "execution_count": 1,
   "metadata": {},
   "outputs": [],
   "source": [
    "# set the envoiroment\n",
    "import cobra\n",
    "from cobra import Model, Reaction, Metabolite\n",
    "from cobra.flux_analysis import flux_variability_analysis\n",
    "import pandas as pd\n",
    "import numpy as np\n",
    "import matplotlib.pyplot as plt\n",
    "import glob\n",
    "import escher\n",
    "from escher import Builder \n",
    "from utils import show_map\n",
    "from utils.check_precursor_problem import check_precursor_problem\n",
    "map_loc = \"../data/fermentation map for Figure S1.json\" #Import the map that has been drawn using escher.\n",
    "map_loc1 = \"../data/adding all the metabolites exchange reaction.json\""
   ]
  },
  {
   "cell_type": "markdown",
   "metadata": {},
   "source": [
    "## load the model"
   ]
  },
  {
   "cell_type": "code",
   "execution_count": 2,
   "metadata": {},
   "outputs": [],
   "source": [
    "model = cobra.io.load_json_model(\"../models/updated_model.json\")# Import the model.\n",
    "model.solver = 'glpk'"
   ]
  },
  {
   "cell_type": "markdown",
   "metadata": {},
   "source": [
    "## positive control \n",
    "   - Simulation of Table 2. number 1. \n",
    "   - The strain can grow. "
   ]
  },
  {
   "cell_type": "code",
   "execution_count": 3,
   "metadata": {},
   "outputs": [
    {
     "name": "stdout",
     "output_type": "stream",
     "text": [
      "When making the biomass production reaction as the objective reaction, the modelled biomass of this organism is 0.06334222910440473.\n"
     ]
    }
   ],
   "source": [
    "M = model.copy()\n",
    "M.objective = M.reactions.Biomass\n",
    "sol = M.optimize()\n",
    "print (\"When making the biomass production reaction as the objective reaction, the modelled biomass of this organism is \"+ str(sol.fluxes.loc['Biomass']) +\".\")"
   ]
  },
  {
   "cell_type": "code",
   "execution_count": 4,
   "metadata": {},
   "outputs": [],
   "source": [
    "model.reactions.get_by_id(\"NGAM\").bounds = (0,1000)"
   ]
  },
  {
   "cell_type": "markdown",
   "metadata": {},
   "source": [
    "## Blocking the reaction for respiration and do FBA"
   ]
  },
  {
   "cell_type": "markdown",
   "metadata": {},
   "source": [
    "### Blocking the reaction for oxygen importing. \n",
    "   - Simulation of Table 2. number 2.\n",
    "   - The strain cannot grow. "
   ]
  },
  {
   "cell_type": "code",
   "execution_count": 5,
   "metadata": {
    "scrolled": true
   },
   "outputs": [
    {
     "name": "stdout",
     "output_type": "stream",
     "text": [
      "When we block the reaction for respiration, the modelled biomass of this organism is 0.0.\n"
     ]
    }
   ],
   "source": [
    "M = model.copy()\n",
    "M.reactions.get_by_id(\"T_flux_oxygen\").bounds = (0,0) # Block this reaction.\n",
    "M.objective = M.reactions.Biomass  \n",
    "sol = M.optimize()\n",
    "print (\"When we block the reaction for respiration, the modelled biomass of this organism is \"+ str(sol.fluxes.loc['Biomass']) +\".\")"
   ]
  },
  {
   "cell_type": "markdown",
   "metadata": {},
   "source": [
    "### Use the lactic acid export reaction as objective reaction\n",
    "- Simulation of Table 2. number 3. "
   ]
  },
  {
   "cell_type": "code",
   "execution_count": 6,
   "metadata": {
    "scrolled": true
   },
   "outputs": [
    {
     "name": "stdout",
     "output_type": "stream",
     "text": [
      "The flux for lactic acid production is 0.0 .\n"
     ]
    }
   ],
   "source": [
    "M= model.copy()\n",
    "M.reactions.get_by_id(\"T_flux_oxygen\").bounds = (0,1000)\n",
    "M.objective = M.reactions.get_by_id('T_flux_(S)__lactic_acid')\n",
    "sol = M.optimize()\n",
    "l = sol.fluxes[abs(sol.fluxes)>1e-6].index\n",
    "\n",
    "print (\"The flux for lactic acid production is\", sol.fluxes.loc['T_flux_(S)__lactic_acid'],\".\")"
   ]
  },
  {
   "cell_type": "markdown",
   "metadata": {},
   "source": [
    "### Use the ethanol export reaction as objective reaction\n",
    "- Simulation of Table 2 number 4."
   ]
  },
  {
   "cell_type": "code",
   "execution_count": 7,
   "metadata": {},
   "outputs": [
    {
     "name": "stdout",
     "output_type": "stream",
     "text": [
      "The flux for ethnol production is 0.0 .\n"
     ]
    }
   ],
   "source": [
    "M= model.copy()\n",
    "M.reactions.get_by_id('T_flux_ethanol').bounds = (-1000,1000)\n",
    "M.reactions.get_by_id(\"T_flux_oxygen\").bounds = (0,1000)\n",
    "M.objective = M.reactions.get_by_id('T_flux_ethanol')\n",
    "sol = M.optimize()\n",
    "print (\"The flux for ethnol production is\" ,sol.fluxes.loc['T_flux_ethanol'],\".\")"
   ]
  },
  {
   "cell_type": "markdown",
   "metadata": {},
   "source": [
    "### And pyruvate decarboxylase reaction and then use the pyruvate decarboxylase reaction as objective reaction\n",
    "- Simulation of Table 2. number 5."
   ]
  },
  {
   "cell_type": "code",
   "execution_count": 8,
   "metadata": {},
   "outputs": [
    {
     "name": "stdout",
     "output_type": "stream",
     "text": [
      "The flux through ethanol is 0.0 .\n"
     ]
    }
   ],
   "source": [
    "# And pyruvate decarboxylase reaction and then use the pyruvate decarboxylase reaction as objective reaction\n",
    "M= model.copy()\n",
    "reaction = Reaction('pyruvate_decarboxylase_to_acetaldehyde')\n",
    "reaction.name = 'pyruvate decarboxylase _to_acetaldehyde reaction'\n",
    "reaction.lower_bound = 0.  # This is the default  \n",
    "reaction.upper_bound = 1000.  # This is the default\n",
    "M.add_reactions([reaction])\n",
    "reaction.add_metabolites({\"H+\": -1.0,\n",
    "                         \"pyruvate\": -1.0,\n",
    "                         \"acetaldehyde\": 1.0,\n",
    "                         \"CO2\": 1.0})\n",
    "\n",
    "M.reactions.get_by_id(\"T_flux_oxygen\").bounds = (0,1000)\n",
    "M.objective = M.reactions.get_by_id('T_flux_ethanol')\n",
    "sol = M.optimize()\n",
    "\n",
    "print (\"The flux through ethanol is\", sol.fluxes.loc['T_flux_ethanol'],\".\")"
   ]
  },
  {
   "cell_type": "markdown",
   "metadata": {},
   "source": [
    "###  Making protonation reaction of lactate to lactic acid as reversible reaction.\n",
    "- Simulation of Table 2 number 6 and Figure S1."
   ]
  },
  {
   "cell_type": "code",
   "execution_count": 9,
   "metadata": {
    "scrolled": true
   },
   "outputs": [
    {
     "data": {
      "application/vnd.jupyter.widget-view+json": {
       "model_id": "5a73439f85b9415ebf2613707014723b",
       "version_major": 2,
       "version_minor": 0
      },
      "text/plain": [
       "Builder(hide_secondary_metabolites=False, highlight_missing=True, reaction_data={'Biomass': 0.0, 'Biomass__fuc…"
      ]
     },
     "metadata": {},
     "output_type": "display_data"
    },
    {
     "name": "stdout",
     "output_type": "stream",
     "text": [
      "The flux for lactic acid production is 2.000000000000001 .\n"
     ]
    }
   ],
   "source": [
    "M= model.copy()\n",
    "M.reactions.get_by_id(\"prot_prot__lactate\").bounds = (-1000,1000)\n",
    "M.objective = M.reactions.get_by_id('T_flux_(S)__lactic_acid')\n",
    "sol = M.optimize()\n",
    "l = sol.fluxes[abs(sol.fluxes)>1e-6].index\n",
    "\n",
    "print (\"The flux for lactic acid production is\", sol.fluxes.loc['T_flux_(S)__lactic_acid'],\".\")\n",
    "b = show_map(sol,map_loc)\n",
    "b"
   ]
  },
  {
   "cell_type": "markdown",
   "metadata": {},
   "source": [
    "### Making all the protonation reactions in the genome wide map reversible and checking the production of ethanol"
   ]
  },
  {
   "cell_type": "code",
   "execution_count": 10,
   "metadata": {},
   "outputs": [
    {
     "name": "stdout",
     "output_type": "stream",
     "text": [
      "The flux for ethnol production is 0.0\n"
     ]
    }
   ],
   "source": [
    "M= model.copy()\n",
    "for rxn in M.reactions:\n",
    "    if \"prot_prot__\" in rxn.id:\n",
    "        rxn.bounds = (0,0)\n",
    "M.reactions.get_by_id(\"T_flux_oxygen\").bounds = (0,1000)\n",
    "M.objective = M.reactions.get_by_id ('T_flux_ethanol')\n",
    "sol = M.optimize()\n",
    "l = sol.fluxes[abs(sol.fluxes)>1e-6].index\n",
    "\n",
    "print (\"The flux for ethnol production is\", sol.fluxes.loc[\"T_flux_ethanol\"])"
   ]
  },
  {
   "cell_type": "markdown",
   "metadata": {},
   "source": [
    "###  Use the ethanol export reaction as reversible and check the production of ethanol.\n",
    "- Simulation of Table 1 number 7. \n",
    "- After running FBA the flux is 0. The reason for this is NADH inbalance. From glucose to pyruvate, it will produce two molecules of NADH, or NADPH, however, in order to produce ethnol 4 molecules of NADH or NADPH are requred. A possible solution is to add the pyruvate exchange reaction. "
   ]
  },
  {
   "cell_type": "code",
   "execution_count": 11,
   "metadata": {},
   "outputs": [
    {
     "name": "stdout",
     "output_type": "stream",
     "text": [
      "The flux for ethnol production is 0.0\n"
     ]
    }
   ],
   "source": [
    "M= model.copy()\n",
    "M.reactions.get_by_id(\"T_ABC__transporter_ethanol\").bounds = (-1000,1000)\n",
    "\n",
    "for rxn in M.reactions:\n",
    "    if \"prot_prot__\" in rxn.id:\n",
    "        rxn.bounds = (0,0)\n",
    "M.reactions.get_by_id(\"T_flux_oxygen\").bounds = (0,1000)\n",
    "M.objective = M.reactions.get_by_id ('T_flux_ethanol')\n",
    "sol = M.optimize()\n",
    "l = sol.fluxes[abs(sol.fluxes)>1e-6].index\n",
    "# for rxn in l:\n",
    "#     print (rxn,M.reactions.get_by_id(rxn).reaction,sol.fluxes.loc[rxn])\n",
    "print (\"The flux for ethnol production is\", sol.fluxes.loc[\"T_flux_ethanol\"])"
   ]
  },
  {
   "cell_type": "markdown",
   "metadata": {},
   "source": [
    "### And pyruvate decarboxylase reaction and then use the pyruvate decarboxylase reaction as objective reaction\n",
    "- Simulation of Table 2 number 8."
   ]
  },
  {
   "cell_type": "code",
   "execution_count": 12,
   "metadata": {
    "scrolled": false
   },
   "outputs": [
    {
     "name": "stdout",
     "output_type": "stream",
     "text": [
      "The flux through ethanol is 1.9999999999999996 .\n"
     ]
    }
   ],
   "source": [
    "# And pyruvate decarboxylase reaction and then use the pyruvate decarboxylase reaction as objective reaction\n",
    "M= model.copy()\n",
    "M.reactions.get_by_id(\"T_ABC__transporter_ethanol\").bounds = (-1000,1000)\n",
    "reaction = Reaction('pyruvate_decarboxylase')\n",
    "reaction.name = 'pyruvate decarboxylase reaction'\n",
    "reaction.lower_bound = 0.  # This is the default  \n",
    "reaction.upper_bound = 1000.  # This is the default\n",
    "M.add_reactions([reaction])\n",
    "reaction.add_metabolites({\"H+\": -1.0,\n",
    "                         \"pyruvate\": -1.0,\n",
    "                         \"acetaldehyde\": 1.0,\n",
    "                         \"CO2\": 1.0})\n",
    "M.reactions.get_by_id(\"T_flux_oxygen\").bounds = (0,1000)\n",
    "M.objective = M.reactions.get_by_id('T_flux_ethanol')\n",
    "sol = M.optimize()\n",
    "l = sol.fluxes[abs(sol.fluxes)>1e-6].index\n",
    "print (\"The flux through ethanol is\", sol.fluxes.loc['T_flux_ethanol'],\".\")"
   ]
  },
  {
   "cell_type": "markdown",
   "metadata": {},
   "source": [
    "### And a _ethanol diffusion reaction and  pyruvate decarboxylase reaction and then use the ethanol export reaction as objective reaction\n",
    "- Simulation of Table 2 number 9."
   ]
  },
  {
   "cell_type": "code",
   "execution_count": 13,
   "metadata": {},
   "outputs": [
    {
     "name": "stdout",
     "output_type": "stream",
     "text": [
      "The flux through pyruvate_decarboxylase is, 2.0000000000000004\n"
     ]
    }
   ],
   "source": [
    "M= model.copy()\n",
    "\n",
    "reaction = Reaction('pyruvate_decarboxylase') \n",
    "reaction.name = 'pyruvate decarboxylase reaction'\n",
    "reaction.lower_bound = 0.  # This is the default  \n",
    "reaction.upper_bound = 1000.  # This is the default\n",
    "M.add_reactions([reaction])\n",
    "reaction.add_metabolites({\"H+\": -1.0,\n",
    "                         \"pyruvate\": -1.0,\n",
    "                         \"acetaldehyde\": 1.0,\n",
    "                         \"CO2\": 1.0})\n",
    "\n",
    "reaction = Reaction('passive_ethanol_transport')\n",
    "reaction.name = 'passive ethanol transport'\n",
    "reaction.lower_bound = -1000.  # This is the default  \n",
    "reaction.upper_bound = 1000.  # This is the default\n",
    "M.add_reactions([reaction])\n",
    "reaction.add_metabolites({\"ethanol_ex\": -1.0,\n",
    "                         \"ethanol\": 1.0})\n",
    "\n",
    "M.reactions.get_by_id(\"T_flux_oxygen\").bounds = (0,1000)\n",
    "M.objective = M.reactions.get_by_id('T_flux_ethanol')\n",
    "sol = M.optimize()\n",
    "\n",
    "print (\"The flux through pyruvate_decarboxylase is,\", sol.fluxes.loc[\"T_flux_ethanol\"])"
   ]
  },
  {
   "cell_type": "markdown",
   "metadata": {},
   "source": [
    "### Use lactate dehydrogenase, grow anaerobically?\n",
    "- Simulation of Table 2 number 10."
   ]
  },
  {
   "cell_type": "code",
   "execution_count": 14,
   "metadata": {},
   "outputs": [
    {
     "name": "stdout",
     "output_type": "stream",
     "text": [
      "The flux through biomass reaction is 0.0 .\n"
     ]
    }
   ],
   "source": [
    "M= model.copy()\n",
    "M.reactions.get_by_id(\"prot_prot__lactate\").bounds = (-1000,1000)\n",
    "M.reactions.get_by_id(\"T_flux_oxygen\").bounds = (0,1000)\n",
    "\n",
    "M.objective = M.reactions.get_by_id('Biomass')\n",
    "sol = M.optimize()\n",
    "print (\"The flux through biomass reaction is\", sol.fluxes.loc['Biomass'],\".\")\n"
   ]
  },
  {
   "cell_type": "markdown",
   "metadata": {},
   "source": [
    "### Use fermentation to ethanol, grow anaerobically?\n",
    "- Simulation of Table 2 number 11."
   ]
  },
  {
   "cell_type": "code",
   "execution_count": 15,
   "metadata": {},
   "outputs": [
    {
     "name": "stdout",
     "output_type": "stream",
     "text": [
      "The flux through biomass reaction is 0.0\n"
     ]
    }
   ],
   "source": [
    "M= model.copy()\n",
    "reaction = Reaction('pyruvate_decarboxylase') \n",
    "reaction.name = 'pyruvate decarboxylase reaction'\n",
    "reaction.lower_bound = 0.  # This is the default  \n",
    "reaction.upper_bound = 1000.  # This is the default\n",
    "M.add_reactions([reaction])\n",
    "reaction.add_metabolites({\"H+\": -1.0,\n",
    "                         \"pyruvate\": -1.0,\n",
    "                         \"acetaldehyde\": 1.0,\n",
    "                         \"CO2\": 1.0})\n",
    "\n",
    "reaction = Reaction('passive_ethanol_transport')\n",
    "reaction.name = 'passive ethanol transport'\n",
    "reaction.lower_bound = -1000.  # This is the default  \n",
    "reaction.upper_bound = 1000.  # This is the default\n",
    "M.add_reactions([reaction])\n",
    "reaction.add_metabolites({\"ethanol_ex\": -1.0,\n",
    "                         \"ethanol\": 1.0})\n",
    "\n",
    "M.reactions.get_by_id(\"T_flux_oxygen\").bounds = (0,1000)\n",
    "M.objective = M.reactions.get_by_id('Biomass')\n",
    "sol = M.optimize()\n",
    "\n",
    "print (\"The flux through biomass reaction is\", sol.fluxes.loc[\"Biomass\"])"
   ]
  },
  {
   "cell_type": "markdown",
   "metadata": {},
   "source": [
    "## Check ATP production from the proposed fermentation pathway\n",
    "- Simulation of Table 1 number 12."
   ]
  },
  {
   "cell_type": "markdown",
   "metadata": {},
   "source": [
    "### 4 protons can be pumped out, 2 ATP will be produced."
   ]
  },
  {
   "cell_type": "code",
   "execution_count": 16,
   "metadata": {},
   "outputs": [],
   "source": [
    "def different_protons_pumped_out (s):    \n",
    "    M= model.copy()\n",
    "    Psi = Metabolite(\n",
    "        'Psi',\n",
    "        formula='',\n",
    "        name='PSI is a unit of pressure expressed in pounds of force per square inch of area',\n",
    "        compartment='cytosol')\n",
    "    M.reactions.get_by_id('T_symporter_(S)__lactic_acid').remove_from_model()\n",
    "    reaction = Reaction('T_symporter_(S)__lactic_acid')\n",
    "    reaction.name = 'T_symporter_(S)__lactic_acid'\n",
    "    reaction.lower_bound = -1000.  # This is the default\n",
    "    reaction.upper_bound = 1000.  # This is the default\n",
    "    M.add_reactions([reaction])\n",
    "    reaction.add_metabolites({\"(S)__lactic_acid\":-1.0,\n",
    "                             \"H+\":-s,\n",
    "                             \"(S)__lactic_acid_ex\":1.0,\n",
    "                               Psi: s,\n",
    "                              \"H+_ex\":s})\n",
    "\n",
    "    M.reactions.get_by_id(\"prot_prot__lactate\").bounds = (-1000,1000)\n",
    "\n",
    "    M.reactions.get_by_id(\"T_flux_oxygen\").bounds = (0,0)\n",
    "    M.reactions.NGAM.bounds = (0,1000)\n",
    "\n",
    "    M.objective = M.reactions.get_by_id('NGAM')\n",
    "    sol = M.optimize()\n",
    "    return(sol.fluxes.loc['NGAM'])"
   ]
  },
  {
   "cell_type": "code",
   "execution_count": 17,
   "metadata": {},
   "outputs": [
    {
     "name": "stderr",
     "output_type": "stream",
     "text": [
      "C:\\Users\\yzhang2\\Anaconda3\\envs\\archeapy36\\lib\\site-packages\\pandas\\core\\indexing.py:205 SettingWithCopyWarning: \n",
      "A value is trying to be set on a copy of a slice from a DataFrame\n",
      "\n",
      "See the caveats in the documentation: http://pandas.pydata.org/pandas-docs/stable/user_guide/indexing.html#returning-a-view-versus-a-copy\n"
     ]
    },
    {
     "data": {
      "text/html": [
       "<div>\n",
       "<style scoped>\n",
       "    .dataframe tbody tr th:only-of-type {\n",
       "        vertical-align: middle;\n",
       "    }\n",
       "\n",
       "    .dataframe tbody tr th {\n",
       "        vertical-align: top;\n",
       "    }\n",
       "\n",
       "    .dataframe thead th {\n",
       "        text-align: right;\n",
       "    }\n",
       "</style>\n",
       "<table border=\"1\" class=\"dataframe\">\n",
       "  <thead>\n",
       "    <tr style=\"text-align: right;\">\n",
       "      <th></th>\n",
       "      <th>ATP</th>\n",
       "    </tr>\n",
       "    <tr>\n",
       "      <th>protons</th>\n",
       "      <th></th>\n",
       "    </tr>\n",
       "  </thead>\n",
       "  <tbody>\n",
       "    <tr>\n",
       "      <td>0.0</td>\n",
       "      <td>0</td>\n",
       "    </tr>\n",
       "    <tr>\n",
       "      <td>2.0</td>\n",
       "      <td>1</td>\n",
       "    </tr>\n",
       "    <tr>\n",
       "      <td>4.0</td>\n",
       "      <td>2</td>\n",
       "    </tr>\n",
       "    <tr>\n",
       "      <td>6.0</td>\n",
       "      <td>3</td>\n",
       "    </tr>\n",
       "    <tr>\n",
       "      <td>8.0</td>\n",
       "      <td>4</td>\n",
       "    </tr>\n",
       "  </tbody>\n",
       "</table>\n",
       "</div>"
      ],
      "text/plain": [
       "        ATP\n",
       "protons    \n",
       "0.0      0 \n",
       "2.0      1 \n",
       "4.0      2 \n",
       "6.0      3 \n",
       "8.0      4 "
      ]
     },
     "execution_count": 17,
     "metadata": {},
     "output_type": "execute_result"
    }
   ],
   "source": [
    "df_protons_pumped_out = pd.DataFrame(columns=['protons', 'ATP'])\n",
    "df_protons_pumped_out[\"protons\"]=np.arange(0, 8.1, step=2)\n",
    "df_protons_pumped_out = df_protons_pumped_out.set_index(df_protons_pumped_out[\"protons\"],)\n",
    "for n in df_protons_pumped_out.index:\n",
    "    df_protons_pumped_out[\"ATP\"].loc[n] = different_protons_pumped_out(n)\n",
    "df_protons_pumped_out[[\"ATP\"]]"
   ]
  },
  {
   "cell_type": "markdown",
   "metadata": {},
   "source": [
    "## Check the biomass production"
   ]
  },
  {
   "cell_type": "code",
   "execution_count": 18,
   "metadata": {
    "scrolled": true
   },
   "outputs": [
    {
     "name": "stdout",
     "output_type": "stream",
     "text": [
      "<Solution 0.000 at 0x27f31b8dd30>\n"
     ]
    }
   ],
   "source": [
    "M.objective = M.reactions.Biomass\n",
    "sol = M.optimize()\n",
    "print (sol )"
   ]
  },
  {
   "cell_type": "markdown",
   "metadata": {},
   "source": [
    "### Check the precusor which cannot be produced"
   ]
  },
  {
   "cell_type": "code",
   "execution_count": 19,
   "metadata": {},
   "outputs": [
    {
     "data": {
      "text/plain": [
       "{'2,3__bis__O__phytanyl__sn__glycerol',\n",
       " 'AMP',\n",
       " 'CMP',\n",
       " 'FAD',\n",
       " 'GMP',\n",
       " 'L__arginine',\n",
       " 'L__asparagine',\n",
       " 'L__aspartate',\n",
       " 'L__cysteine',\n",
       " 'L__glutamate',\n",
       " 'L__glutamine',\n",
       " 'L__histidine',\n",
       " 'L__homocysteine',\n",
       " 'L__isoleucine',\n",
       " 'L__leucine',\n",
       " 'L__lysine',\n",
       " 'L__methionine',\n",
       " 'L__phenylalanine',\n",
       " 'L__proline',\n",
       " 'L__serine',\n",
       " 'L__threonine',\n",
       " 'L__tryptophan',\n",
       " 'L__tyrosine',\n",
       " 'NAD+',\n",
       " 'NADH',\n",
       " 'NADP+',\n",
       " 'NADPH',\n",
       " 'UDP__alpha__N__acetyl__D__glucosamine',\n",
       " 'UMP',\n",
       " 'coenzyme_A',\n",
       " 'coenzyme_B12',\n",
       " 'dAMP',\n",
       " 'dCMP',\n",
       " 'dGMP',\n",
       " 'dTMP',\n",
       " 'glycine',\n",
       " 'glycogen',\n",
       " 'norspermidine',\n",
       " 'norspermine',\n",
       " 'phosphoenolpyruvate',\n",
       " 'propanoyl__CoA',\n",
       " 'putrescine',\n",
       " \"pyridoxal_5'__phosphate\",\n",
       " 'representative_quinone',\n",
       " 'saturated_calditolcaldarchaeol',\n",
       " 'saturated_glycolipidcaldarchaeol',\n",
       " 'saturated_inositolcaldarchaeol',\n",
       " 'saturated_inositolcalditolcaldarchaeol',\n",
       " 'saturated_inositolglycolipidcaldarchaeol',\n",
       " 'saturated_sulfoglycolipidcaldarchaeol',\n",
       " 'shikimate',\n",
       " 'sn__glycerol__3__phosphate',\n",
       " 'spermidine',\n",
       " 'tetrahydrosulfopterin',\n",
       " 'thiamin_diphosphate',\n",
       " 'trehalose'}"
      ]
     },
     "execution_count": 19,
     "metadata": {},
     "output_type": "execute_result"
    }
   ],
   "source": [
    "check_precursor_problem(M, [\"Biomass\"])"
   ]
  },
  {
   "cell_type": "markdown",
   "metadata": {},
   "source": [
    "### Add the precursors and check the biomass production"
   ]
  },
  {
   "cell_type": "code",
   "execution_count": 20,
   "metadata": {},
   "outputs": [
    {
     "data": {
      "text/html": [
       "<strong><em>Optimal</em> solution with objective value 0.000</strong><br><div>\n",
       "<style scoped>\n",
       "    .dataframe tbody tr th:only-of-type {\n",
       "        vertical-align: middle;\n",
       "    }\n",
       "\n",
       "    .dataframe tbody tr th {\n",
       "        vertical-align: top;\n",
       "    }\n",
       "\n",
       "    .dataframe thead th {\n",
       "        text-align: right;\n",
       "    }\n",
       "</style>\n",
       "<table border=\"1\" class=\"dataframe\">\n",
       "  <thead>\n",
       "    <tr style=\"text-align: right;\">\n",
       "      <th></th>\n",
       "      <th>fluxes</th>\n",
       "      <th>reduced_costs</th>\n",
       "    </tr>\n",
       "  </thead>\n",
       "  <tbody>\n",
       "    <tr>\n",
       "      <td>Biomass</td>\n",
       "      <td>0.0</td>\n",
       "      <td>1.110223e-16</td>\n",
       "    </tr>\n",
       "    <tr>\n",
       "      <td>Biomass__fucose</td>\n",
       "      <td>0.0</td>\n",
       "      <td>-1.997507e+00</td>\n",
       "    </tr>\n",
       "    <tr>\n",
       "      <td>Biomass__phenol</td>\n",
       "      <td>0.0</td>\n",
       "      <td>-2.014550e+00</td>\n",
       "    </tr>\n",
       "    <tr>\n",
       "      <td>Biomass__casamino__acids</td>\n",
       "      <td>0.0</td>\n",
       "      <td>-1.992909e+00</td>\n",
       "    </tr>\n",
       "    <tr>\n",
       "      <td>GAM</td>\n",
       "      <td>0.0</td>\n",
       "      <td>0.000000e+00</td>\n",
       "    </tr>\n",
       "    <tr>\n",
       "      <td>...</td>\n",
       "      <td>...</td>\n",
       "      <td>...</td>\n",
       "    </tr>\n",
       "    <tr>\n",
       "      <td>norspermidine_flux</td>\n",
       "      <td>0.0</td>\n",
       "      <td>0.000000e+00</td>\n",
       "    </tr>\n",
       "    <tr>\n",
       "      <td>spermidine_flux</td>\n",
       "      <td>0.0</td>\n",
       "      <td>0.000000e+00</td>\n",
       "    </tr>\n",
       "    <tr>\n",
       "      <td>thiamin_diphosphate_flux</td>\n",
       "      <td>0.0</td>\n",
       "      <td>6.938894e-18</td>\n",
       "    </tr>\n",
       "    <tr>\n",
       "      <td>representative_quinone_flux</td>\n",
       "      <td>0.0</td>\n",
       "      <td>0.000000e+00</td>\n",
       "    </tr>\n",
       "    <tr>\n",
       "      <td>norspermine_flux</td>\n",
       "      <td>0.0</td>\n",
       "      <td>-0.000000e+00</td>\n",
       "    </tr>\n",
       "  </tbody>\n",
       "</table>\n",
       "<p>999 rows × 2 columns</p>\n",
       "</div>"
      ],
      "text/plain": [
       "<Solution 0.000 at 0x27f325e37b8>"
      ]
     },
     "execution_count": 20,
     "metadata": {},
     "output_type": "execute_result"
    }
   ],
   "source": [
    "reaction = Reaction('coenzyme_B12_flux')\n",
    "reaction.name = 'coenzyme_B12_flux'\n",
    "reaction.lower_bound = -1000.  # This is the default  \n",
    "reaction.upper_bound = 1000.  # This is the default\n",
    "M.add_reactions([reaction])\n",
    "reaction.add_metabolites({\"coenzyme_B12\": -1.0,\n",
    "                          \"ADP\": -1.0,\n",
    "                          \"ATP\": 1.0,\n",
    "                          \"phosphate\": -1.0\n",
    "                         })\n",
    "reaction = Reaction('norspermidine_flux')\n",
    "reaction.name = 'norspermidine_flux'\n",
    "reaction.lower_bound = -1000.  # This is the default  \n",
    "reaction.upper_bound = 1000.  # This is the default\n",
    "M.add_reactions([reaction])\n",
    "reaction.add_metabolites({\"norspermidine\": -1.0,\n",
    "                          \"ADP\": -1.0,\n",
    "                          \"ATP\": 1.0,\n",
    "                          \"phosphate\": -1.0\n",
    "                         })\n",
    "reaction = Reaction('spermidine_flux')\n",
    "reaction.name = 'spermidine_flux'\n",
    "reaction.lower_bound = -1000.  # This is the default  \n",
    "reaction.upper_bound = 1000.  # This is the default\n",
    "M.add_reactions([reaction])\n",
    "reaction.add_metabolites({\"spermidine\": -1.0,\n",
    "                          \"ADP\": -1.0,\n",
    "                          \"ATP\": 1.0,\n",
    "                          \"phosphate\": -1.0\n",
    "                         })\n",
    "reaction = Reaction('thiamin_diphosphate_flux')\n",
    "reaction.name = 'thiamin_diphosphate_flux'\n",
    "reaction.lower_bound = -1000.  # This is the default  \n",
    "reaction.upper_bound = 1000.  # This is the default\n",
    "M.add_reactions([reaction])\n",
    "reaction.add_metabolites({\"thiamin_diphosphate\": -1.0,\n",
    "                          \"ADP\": -1.0,\n",
    "                          \"ATP\": 1.0,\n",
    "                          \"phosphate\": -1.0\n",
    "                         })\n",
    "reaction = Reaction('representative_quinone_flux')\n",
    "reaction.name = 'representative_quinone_flux'\n",
    "reaction.lower_bound = -1000.  # This is the default  \n",
    "reaction.upper_bound = 1000.  # This is the default\n",
    "M.add_reactions([reaction])\n",
    "reaction.add_metabolites({\"representative_quinone\": -1.0,\n",
    "                          \"ADP\": -1.0,\n",
    "                          \"ATP\": 1.0,\n",
    "                          \"phosphate\": -1.0\n",
    "                         })\n",
    "reaction = Reaction('norspermine_flux')\n",
    "reaction.name = 'norspermine_flux'\n",
    "reaction.lower_bound = -1000.  # This is the default  \n",
    "reaction.upper_bound = 1000.  # This is the default\n",
    "M.add_reactions([reaction])\n",
    "reaction.add_metabolites({\"norspermine\": -1.0,\n",
    "                          \"ADP\": -1.0,\n",
    "                          \"ATP\": 1.0,\n",
    "                          \"phosphate\": -1.0\n",
    "                         })\n",
    "M.objective = M.reactions.Biomass\n",
    "M.optimize()"
   ]
  },
  {
   "cell_type": "markdown",
   "metadata": {},
   "source": [
    "## Check biomass from the proposed fermentation pathway with adding the procusors"
   ]
  },
  {
   "cell_type": "markdown",
   "metadata": {},
   "source": [
    "### 0 protons can be pumped out, biomas will not be produced."
   ]
  },
  {
   "cell_type": "code",
   "execution_count": 21,
   "metadata": {},
   "outputs": [
    {
     "data": {
      "text/html": [
       "<strong><em>Optimal</em> solution with objective value 0.000</strong><br><div>\n",
       "<style scoped>\n",
       "    .dataframe tbody tr th:only-of-type {\n",
       "        vertical-align: middle;\n",
       "    }\n",
       "\n",
       "    .dataframe tbody tr th {\n",
       "        vertical-align: top;\n",
       "    }\n",
       "\n",
       "    .dataframe thead th {\n",
       "        text-align: right;\n",
       "    }\n",
       "</style>\n",
       "<table border=\"1\" class=\"dataframe\">\n",
       "  <thead>\n",
       "    <tr style=\"text-align: right;\">\n",
       "      <th></th>\n",
       "      <th>fluxes</th>\n",
       "      <th>reduced_costs</th>\n",
       "    </tr>\n",
       "  </thead>\n",
       "  <tbody>\n",
       "    <tr>\n",
       "      <td>Biomass</td>\n",
       "      <td>0.0</td>\n",
       "      <td>-3.330669e-16</td>\n",
       "    </tr>\n",
       "    <tr>\n",
       "      <td>Biomass__fucose</td>\n",
       "      <td>0.0</td>\n",
       "      <td>-1.996934e+00</td>\n",
       "    </tr>\n",
       "    <tr>\n",
       "      <td>Biomass__phenol</td>\n",
       "      <td>0.0</td>\n",
       "      <td>-2.018078e+00</td>\n",
       "    </tr>\n",
       "    <tr>\n",
       "      <td>Biomass__casamino__acids</td>\n",
       "      <td>0.0</td>\n",
       "      <td>-1.990883e+00</td>\n",
       "    </tr>\n",
       "    <tr>\n",
       "      <td>GAM</td>\n",
       "      <td>0.0</td>\n",
       "      <td>0.000000e+00</td>\n",
       "    </tr>\n",
       "    <tr>\n",
       "      <td>...</td>\n",
       "      <td>...</td>\n",
       "      <td>...</td>\n",
       "    </tr>\n",
       "    <tr>\n",
       "      <td>norspermidine_flux</td>\n",
       "      <td>0.0</td>\n",
       "      <td>0.000000e+00</td>\n",
       "    </tr>\n",
       "    <tr>\n",
       "      <td>spermidine_flux</td>\n",
       "      <td>0.0</td>\n",
       "      <td>6.938894e-18</td>\n",
       "    </tr>\n",
       "    <tr>\n",
       "      <td>thiamin_diphosphate_flux</td>\n",
       "      <td>0.0</td>\n",
       "      <td>0.000000e+00</td>\n",
       "    </tr>\n",
       "    <tr>\n",
       "      <td>representative_quinone_flux</td>\n",
       "      <td>0.0</td>\n",
       "      <td>0.000000e+00</td>\n",
       "    </tr>\n",
       "    <tr>\n",
       "      <td>norspermine_flux</td>\n",
       "      <td>0.0</td>\n",
       "      <td>-0.000000e+00</td>\n",
       "    </tr>\n",
       "  </tbody>\n",
       "</table>\n",
       "<p>997 rows × 2 columns</p>\n",
       "</div>"
      ],
      "text/plain": [
       "<Solution 0.000 at 0x27f32d38860>"
      ]
     },
     "execution_count": 21,
     "metadata": {},
     "output_type": "execute_result"
    }
   ],
   "source": [
    "M= model.copy()\n",
    "Psi = Metabolite(\n",
    "    'Psi',\n",
    "    formula='',\n",
    "    name='PSI is a unit of pressure expressed in pounds of force per square inch of area',\n",
    "    compartment='cytosol')\n",
    "M.reactions.get_by_id('T_symporter_(S)__lactic_acid').remove_from_model()\n",
    "reaction = Reaction('T_symporter_(S)__lactic_acid')\n",
    "reaction.name = 'T_symporter_(S)__lactic_acid'\n",
    "reaction.lower_bound = -1000.  # This is the default\n",
    "reaction.upper_bound = 1000.  # This is the default\n",
    "M.add_reactions([reaction])\n",
    "reaction.add_metabolites({\"(S)__lactic_acid\":-1.0,\n",
    "                         \"H+\":-0.0,\n",
    "                         \"(S)__lactic_acid_ex\":1.0,\n",
    "                           Psi: 0.0,\n",
    "                          \"H+_ex\":0.0})\n",
    "\n",
    "M.reactions.get_by_id(\"prot_prot__lactate\").bounds = (-1000,1000)\n",
    "\n",
    "# addubg the precusors \n",
    "M.reactions.get_by_id(\"T_flux_oxygen\").bounds = (0,0)\n",
    "M.reactions.NGAM.bounds = (0,1000)\n",
    "reaction = Reaction('coenzyme_B12_flux')\n",
    "reaction.name = 'coenzyme_B12_flux'\n",
    "reaction.lower_bound = -1000.  # This is the default  \n",
    "reaction.upper_bound = 1000.  # This is the default\n",
    "M.add_reactions([reaction])\n",
    "reaction.add_metabolites({\"coenzyme_B12\": -1.0,\n",
    "                          \"ADP\": -1.0,\n",
    "                          \"ATP\": 1.0,\n",
    "                          \"phosphate\": -1.0\n",
    "                         })\n",
    "reaction = Reaction('norspermidine_flux')\n",
    "reaction.name = 'norspermidine_flux'\n",
    "reaction.lower_bound = -1000.  # This is the default  \n",
    "reaction.upper_bound = 1000.  # This is the default\n",
    "M.add_reactions([reaction])\n",
    "reaction.add_metabolites({\"norspermidine\": -1.0,\n",
    "                          \"ADP\": -1.0,\n",
    "                          \"ATP\": 1.0,\n",
    "                          \"phosphate\": -1.0\n",
    "                         })\n",
    "reaction = Reaction('spermidine_flux')\n",
    "reaction.name = 'spermidine_flux'\n",
    "reaction.lower_bound = -1000.  # This is the default  \n",
    "reaction.upper_bound = 1000.  # This is the default\n",
    "M.add_reactions([reaction])\n",
    "reaction.add_metabolites({\"spermidine\": -1.0,\n",
    "                          \"ADP\": -1.0,\n",
    "                          \"ATP\": 1.0,\n",
    "                          \"phosphate\": -1.0\n",
    "                         })\n",
    "reaction = Reaction('thiamin_diphosphate_flux')\n",
    "reaction.name = 'thiamin_diphosphate_flux'\n",
    "reaction.lower_bound = -1000.  # This is the default  \n",
    "reaction.upper_bound = 1000.  # This is the default\n",
    "M.add_reactions([reaction])\n",
    "reaction.add_metabolites({\"thiamin_diphosphate\": -1.0,\n",
    "                          \"ADP\": -1.0,\n",
    "                          \"ATP\": 1.0,\n",
    "                          \"phosphate\": -1.0\n",
    "                         })\n",
    "reaction = Reaction('representative_quinone_flux')\n",
    "reaction.name = 'representative_quinone_flux'\n",
    "reaction.lower_bound = -1000.  # This is the default  \n",
    "reaction.upper_bound = 1000.  # This is the default\n",
    "M.add_reactions([reaction])\n",
    "reaction.add_metabolites({\"representative_quinone\": -1.0,\n",
    "                          \"ADP\": -1.0,\n",
    "                          \"ATP\": 1.0,\n",
    "                          \"phosphate\": -1.0\n",
    "                         })\n",
    "reaction = Reaction('norspermine_flux')\n",
    "reaction.name = 'norspermine_flux'\n",
    "reaction.lower_bound = -1000.  # This is the default  \n",
    "reaction.upper_bound = 1000.  # This is the default\n",
    "M.add_reactions([reaction])\n",
    "reaction.add_metabolites({\"norspermine\": -1.0,\n",
    "                          \"ADP\": -1.0,\n",
    "                          \"ATP\": 1.0,\n",
    "                          \"phosphate\": -1.0\n",
    "                         })\n",
    "M.objective = M.reactions.Biomass\n",
    "M.optimize()\n"
   ]
  },
  {
   "cell_type": "markdown",
   "metadata": {},
   "source": [
    "### 2 protons can be pumped out, 0.016 biomas will be produced."
   ]
  },
  {
   "cell_type": "code",
   "execution_count": 22,
   "metadata": {},
   "outputs": [
    {
     "data": {
      "text/html": [
       "<strong><em>Optimal</em> solution with objective value 0.016</strong><br><div>\n",
       "<style scoped>\n",
       "    .dataframe tbody tr th:only-of-type {\n",
       "        vertical-align: middle;\n",
       "    }\n",
       "\n",
       "    .dataframe tbody tr th {\n",
       "        vertical-align: top;\n",
       "    }\n",
       "\n",
       "    .dataframe thead th {\n",
       "        text-align: right;\n",
       "    }\n",
       "</style>\n",
       "<table border=\"1\" class=\"dataframe\">\n",
       "  <thead>\n",
       "    <tr style=\"text-align: right;\">\n",
       "      <th></th>\n",
       "      <th>fluxes</th>\n",
       "      <th>reduced_costs</th>\n",
       "    </tr>\n",
       "  </thead>\n",
       "  <tbody>\n",
       "    <tr>\n",
       "      <td>Biomass</td>\n",
       "      <td>0.016464</td>\n",
       "      <td>-1.054712e-15</td>\n",
       "    </tr>\n",
       "    <tr>\n",
       "      <td>Biomass__fucose</td>\n",
       "      <td>0.000000</td>\n",
       "      <td>-2.001281e+00</td>\n",
       "    </tr>\n",
       "    <tr>\n",
       "      <td>Biomass__phenol</td>\n",
       "      <td>0.000000</td>\n",
       "      <td>-1.993814e+00</td>\n",
       "    </tr>\n",
       "    <tr>\n",
       "      <td>Biomass__casamino__acids</td>\n",
       "      <td>0.000000</td>\n",
       "      <td>-1.997049e+00</td>\n",
       "    </tr>\n",
       "    <tr>\n",
       "      <td>GAM</td>\n",
       "      <td>0.016464</td>\n",
       "      <td>-1.887379e-15</td>\n",
       "    </tr>\n",
       "    <tr>\n",
       "      <td>...</td>\n",
       "      <td>...</td>\n",
       "      <td>...</td>\n",
       "    </tr>\n",
       "    <tr>\n",
       "      <td>norspermidine_flux</td>\n",
       "      <td>-0.000057</td>\n",
       "      <td>3.785167e-15</td>\n",
       "    </tr>\n",
       "    <tr>\n",
       "      <td>spermidine_flux</td>\n",
       "      <td>-0.000204</td>\n",
       "      <td>-1.078998e-15</td>\n",
       "    </tr>\n",
       "    <tr>\n",
       "      <td>thiamin_diphosphate_flux</td>\n",
       "      <td>-0.000002</td>\n",
       "      <td>-2.148844e-12</td>\n",
       "    </tr>\n",
       "    <tr>\n",
       "      <td>representative_quinone_flux</td>\n",
       "      <td>-0.000024</td>\n",
       "      <td>2.303019e-14</td>\n",
       "    </tr>\n",
       "    <tr>\n",
       "      <td>norspermine_flux</td>\n",
       "      <td>-0.000040</td>\n",
       "      <td>2.775558e-17</td>\n",
       "    </tr>\n",
       "  </tbody>\n",
       "</table>\n",
       "<p>997 rows × 2 columns</p>\n",
       "</div>"
      ],
      "text/plain": [
       "<Solution 0.016 at 0x27f3421b0f0>"
      ]
     },
     "execution_count": 22,
     "metadata": {},
     "output_type": "execute_result"
    }
   ],
   "source": [
    "M= model.copy()\n",
    "Psi = Metabolite(\n",
    "    'Psi',\n",
    "    formula='',\n",
    "    name='PSI is a unit of pressure expressed in pounds of force per square inch of area',\n",
    "    compartment='cytosol')\n",
    "M.reactions.get_by_id('T_symporter_(S)__lactic_acid').remove_from_model()\n",
    "reaction = Reaction('T_symporter_(S)__lactic_acid')\n",
    "reaction.name = 'T_symporter_(S)__lactic_acid'\n",
    "reaction.lower_bound = -1000.  # This is the default\n",
    "reaction.upper_bound = 1000.  # This is the default\n",
    "M.add_reactions([reaction])\n",
    "reaction.add_metabolites({\"(S)__lactic_acid\":-1.0,\n",
    "                         \"H+\":-2.0,\n",
    "                         \"(S)__lactic_acid_ex\":1.0,\n",
    "                           Psi: 2.0,\n",
    "                          \"H+_ex\":2.0})\n",
    "\n",
    "M.reactions.get_by_id(\"prot_prot__lactate\").bounds = (-1000,1000)\n",
    "\n",
    "# addubg the precusors \n",
    "M.reactions.get_by_id(\"T_flux_oxygen\").bounds = (0,0)\n",
    "M.reactions.NGAM.bounds = (0,1000)\n",
    "reaction = Reaction('coenzyme_B12_flux')\n",
    "reaction.name = 'coenzyme_B12_flux'\n",
    "reaction.lower_bound = -1000.  # This is the default  \n",
    "reaction.upper_bound = 1000.  # This is the default\n",
    "M.add_reactions([reaction])\n",
    "reaction.add_metabolites({\"coenzyme_B12\": -1.0,\n",
    "                          \"ADP\": -1.0,\n",
    "                          \"ATP\": 1.0,\n",
    "                          \"phosphate\": -1.0\n",
    "                         })\n",
    "reaction = Reaction('norspermidine_flux')\n",
    "reaction.name = 'norspermidine_flux'\n",
    "reaction.lower_bound = -1000.  # This is the default  \n",
    "reaction.upper_bound = 1000.  # This is the default\n",
    "M.add_reactions([reaction])\n",
    "reaction.add_metabolites({\"norspermidine\": -1.0,\n",
    "                          \"ADP\": -1.0,\n",
    "                          \"ATP\": 1.0,\n",
    "                          \"phosphate\": -1.0\n",
    "                         })\n",
    "reaction = Reaction('spermidine_flux')\n",
    "reaction.name = 'spermidine_flux'\n",
    "reaction.lower_bound = -1000.  # This is the default  \n",
    "reaction.upper_bound = 1000.  # This is the default\n",
    "M.add_reactions([reaction])\n",
    "reaction.add_metabolites({\"spermidine\": -1.0,\n",
    "                          \"ADP\": -1.0,\n",
    "                          \"ATP\": 1.0,\n",
    "                          \"phosphate\": -1.0\n",
    "                         })\n",
    "reaction = Reaction('thiamin_diphosphate_flux')\n",
    "reaction.name = 'thiamin_diphosphate_flux'\n",
    "reaction.lower_bound = -1000.  # This is the default  \n",
    "reaction.upper_bound = 1000.  # This is the default\n",
    "M.add_reactions([reaction])\n",
    "reaction.add_metabolites({\"thiamin_diphosphate\": -1.0,\n",
    "                          \"ADP\": -1.0,\n",
    "                          \"ATP\": 1.0,\n",
    "                          \"phosphate\": -1.0\n",
    "                         })\n",
    "reaction = Reaction('representative_quinone_flux')\n",
    "reaction.name = 'representative_quinone_flux'\n",
    "reaction.lower_bound = -1000.  # This is the default  \n",
    "reaction.upper_bound = 1000.  # This is the default\n",
    "M.add_reactions([reaction])\n",
    "reaction.add_metabolites({\"representative_quinone\": -1.0,\n",
    "                          \"ADP\": -1.0,\n",
    "                          \"ATP\": 1.0,\n",
    "                          \"phosphate\": -1.0\n",
    "                         })\n",
    "reaction = Reaction('norspermine_flux')\n",
    "reaction.name = 'norspermine_flux'\n",
    "reaction.lower_bound = -1000.  # This is the default  \n",
    "reaction.upper_bound = 1000.  # This is the default\n",
    "M.add_reactions([reaction])\n",
    "reaction.add_metabolites({\"norspermine\": -1.0,\n",
    "                          \"ADP\": -1.0,\n",
    "                          \"ATP\": 1.0,\n",
    "                          \"phosphate\": -1.0\n",
    "                         })\n",
    "M.objective = M.reactions.Biomass\n",
    "M.optimize()\n"
   ]
  },
  {
   "cell_type": "markdown",
   "metadata": {},
   "source": [
    "### 4 protons can be pumped out, 0.029 biomas will be produced."
   ]
  },
  {
   "cell_type": "code",
   "execution_count": 23,
   "metadata": {},
   "outputs": [
    {
     "data": {
      "text/html": [
       "<strong><em>Optimal</em> solution with objective value 0.029</strong><br><div>\n",
       "<style scoped>\n",
       "    .dataframe tbody tr th:only-of-type {\n",
       "        vertical-align: middle;\n",
       "    }\n",
       "\n",
       "    .dataframe tbody tr th {\n",
       "        vertical-align: top;\n",
       "    }\n",
       "\n",
       "    .dataframe thead th {\n",
       "        text-align: right;\n",
       "    }\n",
       "</style>\n",
       "<table border=\"1\" class=\"dataframe\">\n",
       "  <thead>\n",
       "    <tr style=\"text-align: right;\">\n",
       "      <th></th>\n",
       "      <th>fluxes</th>\n",
       "      <th>reduced_costs</th>\n",
       "    </tr>\n",
       "  </thead>\n",
       "  <tbody>\n",
       "    <tr>\n",
       "      <td>Biomass</td>\n",
       "      <td>0.029049</td>\n",
       "      <td>-4.996004e-16</td>\n",
       "    </tr>\n",
       "    <tr>\n",
       "      <td>Biomass__fucose</td>\n",
       "      <td>0.000000</td>\n",
       "      <td>-2.001569e+00</td>\n",
       "    </tr>\n",
       "    <tr>\n",
       "      <td>Biomass__phenol</td>\n",
       "      <td>0.000000</td>\n",
       "      <td>-1.991302e+00</td>\n",
       "    </tr>\n",
       "    <tr>\n",
       "      <td>Biomass__casamino__acids</td>\n",
       "      <td>0.000000</td>\n",
       "      <td>-2.002355e+00</td>\n",
       "    </tr>\n",
       "    <tr>\n",
       "      <td>GAM</td>\n",
       "      <td>0.029049</td>\n",
       "      <td>-7.771561e-16</td>\n",
       "    </tr>\n",
       "    <tr>\n",
       "      <td>...</td>\n",
       "      <td>...</td>\n",
       "      <td>...</td>\n",
       "    </tr>\n",
       "    <tr>\n",
       "      <td>norspermidine_flux</td>\n",
       "      <td>-0.000100</td>\n",
       "      <td>1.734723e-17</td>\n",
       "    </tr>\n",
       "    <tr>\n",
       "      <td>spermidine_flux</td>\n",
       "      <td>-0.000359</td>\n",
       "      <td>-3.469447e-18</td>\n",
       "    </tr>\n",
       "    <tr>\n",
       "      <td>thiamin_diphosphate_flux</td>\n",
       "      <td>-0.000004</td>\n",
       "      <td>-3.469447e-17</td>\n",
       "    </tr>\n",
       "    <tr>\n",
       "      <td>representative_quinone_flux</td>\n",
       "      <td>-0.000043</td>\n",
       "      <td>2.255141e-17</td>\n",
       "    </tr>\n",
       "    <tr>\n",
       "      <td>norspermine_flux</td>\n",
       "      <td>-0.000070</td>\n",
       "      <td>1.734723e-17</td>\n",
       "    </tr>\n",
       "  </tbody>\n",
       "</table>\n",
       "<p>997 rows × 2 columns</p>\n",
       "</div>"
      ],
      "text/plain": [
       "<Solution 0.029 at 0x27f3467bfd0>"
      ]
     },
     "execution_count": 23,
     "metadata": {},
     "output_type": "execute_result"
    }
   ],
   "source": [
    "M= model.copy()\n",
    "Psi = Metabolite(\n",
    "    'Psi',\n",
    "    formula='',\n",
    "    name='PSI is a unit of pressure expressed in pounds of force per square inch of area',\n",
    "    compartment='cytosol')\n",
    "M.reactions.get_by_id('T_symporter_(S)__lactic_acid').remove_from_model()\n",
    "reaction = Reaction('T_symporter_(S)__lactic_acid')\n",
    "reaction.name = 'T_symporter_(S)__lactic_acid'\n",
    "reaction.lower_bound = -1000.  # This is the default\n",
    "reaction.upper_bound = 1000.  # This is the default\n",
    "M.add_reactions([reaction])\n",
    "reaction.add_metabolites({\"(S)__lactic_acid\":-1.0,\n",
    "                         \"H+\":-4.0,\n",
    "                         \"(S)__lactic_acid_ex\":1.0,\n",
    "                           Psi: 4.0,\n",
    "                          \"H+_ex\":4.0})\n",
    "\n",
    "M.reactions.get_by_id(\"prot_prot__lactate\").bounds = (-1000,1000)\n",
    "\n",
    "# addubg the precusors \n",
    "M.reactions.get_by_id(\"T_flux_oxygen\").bounds = (0,0)\n",
    "M.reactions.NGAM.bounds = (0,1000)\n",
    "reaction = Reaction('coenzyme_B12_flux')\n",
    "reaction.name = 'coenzyme_B12_flux'\n",
    "reaction.lower_bound = -1000.  # This is the default  \n",
    "reaction.upper_bound = 1000.  # This is the default\n",
    "M.add_reactions([reaction])\n",
    "reaction.add_metabolites({\"coenzyme_B12\": -1.0,\n",
    "                          \"ADP\": -1.0,\n",
    "                          \"ATP\": 1.0,\n",
    "                          \"phosphate\": -1.0\n",
    "                         })\n",
    "reaction = Reaction('norspermidine_flux')\n",
    "reaction.name = 'norspermidine_flux'\n",
    "reaction.lower_bound = -1000.  # This is the default  \n",
    "reaction.upper_bound = 1000.  # This is the default\n",
    "M.add_reactions([reaction])\n",
    "reaction.add_metabolites({\"norspermidine\": -1.0,\n",
    "                          \"ADP\": -1.0,\n",
    "                          \"ATP\": 1.0,\n",
    "                          \"phosphate\": -1.0\n",
    "                         })\n",
    "reaction = Reaction('spermidine_flux')\n",
    "reaction.name = 'spermidine_flux'\n",
    "reaction.lower_bound = -1000.  # This is the default  \n",
    "reaction.upper_bound = 1000.  # This is the default\n",
    "M.add_reactions([reaction])\n",
    "reaction.add_metabolites({\"spermidine\": -1.0,\n",
    "                          \"ADP\": -1.0,\n",
    "                          \"ATP\": 1.0,\n",
    "                          \"phosphate\": -1.0\n",
    "                         })\n",
    "reaction = Reaction('thiamin_diphosphate_flux')\n",
    "reaction.name = 'thiamin_diphosphate_flux'\n",
    "reaction.lower_bound = -1000.  # This is the default  \n",
    "reaction.upper_bound = 1000.  # This is the default\n",
    "M.add_reactions([reaction])\n",
    "reaction.add_metabolites({\"thiamin_diphosphate\": -1.0,\n",
    "                          \"ADP\": -1.0,\n",
    "                          \"ATP\": 1.0,\n",
    "                          \"phosphate\": -1.0\n",
    "                         })\n",
    "reaction = Reaction('representative_quinone_flux')\n",
    "reaction.name = 'representative_quinone_flux'\n",
    "reaction.lower_bound = -1000.  # This is the default  \n",
    "reaction.upper_bound = 1000.  # This is the default\n",
    "M.add_reactions([reaction])\n",
    "reaction.add_metabolites({\"representative_quinone\": -1.0,\n",
    "                          \"ADP\": -1.0,\n",
    "                          \"ATP\": 1.0,\n",
    "                          \"phosphate\": -1.0\n",
    "                         })\n",
    "reaction = Reaction('norspermine_flux')\n",
    "reaction.name = 'norspermine_flux'\n",
    "reaction.lower_bound = -1000.  # This is the default  \n",
    "reaction.upper_bound = 1000.  # This is the default\n",
    "M.add_reactions([reaction])\n",
    "reaction.add_metabolites({\"norspermine\": -1.0,\n",
    "                          \"ADP\": -1.0,\n",
    "                          \"ATP\": 1.0,\n",
    "                          \"phosphate\": -1.0\n",
    "                         })\n",
    "M.objective = M.reactions.Biomass\n",
    "M.optimize()\n"
   ]
  },
  {
   "cell_type": "markdown",
   "metadata": {},
   "source": [
    "### 6 protons can be pumped out, 0.039 biomas will be produced."
   ]
  },
  {
   "cell_type": "code",
   "execution_count": 24,
   "metadata": {},
   "outputs": [
    {
     "data": {
      "text/html": [
       "<strong><em>Optimal</em> solution with objective value 0.039</strong><br><div>\n",
       "<style scoped>\n",
       "    .dataframe tbody tr th:only-of-type {\n",
       "        vertical-align: middle;\n",
       "    }\n",
       "\n",
       "    .dataframe tbody tr th {\n",
       "        vertical-align: top;\n",
       "    }\n",
       "\n",
       "    .dataframe thead th {\n",
       "        text-align: right;\n",
       "    }\n",
       "</style>\n",
       "<table border=\"1\" class=\"dataframe\">\n",
       "  <thead>\n",
       "    <tr style=\"text-align: right;\">\n",
       "      <th></th>\n",
       "      <th>fluxes</th>\n",
       "      <th>reduced_costs</th>\n",
       "    </tr>\n",
       "  </thead>\n",
       "  <tbody>\n",
       "    <tr>\n",
       "      <td>Biomass</td>\n",
       "      <td>0.038980</td>\n",
       "      <td>-5.551115e-16</td>\n",
       "    </tr>\n",
       "    <tr>\n",
       "      <td>Biomass__fucose</td>\n",
       "      <td>0.000000</td>\n",
       "      <td>-2.001796e+00</td>\n",
       "    </tr>\n",
       "    <tr>\n",
       "      <td>Biomass__phenol</td>\n",
       "      <td>0.000000</td>\n",
       "      <td>-1.989320e+00</td>\n",
       "    </tr>\n",
       "    <tr>\n",
       "      <td>Biomass__casamino__acids</td>\n",
       "      <td>0.000000</td>\n",
       "      <td>-2.006543e+00</td>\n",
       "    </tr>\n",
       "    <tr>\n",
       "      <td>GAM</td>\n",
       "      <td>0.038980</td>\n",
       "      <td>6.661338e-16</td>\n",
       "    </tr>\n",
       "    <tr>\n",
       "      <td>...</td>\n",
       "      <td>...</td>\n",
       "      <td>...</td>\n",
       "    </tr>\n",
       "    <tr>\n",
       "      <td>norspermidine_flux</td>\n",
       "      <td>-0.000134</td>\n",
       "      <td>2.949030e-17</td>\n",
       "    </tr>\n",
       "    <tr>\n",
       "      <td>spermidine_flux</td>\n",
       "      <td>-0.000482</td>\n",
       "      <td>1.561251e-17</td>\n",
       "    </tr>\n",
       "    <tr>\n",
       "      <td>thiamin_diphosphate_flux</td>\n",
       "      <td>-0.000006</td>\n",
       "      <td>2.775558e-17</td>\n",
       "    </tr>\n",
       "    <tr>\n",
       "      <td>representative_quinone_flux</td>\n",
       "      <td>-0.000057</td>\n",
       "      <td>2.775558e-17</td>\n",
       "    </tr>\n",
       "    <tr>\n",
       "      <td>norspermine_flux</td>\n",
       "      <td>-0.000094</td>\n",
       "      <td>2.949030e-17</td>\n",
       "    </tr>\n",
       "  </tbody>\n",
       "</table>\n",
       "<p>997 rows × 2 columns</p>\n",
       "</div>"
      ],
      "text/plain": [
       "<Solution 0.039 at 0x27f34b3e7b8>"
      ]
     },
     "execution_count": 24,
     "metadata": {},
     "output_type": "execute_result"
    }
   ],
   "source": [
    "M= model.copy()\n",
    "Psi = Metabolite(\n",
    "    'Psi',\n",
    "    formula='',\n",
    "    name='PSI is a unit of pressure expressed in pounds of force per square inch of area',\n",
    "    compartment='cytosol')\n",
    "M.reactions.get_by_id('T_symporter_(S)__lactic_acid').remove_from_model()\n",
    "reaction = Reaction('T_symporter_(S)__lactic_acid')\n",
    "reaction.name = 'T_symporter_(S)__lactic_acid'\n",
    "reaction.lower_bound = -1000.  # This is the default\n",
    "reaction.upper_bound = 1000.  # This is the default\n",
    "M.add_reactions([reaction])\n",
    "reaction.add_metabolites({\"(S)__lactic_acid\":-1.0,\n",
    "                         \"H+\":-6.0,\n",
    "                         \"(S)__lactic_acid_ex\":1.0,\n",
    "                           Psi: 6.0,\n",
    "                          \"H+_ex\":6.0})\n",
    "\n",
    "M.reactions.get_by_id(\"prot_prot__lactate\").bounds = (-1000,1000)\n",
    "\n",
    "# addubg the precusors \n",
    "M.reactions.get_by_id(\"T_flux_oxygen\").bounds = (0,0)\n",
    "M.reactions.NGAM.bounds = (0,1000)\n",
    "reaction = Reaction('coenzyme_B12_flux')\n",
    "reaction.name = 'coenzyme_B12_flux'\n",
    "reaction.lower_bound = -1000.  # This is the default  \n",
    "reaction.upper_bound = 1000.  # This is the default\n",
    "M.add_reactions([reaction])\n",
    "reaction.add_metabolites({\"coenzyme_B12\": -1.0,\n",
    "                          \"ADP\": -1.0,\n",
    "                          \"ATP\": 1.0,\n",
    "                          \"phosphate\": -1.0\n",
    "                         })\n",
    "reaction = Reaction('norspermidine_flux')\n",
    "reaction.name = 'norspermidine_flux'\n",
    "reaction.lower_bound = -1000.  # This is the default  \n",
    "reaction.upper_bound = 1000.  # This is the default\n",
    "M.add_reactions([reaction])\n",
    "reaction.add_metabolites({\"norspermidine\": -1.0,\n",
    "                          \"ADP\": -1.0,\n",
    "                          \"ATP\": 1.0,\n",
    "                          \"phosphate\": -1.0\n",
    "                         })\n",
    "reaction = Reaction('spermidine_flux')\n",
    "reaction.name = 'spermidine_flux'\n",
    "reaction.lower_bound = -1000.  # This is the default  \n",
    "reaction.upper_bound = 1000.  # This is the default\n",
    "M.add_reactions([reaction])\n",
    "reaction.add_metabolites({\"spermidine\": -1.0,\n",
    "                          \"ADP\": -1.0,\n",
    "                          \"ATP\": 1.0,\n",
    "                          \"phosphate\": -1.0\n",
    "                         })\n",
    "reaction = Reaction('thiamin_diphosphate_flux')\n",
    "reaction.name = 'thiamin_diphosphate_flux'\n",
    "reaction.lower_bound = -1000.  # This is the default  \n",
    "reaction.upper_bound = 1000.  # This is the default\n",
    "M.add_reactions([reaction])\n",
    "reaction.add_metabolites({\"thiamin_diphosphate\": -1.0,\n",
    "                          \"ADP\": -1.0,\n",
    "                          \"ATP\": 1.0,\n",
    "                          \"phosphate\": -1.0\n",
    "                         })\n",
    "reaction = Reaction('representative_quinone_flux')\n",
    "reaction.name = 'representative_quinone_flux'\n",
    "reaction.lower_bound = -1000.  # This is the default  \n",
    "reaction.upper_bound = 1000.  # This is the default\n",
    "M.add_reactions([reaction])\n",
    "reaction.add_metabolites({\"representative_quinone\": -1.0,\n",
    "                          \"ADP\": -1.0,\n",
    "                          \"ATP\": 1.0,\n",
    "                          \"phosphate\": -1.0\n",
    "                         })\n",
    "reaction = Reaction('norspermine_flux')\n",
    "reaction.name = 'norspermine_flux'\n",
    "reaction.lower_bound = -1000.  # This is the default  \n",
    "reaction.upper_bound = 1000.  # This is the default\n",
    "M.add_reactions([reaction])\n",
    "reaction.add_metabolites({\"norspermine\": -1.0,\n",
    "                          \"ADP\": -1.0,\n",
    "                          \"ATP\": 1.0,\n",
    "                          \"phosphate\": -1.0\n",
    "                         })\n",
    "M.objective = M.reactions.Biomass\n",
    "M.optimize()\n"
   ]
  },
  {
   "cell_type": "markdown",
   "metadata": {},
   "source": [
    "in the presence of sulfate"
   ]
  },
  {
   "cell_type": "markdown",
   "metadata": {},
   "source": [
    "## Checking whether there are electron acceptors alternative to molecular oxygen "
   ]
  },
  {
   "cell_type": "markdown",
   "metadata": {},
   "source": [
    "### Check whether nitrite is being used in the model"
   ]
  },
  {
   "cell_type": "code",
   "execution_count": 25,
   "metadata": {},
   "outputs": [
    {
     "name": "stdout",
     "output_type": "stream",
     "text": [
      "'Nitrite' is not used in the model.\n"
     ]
    }
   ],
   "source": [
    "for rxn in model.metabolites:\n",
    "    if \"nitrite\" in rxn.id:\n",
    "        print (rxn.id) \n",
    "print (\"'Nitrite' is not used in the model.\")"
   ]
  },
  {
   "cell_type": "markdown",
   "metadata": {},
   "source": [
    "### Check whether NO is being used in the model"
   ]
  },
  {
   "cell_type": "code",
   "execution_count": 26,
   "metadata": {},
   "outputs": [
    {
     "name": "stdout",
     "output_type": "stream",
     "text": [
      "'NO' is not used in the model.\n"
     ]
    }
   ],
   "source": [
    "for rxn in model.metabolites:\n",
    "    if \"NO\"  in rxn.id:\n",
    "        print (rxn.id)  \n",
    "print (\"'NO' is not used in the model.\")"
   ]
  },
  {
   "cell_type": "markdown",
   "metadata": {},
   "source": [
    "### Check whether N2O is being used in the model"
   ]
  },
  {
   "cell_type": "code",
   "execution_count": 27,
   "metadata": {},
   "outputs": [
    {
     "name": "stdout",
     "output_type": "stream",
     "text": [
      "'N2O' is not used in the model.\n"
     ]
    }
   ],
   "source": [
    "for rxn in model.metabolites:\n",
    "    if 'N2O'  in rxn.id:\n",
    "        print (rxn.id)   \n",
    "print (\"'N2O' is not used in the model.\")"
   ]
  },
  {
   "cell_type": "markdown",
   "metadata": {},
   "source": [
    "### Check whether sulfate is being used as electron acceptor in the model to produce ATP"
   ]
  },
  {
   "cell_type": "code",
   "execution_count": 28,
   "metadata": {},
   "outputs": [
    {
     "name": "stdout",
     "output_type": "stream",
     "text": [
      "The pathways yield 0.0 ATP.\n"
     ]
    }
   ],
   "source": [
    "M= model.copy()\n",
    "Psi = Metabolite(\n",
    "    'Psi',\n",
    "    formula='',\n",
    "    name='PSI is a unit of pressure expressed in pounds of force per square inch of area',\n",
    "    compartment='cytosol')\n",
    "M.reactions.get_by_id('T_symporter_(S)__lactic_acid').remove_from_model()\n",
    "reaction = Reaction('T_symporter_(S)__lactic_acid')\n",
    "reaction.name = 'T_symporter_(S)__lactic_acid'\n",
    "reaction.lower_bound = -1000.  # This is the default\n",
    "reaction.upper_bound = 1000.  # This is the default\n",
    "M.add_reactions([reaction])\n",
    "reaction.add_metabolites({\"(S)__lactic_acid\":-1.0,\n",
    "                         \"H+\":-0.0,\n",
    "                         \"(S)__lactic_acid_ex\":1.0,\n",
    "                           Psi: 0.0,\n",
    "                          \"H+_ex\":0.0})\n",
    "\n",
    "M.reactions.get_by_id(\"prot_prot__lactate\").bounds = (-1000,1000)\n",
    "\n",
    "M.reactions.get_by_id(\"T_flux_hydrogen_sulfide\").bounds = (-1000,1000)\n",
    "M.reactions.get_by_id(\"T_flux_oxygen\").bounds = (0,0)\n",
    "\n",
    "M.reactions.NGAM.bounds = (0,1000)\n",
    "\n",
    "M.objective = M.reactions.get_by_id('NGAM')\n",
    "sol = M.optimize()\n",
    "print (\"The pathways yield\",sol.fluxes.loc['NGAM'],\"ATP.\")"
   ]
  },
  {
   "cell_type": "code",
   "execution_count": 29,
   "metadata": {},
   "outputs": [
    {
     "name": "stdout",
     "output_type": "stream",
     "text": [
      "The pathways yield 0.0 ATP.\n"
     ]
    }
   ],
   "source": [
    "M= model.copy()\n",
    "Psi = Metabolite(\n",
    "    'Psi',\n",
    "    formula='',\n",
    "    name='PSI is a unit of pressure expressed in pounds of force per square inch of area',\n",
    "    compartment='cytosol')\n",
    "M.reactions.get_by_id('T_symporter_(S)__lactic_acid').remove_from_model()\n",
    "reaction = Reaction('T_symporter_(S)__lactic_acid')\n",
    "reaction.name = 'T_symporter_(S)__lactic_acid'\n",
    "reaction.lower_bound = -1000.  # This is the default\n",
    "reaction.upper_bound = 1000.  # This is the default\n",
    "M.add_reactions([reaction])\n",
    "reaction.add_metabolites({\"(S)__lactic_acid\":-1.0,\n",
    "                         \"H+\":-0.0,\n",
    "                         \"(S)__lactic_acid_ex\":1.0,\n",
    "                           Psi: 0.0,\n",
    "                          \"H+_ex\":0.0})\n",
    "\n",
    "M.reactions.get_by_id(\"prot_prot__lactate\").bounds = (-1000,1000)\n",
    "\n",
    "\n",
    "M.reactions.get_by_id(\"T_flux_hydrogen_sulfide\").bounds = (-1000,1000)\n",
    "M.reactions.get_by_id(\"T_flux_oxygen\").bounds = (0,0)\n",
    "\n",
    "M.reactions.NGAM.bounds = (0,1000)\n",
    "M.objective = M.reactions.get_by_id(\"NGAM\")\n",
    "sol = M.optimize()\n",
    "print (\"The pathways yield\", sol.fluxes.loc['NGAM'],\"ATP.\")"
   ]
  },
  {
   "cell_type": "markdown",
   "metadata": {},
   "source": [
    "### making the reaction 2.7.7.4 use ADP as co-substrate (rather than ATP) and phosphate as product, rather than PP. "
   ]
  },
  {
   "cell_type": "code",
   "execution_count": 30,
   "metadata": {},
   "outputs": [
    {
     "name": "stdout",
     "output_type": "stream",
     "text": [
      "The pathways yield 0.0 ATP.\n"
     ]
    }
   ],
   "source": [
    "M= model.copy()\n",
    "Psi = Metabolite(\n",
    "    'Psi',\n",
    "    formula='',\n",
    "    name='PSI is a unit of pressure expressed in pounds of force per square inch of area',\n",
    "    compartment='cytosol')\n",
    "M.reactions.get_by_id('T_symporter_(S)__lactic_acid').remove_from_model()\n",
    "reaction = Reaction('T_symporter_(S)__lactic_acid')\n",
    "reaction.name = 'T_symporter_(S)__lactic_acid'\n",
    "reaction.lower_bound = -1000.  # This is the default\n",
    "reaction.upper_bound = 1000.  # This is the default\n",
    "M.add_reactions([reaction])\n",
    "reaction.add_metabolites({\"(S)__lactic_acid\":-1.0,\n",
    "                         \"H+\":-0.0,\n",
    "                         \"(S)__lactic_acid_ex\":1.0,\n",
    "                           Psi: 0.0,\n",
    "                          \"H+_ex\":0.0})\n",
    "\n",
    "M.reactions.get_by_id(\"prot_prot__lactate\").bounds = (-1000,1000)\n",
    "\n",
    "M.reactions.get_by_id(\"sulf_2.7.7.4_SULFATE__ADENYLYLTRANS__RXN\").remove_from_model()\n",
    "reaction = Reaction('sulf_2.7.7.4_SULFATE__ADENYLYLTRANS__RXN')\n",
    "reaction.name = 'sulf_2.7.7.4_SULFATE__ADENYLYLTRANS__RXN'\n",
    "reaction.lower_bound = -1000.  # This is the default\n",
    "reaction.upper_bound = 1000.  # This is the default\n",
    "M.add_reactions([reaction])\n",
    "reaction.add_metabolites({\"ADP\":-1.0,\n",
    "                         \"sulfate\":-1.0,\n",
    "                         \"adenosine_5'__phosphosulfate\":1.0,\n",
    "                          \"phosphate\":1.0})\n",
    "M.reactions.get_by_id(\"T_flux_hydrogen_sulfide\").bounds = (-1000,1000)\n",
    "M.reactions.get_by_id(\"T_flux_oxygen\").bounds = (0,0)\n",
    "\n",
    "M.reactions.NGAM.bounds = (0,1000)\n",
    "M.objective = M.reactions.get_by_id(\"NGAM\")\n",
    "sol = M.optimize()\n",
    "print (\"The pathways yield\", sol.fluxes.loc['NGAM'],\"ATP.\")"
   ]
  },
  {
   "cell_type": "code",
   "execution_count": null,
   "metadata": {},
   "outputs": [],
   "source": []
  },
  {
   "cell_type": "markdown",
   "metadata": {},
   "source": [
    "## With adding the acetic_acid export reaction and, fermentation can produce atp"
   ]
  },
  {
   "cell_type": "code",
   "execution_count": 31,
   "metadata": {},
   "outputs": [
    {
     "name": "stdout",
     "output_type": "stream",
     "text": [
      "The fluxes through NGAM reactions is 0.3999999999997571\n"
     ]
    },
    {
     "data": {
      "application/vnd.jupyter.widget-view+json": {
       "model_id": "d9cd7e8b54ba49d59fa411cc385323ee",
       "version_major": 2,
       "version_minor": 0
      },
      "text/plain": [
       "Builder(hide_secondary_metabolites=False, highlight_missing=True, reaction_data={'Biomass': 0.0, 'Biomass__fuc…"
      ]
     },
     "metadata": {},
     "output_type": "display_data"
    }
   ],
   "source": [
    "M = model.copy()\n",
    "M.reactions.get_by_id('prot_prot__acetate').bounds = (-1000,1000)\n",
    "reaction = Reaction('acetic_acid_flux')\n",
    "reaction.name = 'acetic_acid_flux'\n",
    "reaction.lower_bound = -1000.  # This is the default  \n",
    "reaction.upper_bound = 1000.  # This is the default\n",
    "M.add_reactions([reaction])\n",
    "reaction.add_metabolites({\"acetic_acid\": -1.0,\n",
    "                         })\n",
    "reaction = Reaction('n__propanol_flux')\n",
    "reaction.name = 'n__propanol_flux'\n",
    "reaction.lower_bound = -1000.  # This is the default  \n",
    "reaction.upper_bound = 1000.  # This is the default\n",
    "M.add_reactions([reaction])\n",
    "reaction.add_metabolites({\"n__propanol\": -1.0\n",
    "                         })\n",
    "M.reactions.get_by_id(\"T_flux_oxygen\").bounds = (0,0)\n",
    "M.objective = M.reactions.NGAM\n",
    "sol = M.optimize()\n",
    "l = sol.fluxes[abs(sol.fluxes)>1e-6].index\n",
    "\n",
    "print (\"The fluxes through NGAM reactions is\", sol.fluxes.loc[\"NGAM\"])\n",
    "b = show_map(sol,map_loc1)\n",
    "b"
   ]
  },
  {
   "cell_type": "markdown",
   "metadata": {},
   "source": [
    "## Adding the exist for all the metabolites and check the production of ATP, fig. S9\n",
    "--biomass production as the objective reaction \n",
    "-- ask for the production of atp"
   ]
  },
  {
   "cell_type": "code",
   "execution_count": 32,
   "metadata": {
    "scrolled": true
   },
   "outputs": [
    {
     "name": "stdout",
     "output_type": "stream",
     "text": [
      "The fluxes through NGAM reactions is 0.39999999999999925\n"
     ]
    },
    {
     "data": {
      "application/vnd.jupyter.widget-view+json": {
       "model_id": "7c21f4b1d8644d2bb41c71f2549dab11",
       "version_major": 2,
       "version_minor": 0
      },
      "text/plain": [
       "Builder(hide_secondary_metabolites=False, highlight_missing=True, reaction_data={'Biomass': 0.0, 'Biomass__fuc…"
      ]
     },
     "metadata": {},
     "output_type": "display_data"
    }
   ],
   "source": [
    "M = model.copy()\n",
    "Psi = Metabolite(\n",
    "    'Psi',\n",
    "    formula='',\n",
    "    name='PSI is a unit of pressure expressed in pounds of force per square inch of area',\n",
    "    compartment='cytosol')\n",
    "M.reactions.get_by_id('T_symporter_(S)__lactic_acid').remove_from_model()\n",
    "reaction = Reaction('T_symporter_(S)__lactic_acid')\n",
    "reaction.name = 'T_symporter_(S)__lactic_acid'\n",
    "reaction.lower_bound = -1000.  # This is the default\n",
    "reaction.upper_bound = 1000.  # This is the default\n",
    "M.add_reactions([reaction])\n",
    "reaction.add_metabolites({\"(S)__lactic_acid\":-1.0,\n",
    "                         \"H+\":-0.0,\n",
    "                         \"(S)__lactic_acid_ex\":1.0,\n",
    "                           Psi: 0.0,\n",
    "                          \"H+_ex\":0.0})\n",
    "\n",
    "M.reactions.get_by_id(\"T_flux_oxygen\").bounds = (0,0)\n",
    "met= [m for m in model.metabolites]\n",
    "for m in met:\n",
    "    reaction_id = str(m) + \"_flux\"\n",
    "    reaction = Reaction(reaction_id)\n",
    "    reaction.name = reaction_id\n",
    "    reaction.lower_bound = 0.  # This is the default\n",
    "    reaction.upper_bound = 1000.  # This is the default\n",
    "    M.add_reactions([reaction])\n",
    "    reaction.add_metabolites({ m: -1.0\n",
    "                              })\n",
    "# M.reactions.get_by_id(\"T_flux_oxygen\").bounds = (0,0)\n",
    "M.objective = M.reactions.NGAM\n",
    "sol = M.optimize()\n",
    "# l = sol.fluxes[abs(sol.fluxes)>1e-6].index\n",
    "# for rxn in l:\n",
    "#     print (rxn,M.reactions.get_by_id(rxn).reaction,sol.fluxes.loc[rxn])\n",
    "\n",
    "print (\"The fluxes through NGAM reactions is\", sol.fluxes.loc[\"NGAM\"])\n",
    "b = show_map(sol,map_loc1)\n",
    "b    "
   ]
  },
  {
   "cell_type": "code",
   "execution_count": null,
   "metadata": {},
   "outputs": [],
   "source": []
  }
 ],
 "metadata": {
  "kernelspec": {
   "display_name": "Python 3",
   "language": "python",
   "name": "python3"
  },
  "language_info": {
   "codemirror_mode": {
    "name": "ipython",
    "version": 3
   },
   "file_extension": ".py",
   "mimetype": "text/x-python",
   "name": "python",
   "nbconvert_exporter": "python",
   "pygments_lexer": "ipython3",
   "version": "3.6.9"
  },
  "toc": {
   "base_numbering": 1,
   "nav_menu": {},
   "number_sections": true,
   "sideBar": true,
   "skip_h1_title": false,
   "title_cell": "Table of Contents",
   "title_sidebar": "Contents",
   "toc_cell": false,
   "toc_position": {
    "height": "calc(100% - 180px)",
    "left": "10px",
    "top": "150px",
    "width": "398.141px"
   },
   "toc_section_display": true,
   "toc_window_display": true
  },
  "varInspector": {
   "cols": {
    "lenName": 16,
    "lenType": 16,
    "lenVar": 40
   },
   "kernels_config": {
    "python": {
     "delete_cmd_postfix": "",
     "delete_cmd_prefix": "del ",
     "library": "var_list.py",
     "varRefreshCmd": "print(var_dic_list())"
    },
    "r": {
     "delete_cmd_postfix": ") ",
     "delete_cmd_prefix": "rm(",
     "library": "var_list.r",
     "varRefreshCmd": "cat(var_dic_list()) "
    }
   },
   "types_to_exclude": [
    "module",
    "function",
    "builtin_function_or_method",
    "instance",
    "_Feature"
   ],
   "window_display": false
  }
 },
 "nbformat": 4,
 "nbformat_minor": 2
}
