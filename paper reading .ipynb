{
 "cells": [
  {
   "cell_type": "markdown",
   "metadata": {},
   "source": [
    "# Set the environment"
   ]
  },
  {
   "cell_type": "code",
   "execution_count": 1,
   "metadata": {},
   "outputs": [
    {
     "name": "stderr",
     "output_type": "stream",
     "text": [
      "CPLEX is available but could not load with error:\n",
      "  Traceback (most recent call last):\n",
      "    File \"C:\\Users\\yanfei1208\\Anaconda2\\envs\\py36\\lib\\site-packages\\optlang\\__init__.py\", line 43, in <module>\n",
      "      from optlang import cplex_interface\n",
      "    File \"C:\\Users\\yanfei1208\\Anaconda2\\envs\\py36\\lib\\site-packages\\optlang\\cplex_interface.py\", line 33, in <module>\n",
      "      from cplex.exceptions import CplexSolverError\n",
      "  ModuleNotFoundError: No module named 'cplex.exceptions'\n"
     ]
    }
   ],
   "source": [
    "# set the envoiroment\n",
    "import cobra\n",
    "from cobra import Model, Reaction, Metabolite\n",
    "from cobra.flux_analysis import flux_variability_analysis\n",
    "import pandas as pd\n",
    "import numpy as np\n",
    "import matplotlib.pyplot as plt\n",
    "import glob\n",
    "import escher\n",
    "from escher import Builder\n",
    "from utils import show_map\n",
    "from utils.check_precursor_problem import check_precursor_problem"
   ]
  },
  {
   "cell_type": "markdown",
   "metadata": {},
   "source": [
    "#  Allosteric enzyme regulation "
   ]
  },
  {
   "cell_type": "markdown",
   "metadata": {},
   "source": [
    "[allosteric enzyme regluation] (https://www.khanacademy.org/science/biology/cellular-respiration-and-fermentation/variations-on-cellular-respiration/a/regulation-of-cellular-respiration)"
   ]
  },
  {
   "cell_type": "markdown",
   "metadata": {},
   "source": [
    "# Actate production, but not for solf"
   ]
  },
  {
   "cell_type": "code",
   "execution_count": 4,
   "metadata": {
    "scrolled": true
   },
   "outputs": [
    {
     "data": {
      "text/html": [
       "\n",
       "        <iframe\n",
       "            width=\"800\"\n",
       "            height=\"500\"\n",
       "            src=\"https://link.springer.com/content/pdf/10.1007%2FBF00339135.pdf\"\n",
       "            frameborder=\"0\"\n",
       "            allowfullscreen\n",
       "        ></iframe>\n",
       "        "
      ],
      "text/plain": [
       "<IPython.lib.display.IFrame at 0x1f091678710>"
      ]
     },
     "execution_count": 4,
     "metadata": {},
     "output_type": "execute_result"
    }
   ],
   "source": [
    "from IPython.display import IFrame\n",
    "IFrame(\"https://link.springer.com/content/pdf/10.1007%2FBF00339135.pdf\", width=800, height=500)"
   ]
  },
  {
   "cell_type": "markdown",
   "metadata": {},
   "source": [
    "# Standard free energy changes "
   ]
  },
  {
   "cell_type": "code",
   "execution_count": 3,
   "metadata": {
    "scrolled": false
   },
   "outputs": [
    {
     "data": {
      "text/html": [
       "\n",
       "        <iframe\n",
       "            width=\"800\"\n",
       "            height=\"500\"\n",
       "            src=\"https://mmbr.asm.org/content/mmbr/63/3/570.full.pdf\"\n",
       "            frameborder=\"0\"\n",
       "            allowfullscreen\n",
       "        ></iframe>\n",
       "        "
      ],
      "text/plain": [
       "<IPython.lib.display.IFrame at 0x1f091678358>"
      ]
     },
     "execution_count": 3,
     "metadata": {},
     "output_type": "execute_result"
    }
   ],
   "source": [
    "from IPython.display import IFrame\n",
    "IFrame(\"https://mmbr.asm.org/content/mmbr/63/3/570.full.pdf\", width=800, height=500)"
   ]
  },
  {
   "cell_type": "markdown",
   "metadata": {},
   "source": [
    "# The shift from the anabolism to catabolism "
   ]
  },
  {
   "cell_type": "code",
   "execution_count": 5,
   "metadata": {
    "scrolled": true
   },
   "outputs": [
    {
     "data": {
      "text/html": [
       "\n",
       "        <iframe\n",
       "            width=\"800\"\n",
       "            height=\"500\"\n",
       "            src=\"https://www.ncbi.nlm.nih.gov/pmc/articles/PMC6474364/pdf/fmicb-10-00757.pdf\"\n",
       "            frameborder=\"0\"\n",
       "            allowfullscreen\n",
       "        ></iframe>\n",
       "        "
      ],
      "text/plain": [
       "<IPython.lib.display.IFrame at 0x1f0916787b8>"
      ]
     },
     "execution_count": 5,
     "metadata": {},
     "output_type": "execute_result"
    }
   ],
   "source": [
    "from IPython.display import IFrame\n",
    "IFrame(\"https://www.ncbi.nlm.nih.gov/pmc/articles/PMC6474364/pdf/fmicb-10-00757.pdf\", width=800, height=500)"
   ]
  },
  {
   "cell_type": "markdown",
   "metadata": {},
   "source": [
    "# The oxygen influence on the oxidases"
   ]
  },
  {
   "cell_type": "code",
   "execution_count": 6,
   "metadata": {
    "scrolled": true
   },
   "outputs": [
    {
     "data": {
      "text/html": [
       "\n",
       "        <iframe\n",
       "            width=\"800\"\n",
       "            height=\"500\"\n",
       "            src=\"https://watermark.silverchair.com/299-2-255.pdf?token=AQECAHi208BE49Ooan9kkhW_Ercy7Dm3ZL_9Cf3qfKAc485ysgAAAogwggKEBgkqhkiG9w0BBwagggJ1MIICcQIBADCCAmoGCSqGSIb3DQEHATAeBglghkgBZQMEAS4wEQQMJq1U_mfWpjvIEARdAgEQgIICO7xNHkkEpgI49DSe7PbhijmV1EX__iw2F6QJP30Bsh0GF3oa2vFMuaQ_syShDP3nHKc-71VEigJm8B_lEPgioB3KpSYvIj0A8IDq35pS7Y1YFM6Ljk6SZKGmLLydW_uxuK_7D7RrSw2WJsJ_JrP7LO9RwuBzNgfB_JRT7qyM98gdS5DMDam-byGpTvpdssQe7TTNfUbjrYtK9sxCXGXRItrHumo9eC5HfOHcqgLRb-ZxhpxAw3yICy_5EzAlgfO0OO-WLmHvjudut-sjEd7bXQeSot7WLv1FzQkX_QilpPvyu722t16GmI4AKLe6tE4WOs0rQXX3361XH9F8fsX13F9DIBdbp98SJdLNj98qbipt9iE-XeOgNaJgq0LekSc-nvkPnxDwaSqxwYcaJSdc0zWI010gPtsto7T6ZbL2raoNiCjHSd_7AzEl5tXKmxg2wl_PRkU0oCHp5f98rf0FtI2wMwrr6Dnh_QXxBw9Utg7QCvxqgHPShfJO1cVVXZiHoKRhfvypNsq12_hzseAzgATHLoNpU73f0V2Nn3xc6Du_YdjlhXzQ7_Y7VeXzILFFdfb8tqXzcUgI5aBK28LFaEuPbkao-AWQdO3eBJsq8k8a7VJAPMpyACc1H2b91pXsGPyKrk0zMw3NBuy6UqgmX99mutT1VC0WMgEf2ytbaQvSu2gfjK_18W7ea6uKosG3lKTtSTTFEPR8bDOX0TB1pWY-c5NfJ3gATEC00pcCt4llnIPZZIipIOR0Xjo\"\n",
       "            frameborder=\"0\"\n",
       "            allowfullscreen\n",
       "        ></iframe>\n",
       "        "
      ],
      "text/plain": [
       "<IPython.lib.display.IFrame at 0x1f0916787f0>"
      ]
     },
     "execution_count": 6,
     "metadata": {},
     "output_type": "execute_result"
    }
   ],
   "source": [
    "from IPython.display import IFrame\n",
    "IFrame(\"https://watermark.silverchair.com/299-2-255.pdf?token=AQECAHi208BE49Ooan9kkhW_Ercy7Dm3ZL_9Cf3qfKAc485ysgAAAogwggKEBgkqhkiG9w0BBwagggJ1MIICcQIBADCCAmoGCSqGSIb3DQEHATAeBglghkgBZQMEAS4wEQQMJq1U_mfWpjvIEARdAgEQgIICO7xNHkkEpgI49DSe7PbhijmV1EX__iw2F6QJP30Bsh0GF3oa2vFMuaQ_syShDP3nHKc-71VEigJm8B_lEPgioB3KpSYvIj0A8IDq35pS7Y1YFM6Ljk6SZKGmLLydW_uxuK_7D7RrSw2WJsJ_JrP7LO9RwuBzNgfB_JRT7qyM98gdS5DMDam-byGpTvpdssQe7TTNfUbjrYtK9sxCXGXRItrHumo9eC5HfOHcqgLRb-ZxhpxAw3yICy_5EzAlgfO0OO-WLmHvjudut-sjEd7bXQeSot7WLv1FzQkX_QilpPvyu722t16GmI4AKLe6tE4WOs0rQXX3361XH9F8fsX13F9DIBdbp98SJdLNj98qbipt9iE-XeOgNaJgq0LekSc-nvkPnxDwaSqxwYcaJSdc0zWI010gPtsto7T6ZbL2raoNiCjHSd_7AzEl5tXKmxg2wl_PRkU0oCHp5f98rf0FtI2wMwrr6Dnh_QXxBw9Utg7QCvxqgHPShfJO1cVVXZiHoKRhfvypNsq12_hzseAzgATHLoNpU73f0V2Nn3xc6Du_YdjlhXzQ7_Y7VeXzILFFdfb8tqXzcUgI5aBK28LFaEuPbkao-AWQdO3eBJsq8k8a7VJAPMpyACc1H2b91pXsGPyKrk0zMw3NBuy6UqgmX99mutT1VC0WMgEf2ytbaQvSu2gfjK_18W7ea6uKosG3lKTtSTTFEPR8bDOX0TB1pWY-c5NfJ3gATEC00pcCt4llnIPZZIipIOR0Xjo\", width=800, height=500)"
   ]
  },
  {
   "cell_type": "code",
   "execution_count": null,
   "metadata": {},
   "outputs": [],
   "source": []
  },
  {
   "cell_type": "code",
   "execution_count": null,
   "metadata": {},
   "outputs": [],
   "source": [
    "stop here "
   ]
  }
 ],
 "metadata": {
  "kernelspec": {
   "display_name": "Python 3",
   "language": "python",
   "name": "python3"
  },
  "language_info": {
   "codemirror_mode": {
    "name": "ipython",
    "version": 3
   },
   "file_extension": ".py",
   "mimetype": "text/x-python",
   "name": "python",
   "nbconvert_exporter": "python",
   "pygments_lexer": "ipython3",
   "version": "3.6.9"
  },
  "toc": {
   "base_numbering": 1,
   "nav_menu": {},
   "number_sections": true,
   "sideBar": true,
   "skip_h1_title": false,
   "title_cell": "Table of Contents",
   "title_sidebar": "Contents",
   "toc_cell": false,
   "toc_position": {
    "height": "calc(100% - 180px)",
    "left": "10px",
    "top": "150px",
    "width": "273.188px"
   },
   "toc_section_display": true,
   "toc_window_display": true
  },
  "varInspector": {
   "cols": {
    "lenName": 16,
    "lenType": 16,
    "lenVar": 40
   },
   "kernels_config": {
    "python": {
     "delete_cmd_postfix": "",
     "delete_cmd_prefix": "del ",
     "library": "var_list.py",
     "varRefreshCmd": "print(var_dic_list())"
    },
    "r": {
     "delete_cmd_postfix": ") ",
     "delete_cmd_prefix": "rm(",
     "library": "var_list.r",
     "varRefreshCmd": "cat(var_dic_list()) "
    }
   },
   "types_to_exclude": [
    "module",
    "function",
    "builtin_function_or_method",
    "instance",
    "_Feature"
   ],
   "window_display": false
  }
 },
 "nbformat": 4,
 "nbformat_minor": 2
}
